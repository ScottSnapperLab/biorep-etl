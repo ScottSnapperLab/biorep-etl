{
 "cells": [
  {
   "cell_type": "markdown",
   "metadata": {},
   "source": [
    "# Set up\n"
   ]
  },
  {
   "cell_type": "markdown",
   "metadata": {},
   "source": [
    "## Imports"
   ]
  },
  {
   "cell_type": "code",
   "execution_count": null,
   "metadata": {
    "collapsed": false
   },
   "outputs": [],
   "source": [
    "%matplotlib inline"
   ]
  },
  {
   "cell_type": "code",
   "execution_count": null,
   "metadata": {
    "collapsed": true
   },
   "outputs": [],
   "source": [
    "import sys\n",
    "import os\n",
    "from pathlib import Path\n",
    "import math"
   ]
  },
  {
   "cell_type": "code",
   "execution_count": null,
   "metadata": {
    "collapsed": false
   },
   "outputs": [],
   "source": [
    "import matplotlib.pyplot as plt\n",
    "import seaborn as sns\n",
    "sns.set_context(context=\"talk\", font_scale=1, rc=None)\n",
    "sns.set_style('whitegrid')"
   ]
  },
  {
   "cell_type": "code",
   "execution_count": null,
   "metadata": {
    "collapsed": false
   },
   "outputs": [],
   "source": [
    "# Load the \"autoreload\" extension\n",
    "%load_ext autoreload\n",
    "%autoreload 2"
   ]
  },
  {
   "cell_type": "code",
   "execution_count": null,
   "metadata": {
    "collapsed": true
   },
   "outputs": [],
   "source": [
    "import pandas as pd\n",
    "from pandas import IndexSlice as idx\n",
    "import numpy as np\n",
    "\n",
    "from collections import OrderedDict\n",
    "\n",
    "from munch import Munch\n",
    "from tqdm import tqdm"
   ]
  },
  {
   "cell_type": "code",
   "execution_count": null,
   "metadata": {
    "collapsed": true
   },
   "outputs": [],
   "source": [
    "import crunchers.sklearn_helpers.exploration as expl\n",
    "import crunchers.statsmodels_helpers.lazy_stats as stats\n",
    "import crunchers.pandas_helpers.transformations as xform"
   ]
  },
  {
   "cell_type": "code",
   "execution_count": null,
   "metadata": {
    "collapsed": true
   },
   "outputs": [],
   "source": [
    "import biorep_etl.data.load_recode as loading"
   ]
  },
  {
   "cell_type": "code",
   "execution_count": 2,
   "metadata": {
    "collapsed": false
   },
   "outputs": [
    {
     "name": "stdout",
     "output_type": "stream",
     "text": [
      "dataframe read.\n",
      "visit key generated.\n"
     ]
    }
   ],
   "source": [
    "\"\"\"Functions used in this pipeline.\"\"\"\n",
    "\n",
    "import pandas as pd\n",
    "import numpy as np\n",
    "\n",
    "# files\n",
    "# file = \"./data/raw/SnapperGIBioreposito_DATA_2017-01-10_1643.csv\"\n",
    "\n",
    "# generate dataframe\n",
    "# df = pd.read_csv(\"./data/raw/SnapperGIBioreposito_DATA_2017-01-10_1643.csv\")\n",
    "df = pd.read_csv(\"../data/raw/SnapperGIBioreposito_DATA_2017-01-10_1643.csv\")\n",
    "\n",
    "\n",
    "print(\"dataframe read.\")\n",
    "\n",
    "# generate compound key for visit entry\n",
    "df['vis_id'] = df[['biorepidnumber', 'sample_date']].astype(str).apply(lambda x: ''.join(x), axis=1)\n",
    "#print(df['vis_id'])\n",
    "print(\"visit key generated.\")\n",
    "\n",
    "\n",
    "# generate family and member id for subject entity\n",
    "#mem_fam = lambda x: pd.Series([i for i in reversed(x.split('.'))])\n",
    "#mem_fam = df['member_id, family_id'].apply(mem_fam)\n",
    "#df = pd.concat([df, mem_fam], axis=1)\n",
    "#print(\"family and member id generated\")\n",
    "\n",
    "# create subject dataframe\n",
    "# sub = df.iloc[:, [4, 8, 9, 12 : 33, 35 : 50]]"
   ]
  },
  {
   "cell_type": "code",
   "execution_count": 11,
   "metadata": {
    "collapsed": false
   },
   "outputs": [
    {
     "data": {
      "text/html": [
       "<div>\n",
       "<table border=\"1\" class=\"dataframe\">\n",
       "  <thead>\n",
       "    <tr style=\"text-align: right;\">\n",
       "      <th></th>\n",
       "      <th>biorepidnumber</th>\n",
       "      <th>registryconsent</th>\n",
       "      <th>biorepconsent</th>\n",
       "      <th>ibdtype</th>\n",
       "      <th>otheribddx</th>\n",
       "      <th>family_history</th>\n",
       "      <th>familymember_ibd___1</th>\n",
       "      <th>familymember_ibd___2</th>\n",
       "      <th>familymember_ibd___3</th>\n",
       "      <th>familymember_ibd___4</th>\n",
       "      <th>...</th>\n",
       "      <th>race___6</th>\n",
       "      <th>hispanic_or_latino</th>\n",
       "      <th>neopics_sample</th>\n",
       "      <th>chb_id</th>\n",
       "      <th>neopics</th>\n",
       "      <th>non_bch_pt</th>\n",
       "      <th>referring_hospital</th>\n",
       "      <th>referring_physician</th>\n",
       "      <th>symptom_onset</th>\n",
       "      <th>date_of_diagnosis</th>\n",
       "    </tr>\n",
       "  </thead>\n",
       "  <tbody>\n",
       "    <tr>\n",
       "      <th>0</th>\n",
       "      <td>1004.0</td>\n",
       "      <td>0.0</td>\n",
       "      <td>1.0</td>\n",
       "      <td>2.0</td>\n",
       "      <td>NaN</td>\n",
       "      <td>0.0</td>\n",
       "      <td>0</td>\n",
       "      <td>0</td>\n",
       "      <td>0</td>\n",
       "      <td>0</td>\n",
       "      <td>...</td>\n",
       "      <td>0</td>\n",
       "      <td>NaN</td>\n",
       "      <td>0.0</td>\n",
       "      <td>NaN</td>\n",
       "      <td>NaN</td>\n",
       "      <td>NaN</td>\n",
       "      <td>NaN</td>\n",
       "      <td>NaN</td>\n",
       "      <td>NaN</td>\n",
       "      <td>NaN</td>\n",
       "    </tr>\n",
       "    <tr>\n",
       "      <th>1</th>\n",
       "      <td>433.2</td>\n",
       "      <td>0.0</td>\n",
       "      <td>1.0</td>\n",
       "      <td>NaN</td>\n",
       "      <td>NaN</td>\n",
       "      <td>NaN</td>\n",
       "      <td>0</td>\n",
       "      <td>0</td>\n",
       "      <td>0</td>\n",
       "      <td>0</td>\n",
       "      <td>...</td>\n",
       "      <td>0</td>\n",
       "      <td>NaN</td>\n",
       "      <td>0.0</td>\n",
       "      <td>NaN</td>\n",
       "      <td>0.0</td>\n",
       "      <td>NaN</td>\n",
       "      <td>NaN</td>\n",
       "      <td>NaN</td>\n",
       "      <td>NaN</td>\n",
       "      <td>NaN</td>\n",
       "    </tr>\n",
       "    <tr>\n",
       "      <th>2</th>\n",
       "      <td>433.2</td>\n",
       "      <td>0.0</td>\n",
       "      <td>1.0</td>\n",
       "      <td>NaN</td>\n",
       "      <td>NaN</td>\n",
       "      <td>NaN</td>\n",
       "      <td>0</td>\n",
       "      <td>0</td>\n",
       "      <td>0</td>\n",
       "      <td>0</td>\n",
       "      <td>...</td>\n",
       "      <td>0</td>\n",
       "      <td>NaN</td>\n",
       "      <td>0.0</td>\n",
       "      <td>NaN</td>\n",
       "      <td>0.0</td>\n",
       "      <td>NaN</td>\n",
       "      <td>NaN</td>\n",
       "      <td>NaN</td>\n",
       "      <td>NaN</td>\n",
       "      <td>NaN</td>\n",
       "    </tr>\n",
       "    <tr>\n",
       "      <th>3</th>\n",
       "      <td>1.0</td>\n",
       "      <td>1.0</td>\n",
       "      <td>1.0</td>\n",
       "      <td>2.0</td>\n",
       "      <td>NaN</td>\n",
       "      <td>1.0</td>\n",
       "      <td>0</td>\n",
       "      <td>0</td>\n",
       "      <td>0</td>\n",
       "      <td>0</td>\n",
       "      <td>...</td>\n",
       "      <td>0</td>\n",
       "      <td>NaN</td>\n",
       "      <td>0.0</td>\n",
       "      <td>NaN</td>\n",
       "      <td>0.0</td>\n",
       "      <td>NaN</td>\n",
       "      <td>NaN</td>\n",
       "      <td>NaN</td>\n",
       "      <td>NaN</td>\n",
       "      <td>NaN</td>\n",
       "    </tr>\n",
       "    <tr>\n",
       "      <th>4</th>\n",
       "      <td>2.0</td>\n",
       "      <td>1.0</td>\n",
       "      <td>1.0</td>\n",
       "      <td>2.0</td>\n",
       "      <td>NaN</td>\n",
       "      <td>0.0</td>\n",
       "      <td>0</td>\n",
       "      <td>0</td>\n",
       "      <td>0</td>\n",
       "      <td>0</td>\n",
       "      <td>...</td>\n",
       "      <td>0</td>\n",
       "      <td>NaN</td>\n",
       "      <td>0.0</td>\n",
       "      <td>NaN</td>\n",
       "      <td>NaN</td>\n",
       "      <td>NaN</td>\n",
       "      <td>NaN</td>\n",
       "      <td>NaN</td>\n",
       "      <td>NaN</td>\n",
       "      <td>NaN</td>\n",
       "    </tr>\n",
       "  </tbody>\n",
       "</table>\n",
       "<p>5 rows × 39 columns</p>\n",
       "</div>"
      ],
      "text/plain": [
       "   biorepidnumber  registryconsent  biorepconsent  ibdtype otheribddx  \\\n",
       "0          1004.0              0.0            1.0      2.0        NaN   \n",
       "1           433.2              0.0            1.0      NaN        NaN   \n",
       "2           433.2              0.0            1.0      NaN        NaN   \n",
       "3             1.0              1.0            1.0      2.0        NaN   \n",
       "4             2.0              1.0            1.0      2.0        NaN   \n",
       "\n",
       "   family_history  familymember_ibd___1  familymember_ibd___2  \\\n",
       "0             0.0                     0                     0   \n",
       "1             NaN                     0                     0   \n",
       "2             NaN                     0                     0   \n",
       "3             1.0                     0                     0   \n",
       "4             0.0                     0                     0   \n",
       "\n",
       "   familymember_ibd___3  familymember_ibd___4        ...          race___6  \\\n",
       "0                     0                     0        ...                 0   \n",
       "1                     0                     0        ...                 0   \n",
       "2                     0                     0        ...                 0   \n",
       "3                     0                     0        ...                 0   \n",
       "4                     0                     0        ...                 0   \n",
       "\n",
       "   hispanic_or_latino neopics_sample  chb_id neopics  non_bch_pt  \\\n",
       "0                 NaN            0.0     NaN     NaN         NaN   \n",
       "1                 NaN            0.0     NaN     0.0         NaN   \n",
       "2                 NaN            0.0     NaN     0.0         NaN   \n",
       "3                 NaN            0.0     NaN     0.0         NaN   \n",
       "4                 NaN            0.0     NaN     NaN         NaN   \n",
       "\n",
       "  referring_hospital  referring_physician symptom_onset  date_of_diagnosis  \n",
       "0                NaN                  NaN           NaN                NaN  \n",
       "1                NaN                  NaN           NaN                NaN  \n",
       "2                NaN                  NaN           NaN                NaN  \n",
       "3                NaN                  NaN           NaN                NaN  \n",
       "4                NaN                  NaN           NaN                NaN  \n",
       "\n",
       "[5 rows x 39 columns]"
      ]
     },
     "execution_count": 11,
     "metadata": {},
     "output_type": "execute_result"
    }
   ],
   "source": [
    "sub = pd.concat([df.iloc[:, [4, 8, 9]],\n",
    "                 df.iloc[:, 12 : 33],\n",
    "                 df.iloc[:, 35 : 50]], axis=1)\n",
    "sub.head()"
   ]
  },
  {
   "cell_type": "code",
   "execution_count": 15,
   "metadata": {
    "collapsed": false
   },
   "outputs": [
    {
     "data": {
      "text/html": [
       "<div>\n",
       "<table border=\"1\" class=\"dataframe\">\n",
       "  <thead>\n",
       "    <tr style=\"text-align: right;\">\n",
       "      <th></th>\n",
       "      <th>vis_id</th>\n",
       "      <th>biorepidnumber</th>\n",
       "      <th>sample_date</th>\n",
       "      <th>samplenumber</th>\n",
       "      <th>nsaid</th>\n",
       "      <th>nsaid_doses</th>\n",
       "      <th>hbi_wellbeing</th>\n",
       "      <th>hbi_wellbeing</th>\n",
       "      <th>hbi_abdpain</th>\n",
       "      <th>hbi_liquidstools</th>\n",
       "      <th>...</th>\n",
       "      <th>othermed_type___3</th>\n",
       "      <th>othermed</th>\n",
       "      <th>date_labs</th>\n",
       "      <th>hct</th>\n",
       "      <th>wbc</th>\n",
       "      <th>plt</th>\n",
       "      <th>crp</th>\n",
       "      <th>esr</th>\n",
       "      <th>alb</th>\n",
       "      <th>notes</th>\n",
       "    </tr>\n",
       "  </thead>\n",
       "  <tbody>\n",
       "    <tr>\n",
       "      <th>0</th>\n",
       "      <td>1004.05/23/13</td>\n",
       "      <td>1004.0</td>\n",
       "      <td>5/23/13</td>\n",
       "      <td>5.231301e+09</td>\n",
       "      <td>NaN</td>\n",
       "      <td>NaN</td>\n",
       "      <td>NaN</td>\n",
       "      <td>NaN</td>\n",
       "      <td>NaN</td>\n",
       "      <td>NaN</td>\n",
       "      <td>...</td>\n",
       "      <td>1</td>\n",
       "      <td>Lo ovral</td>\n",
       "      <td>NaN</td>\n",
       "      <td>37.5</td>\n",
       "      <td>8.32</td>\n",
       "      <td>288</td>\n",
       "      <td>0.47</td>\n",
       "      <td>13.0</td>\n",
       "      <td>4.3</td>\n",
       "      <td>NaN</td>\n",
       "    </tr>\n",
       "    <tr>\n",
       "      <th>1</th>\n",
       "      <td>433.28/5/14</td>\n",
       "      <td>433.2</td>\n",
       "      <td>8/5/14</td>\n",
       "      <td>8.051400e+09</td>\n",
       "      <td>NaN</td>\n",
       "      <td>NaN</td>\n",
       "      <td>NaN</td>\n",
       "      <td>NaN</td>\n",
       "      <td>NaN</td>\n",
       "      <td>NaN</td>\n",
       "      <td>...</td>\n",
       "      <td>0</td>\n",
       "      <td>NaN</td>\n",
       "      <td>NaN</td>\n",
       "      <td>NaN</td>\n",
       "      <td>NaN</td>\n",
       "      <td>NaN</td>\n",
       "      <td>NaN</td>\n",
       "      <td>NaN</td>\n",
       "      <td>NaN</td>\n",
       "      <td>NaN</td>\n",
       "    </tr>\n",
       "    <tr>\n",
       "      <th>2</th>\n",
       "      <td>433.28/16/14</td>\n",
       "      <td>433.2</td>\n",
       "      <td>8/16/14</td>\n",
       "      <td>8.161400e+09</td>\n",
       "      <td>NaN</td>\n",
       "      <td>NaN</td>\n",
       "      <td>NaN</td>\n",
       "      <td>NaN</td>\n",
       "      <td>NaN</td>\n",
       "      <td>NaN</td>\n",
       "      <td>...</td>\n",
       "      <td>0</td>\n",
       "      <td>NaN</td>\n",
       "      <td>NaN</td>\n",
       "      <td>NaN</td>\n",
       "      <td>NaN</td>\n",
       "      <td>NaN</td>\n",
       "      <td>NaN</td>\n",
       "      <td>NaN</td>\n",
       "      <td>NaN</td>\n",
       "      <td>NaN</td>\n",
       "    </tr>\n",
       "    <tr>\n",
       "      <th>3</th>\n",
       "      <td>1.04/24/13</td>\n",
       "      <td>1.0</td>\n",
       "      <td>4/24/13</td>\n",
       "      <td>4.241300e+09</td>\n",
       "      <td>NaN</td>\n",
       "      <td>NaN</td>\n",
       "      <td>NaN</td>\n",
       "      <td>NaN</td>\n",
       "      <td>NaN</td>\n",
       "      <td>NaN</td>\n",
       "      <td>...</td>\n",
       "      <td>1</td>\n",
       "      <td>INH</td>\n",
       "      <td>NaN</td>\n",
       "      <td>31.4</td>\n",
       "      <td>2.83</td>\n",
       "      <td>233</td>\n",
       "      <td>0.09</td>\n",
       "      <td>19.0</td>\n",
       "      <td>4.3</td>\n",
       "      <td>NaN</td>\n",
       "    </tr>\n",
       "    <tr>\n",
       "      <th>4</th>\n",
       "      <td>2.01/15/13</td>\n",
       "      <td>2.0</td>\n",
       "      <td>1/15/13</td>\n",
       "      <td>1.151300e+09</td>\n",
       "      <td>NaN</td>\n",
       "      <td>NaN</td>\n",
       "      <td>NaN</td>\n",
       "      <td>NaN</td>\n",
       "      <td>NaN</td>\n",
       "      <td>NaN</td>\n",
       "      <td>...</td>\n",
       "      <td>1</td>\n",
       "      <td>Ursodeoxycholic acid</td>\n",
       "      <td>NaN</td>\n",
       "      <td>40.2</td>\n",
       "      <td>6.42</td>\n",
       "      <td>310</td>\n",
       "      <td>0.29</td>\n",
       "      <td>13.0</td>\n",
       "      <td>4.7</td>\n",
       "      <td>NaN</td>\n",
       "    </tr>\n",
       "  </tbody>\n",
       "</table>\n",
       "<p>5 rows × 93 columns</p>\n",
       "</div>"
      ],
      "text/plain": [
       "          vis_id  biorepidnumber sample_date  samplenumber  nsaid  \\\n",
       "0  1004.05/23/13          1004.0     5/23/13  5.231301e+09    NaN   \n",
       "1    433.28/5/14           433.2      8/5/14  8.051400e+09    NaN   \n",
       "2   433.28/16/14           433.2     8/16/14  8.161400e+09    NaN   \n",
       "3     1.04/24/13             1.0     4/24/13  4.241300e+09    NaN   \n",
       "4     2.01/15/13             2.0     1/15/13  1.151300e+09    NaN   \n",
       "\n",
       "   nsaid_doses  hbi_wellbeing  hbi_wellbeing  hbi_abdpain  hbi_liquidstools  \\\n",
       "0          NaN            NaN            NaN          NaN               NaN   \n",
       "1          NaN            NaN            NaN          NaN               NaN   \n",
       "2          NaN            NaN            NaN          NaN               NaN   \n",
       "3          NaN            NaN            NaN          NaN               NaN   \n",
       "4          NaN            NaN            NaN          NaN               NaN   \n",
       "\n",
       "   ...    othermed_type___3              othermed  date_labs   hct   wbc  plt  \\\n",
       "0  ...                    1              Lo ovral        NaN  37.5  8.32  288   \n",
       "1  ...                    0                   NaN        NaN   NaN   NaN  NaN   \n",
       "2  ...                    0                   NaN        NaN   NaN   NaN  NaN   \n",
       "3  ...                    1                   INH        NaN  31.4  2.83  233   \n",
       "4  ...                    1  Ursodeoxycholic acid        NaN  40.2  6.42  310   \n",
       "\n",
       "    crp   esr  alb  notes  \n",
       "0  0.47  13.0  4.3    NaN  \n",
       "1   NaN   NaN  NaN    NaN  \n",
       "2   NaN   NaN  NaN    NaN  \n",
       "3  0.09  19.0  4.3    NaN  \n",
       "4  0.29  13.0  4.7    NaN  \n",
       "\n",
       "[5 rows x 93 columns]"
      ]
     },
     "execution_count": 15,
     "metadata": {},
     "output_type": "execute_result"
    }
   ],
   "source": [
    "vis = pd.concat([df.iloc[:, 213],\n",
    "                 df.iloc[:, [4,7,1,53,54, 126]],\n",
    "                 df.iloc[:, 126: 212]], axis=1)\n",
    "\n",
    "vis.head()"
   ]
  },
  {
   "cell_type": "code",
   "execution_count": 9,
   "metadata": {
    "collapsed": false
   },
   "outputs": [
    {
     "ename": "SyntaxError",
     "evalue": "invalid syntax (<ipython-input-9-47de646fe791>, line 1)",
     "output_type": "error",
     "traceback": [
      "\u001b[0;36m  File \u001b[0;32m\"<ipython-input-9-47de646fe791>\"\u001b[0;36m, line \u001b[0;32m1\u001b[0m\n\u001b[0;31m    df[['record_id', [\"completed_by\":\"other_immunodeficiency\"]]].head()\u001b[0m\n\u001b[0m                                    ^\u001b[0m\n\u001b[0;31mSyntaxError\u001b[0m\u001b[0;31m:\u001b[0m invalid syntax\n"
     ]
    }
   ],
   "source": [
    "df[['record_id', [\"completed_by\":\"other_immunodeficiency\"]]].head()"
   ]
  },
  {
   "cell_type": "code",
   "execution_count": 7,
   "metadata": {
    "collapsed": false
   },
   "outputs": [
    {
     "data": {
      "text/plain": [
       "array(['record_id', 'samplenumber', 'label_on_sample', 'mrn',\n",
       "       'biorepidnumber', 'completed_by', 'date_crf_completed',\n",
       "       'sample_date', 'registryconsent', 'biorepconsent',\n",
       "       'prior_protocol_number', 'ibdyesno', 'ibdtype', 'otheribddx',\n",
       "       'family_history', 'familymember_ibd___1', 'familymember_ibd___2',\n",
       "       'familymember_ibd___3', 'familymember_ibd___4',\n",
       "       'familymember_ibd___5', 'familymember_ibd___6', 'other_relative',\n",
       "       'ibd_immunodeficiencies', 'other_immunodeficiency', 'controldx',\n",
       "       'other_diagnosis', 'control_immunodeficiency',\n",
       "       'otherimmuno_control', 'psc', 'familymembertype',\n",
       "       'familymembergidx', 'family_otherdiagnosis', 'gender', 'dob', 'age',\n",
       "       'race___1', 'race___2', 'race___3', 'race___4', 'race___5',\n",
       "       'race___6', 'hispanic_or_latino', 'neopics_sample', 'chb_id',\n",
       "       'neopics', 'non_bch_pt', 'referring_hospital',\n",
       "       'referring_physician', 'symptom_onset', 'date_of_diagnosis',\n",
       "       'consanguinity', 'oral_perianal___1', 'oral_perianal___2', 'nsaid',\n",
       "       'nsaid_doses', 'sampletype', 'other_sampletype', 'longitudinal',\n",
       "       'blood_samples___5', 'blood_samples___3', 'blood_samples___2',\n",
       "       'blood_samples___1', 'blood_samples___6', 'blood_samples___4',\n",
       "       'timetominus20', 'timetominus80', 'stoolmedia___1',\n",
       "       'stoolmedia___2', 'stoolmedia___3', 'stoolmedia___4', 'stool_dna',\n",
       "       'bxlocation___1', 'bxlocation___11', 'bxlocation___2',\n",
       "       'bxlocation___12', 'bxlocation___3', 'bxlocation___13',\n",
       "       'bxlocation___4', 'bxlocation___14', 'bxlocation___5',\n",
       "       'bxlocation___15', 'bxlocation___6', 'bxlocation___16',\n",
       "       'bxlocation___21', 'bxlocation___22', 'bxlocation___7',\n",
       "       'bxlocation___17', 'bxlocation___23', 'bxlocation___24',\n",
       "       'bxlocation___8', 'bxlocation___18', 'bxlocation___9',\n",
       "       'bxlocation___19', 'bxlocation___20', 'bxlocation___10',\n",
       "       'bxlocation___25', 'bxlocation___26', 'surgicallocations___1',\n",
       "       'surgicallocations___9', 'surgicallocations___2',\n",
       "       'surgicallocations___10', 'surgicallocations___3',\n",
       "       'surgicallocations___11', 'surgicallocations___21',\n",
       "       'surgicallocations___22', 'surgicallocations___4',\n",
       "       'surgicallocations___12', 'surgicallocations___23',\n",
       "       'surgicallocations___24', 'surgicallocations___5',\n",
       "       'surgicallocations___13', 'surgicallocations___6',\n",
       "       'surgicallocations___14', 'surgicallocations___7',\n",
       "       'surgicallocations___15', 'surgicallocations___8',\n",
       "       'surgicallocations___16', 'where_stored___1', 'where_stored___2',\n",
       "       'where_stored___3', 'where_stored___4', 'where_stored___6',\n",
       "       'where_stored___7', 'where_stored___5', 'other_shipped',\n",
       "       'labmember', 'hbi_wellbeing', 'hbi_abdpain', 'hbi_liquidstools',\n",
       "       'hbi_abdominalmass', 'hbi_complications', 'hbi_abscess',\n",
       "       'hbi_fissure', 'hbi_aphthous', 'hbi_arthralgia', 'hbi_nodosum',\n",
       "       'hbi_fistula', 'hbi_gangrenosum', 'hbi_uveitis', 'hbi_total',\n",
       "       'sccai_stoolsperday', 'sccai_stoolspernight', 'sccai_urgency',\n",
       "       'sccai_blood', 'sccai_wellbeing', 'sccai_eim', 'sccai_arthralgia',\n",
       "       'sccai_nodosum', 'sccai_gangrenosum', 'sccai_uveitis',\n",
       "       'sccai_total', 'pucai_abdpain', 'pucai_bleeding',\n",
       "       'pucai_consistency', 'pucai_frequency', 'pucai_nocturnal',\n",
       "       'pucai_limitation', 'pucai_total', 'anymeds', 'current_5asa',\n",
       "       'asa_type___1', 'asa_type___2', 'asa_type___3', 'asa_type___4',\n",
       "       'current_antibiotic', 'antibiotic_type___1', 'antibiotic_type___2',\n",
       "       'antibiotic_type___3', 'antibiotic_type___4', 'antibiotic_type___5',\n",
       "       'antibiotic_type___6', 'antibiotic_type___7', 'other_antibiotic',\n",
       "       'current_probiotic', 'probiotic_type___1', 'probiotic_type___2',\n",
       "       'probiotic_type___3', 'probiotic_type___4', 'other_probiotic',\n",
       "       'current_glucocorticoid', 'glucocorticoid_type___1',\n",
       "       'glucocorticoid_type___2', 'glucocorticoid_type___3',\n",
       "       'glucocorticoid_type___4', 'current_immunomodulator',\n",
       "       'immunomodulator_type___1', 'immunomodulator_type___2',\n",
       "       'immunomodulator_type___3', 'current_antitnf', 'antitnf_type___1',\n",
       "       'antitnf_type___2', 'antitnf_type___3', 'current_calcineurin',\n",
       "       'calcineurin_type___1', 'calcineurin_type___2',\n",
       "       'current_otherbiologics', 'otherbiologic_type___1',\n",
       "       'otherbiologic_type___2', 'otherbiologic_type___3',\n",
       "       'fecaltransplant', 'current_othermeds', 'othermed_type___2',\n",
       "       'othermed_type___3', 'othermed', 'date_labs', 'hct', 'wbc', 'plt',\n",
       "       'crp', 'esr', 'alb', 'notes',\n",
       "       'ibd_biorepository_sample_database_complete', 'vis_id'], dtype=object)"
      ]
     },
     "execution_count": 7,
     "metadata": {},
     "output_type": "execute_result"
    }
   ],
   "source": [
    "df.columns.values"
   ]
  },
  {
   "cell_type": "code",
   "execution_count": null,
   "metadata": {
    "collapsed": true
   },
   "outputs": [],
   "source": [
    "df[[]]"
   ]
  },
  {
   "cell_type": "markdown",
   "metadata": {},
   "source": [
    "## Constants"
   ]
  },
  {
   "cell_type": "markdown",
   "metadata": {},
   "source": [
    "### Get info for converting/moving this file to `reports`"
   ]
  },
  {
   "cell_type": "code",
   "execution_count": null,
   "metadata": {
    "collapsed": false
   },
   "outputs": [],
   "source": [
    "# %%javascript\n",
    "# var kernel = IPython.notebook.kernel;\n",
    "# var thename = window.document.getElementById(\"notebook_name\").innerHTML;\n",
    "# var command = \"IPYNB_NAME = \" + \"'\"+thename+\"'\";\n",
    "# kernel.execute(command);"
   ]
  },
  {
   "cell_type": "code",
   "execution_count": null,
   "metadata": {
    "collapsed": false
   },
   "outputs": [],
   "source": [
    "# rv = Munch()\n",
    "\n",
    "# rv.rep_id = 'yyy-mm-dd'\n",
    "# rv.desc = 'blank'\n",
    "# rv.ipnb = Path('{IPYNB_NAME}.ipynb'.format(IPYNB_NAME=IPYNB_NAME))\n",
    "# rv.html = '{ipnb}.html'.format(ipnb=rv.ipnb.stem)\n",
    "# rv.files = '{ipnb}_files'.format(ipnb=rv.ipnb.stem)\n",
    "# rv.reprt_dir = '../../reports/{IPYNB_NAME}/'.format(IPYNB_NAME=IPYNB_NAME)"
   ]
  },
  {
   "cell_type": "markdown",
   "metadata": {},
   "source": [
    "### Other Constants"
   ]
  },
  {
   "cell_type": "code",
   "execution_count": null,
   "metadata": {
    "collapsed": true
   },
   "outputs": [],
   "source": []
  },
  {
   "cell_type": "markdown",
   "metadata": {},
   "source": [
    "## Paths"
   ]
  },
  {
   "cell_type": "code",
   "execution_count": null,
   "metadata": {
    "collapsed": true
   },
   "outputs": [],
   "source": [
    "data_ = \"../../data/raw/file.csv\""
   ]
  },
  {
   "cell_type": "markdown",
   "metadata": {},
   "source": [
    "## Functions"
   ]
  },
  {
   "cell_type": "code",
   "execution_count": null,
   "metadata": {
    "collapsed": true
   },
   "outputs": [],
   "source": []
  },
  {
   "cell_type": "markdown",
   "metadata": {},
   "source": [
    "## Loading"
   ]
  },
  {
   "cell_type": "code",
   "execution_count": null,
   "metadata": {
    "collapsed": false
   },
   "outputs": [],
   "source": []
  },
  {
   "cell_type": "markdown",
   "metadata": {},
   "source": [
    "# The Work"
   ]
  },
  {
   "cell_type": "markdown",
   "metadata": {},
   "source": [
    "# Convert to HTML report and move to reports folder"
   ]
  },
  {
   "cell_type": "code",
   "execution_count": null,
   "metadata": {
    "collapsed": false
   },
   "outputs": [],
   "source": [
    "# rv.reprt_dir"
   ]
  },
  {
   "cell_type": "code",
   "execution_count": null,
   "metadata": {
    "collapsed": false
   },
   "outputs": [],
   "source": [
    "# !jupyter nbconvert --to html_toc $rv.ipnb"
   ]
  },
  {
   "cell_type": "code",
   "execution_count": null,
   "metadata": {
    "collapsed": false
   },
   "outputs": [],
   "source": [
    "# !mkdir -p $rv.reprt_dir\n",
    "## !mv -f $rv.html $rv.files $rv.reprt_dir"
   ]
  },
  {
   "cell_type": "code",
   "execution_count": null,
   "metadata": {
    "collapsed": true
   },
   "outputs": [],
   "source": []
  }
 ],
 "metadata": {
  "anaconda-cloud": {},
  "hide_input": false,
  "kernelspec": {
   "display_name": "biorepo",
   "language": "python",
   "name": "biorepo"
  },
  "language_info": {
   "codemirror_mode": {
    "name": "ipython",
    "version": 3
   },
   "file_extension": ".py",
   "mimetype": "text/x-python",
   "name": "python",
   "nbconvert_exporter": "python",
   "pygments_lexer": "ipython3",
   "version": "3.5.2"
  },
  "toc": {
   "colors": {
    "hover_highlight": "#DAA520",
    "running_highlight": "#FF0000",
    "selected_highlight": "#FFD700"
   },
   "moveMenuLeft": true,
   "navigate_menu": false,
   "number_sections": true,
   "sideBar": true,
   "threshold": 4,
   "toc_cell": false,
   "toc_number_sections": true,
   "toc_section_display": "none",
   "toc_threshold": 6,
   "toc_window_display": true
  },
  "toc_position": {
   "height": "796px",
   "left": "1602.14px",
   "right": "20px",
   "top": "118px",
   "width": "364px"
  }
 },
 "nbformat": 4,
 "nbformat_minor": 0
}
