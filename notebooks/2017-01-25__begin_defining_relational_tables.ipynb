{
 "cells": [
  {
   "cell_type": "markdown",
   "metadata": {},
   "source": [
    "# Set up\n"
   ]
  },
  {
   "cell_type": "markdown",
   "metadata": {},
   "source": [
    "## Imports"
   ]
  },
  {
   "cell_type": "code",
   "execution_count": 1,
   "metadata": {
    "collapsed": false
   },
   "outputs": [],
   "source": [
    "%matplotlib inline"
   ]
  },
  {
   "cell_type": "code",
   "execution_count": 2,
   "metadata": {
    "collapsed": true
   },
   "outputs": [],
   "source": [
    "import sys\n",
    "import os\n",
    "from pathlib import Path\n",
    "import math"
   ]
  },
  {
   "cell_type": "code",
   "execution_count": 3,
   "metadata": {
    "collapsed": false
   },
   "outputs": [],
   "source": [
    "import matplotlib.pyplot as plt\n",
    "import seaborn as sns\n",
    "sns.set_context(context=\"talk\", font_scale=1, rc=None)\n",
    "sns.set_style('whitegrid')"
   ]
  },
  {
   "cell_type": "code",
   "execution_count": 4,
   "metadata": {
    "collapsed": false
   },
   "outputs": [],
   "source": [
    "# Load the \"autoreload\" extension\n",
    "%load_ext autoreload\n",
    "%autoreload 2"
   ]
  },
  {
   "cell_type": "code",
   "execution_count": 5,
   "metadata": {
    "collapsed": true
   },
   "outputs": [],
   "source": [
    "import pandas as pd\n",
    "from pandas import IndexSlice as idx\n",
    "import numpy as np\n",
    "\n",
    "from collections import OrderedDict\n",
    "\n",
    "from munch import Munch, munchify\n",
    "from tqdm import tqdm"
   ]
  },
  {
   "cell_type": "code",
   "execution_count": 6,
   "metadata": {
    "collapsed": true
   },
   "outputs": [],
   "source": [
    "import engarde.decorators as ed\n",
    "import pyparsing as p"
   ]
  },
  {
   "cell_type": "code",
   "execution_count": 7,
   "metadata": {
    "collapsed": true
   },
   "outputs": [],
   "source": [
    "# import crunchers.sklearn_helpers.exploration as expl\n",
    "# import crunchers.statsmodels_helpers.lazy_stats as stats\n",
    "# import crunchers.pandas_helpers.transformations as xform"
   ]
  },
  {
   "cell_type": "code",
   "execution_count": 28,
   "metadata": {
    "collapsed": false
   },
   "outputs": [],
   "source": [
    "import biorep_etl.data.hreg_load_recode as loading\n",
    "import biorep_etl.data.field_definitions.hreg_redcap_dump as rcd\n",
    "from biorep_etl.data.parsers import BranchLogicParser, build_choices_parser"
   ]
  },
  {
   "cell_type": "markdown",
   "metadata": {},
   "source": [
    "## Constants"
   ]
  },
  {
   "cell_type": "markdown",
   "metadata": {},
   "source": [
    "### Get info for converting/moving this file to `reports`"
   ]
  },
  {
   "cell_type": "code",
   "execution_count": 9,
   "metadata": {
    "collapsed": false
   },
   "outputs": [],
   "source": [
    "# %%javascript\n",
    "# var kernel = IPython.notebook.kernel;\n",
    "# var thename = window.document.getElementById(\"notebook_name\").innerHTML;\n",
    "# var command = \"IPYNB_NAME = \" + \"'\"+thename+\"'\";\n",
    "# kernel.execute(command);"
   ]
  },
  {
   "cell_type": "code",
   "execution_count": 10,
   "metadata": {
    "collapsed": false
   },
   "outputs": [],
   "source": [
    "# rv = Munch()\n",
    "\n",
    "# rv.rep_id = 'yyy-mm-dd'\n",
    "# rv.desc = 'blank'\n",
    "# rv.ipnb = Path('{IPYNB_NAME}.ipynb'.format(IPYNB_NAME=IPYNB_NAME))\n",
    "# rv.html = '{ipnb}.html'.format(ipnb=rv.ipnb.stem)\n",
    "# rv.files = '{ipnb}_files'.format(ipnb=rv.ipnb.stem)\n",
    "# rv.reprt_dir = '../../reports/{IPYNB_NAME}/'.format(IPYNB_NAME=IPYNB_NAME)"
   ]
  },
  {
   "cell_type": "markdown",
   "metadata": {},
   "source": [
    "### Other Constants"
   ]
  },
  {
   "cell_type": "code",
   "execution_count": null,
   "metadata": {
    "collapsed": true
   },
   "outputs": [],
   "source": []
  },
  {
   "cell_type": "markdown",
   "metadata": {},
   "source": [
    "## Paths"
   ]
  },
  {
   "cell_type": "code",
   "execution_count": 11,
   "metadata": {
    "collapsed": true
   },
   "outputs": [],
   "source": [
    "data_ = \"../data/raw/registry/HarvardInflammatoryB_DATA_2017-01-20_0924.csv\"\n",
    "data_dict_ = \"../data/raw/registry/HarvardInflammatoryBowelDiseas_DataDictionary_2017-01-20.csv\""
   ]
  },
  {
   "cell_type": "markdown",
   "metadata": {},
   "source": [
    "## Functions"
   ]
  },
  {
   "cell_type": "code",
   "execution_count": null,
   "metadata": {
    "collapsed": true
   },
   "outputs": [],
   "source": []
  },
  {
   "cell_type": "markdown",
   "metadata": {},
   "source": [
    "## Loading"
   ]
  },
  {
   "cell_type": "markdown",
   "metadata": {},
   "source": [
    "### Data Dict"
   ]
  },
  {
   "cell_type": "code",
   "execution_count": 13,
   "metadata": {
    "collapsed": false,
    "scrolled": true
   },
   "outputs": [
    {
     "data": {
      "text/html": [
       "<div>\n",
       "<table border=\"1\" class=\"dataframe\">\n",
       "  <thead>\n",
       "    <tr style=\"text-align: right;\">\n",
       "      <th></th>\n",
       "      <th>Form Name</th>\n",
       "      <th>Section Header</th>\n",
       "      <th>Field Type</th>\n",
       "      <th>Field Label</th>\n",
       "      <th>Choices, Calculations, OR Slider Labels</th>\n",
       "      <th>Field Note</th>\n",
       "      <th>Text Validation Type OR Show Slider Number</th>\n",
       "      <th>Text Validation Min</th>\n",
       "      <th>Text Validation Max</th>\n",
       "      <th>Identifier?</th>\n",
       "      <th>Branching Logic (Show field only if...)</th>\n",
       "      <th>Required Field?</th>\n",
       "      <th>Custom Alignment</th>\n",
       "      <th>Matrix Group Name</th>\n",
       "    </tr>\n",
       "    <tr>\n",
       "      <th>Variable / Field Name</th>\n",
       "      <th></th>\n",
       "      <th></th>\n",
       "      <th></th>\n",
       "      <th></th>\n",
       "      <th></th>\n",
       "      <th></th>\n",
       "      <th></th>\n",
       "      <th></th>\n",
       "      <th></th>\n",
       "      <th></th>\n",
       "      <th></th>\n",
       "      <th></th>\n",
       "      <th></th>\n",
       "      <th></th>\n",
       "    </tr>\n",
       "  </thead>\n",
       "  <tbody>\n",
       "    <tr>\n",
       "      <th>subid</th>\n",
       "      <td>registration_visit</td>\n",
       "      <td>NaN</td>\n",
       "      <td>text</td>\n",
       "      <td>Subject ID</td>\n",
       "      <td>NaN</td>\n",
       "      <td>NaN</td>\n",
       "      <td>NaN</td>\n",
       "      <td>NaN</td>\n",
       "      <td>NaN</td>\n",
       "      <td>NaN</td>\n",
       "      <td>NaN</td>\n",
       "      <td>NaN</td>\n",
       "      <td>NaN</td>\n",
       "      <td>NaN</td>\n",
       "    </tr>\n",
       "    <tr>\n",
       "      <th>visitdate</th>\n",
       "      <td>registration_visit</td>\n",
       "      <td>Form RV: Registration Visit</td>\n",
       "      <td>text</td>\n",
       "      <td>Date of visit at which patient was consented:</td>\n",
       "      <td>NaN</td>\n",
       "      <td>NaN</td>\n",
       "      <td>date_mdy</td>\n",
       "      <td>NaN</td>\n",
       "      <td>NaN</td>\n",
       "      <td>NaN</td>\n",
       "      <td>NaN</td>\n",
       "      <td>y</td>\n",
       "      <td>NaN</td>\n",
       "      <td>NaN</td>\n",
       "    </tr>\n",
       "  </tbody>\n",
       "</table>\n",
       "</div>"
      ],
      "text/plain": [
       "                                Form Name               Section Header  \\\n",
       "Variable / Field Name                                                    \n",
       "subid                  registration_visit                          NaN   \n",
       "visitdate              registration_visit  Form RV: Registration Visit   \n",
       "\n",
       "                      Field Type  \\\n",
       "Variable / Field Name              \n",
       "subid                       text   \n",
       "visitdate                   text   \n",
       "\n",
       "                                                         Field Label  \\\n",
       "Variable / Field Name                                                  \n",
       "subid                                                     Subject ID   \n",
       "visitdate              Date of visit at which patient was consented:   \n",
       "\n",
       "                      Choices, Calculations, OR Slider Labels Field Note  \\\n",
       "Variable / Field Name                                                      \n",
       "subid                                                     NaN        NaN   \n",
       "visitdate                                                 NaN        NaN   \n",
       "\n",
       "                      Text Validation Type OR Show Slider Number  \\\n",
       "Variable / Field Name                                              \n",
       "subid                                                        NaN   \n",
       "visitdate                                               date_mdy   \n",
       "\n",
       "                      Text Validation Min Text Validation Max Identifier?  \\\n",
       "Variable / Field Name                                                       \n",
       "subid                                 NaN                 NaN         NaN   \n",
       "visitdate                             NaN                 NaN         NaN   \n",
       "\n",
       "                      Branching Logic (Show field only if...) Required Field?  \\\n",
       "Variable / Field Name                                                           \n",
       "subid                                                     NaN             NaN   \n",
       "visitdate                                                 NaN               y   \n",
       "\n",
       "                      Custom Alignment Matrix Group Name  \n",
       "Variable / Field Name                                     \n",
       "subid                              NaN               NaN  \n",
       "visitdate                          NaN               NaN  "
      ]
     },
     "execution_count": 13,
     "metadata": {},
     "output_type": "execute_result"
    }
   ],
   "source": [
    "cb = loading.load_data_dict(data_dict_=data_dict_).dropna(axis=1, how='all')\n",
    "cb.head(2)"
   ]
  },
  {
   "cell_type": "code",
   "execution_count": 14,
   "metadata": {
    "collapsed": false
   },
   "outputs": [
    {
     "data": {
      "text/plain": [
       "radio          214\n",
       "text            80\n",
       "checkbox        49\n",
       "dropdown        34\n",
       "yesno            6\n",
       "descriptive      5\n",
       "calc             3\n",
       "Name: Field Type, dtype: int64"
      ]
     },
     "execution_count": 14,
     "metadata": {},
     "output_type": "execute_result"
    }
   ],
   "source": [
    "cb['Field Type'].value_counts()"
   ]
  },
  {
   "cell_type": "code",
   "execution_count": 15,
   "metadata": {
    "collapsed": false
   },
   "outputs": [
    {
     "data": {
      "text/html": [
       "<div>\n",
       "<table border=\"1\" class=\"dataframe\">\n",
       "  <thead>\n",
       "    <tr style=\"text-align: right;\">\n",
       "      <th></th>\n",
       "      <th>Form Name</th>\n",
       "      <th>Section Header</th>\n",
       "      <th>Field Type</th>\n",
       "      <th>Field Label</th>\n",
       "      <th>Choices, Calculations, OR Slider Labels</th>\n",
       "      <th>Field Note</th>\n",
       "      <th>Text Validation Type OR Show Slider Number</th>\n",
       "      <th>Text Validation Min</th>\n",
       "      <th>Text Validation Max</th>\n",
       "      <th>Identifier?</th>\n",
       "      <th>Branching Logic (Show field only if...)</th>\n",
       "      <th>Required Field?</th>\n",
       "      <th>Custom Alignment</th>\n",
       "      <th>Matrix Group Name</th>\n",
       "    </tr>\n",
       "    <tr>\n",
       "      <th>Variable / Field Name</th>\n",
       "      <th></th>\n",
       "      <th></th>\n",
       "      <th></th>\n",
       "      <th></th>\n",
       "      <th></th>\n",
       "      <th></th>\n",
       "      <th></th>\n",
       "      <th></th>\n",
       "      <th></th>\n",
       "      <th></th>\n",
       "      <th></th>\n",
       "      <th></th>\n",
       "      <th></th>\n",
       "      <th></th>\n",
       "    </tr>\n",
       "  </thead>\n",
       "  <tbody>\n",
       "    <tr>\n",
       "      <th>noconsent</th>\n",
       "      <td>registration_visit</td>\n",
       "      <td>NaN</td>\n",
       "      <td>radio</td>\n",
       "      <td>If no, provide reason</td>\n",
       "      <td>1, Not interested in Research Studies | 2, Pri...</td>\n",
       "      <td>NaN</td>\n",
       "      <td>NaN</td>\n",
       "      <td>NaN</td>\n",
       "      <td>NaN</td>\n",
       "      <td>NaN</td>\n",
       "      <td>[consent] = \"0\"</td>\n",
       "      <td>NaN</td>\n",
       "      <td>NaN</td>\n",
       "      <td>NaN</td>\n",
       "    </tr>\n",
       "    <tr>\n",
       "      <th>gender</th>\n",
       "      <td>registration_visit</td>\n",
       "      <td>NaN</td>\n",
       "      <td>radio</td>\n",
       "      <td>Gender</td>\n",
       "      <td>0, Female | 1, Male | 99, Undefined</td>\n",
       "      <td>NaN</td>\n",
       "      <td>NaN</td>\n",
       "      <td>NaN</td>\n",
       "      <td>NaN</td>\n",
       "      <td>NaN</td>\n",
       "      <td>NaN</td>\n",
       "      <td>NaN</td>\n",
       "      <td>NaN</td>\n",
       "      <td>NaN</td>\n",
       "    </tr>\n",
       "    <tr>\n",
       "      <th>race</th>\n",
       "      <td>registration_visit</td>\n",
       "      <td>NaN</td>\n",
       "      <td>radio</td>\n",
       "      <td>Race</td>\n",
       "      <td>1, White or Caucasian | 2, Black or African Am...</td>\n",
       "      <td>Put other for anything not listed here (Middle...</td>\n",
       "      <td>NaN</td>\n",
       "      <td>NaN</td>\n",
       "      <td>NaN</td>\n",
       "      <td>NaN</td>\n",
       "      <td>NaN</td>\n",
       "      <td>NaN</td>\n",
       "      <td>NaN</td>\n",
       "      <td>NaN</td>\n",
       "    </tr>\n",
       "    <tr>\n",
       "      <th>visitcategory</th>\n",
       "      <td>baseline_and_follow_up</td>\n",
       "      <td>NaN</td>\n",
       "      <td>radio</td>\n",
       "      <td>What type of visit is this?</td>\n",
       "      <td>1, Baseline Visit | 2, Follow Up Visit</td>\n",
       "      <td>Please make sure this matches the event name a...</td>\n",
       "      <td>NaN</td>\n",
       "      <td>NaN</td>\n",
       "      <td>NaN</td>\n",
       "      <td>NaN</td>\n",
       "      <td>[registration_visit_arm_1][ibddiag] = '1' and ...</td>\n",
       "      <td>y</td>\n",
       "      <td>NaN</td>\n",
       "      <td>NaN</td>\n",
       "    </tr>\n",
       "    <tr>\n",
       "      <th>visittype</th>\n",
       "      <td>baseline_and_follow_up</td>\n",
       "      <td>NaN</td>\n",
       "      <td>radio</td>\n",
       "      <td>BV4. Visit Type</td>\n",
       "      <td>1, Baseline Visit, within 3 months of initial ...</td>\n",
       "      <td>NaN</td>\n",
       "      <td>NaN</td>\n",
       "      <td>NaN</td>\n",
       "      <td>NaN</td>\n",
       "      <td>NaN</td>\n",
       "      <td>[visitcategory]='1'</td>\n",
       "      <td>NaN</td>\n",
       "      <td>NaN</td>\n",
       "      <td>NaN</td>\n",
       "    </tr>\n",
       "  </tbody>\n",
       "</table>\n",
       "</div>"
      ],
      "text/plain": [
       "                                    Form Name Section Header Field Type  \\\n",
       "Variable / Field Name                                                     \n",
       "noconsent                  registration_visit            NaN      radio   \n",
       "gender                     registration_visit            NaN      radio   \n",
       "race                       registration_visit            NaN      radio   \n",
       "visitcategory          baseline_and_follow_up            NaN      radio   \n",
       "visittype              baseline_and_follow_up            NaN      radio   \n",
       "\n",
       "                                       Field Label  \\\n",
       "Variable / Field Name                                \n",
       "noconsent                    If no, provide reason   \n",
       "gender                                      Gender   \n",
       "race                                          Race   \n",
       "visitcategory          What type of visit is this?   \n",
       "visittype                          BV4. Visit Type   \n",
       "\n",
       "                                 Choices, Calculations, OR Slider Labels  \\\n",
       "Variable / Field Name                                                      \n",
       "noconsent              1, Not interested in Research Studies | 2, Pri...   \n",
       "gender                               0, Female | 1, Male | 99, Undefined   \n",
       "race                   1, White or Caucasian | 2, Black or African Am...   \n",
       "visitcategory                     1, Baseline Visit | 2, Follow Up Visit   \n",
       "visittype              1, Baseline Visit, within 3 months of initial ...   \n",
       "\n",
       "                                                              Field Note  \\\n",
       "Variable / Field Name                                                      \n",
       "noconsent                                                            NaN   \n",
       "gender                                                               NaN   \n",
       "race                   Put other for anything not listed here (Middle...   \n",
       "visitcategory          Please make sure this matches the event name a...   \n",
       "visittype                                                            NaN   \n",
       "\n",
       "                      Text Validation Type OR Show Slider Number  \\\n",
       "Variable / Field Name                                              \n",
       "noconsent                                                    NaN   \n",
       "gender                                                       NaN   \n",
       "race                                                         NaN   \n",
       "visitcategory                                                NaN   \n",
       "visittype                                                    NaN   \n",
       "\n",
       "                      Text Validation Min Text Validation Max Identifier?  \\\n",
       "Variable / Field Name                                                       \n",
       "noconsent                             NaN                 NaN         NaN   \n",
       "gender                                NaN                 NaN         NaN   \n",
       "race                                  NaN                 NaN         NaN   \n",
       "visitcategory                         NaN                 NaN         NaN   \n",
       "visittype                             NaN                 NaN         NaN   \n",
       "\n",
       "                                 Branching Logic (Show field only if...)  \\\n",
       "Variable / Field Name                                                      \n",
       "noconsent                                                [consent] = \"0\"   \n",
       "gender                                                               NaN   \n",
       "race                                                                 NaN   \n",
       "visitcategory          [registration_visit_arm_1][ibddiag] = '1' and ...   \n",
       "visittype                                            [visitcategory]='1'   \n",
       "\n",
       "                      Required Field? Custom Alignment Matrix Group Name  \n",
       "Variable / Field Name                                                     \n",
       "noconsent                         NaN              NaN               NaN  \n",
       "gender                            NaN              NaN               NaN  \n",
       "race                              NaN              NaN               NaN  \n",
       "visitcategory                       y              NaN               NaN  \n",
       "visittype                         NaN              NaN               NaN  "
      ]
     },
     "execution_count": 15,
     "metadata": {},
     "output_type": "execute_result"
    }
   ],
   "source": [
    "cb[cb['Field Type'] == 'radio'].head()"
   ]
  },
  {
   "cell_type": "code",
   "execution_count": 16,
   "metadata": {
    "collapsed": false,
    "scrolled": false
   },
   "outputs": [
    {
     "data": {
      "text/html": [
       "<div>\n",
       "<table border=\"1\" class=\"dataframe\">\n",
       "  <thead>\n",
       "    <tr style=\"text-align: right;\">\n",
       "      <th></th>\n",
       "      <th>Form Name</th>\n",
       "      <th>Section Header</th>\n",
       "      <th>Field Type</th>\n",
       "      <th>Field Label</th>\n",
       "      <th>Choices, Calculations, OR Slider Labels</th>\n",
       "      <th>Field Note</th>\n",
       "      <th>Text Validation Type OR Show Slider Number</th>\n",
       "      <th>Text Validation Min</th>\n",
       "      <th>Text Validation Max</th>\n",
       "      <th>Identifier?</th>\n",
       "      <th>Branching Logic (Show field only if...)</th>\n",
       "      <th>Required Field?</th>\n",
       "      <th>Custom Alignment</th>\n",
       "      <th>Matrix Group Name</th>\n",
       "    </tr>\n",
       "    <tr>\n",
       "      <th>Variable / Field Name</th>\n",
       "      <th></th>\n",
       "      <th></th>\n",
       "      <th></th>\n",
       "      <th></th>\n",
       "      <th></th>\n",
       "      <th></th>\n",
       "      <th></th>\n",
       "      <th></th>\n",
       "      <th></th>\n",
       "      <th></th>\n",
       "      <th></th>\n",
       "      <th></th>\n",
       "      <th></th>\n",
       "      <th></th>\n",
       "    </tr>\n",
       "  </thead>\n",
       "  <tbody>\n",
       "    <tr>\n",
       "      <th>prior_protocol_number</th>\n",
       "      <td>registration_visit</td>\n",
       "      <td>NaN</td>\n",
       "      <td>checkbox</td>\n",
       "      <td>If Yes, what other studies?**</td>\n",
       "      <td>5, Biorepository (P00000529) | 1, CHIMP (X06-1...</td>\n",
       "      <td>NaN</td>\n",
       "      <td>NaN</td>\n",
       "      <td>NaN</td>\n",
       "      <td>NaN</td>\n",
       "      <td>NaN</td>\n",
       "      <td>[otherstudies] = '1'</td>\n",
       "      <td>NaN</td>\n",
       "      <td>NaN</td>\n",
       "      <td>NaN</td>\n",
       "    </tr>\n",
       "    <tr>\n",
       "      <th>sampletype</th>\n",
       "      <td>registration_visit</td>\n",
       "      <td>NaN</td>\n",
       "      <td>checkbox</td>\n",
       "      <td>What samples has the patient given?**</td>\n",
       "      <td>1, Blood | 3, Fecal | 4, GI Biopsy | 5, Oral s...</td>\n",
       "      <td>NaN</td>\n",
       "      <td>NaN</td>\n",
       "      <td>NaN</td>\n",
       "      <td>NaN</td>\n",
       "      <td>NaN</td>\n",
       "      <td>[prior_protocol_number(5)] = '1' or [prior_pro...</td>\n",
       "      <td>NaN</td>\n",
       "      <td>NaN</td>\n",
       "      <td>NaN</td>\n",
       "    </tr>\n",
       "    <tr>\n",
       "      <th>historyfrom</th>\n",
       "      <td>baseline_and_follow_up</td>\n",
       "      <td>NaN</td>\n",
       "      <td>checkbox</td>\n",
       "      <td>BV10. History obtained from (choose all that a...</td>\n",
       "      <td>1, Patient | 2, Parent or guardian | 3, Chart ...</td>\n",
       "      <td>NaN</td>\n",
       "      <td>NaN</td>\n",
       "      <td>NaN</td>\n",
       "      <td>NaN</td>\n",
       "      <td>NaN</td>\n",
       "      <td>[visitcategory]='1'</td>\n",
       "      <td>NaN</td>\n",
       "      <td>LH</td>\n",
       "      <td>NaN</td>\n",
       "    </tr>\n",
       "    <tr>\n",
       "      <th>historyfrom2</th>\n",
       "      <td>baseline_and_follow_up</td>\n",
       "      <td>NaN</td>\n",
       "      <td>checkbox</td>\n",
       "      <td>FV11. History obtained from:</td>\n",
       "      <td>1, Patient | 2, Parent or guardian | 3, Chart ...</td>\n",
       "      <td>NaN</td>\n",
       "      <td>NaN</td>\n",
       "      <td>NaN</td>\n",
       "      <td>NaN</td>\n",
       "      <td>NaN</td>\n",
       "      <td>[visitcategory]='2'</td>\n",
       "      <td>NaN</td>\n",
       "      <td>LH</td>\n",
       "      <td>NaN</td>\n",
       "    </tr>\n",
       "    <tr>\n",
       "      <th>jewanctype</th>\n",
       "      <td>baseline_and_follow_up</td>\n",
       "      <td>NaN</td>\n",
       "      <td>checkbox</td>\n",
       "      <td>If yes, indicate Jewish ancestry subtype (choo...</td>\n",
       "      <td>1, Sephardic | 2, Ashkenazi | 3, Unknown</td>\n",
       "      <td>NaN</td>\n",
       "      <td>NaN</td>\n",
       "      <td>NaN</td>\n",
       "      <td>NaN</td>\n",
       "      <td>NaN</td>\n",
       "      <td>[jeworigin]=\"1\" or [jeworiginnew]=\"1\"</td>\n",
       "      <td>NaN</td>\n",
       "      <td>LH</td>\n",
       "      <td>NaN</td>\n",
       "    </tr>\n",
       "  </tbody>\n",
       "</table>\n",
       "</div>"
      ],
      "text/plain": [
       "                                    Form Name Section Header Field Type  \\\n",
       "Variable / Field Name                                                     \n",
       "prior_protocol_number      registration_visit            NaN   checkbox   \n",
       "sampletype                 registration_visit            NaN   checkbox   \n",
       "historyfrom            baseline_and_follow_up            NaN   checkbox   \n",
       "historyfrom2           baseline_and_follow_up            NaN   checkbox   \n",
       "jewanctype             baseline_and_follow_up            NaN   checkbox   \n",
       "\n",
       "                                                             Field Label  \\\n",
       "Variable / Field Name                                                      \n",
       "prior_protocol_number                      If Yes, what other studies?**   \n",
       "sampletype                         What samples has the patient given?**   \n",
       "historyfrom            BV10. History obtained from (choose all that a...   \n",
       "historyfrom2                                FV11. History obtained from:   \n",
       "jewanctype             If yes, indicate Jewish ancestry subtype (choo...   \n",
       "\n",
       "                                 Choices, Calculations, OR Slider Labels  \\\n",
       "Variable / Field Name                                                      \n",
       "prior_protocol_number  5, Biorepository (P00000529) | 1, CHIMP (X06-1...   \n",
       "sampletype             1, Blood | 3, Fecal | 4, GI Biopsy | 5, Oral s...   \n",
       "historyfrom            1, Patient | 2, Parent or guardian | 3, Chart ...   \n",
       "historyfrom2           1, Patient | 2, Parent or guardian | 3, Chart ...   \n",
       "jewanctype                      1, Sephardic | 2, Ashkenazi | 3, Unknown   \n",
       "\n",
       "                      Field Note Text Validation Type OR Show Slider Number  \\\n",
       "Variable / Field Name                                                         \n",
       "prior_protocol_number        NaN                                        NaN   \n",
       "sampletype                   NaN                                        NaN   \n",
       "historyfrom                  NaN                                        NaN   \n",
       "historyfrom2                 NaN                                        NaN   \n",
       "jewanctype                   NaN                                        NaN   \n",
       "\n",
       "                      Text Validation Min Text Validation Max Identifier?  \\\n",
       "Variable / Field Name                                                       \n",
       "prior_protocol_number                 NaN                 NaN         NaN   \n",
       "sampletype                            NaN                 NaN         NaN   \n",
       "historyfrom                           NaN                 NaN         NaN   \n",
       "historyfrom2                          NaN                 NaN         NaN   \n",
       "jewanctype                            NaN                 NaN         NaN   \n",
       "\n",
       "                                 Branching Logic (Show field only if...)  \\\n",
       "Variable / Field Name                                                      \n",
       "prior_protocol_number                               [otherstudies] = '1'   \n",
       "sampletype             [prior_protocol_number(5)] = '1' or [prior_pro...   \n",
       "historyfrom                                          [visitcategory]='1'   \n",
       "historyfrom2                                         [visitcategory]='2'   \n",
       "jewanctype                         [jeworigin]=\"1\" or [jeworiginnew]=\"1\"   \n",
       "\n",
       "                      Required Field? Custom Alignment Matrix Group Name  \n",
       "Variable / Field Name                                                     \n",
       "prior_protocol_number             NaN              NaN               NaN  \n",
       "sampletype                        NaN              NaN               NaN  \n",
       "historyfrom                       NaN               LH               NaN  \n",
       "historyfrom2                      NaN               LH               NaN  \n",
       "jewanctype                        NaN               LH               NaN  "
      ]
     },
     "execution_count": 16,
     "metadata": {},
     "output_type": "execute_result"
    }
   ],
   "source": [
    "cb[cb['Field Type'] == 'checkbox'].head()"
   ]
  },
  {
   "cell_type": "markdown",
   "metadata": {},
   "source": [
    "### Data"
   ]
  },
  {
   "cell_type": "code",
   "execution_count": 17,
   "metadata": {
    "collapsed": false
   },
   "outputs": [
    {
     "data": {
      "text/html": [
       "<div>\n",
       "<table border=\"1\" class=\"dataframe\">\n",
       "  <thead>\n",
       "    <tr style=\"text-align: right;\">\n",
       "      <th></th>\n",
       "      <th></th>\n",
       "      <th>visitdate</th>\n",
       "      <th>consent</th>\n",
       "      <th>noconsent</th>\n",
       "      <th>noconsentoth</th>\n",
       "      <th>veoibd</th>\n",
       "      <th>otherstudies</th>\n",
       "      <th>prior_protocol_number___5</th>\n",
       "      <th>prior_protocol_number___1</th>\n",
       "      <th>prior_protocol_number___2</th>\n",
       "      <th>prior_protocol_number___3</th>\n",
       "      <th>...</th>\n",
       "      <th>hosp_k</th>\n",
       "      <th>hosptype_k</th>\n",
       "      <th>hospibdtype_k</th>\n",
       "      <th>hosp_l</th>\n",
       "      <th>hosptype_l</th>\n",
       "      <th>hospibdtype_l</th>\n",
       "      <th>hosp_m</th>\n",
       "      <th>hosptype_m</th>\n",
       "      <th>hospibdtype_m</th>\n",
       "      <th>hospitalizations_complete</th>\n",
       "    </tr>\n",
       "    <tr>\n",
       "      <th>subid</th>\n",
       "      <th>redcap_event_name</th>\n",
       "      <th></th>\n",
       "      <th></th>\n",
       "      <th></th>\n",
       "      <th></th>\n",
       "      <th></th>\n",
       "      <th></th>\n",
       "      <th></th>\n",
       "      <th></th>\n",
       "      <th></th>\n",
       "      <th></th>\n",
       "      <th></th>\n",
       "      <th></th>\n",
       "      <th></th>\n",
       "      <th></th>\n",
       "      <th></th>\n",
       "      <th></th>\n",
       "      <th></th>\n",
       "      <th></th>\n",
       "      <th></th>\n",
       "      <th></th>\n",
       "      <th></th>\n",
       "    </tr>\n",
       "  </thead>\n",
       "  <tbody>\n",
       "    <tr>\n",
       "      <th rowspan=\"4\" valign=\"top\">1</th>\n",
       "      <th>baseline_visit_arm_1</th>\n",
       "      <td>NaT</td>\n",
       "      <td>NaN</td>\n",
       "      <td>NaN</td>\n",
       "      <td>NaN</td>\n",
       "      <td>NaN</td>\n",
       "      <td>NaN</td>\n",
       "      <td>NaN</td>\n",
       "      <td>NaN</td>\n",
       "      <td>NaN</td>\n",
       "      <td>NaN</td>\n",
       "      <td>...</td>\n",
       "      <td>NaN</td>\n",
       "      <td>NaN</td>\n",
       "      <td>NaN</td>\n",
       "      <td>NaN</td>\n",
       "      <td>NaN</td>\n",
       "      <td>NaN</td>\n",
       "      <td>NaN</td>\n",
       "      <td>NaN</td>\n",
       "      <td>NaN</td>\n",
       "      <td>NaN</td>\n",
       "    </tr>\n",
       "    <tr>\n",
       "      <th>followup_visit_1_arm_1</th>\n",
       "      <td>NaT</td>\n",
       "      <td>NaN</td>\n",
       "      <td>NaN</td>\n",
       "      <td>NaN</td>\n",
       "      <td>NaN</td>\n",
       "      <td>NaN</td>\n",
       "      <td>NaN</td>\n",
       "      <td>NaN</td>\n",
       "      <td>NaN</td>\n",
       "      <td>NaN</td>\n",
       "      <td>...</td>\n",
       "      <td>NaN</td>\n",
       "      <td>NaN</td>\n",
       "      <td>NaN</td>\n",
       "      <td>NaN</td>\n",
       "      <td>NaN</td>\n",
       "      <td>NaN</td>\n",
       "      <td>NaN</td>\n",
       "      <td>NaN</td>\n",
       "      <td>NaN</td>\n",
       "      <td>NaN</td>\n",
       "    </tr>\n",
       "    <tr>\n",
       "      <th>followup_visit_2_arm_1</th>\n",
       "      <td>NaT</td>\n",
       "      <td>NaN</td>\n",
       "      <td>NaN</td>\n",
       "      <td>NaN</td>\n",
       "      <td>NaN</td>\n",
       "      <td>NaN</td>\n",
       "      <td>NaN</td>\n",
       "      <td>NaN</td>\n",
       "      <td>NaN</td>\n",
       "      <td>NaN</td>\n",
       "      <td>...</td>\n",
       "      <td>NaN</td>\n",
       "      <td>NaN</td>\n",
       "      <td>NaN</td>\n",
       "      <td>NaN</td>\n",
       "      <td>NaN</td>\n",
       "      <td>NaN</td>\n",
       "      <td>NaN</td>\n",
       "      <td>NaN</td>\n",
       "      <td>NaN</td>\n",
       "      <td>NaN</td>\n",
       "    </tr>\n",
       "    <tr>\n",
       "      <th>registration_visit_arm_1</th>\n",
       "      <td>2011-05-24 00:00:00+00:00</td>\n",
       "      <td>1.0</td>\n",
       "      <td>NaN</td>\n",
       "      <td>NaN</td>\n",
       "      <td>NaN</td>\n",
       "      <td>1.0</td>\n",
       "      <td>1.0</td>\n",
       "      <td>0.0</td>\n",
       "      <td>0.0</td>\n",
       "      <td>0.0</td>\n",
       "      <td>...</td>\n",
       "      <td>NaN</td>\n",
       "      <td>NaN</td>\n",
       "      <td>NaN</td>\n",
       "      <td>NaN</td>\n",
       "      <td>NaN</td>\n",
       "      <td>NaN</td>\n",
       "      <td>NaN</td>\n",
       "      <td>NaN</td>\n",
       "      <td>NaN</td>\n",
       "      <td>NaN</td>\n",
       "    </tr>\n",
       "    <tr>\n",
       "      <th>10</th>\n",
       "      <th>baseline_visit_arm_1</th>\n",
       "      <td>NaT</td>\n",
       "      <td>NaN</td>\n",
       "      <td>NaN</td>\n",
       "      <td>NaN</td>\n",
       "      <td>NaN</td>\n",
       "      <td>NaN</td>\n",
       "      <td>NaN</td>\n",
       "      <td>NaN</td>\n",
       "      <td>NaN</td>\n",
       "      <td>NaN</td>\n",
       "      <td>...</td>\n",
       "      <td>NaN</td>\n",
       "      <td>NaN</td>\n",
       "      <td>NaN</td>\n",
       "      <td>NaN</td>\n",
       "      <td>NaN</td>\n",
       "      <td>NaN</td>\n",
       "      <td>NaN</td>\n",
       "      <td>NaN</td>\n",
       "      <td>NaN</td>\n",
       "      <td>NaN</td>\n",
       "    </tr>\n",
       "  </tbody>\n",
       "</table>\n",
       "<p>5 rows × 690 columns</p>\n",
       "</div>"
      ],
      "text/plain": [
       "                                               visitdate consent noconsent  \\\n",
       "subid redcap_event_name                                                      \n",
       "1     baseline_visit_arm_1                           NaT     NaN       NaN   \n",
       "      followup_visit_1_arm_1                         NaT     NaN       NaN   \n",
       "      followup_visit_2_arm_1                         NaT     NaN       NaN   \n",
       "      registration_visit_arm_1 2011-05-24 00:00:00+00:00     1.0       NaN   \n",
       "10    baseline_visit_arm_1                           NaT     NaN       NaN   \n",
       "\n",
       "                               noconsentoth veoibd otherstudies  \\\n",
       "subid redcap_event_name                                           \n",
       "1     baseline_visit_arm_1              NaN    NaN          NaN   \n",
       "      followup_visit_1_arm_1            NaN    NaN          NaN   \n",
       "      followup_visit_2_arm_1            NaN    NaN          NaN   \n",
       "      registration_visit_arm_1          NaN    NaN          1.0   \n",
       "10    baseline_visit_arm_1              NaN    NaN          NaN   \n",
       "\n",
       "                               prior_protocol_number___5  \\\n",
       "subid redcap_event_name                                    \n",
       "1     baseline_visit_arm_1                           NaN   \n",
       "      followup_visit_1_arm_1                         NaN   \n",
       "      followup_visit_2_arm_1                         NaN   \n",
       "      registration_visit_arm_1                       1.0   \n",
       "10    baseline_visit_arm_1                           NaN   \n",
       "\n",
       "                               prior_protocol_number___1  \\\n",
       "subid redcap_event_name                                    \n",
       "1     baseline_visit_arm_1                           NaN   \n",
       "      followup_visit_1_arm_1                         NaN   \n",
       "      followup_visit_2_arm_1                         NaN   \n",
       "      registration_visit_arm_1                       0.0   \n",
       "10    baseline_visit_arm_1                           NaN   \n",
       "\n",
       "                               prior_protocol_number___2  \\\n",
       "subid redcap_event_name                                    \n",
       "1     baseline_visit_arm_1                           NaN   \n",
       "      followup_visit_1_arm_1                         NaN   \n",
       "      followup_visit_2_arm_1                         NaN   \n",
       "      registration_visit_arm_1                       0.0   \n",
       "10    baseline_visit_arm_1                           NaN   \n",
       "\n",
       "                               prior_protocol_number___3  \\\n",
       "subid redcap_event_name                                    \n",
       "1     baseline_visit_arm_1                           NaN   \n",
       "      followup_visit_1_arm_1                         NaN   \n",
       "      followup_visit_2_arm_1                         NaN   \n",
       "      registration_visit_arm_1                       0.0   \n",
       "10    baseline_visit_arm_1                           NaN   \n",
       "\n",
       "                                          ...            hosp_k hosptype_k  \\\n",
       "subid redcap_event_name                   ...                                \n",
       "1     baseline_visit_arm_1                ...               NaN        NaN   \n",
       "      followup_visit_1_arm_1              ...               NaN        NaN   \n",
       "      followup_visit_2_arm_1              ...               NaN        NaN   \n",
       "      registration_visit_arm_1            ...               NaN        NaN   \n",
       "10    baseline_visit_arm_1                ...               NaN        NaN   \n",
       "\n",
       "                               hospibdtype_k hosp_l hosptype_l hospibdtype_l  \\\n",
       "subid redcap_event_name                                                        \n",
       "1     baseline_visit_arm_1               NaN    NaN        NaN           NaN   \n",
       "      followup_visit_1_arm_1             NaN    NaN        NaN           NaN   \n",
       "      followup_visit_2_arm_1             NaN    NaN        NaN           NaN   \n",
       "      registration_visit_arm_1           NaN    NaN        NaN           NaN   \n",
       "10    baseline_visit_arm_1               NaN    NaN        NaN           NaN   \n",
       "\n",
       "                               hosp_m hosptype_m hospibdtype_m  \\\n",
       "subid redcap_event_name                                          \n",
       "1     baseline_visit_arm_1        NaN        NaN           NaN   \n",
       "      followup_visit_1_arm_1      NaN        NaN           NaN   \n",
       "      followup_visit_2_arm_1      NaN        NaN           NaN   \n",
       "      registration_visit_arm_1    NaN        NaN           NaN   \n",
       "10    baseline_visit_arm_1        NaN        NaN           NaN   \n",
       "\n",
       "                               hospitalizations_complete  \n",
       "subid redcap_event_name                                   \n",
       "1     baseline_visit_arm_1                           NaN  \n",
       "      followup_visit_1_arm_1                         NaN  \n",
       "      followup_visit_2_arm_1                         NaN  \n",
       "      registration_visit_arm_1                       NaN  \n",
       "10    baseline_visit_arm_1                           NaN  \n",
       "\n",
       "[5 rows x 690 columns]"
      ]
     },
     "execution_count": 17,
     "metadata": {},
     "output_type": "execute_result"
    }
   ],
   "source": [
    "d = loading.load_redcap_dump(data_=data_, data_dict=cb)\n",
    "d.head()"
   ]
  },
  {
   "cell_type": "code",
   "execution_count": 20,
   "metadata": {
    "collapsed": false
   },
   "outputs": [],
   "source": [
    "choices = cb[cb['Choices, Calculations, OR Slider Labels'].notnull()]['Choices, Calculations, OR Slider Labels']"
   ]
  },
  {
   "cell_type": "code",
   "execution_count": 25,
   "metadata": {
    "collapsed": false
   },
   "outputs": [
    {
     "data": {
      "text/plain": [
       "['1, Not interested in Research Studies ',\n",
       " ' 2, Privacy Concerns ',\n",
       " ' 3, Time Commitment ',\n",
       " ' 4, Other, specify']"
      ]
     },
     "execution_count": 25,
     "metadata": {},
     "output_type": "execute_result"
    }
   ],
   "source": [
    "choices.noconsent.split('|')"
   ]
  },
  {
   "cell_type": "code",
   "execution_count": 22,
   "metadata": {
    "collapsed": false
   },
   "outputs": [
    {
     "data": {
      "text/plain": [
       "(391, 14)"
      ]
     },
     "execution_count": 22,
     "metadata": {},
     "output_type": "execute_result"
    }
   ],
   "source": [
    "cb.shape"
   ]
  },
  {
   "cell_type": "code",
   "execution_count": 68,
   "metadata": {
    "collapsed": false
   },
   "outputs": [
    {
     "data": {
      "text/plain": [
       "'1, Not interested in Research Studies | 2, Privacy Concerns | 3, Time Commitment | 4, Other, specify'"
      ]
     },
     "execution_count": 68,
     "metadata": {},
     "output_type": "execute_result"
    }
   ],
   "source": [
    "choices.noconsent"
   ]
  },
  {
   "cell_type": "code",
   "execution_count": 94,
   "metadata": {
    "collapsed": false
   },
   "outputs": [
    {
     "data": {
      "text/plain": [
       "[['1', 'Not interested in Research Studies'],\n",
       " ['2', 'Privacy Concerns'],\n",
       " ['3', 'Time Commitment'],\n",
       " ['4', 'Other, specify']]"
      ]
     },
     "execution_count": 94,
     "metadata": {},
     "output_type": "execute_result"
    }
   ],
   "source": [
    "cparser = build_choices_parser()\n",
    "parsed_choices = cparser.parseString(choices.noconsent).asList()\n",
    "parsed_choices"
   ]
  },
  {
   "cell_type": "code",
   "execution_count": 95,
   "metadata": {
    "collapsed": false
   },
   "outputs": [
    {
     "data": {
      "text/plain": [
       "{'1': 'Not interested in Research Studies',\n",
       " '2': 'Privacy Concerns',\n",
       " '3': 'Time Commitment',\n",
       " '4': 'Other, specify'}"
      ]
     },
     "execution_count": 95,
     "metadata": {},
     "output_type": "execute_result"
    }
   ],
   "source": [
    "{i:s for i,s in parsed_choices}"
   ]
  },
  {
   "cell_type": "code",
   "execution_count": 121,
   "metadata": {
    "collapsed": false
   },
   "outputs": [],
   "source": [
    "choice_maps = loading.make_choice_maps(data_dict=cb)"
   ]
  },
  {
   "cell_type": "code",
   "execution_count": 124,
   "metadata": {
    "collapsed": false
   },
   "outputs": [
    {
     "data": {
      "text/plain": [
       "'No'"
      ]
     },
     "execution_count": 124,
     "metadata": {},
     "output_type": "execute_result"
    }
   ],
   "source": [
    "choice_maps.abcessess['0']"
   ]
  },
  {
   "cell_type": "markdown",
   "metadata": {
    "collapsed": false,
    "scrolled": false
   },
   "source": [
    "# Subject"
   ]
  },
  {
   "cell_type": "markdown",
   "metadata": {},
   "source": [
    "# Convert to HTML report and move to reports folder"
   ]
  },
  {
   "cell_type": "code",
   "execution_count": null,
   "metadata": {
    "collapsed": false
   },
   "outputs": [],
   "source": [
    "# rv.reprt_dir"
   ]
  },
  {
   "cell_type": "code",
   "execution_count": null,
   "metadata": {
    "collapsed": false
   },
   "outputs": [],
   "source": [
    "# !jupyter nbconvert --to html_toc $rv.ipnb"
   ]
  },
  {
   "cell_type": "code",
   "execution_count": null,
   "metadata": {
    "collapsed": false
   },
   "outputs": [],
   "source": [
    "# !mkdir -p $rv.reprt_dir\n",
    "## !mv -f $rv.html $rv.files $rv.reprt_dir"
   ]
  },
  {
   "cell_type": "code",
   "execution_count": null,
   "metadata": {
    "collapsed": true
   },
   "outputs": [],
   "source": []
  }
 ],
 "metadata": {
  "anaconda-cloud": {},
  "hide_input": false,
  "kernelspec": {
   "display_name": "biorepo",
   "language": "python",
   "name": "biorepo"
  },
  "language_info": {
   "codemirror_mode": {
    "name": "ipython",
    "version": 3
   },
   "file_extension": ".py",
   "mimetype": "text/x-python",
   "name": "python",
   "nbconvert_exporter": "python",
   "pygments_lexer": "ipython3",
   "version": "3.5.2"
  },
  "toc": {
   "colors": {
    "hover_highlight": "#DAA520",
    "running_highlight": "#FF0000",
    "selected_highlight": "#FFD700"
   },
   "moveMenuLeft": false,
   "navigate_menu": false,
   "number_sections": true,
   "sideBar": true,
   "threshold": 4,
   "toc_cell": false,
   "toc_number_sections": true,
   "toc_position": {
    "height": "708px",
    "left": "0px",
    "right": "20px",
    "top": "45.4px",
    "width": "374px"
   },
   "toc_section_display": "block",
   "toc_threshold": 6,
   "toc_window_display": true
  },
  "toc_position": {
   "height": "946px",
   "left": "4.1375px",
   "right": "20px",
   "top": "106px",
   "width": "345px"
  }
 },
 "nbformat": 4,
 "nbformat_minor": 0
}
