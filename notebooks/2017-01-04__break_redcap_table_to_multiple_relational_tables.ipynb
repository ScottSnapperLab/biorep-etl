{
 "cells": [
  {
   "cell_type": "markdown",
   "metadata": {},
   "source": [
    "# Set up\n"
   ]
  },
  {
   "cell_type": "markdown",
   "metadata": {},
   "source": [
    "## Imports"
   ]
  },
  {
   "cell_type": "code",
   "execution_count": 1,
   "metadata": {
    "collapsed": false
   },
   "outputs": [],
   "source": [
    "%matplotlib inline"
   ]
  },
  {
   "cell_type": "code",
   "execution_count": 2,
   "metadata": {
    "collapsed": true
   },
   "outputs": [],
   "source": [
    "import sys\n",
    "import os\n",
    "from pathlib import Path\n",
    "import math"
   ]
  },
  {
   "cell_type": "code",
   "execution_count": 3,
   "metadata": {
    "collapsed": false
   },
   "outputs": [],
   "source": [
    "import matplotlib.pyplot as plt\n",
    "import seaborn as sns\n",
    "sns.set_context(context=\"talk\", font_scale=1, rc=None)\n",
    "sns.set_style('whitegrid')"
   ]
  },
  {
   "cell_type": "code",
   "execution_count": 4,
   "metadata": {
    "collapsed": false
   },
   "outputs": [],
   "source": [
    "# Load the \"autoreload\" extension\n",
    "%load_ext autoreload\n",
    "%autoreload 2"
   ]
  },
  {
   "cell_type": "code",
   "execution_count": 5,
   "metadata": {
    "collapsed": true
   },
   "outputs": [],
   "source": [
    "import pandas as pd\n",
    "from pandas import IndexSlice as idx\n",
    "import numpy as np\n",
    "\n",
    "from collections import OrderedDict\n",
    "\n",
    "from munch import Munch\n",
    "from tqdm import tqdm"
   ]
  },
  {
   "cell_type": "code",
   "execution_count": 30,
   "metadata": {
    "collapsed": true
   },
   "outputs": [],
   "source": [
    "import engarde.decorators as ed"
   ]
  },
  {
   "cell_type": "code",
   "execution_count": 6,
   "metadata": {
    "collapsed": true
   },
   "outputs": [],
   "source": [
    "# import crunchers.sklearn_helpers.exploration as expl\n",
    "# import crunchers.statsmodels_helpers.lazy_stats as stats\n",
    "# import crunchers.pandas_helpers.transformations as xform"
   ]
  },
  {
   "cell_type": "code",
   "execution_count": 40,
   "metadata": {
    "collapsed": false
   },
   "outputs": [],
   "source": [
    "import biorep_etl.data.load_recode as loading\n",
    "import biorep_etl.data.field_definitions.redcap_dump as rcd"
   ]
  },
  {
   "cell_type": "markdown",
   "metadata": {},
   "source": [
    "## Constants"
   ]
  },
  {
   "cell_type": "markdown",
   "metadata": {},
   "source": [
    "### Get info for converting/moving this file to `reports`"
   ]
  },
  {
   "cell_type": "code",
   "execution_count": 8,
   "metadata": {
    "collapsed": false
   },
   "outputs": [],
   "source": [
    "# %%javascript\n",
    "# var kernel = IPython.notebook.kernel;\n",
    "# var thename = window.document.getElementById(\"notebook_name\").innerHTML;\n",
    "# var command = \"IPYNB_NAME = \" + \"'\"+thename+\"'\";\n",
    "# kernel.execute(command);"
   ]
  },
  {
   "cell_type": "code",
   "execution_count": 9,
   "metadata": {
    "collapsed": false
   },
   "outputs": [],
   "source": [
    "# rv = Munch()\n",
    "\n",
    "# rv.rep_id = 'yyy-mm-dd'\n",
    "# rv.desc = 'blank'\n",
    "# rv.ipnb = Path('{IPYNB_NAME}.ipynb'.format(IPYNB_NAME=IPYNB_NAME))\n",
    "# rv.html = '{ipnb}.html'.format(ipnb=rv.ipnb.stem)\n",
    "# rv.files = '{ipnb}_files'.format(ipnb=rv.ipnb.stem)\n",
    "# rv.reprt_dir = '../../reports/{IPYNB_NAME}/'.format(IPYNB_NAME=IPYNB_NAME)"
   ]
  },
  {
   "cell_type": "markdown",
   "metadata": {},
   "source": [
    "### Other Constants"
   ]
  },
  {
   "cell_type": "code",
   "execution_count": null,
   "metadata": {
    "collapsed": true
   },
   "outputs": [],
   "source": []
  },
  {
   "cell_type": "markdown",
   "metadata": {},
   "source": [
    "## Paths"
   ]
  },
  {
   "cell_type": "code",
   "execution_count": 10,
   "metadata": {
    "collapsed": true
   },
   "outputs": [],
   "source": [
    "data_ = \"../data/raw/SnapperGIBioreposito_DATA_2016-12-22_1633.csv\"\n",
    "data_dict_ = \"../data/raw/SnapperGIBiorepository_DataDictionary_2016-12-06.csv\""
   ]
  },
  {
   "cell_type": "markdown",
   "metadata": {},
   "source": [
    "## Functions"
   ]
  },
  {
   "cell_type": "code",
   "execution_count": null,
   "metadata": {
    "collapsed": true
   },
   "outputs": [],
   "source": []
  },
  {
   "cell_type": "markdown",
   "metadata": {},
   "source": [
    "## Loading"
   ]
  },
  {
   "cell_type": "code",
   "execution_count": 85,
   "metadata": {
    "collapsed": false
   },
   "outputs": [
    {
     "data": {
      "text/html": [
       "<div>\n",
       "<table border=\"1\" class=\"dataframe\">\n",
       "  <thead>\n",
       "    <tr style=\"text-align: right;\">\n",
       "      <th></th>\n",
       "      <th>Form Name</th>\n",
       "      <th>Section Header</th>\n",
       "      <th>Field Type</th>\n",
       "      <th>Field Label</th>\n",
       "      <th>Choices, Calculations, OR Slider Labels</th>\n",
       "      <th>Field Note</th>\n",
       "      <th>Text Validation Type OR Show Slider Number</th>\n",
       "      <th>Text Validation Min</th>\n",
       "      <th>Text Validation Max</th>\n",
       "      <th>Identifier?</th>\n",
       "      <th>Branching Logic (Show field only if...)</th>\n",
       "      <th>Required Field?</th>\n",
       "      <th>Custom Alignment</th>\n",
       "      <th>Question Number (surveys only)</th>\n",
       "      <th>Matrix Group Name</th>\n",
       "      <th>Matrix Ranking?</th>\n",
       "      <th>Field Annotation</th>\n",
       "    </tr>\n",
       "    <tr>\n",
       "      <th>Variable / Field Name</th>\n",
       "      <th></th>\n",
       "      <th></th>\n",
       "      <th></th>\n",
       "      <th></th>\n",
       "      <th></th>\n",
       "      <th></th>\n",
       "      <th></th>\n",
       "      <th></th>\n",
       "      <th></th>\n",
       "      <th></th>\n",
       "      <th></th>\n",
       "      <th></th>\n",
       "      <th></th>\n",
       "      <th></th>\n",
       "      <th></th>\n",
       "      <th></th>\n",
       "      <th></th>\n",
       "    </tr>\n",
       "  </thead>\n",
       "  <tbody>\n",
       "    <tr>\n",
       "      <th>record_id</th>\n",
       "      <td>ibd_biorepository_sample_database</td>\n",
       "      <td>NaN</td>\n",
       "      <td>text</td>\n",
       "      <td>Record ID</td>\n",
       "      <td>NaN</td>\n",
       "      <td>NaN</td>\n",
       "      <td>NaN</td>\n",
       "      <td>NaN</td>\n",
       "      <td>NaN</td>\n",
       "      <td>NaN</td>\n",
       "      <td>NaN</td>\n",
       "      <td>NaN</td>\n",
       "      <td>NaN</td>\n",
       "      <td>NaN</td>\n",
       "      <td>NaN</td>\n",
       "      <td>NaN</td>\n",
       "      <td>NaN</td>\n",
       "    </tr>\n",
       "    <tr>\n",
       "      <th>samplenumber</th>\n",
       "      <td>ibd_biorepository_sample_database</td>\n",
       "      <td>NaN</td>\n",
       "      <td>text</td>\n",
       "      <td>Sample number (unique)</td>\n",
       "      <td>NaN</td>\n",
       "      <td>unique identifier for each individual sample</td>\n",
       "      <td>number_4dp</td>\n",
       "      <td>1010000001</td>\n",
       "      <td>99999999999</td>\n",
       "      <td>NaN</td>\n",
       "      <td>NaN</td>\n",
       "      <td>y</td>\n",
       "      <td>NaN</td>\n",
       "      <td>NaN</td>\n",
       "      <td>NaN</td>\n",
       "      <td>NaN</td>\n",
       "      <td>NaN</td>\n",
       "    </tr>\n",
       "  </tbody>\n",
       "</table>\n",
       "</div>"
      ],
      "text/plain": [
       "                                               Form Name  Section Header  \\\n",
       "Variable / Field Name                                                      \n",
       "record_id              ibd_biorepository_sample_database             NaN   \n",
       "samplenumber           ibd_biorepository_sample_database             NaN   \n",
       "\n",
       "                      Field Type             Field Label  \\\n",
       "Variable / Field Name                                      \n",
       "record_id                   text               Record ID   \n",
       "samplenumber                text  Sample number (unique)   \n",
       "\n",
       "                      Choices, Calculations, OR Slider Labels  \\\n",
       "Variable / Field Name                                           \n",
       "record_id                                                 NaN   \n",
       "samplenumber                                              NaN   \n",
       "\n",
       "                                                         Field Note  \\\n",
       "Variable / Field Name                                                 \n",
       "record_id                                                       NaN   \n",
       "samplenumber           unique identifier for each individual sample   \n",
       "\n",
       "                      Text Validation Type OR Show Slider Number  \\\n",
       "Variable / Field Name                                              \n",
       "record_id                                                    NaN   \n",
       "samplenumber                                          number_4dp   \n",
       "\n",
       "                      Text Validation Min Text Validation Max Identifier?  \\\n",
       "Variable / Field Name                                                       \n",
       "record_id                             NaN                 NaN         NaN   \n",
       "samplenumber                   1010000001         99999999999         NaN   \n",
       "\n",
       "                      Branching Logic (Show field only if...) Required Field?  \\\n",
       "Variable / Field Name                                                           \n",
       "record_id                                                 NaN             NaN   \n",
       "samplenumber                                              NaN               y   \n",
       "\n",
       "                       Custom Alignment  Question Number (surveys only)  \\\n",
       "Variable / Field Name                                                     \n",
       "record_id                           NaN                             NaN   \n",
       "samplenumber                        NaN                             NaN   \n",
       "\n",
       "                       Matrix Group Name  Matrix Ranking?  Field Annotation  \n",
       "Variable / Field Name                                                        \n",
       "record_id                            NaN              NaN               NaN  \n",
       "samplenumber                         NaN              NaN               NaN  "
      ]
     },
     "execution_count": 85,
     "metadata": {},
     "output_type": "execute_result"
    }
   ],
   "source": [
    "data_dict = loading.load_data_dict(data_dict_=data_dict_)\n",
    "data_dict.head(2)"
   ]
  },
  {
   "cell_type": "code",
   "execution_count": 147,
   "metadata": {
    "collapsed": false,
    "scrolled": true
   },
   "outputs": [
    {
     "ename": "AssertionError",
     "evalue": "((2284, 'samplenumber'), (2334, 'samplenumber'), (2350, 'samplenumber'), (2481, 'samplenumber'), (2487, 'samplenumber'), (2770, 'samplenumber'), (2244, 'label_on_sample'), (2350, 'label_on_sample'), (2481, 'label_on_sample'), (2487, 'label_on_sample'), (2212, 'mrn'), (2240, 'mrn'), (2241, 'mrn'), (2242, 'mrn'), (2244, 'mrn'), (2378, 'mrn'), (2379, 'mrn'), (2244, 'biorepidnumber'), (2250, 'biorepidnumber'), (2350, 'biorepidnumber'), (2481, 'biorepidnumber'), (2487, 'biorepidnumber'), (1, 'completed_by'), (2, 'completed_by'), (3, 'completed_by'), (4, 'completed_by'), (5, 'completed_by'), (6, 'completed_by'), (7, 'completed_by'), (8, 'completed_by'), (9, 'completed_by'), (10, 'completed_by'), (11, 'completed_by'), (12, 'completed_by'), (13, 'completed_by'), (14, 'completed_by'), (15, 'completed_by'), (16, 'completed_by'), (17, 'completed_by'), (18, 'completed_by'), (19, 'completed_by'), (20, 'completed_by'), (21, 'completed_by'), (22, 'completed_by'), (23, 'completed_by'), (24, 'completed_by'), (25, 'completed_by'), (26, 'completed_by'), (27, 'completed_by'), (28, 'completed_by'), (29, 'completed_by'), (30, 'completed_by'), (31, 'completed_by'), (32, 'completed_by'), (33, 'completed_by'), (34, 'completed_by'), (35, 'completed_by'), (36, 'completed_by'), (37, 'completed_by'), (38, 'completed_by'), (39, 'completed_by'), (40, 'completed_by'), (41, 'completed_by'), (42, 'completed_by'), (43, 'completed_by'), (44, 'completed_by'), (45, 'completed_by'), (46, 'completed_by'), (47, 'completed_by'), (48, 'completed_by'), (49, 'completed_by'), (50, 'completed_by'), (51, 'completed_by'), (52, 'completed_by'), (53, 'completed_by'), (54, 'completed_by'), (55, 'completed_by'), (56, 'completed_by'), (57, 'completed_by'), (58, 'completed_by'), (59, 'completed_by'), (60, 'completed_by'), (61, 'completed_by'), (62, 'completed_by'), (63, 'completed_by'), (64, 'completed_by'), (65, 'completed_by'), (66, 'completed_by'), (67, 'completed_by'), (68, 'completed_by'), (69, 'completed_by'), (70, 'completed_by'), (71, 'completed_by'), (72, 'completed_by'), (73, 'completed_by'), (74, 'completed_by'), (75, 'completed_by'), (76, 'completed_by'), (77, 'completed_by'), (78, 'completed_by'), (79, 'completed_by'), (80, 'completed_by'), (81, 'completed_by'), (82, 'completed_by'), (83, 'completed_by'), (84, 'completed_by'), (85, 'completed_by'), (86, 'completed_by'), (87, 'completed_by'), (88, 'completed_by'), (89, 'completed_by'), (90, 'completed_by'), (91, 'completed_by'), (92, 'completed_by'), (93, 'completed_by'), (94, 'completed_by'), (95, 'completed_by'), (96, 'completed_by'), (97, 'completed_by'), (98, 'completed_by'), (99, 'completed_by'), (100, 'completed_by'), (101, 'completed_by'), (102, 'completed_by'), (103, 'completed_by'), (104, 'completed_by'), (105, 'completed_by'), (106, 'completed_by'), (107, 'completed_by'), (108, 'completed_by'), (109, 'completed_by'), (110, 'completed_by'), (111, 'completed_by'), (112, 'completed_by'), (113, 'completed_by'), (114, 'completed_by'), (115, 'completed_by'), (116, 'completed_by'), (117, 'completed_by'), (118, 'completed_by'), (119, 'completed_by'), (120, 'completed_by'), (121, 'completed_by'), (122, 'completed_by'), (123, 'completed_by'), (124, 'completed_by'), (125, 'completed_by'), (126, 'completed_by'), (127, 'completed_by'), (128, 'completed_by'), (129, 'completed_by'), (130, 'completed_by'), (131, 'completed_by'), (132, 'completed_by'), (133, 'completed_by'), (134, 'completed_by'), (135, 'completed_by'), (136, 'completed_by'), (137, 'completed_by'), (138, 'completed_by'), (139, 'completed_by'), (140, 'completed_by'), (141, 'completed_by'), (142, 'completed_by'), (143, 'completed_by'), (144, 'completed_by'), (145, 'completed_by'), (146, 'completed_by'), (147, 'completed_by'), (148, 'completed_by'), (149, 'completed_by'), (150, 'completed_by'), (151, 'completed_by'), (152, 'completed_by'), (153, 'completed_by'), (154, 'completed_by'), (155, 'completed_by'), (156, 'completed_by'), (157, 'completed_by'), (158, 'completed_by'), (159, 'completed_by'), (160, 'completed_by'), (161, 'completed_by'), (162, 'completed_by'), (163, 'completed_by'), (164, 'completed_by'), (165, 'completed_by'), (166, 'completed_by'), (167, 'completed_by'), (168, 'completed_by'), (169, 'completed_by'), (170, 'completed_by'), (171, 'completed_by'), (172, 'completed_by'), (173, 'completed_by'), (174, 'completed_by'), (175, 'completed_by'), (176, 'completed_by'), (177, 'completed_by'), (178, 'completed_by'), (179, 'completed_by'), (180, 'completed_by'), (181, 'completed_by'), (182, 'completed_by'), (183, 'completed_by'), (184, 'completed_by'), (185, 'completed_by'), (186, 'completed_by'), (187, 'completed_by'), (188, 'completed_by'), (189, 'completed_by'), (190, 'completed_by'), (191, 'completed_by'), (192, 'completed_by'), (193, 'completed_by'), (194, 'completed_by'), (195, 'completed_by'), (196, 'completed_by'), (197, 'completed_by'), (198, 'completed_by'), (199, 'completed_by'), (200, 'completed_by'), (201, 'completed_by'), (202, 'completed_by'), (203, 'completed_by'), (204, 'completed_by'), (205, 'completed_by'), (206, 'completed_by'), (207, 'completed_by'), (208, 'completed_by'), (209, 'completed_by'), (210, 'completed_by'), (211, 'completed_by'), (212, 'completed_by'), (213, 'completed_by'), (214, 'completed_by'), (215, 'completed_by'), (216, 'completed_by'), (217, 'completed_by'), (218, 'completed_by'), (219, 'completed_by'), (220, 'completed_by'), (221, 'completed_by'), (222, 'completed_by'), (223, 'completed_by'), (224, 'completed_by'), (225, 'completed_by'), (226, 'completed_by'), (227, 'completed_by'), (228, 'completed_by'), (229, 'completed_by'), (230, 'completed_by'), (231, 'completed_by'), (232, 'completed_by'), (233, 'completed_by'), (234, 'completed_by'), (235, 'completed_by'), (236, 'completed_by'), (237, 'completed_by'), (238, 'completed_by'), (239, 'completed_by'), (240, 'completed_by'), (241, 'completed_by'), (242, 'completed_by'), (243, 'completed_by'), (244, 'completed_by'), (245, 'completed_by'), (246, 'completed_by'), (247, 'completed_by'), (248, 'completed_by'), (249, 'completed_by'), (250, 'completed_by'), (251, 'completed_by'), (252, 'completed_by'), (253, 'completed_by'), (254, 'completed_by'), (255, 'completed_by'), (256, 'completed_by'), (257, 'completed_by'), (258, 'completed_by'), (259, 'completed_by'), (260, 'completed_by'), (261, 'completed_by'), (262, 'completed_by'), (263, 'completed_by'), (264, 'completed_by'), (265, 'completed_by'), (266, 'completed_by'), (267, 'completed_by'), (268, 'completed_by'), (269, 'completed_by'), (270, 'completed_by'), (271, 'completed_by'), (272, 'completed_by'), (273, 'completed_by'), (274, 'completed_by'), (275, 'completed_by'), (276, 'completed_by'), (277, 'completed_by'), (278, 'completed_by'), (279, 'completed_by'), (280, 'completed_by'), (281, 'completed_by'), (282, 'completed_by'), (283, 'completed_by'), (284, 'completed_by'), (285, 'completed_by'), (286, 'completed_by'), (287, 'completed_by'), (288, 'completed_by'), (289, 'completed_by'), (290, 'completed_by'), (291, 'completed_by'), (292, 'completed_by'), (293, 'completed_by'), (294, 'completed_by'), (295, 'completed_by'), (296, 'completed_by'), (297, 'completed_by'), (298, 'completed_by'), (299, 'completed_by'), (300, 'completed_by'), (301, 'completed_by'), (302, 'completed_by'), (303, 'completed_by'), (304, 'completed_by'), (305, 'completed_by'), (306, 'completed_by'), (307, 'completed_by'), (308, 'completed_by'), (309, 'completed_by'), (310, 'completed_by'), (311, 'completed_by'), (312, 'completed_by'), (313, 'completed_by'), (314, 'completed_by'), (315, 'completed_by'), (316, 'completed_by'), (317, 'completed_by'), (318, 'completed_by'), (319, 'completed_by'), (320, 'completed_by'), (321, 'completed_by'), (322, 'completed_by'), (323, 'completed_by'), (324, 'completed_by'), (325, 'completed_by'), (326, 'completed_by'), (327, 'completed_by'), (328, 'completed_by'), (329, 'completed_by'), (330, 'completed_by'), (331, 'completed_by'), (332, 'completed_by'), (333, 'completed_by'), (334, 'completed_by'), (335, 'completed_by'), (336, 'completed_by'), (337, 'completed_by'), (338, 'completed_by'), (339, 'completed_by'), (340, 'completed_by'), (341, 'completed_by'), (342, 'completed_by'), (343, 'completed_by'), (344, 'completed_by'), (345, 'completed_by'), (346, 'completed_by'), (347, 'completed_by'), (348, 'completed_by'), (349, 'completed_by'), (350, 'completed_by'), (351, 'completed_by'), (352, 'completed_by'), (353, 'completed_by'), (354, 'completed_by'), (355, 'completed_by'), (356, 'completed_by'), (357, 'completed_by'), (358, 'completed_by'), (359, 'completed_by'), (360, 'completed_by'), (361, 'completed_by'), (362, 'completed_by'), (363, 'completed_by'), (364, 'completed_by'), (365, 'completed_by'), (366, 'completed_by'), (367, 'completed_by'), (368, 'completed_by'), (369, 'completed_by'), (370, 'completed_by'), (371, 'completed_by'), (372, 'completed_by'), (373, 'completed_by'), (374, 'completed_by'), (375, 'completed_by'), (376, 'completed_by'), (377, 'completed_by'), (378, 'completed_by'), (379, 'completed_by'), (380, 'completed_by'), (381, 'completed_by'), (382, 'completed_by'), (383, 'completed_by'), (384, 'completed_by'), (385, 'completed_by'), (386, 'completed_by'), (387, 'completed_by'), (388, 'completed_by'), (389, 'completed_by'), (390, 'completed_by'), (391, 'completed_by'), (392, 'completed_by'), (393, 'completed_by'), (394, 'completed_by'), (395, 'completed_by'), (396, 'completed_by'), (397, 'completed_by'), (398, 'completed_by'), (399, 'completed_by'), (400, 'completed_by'), (401, 'completed_by'), (402, 'completed_by'), (403, 'completed_by'), (404, 'completed_by'), (405, 'completed_by'), (406, 'completed_by'), (407, 'completed_by'), (408, 'completed_by'), (409, 'completed_by'), (410, 'completed_by'), (411, 'completed_by'), (412, 'completed_by'), (413, 'completed_by'), (414, 'completed_by'), (415, 'completed_by'), (416, 'completed_by'), (417, 'completed_by'), (418, 'completed_by'), (419, 'completed_by'), (420, 'completed_by'), (421, 'completed_by'), (422, 'completed_by'), (423, 'completed_by'), (424, 'completed_by'), (425, 'completed_by'), (426, 'completed_by'), (427, 'completed_by'), (428, 'completed_by'), (429, 'completed_by'), (430, 'completed_by'), (431, 'completed_by'), (432, 'completed_by'), (433, 'completed_by'), (434, 'completed_by'), (435, 'completed_by'), (436, 'completed_by'), (437, 'completed_by'), (438, 'completed_by'), (439, 'completed_by'), (440, 'completed_by'), (441, 'completed_by'), (442, 'completed_by'), (443, 'completed_by'), (444, 'completed_by'), (445, 'completed_by'), (446, 'completed_by'), (447, 'completed_by'), (448, 'completed_by'), (449, 'completed_by'), (450, 'completed_by'), (451, 'completed_by'), (452, 'completed_by'), (453, 'completed_by'), (454, 'completed_by'), (455, 'completed_by'), (456, 'completed_by'), (457, 'completed_by'), (458, 'completed_by'), (459, 'completed_by'), (460, 'completed_by'), (461, 'completed_by'), (462, 'completed_by'), (463, 'completed_by'), (464, 'completed_by'), (465, 'completed_by'), (466, 'completed_by'), (467, 'completed_by'), (468, 'completed_by'), (469, 'completed_by'), (471, 'completed_by'), (472, 'completed_by'), (473, 'completed_by'), (474, 'completed_by'), (475, 'completed_by'), (476, 'completed_by'), (477, 'completed_by'), (478, 'completed_by'), (479, 'completed_by'), (480, 'completed_by'), (481, 'completed_by'), (482, 'completed_by'), (483, 'completed_by'), (484, 'completed_by'), (485, 'completed_by'), (486, 'completed_by'), (487, 'completed_by'), (488, 'completed_by'), (489, 'completed_by'), (490, 'completed_by'), (491, 'completed_by'), (492, 'completed_by'), (493, 'completed_by'), (494, 'completed_by'), (495, 'completed_by'), (496, 'completed_by'), (497, 'completed_by'), (498, 'completed_by'), (499, 'completed_by'), (500, 'completed_by'), (501, 'completed_by'), (502, 'completed_by'), (503, 'completed_by'), (504, 'completed_by'), (505, 'completed_by'), (506, 'completed_by'), (507, 'completed_by'), (508, 'completed_by'), (509, 'completed_by'), (510, 'completed_by'), (511, 'completed_by'), (512, 'completed_by'), (513, 'completed_by'), (514, 'completed_by'), (515, 'completed_by'), (516, 'completed_by'), (517, 'completed_by'), (518, 'completed_by'), (519, 'completed_by'), (520, 'completed_by'), (521, 'completed_by'), (522, 'completed_by'), (523, 'completed_by'), (524, 'completed_by'), (525, 'completed_by'), (526, 'completed_by'), (527, 'completed_by'), (528, 'completed_by'), (529, 'completed_by'), (530, 'completed_by'), (531, 'completed_by'), (532, 'completed_by'), (533, 'completed_by'), (534, 'completed_by'), (535, 'completed_by'), (536, 'completed_by'), (537, 'completed_by'), (538, 'completed_by'), (539, 'completed_by'), (540, 'completed_by'), (541, 'completed_by'), (542, 'completed_by'), (543, 'completed_by'), (544, 'completed_by'), (545, 'completed_by'), (546, 'completed_by'), (547, 'completed_by'), (548, 'completed_by'), (549, 'completed_by'), (550, 'completed_by'), (551, 'completed_by'), (552, 'completed_by'), (553, 'completed_by'), (554, 'completed_by'), (555, 'completed_by'), (556, 'completed_by'), (557, 'completed_by'), (558, 'completed_by'), (559, 'completed_by'), (560, 'completed_by'), (561, 'completed_by'), (562, 'completed_by'), (563, 'completed_by'), (564, 'completed_by'), (565, 'completed_by'), (566, 'completed_by'), (567, 'completed_by'), (568, 'completed_by'), (569, 'completed_by'), (570, 'completed_by'), (571, 'completed_by'), (572, 'completed_by'), (573, 'completed_by'), (574, 'completed_by'), (575, 'completed_by'), (576, 'completed_by'), (577, 'completed_by'), (578, 'completed_by'), (579, 'completed_by'), (580, 'completed_by'), (581, 'completed_by'), (582, 'completed_by'), (583, 'completed_by'), (584, 'completed_by'), (585, 'completed_by'), (586, 'completed_by'), (587, 'completed_by'), (588, 'completed_by'), (589, 'completed_by'), (590, 'completed_by'), (591, 'completed_by'), (592, 'completed_by'), (593, 'completed_by'), (594, 'completed_by'), (595, 'completed_by'), (596, 'completed_by'), (597, 'completed_by'), (598, 'completed_by'), (599, 'completed_by'), (600, 'completed_by'), (601, 'completed_by'), (602, 'completed_by'), (603, 'completed_by'), (604, 'completed_by'), (605, 'completed_by'), (606, 'completed_by'), (607, 'completed_by'), (608, 'completed_by'), (609, 'completed_by'), (610, 'completed_by'), (611, 'completed_by'), (612, 'completed_by'), (613, 'completed_by'), (614, 'completed_by'), (615, 'completed_by'), (616, 'completed_by'), (617, 'completed_by'), (618, 'completed_by'), (619, 'completed_by'), (620, 'completed_by'), (621, 'completed_by'), (622, 'completed_by'), (623, 'completed_by'), (624, 'completed_by'), (625, 'completed_by'), (626, 'completed_by'), (627, 'completed_by'), (628, 'completed_by'), (629, 'completed_by'), (630, 'completed_by'), (631, 'completed_by'), (632, 'completed_by'), (633, 'completed_by'), (634, 'completed_by'), (635, 'completed_by'), (636, 'completed_by'), (637, 'completed_by'), (638, 'completed_by'), (639, 'completed_by'), (640, 'completed_by'), (641, 'completed_by'), (642, 'completed_by'), (643, 'completed_by'), (644, 'completed_by'), (645, 'completed_by'), (646, 'completed_by'), (647, 'completed_by'), (648, 'completed_by'), (649, 'completed_by'), (650, 'completed_by'), (651, 'completed_by'), (652, 'completed_by'), (653, 'completed_by'), (654, 'completed_by'), (655, 'completed_by'), (656, 'completed_by'), (657, 'completed_by'), (658, 'completed_by'), (659, 'completed_by'), (660, 'completed_by'), (661, 'completed_by'), (662, 'completed_by'), (663, 'completed_by'), (664, 'completed_by'), (665, 'completed_by'), (666, 'completed_by'), (667, 'completed_by'), (668, 'completed_by'), (669, 'completed_by'), (670, 'completed_by'), (671, 'completed_by'), (672, 'completed_by'), (673, 'completed_by'), (674, 'completed_by'), (675, 'completed_by'), (676, 'completed_by'), (677, 'completed_by'), (678, 'completed_by'), (679, 'completed_by'), (680, 'completed_by'), (681, 'completed_by'), (682, 'completed_by'), (683, 'completed_by'), (684, 'completed_by'), (685, 'completed_by'), (686, 'completed_by'), (687, 'completed_by'), (688, 'completed_by'), (689, 'completed_by'), (690, 'completed_by'), (691, 'completed_by'), (692, 'completed_by'), (693, 'completed_by'), (694, 'completed_by'), (695, 'completed_by'), (696, 'completed_by'), (697, 'completed_by'), (698, 'completed_by'), (699, 'completed_by'), (700, 'completed_by'), (701, 'completed_by'), (702, 'completed_by'), (703, 'completed_by'), (704, 'completed_by'), (705, 'completed_by'), (706, 'completed_by'), (707, 'completed_by'), (708, 'completed_by'), (709, 'completed_by'), (710, 'completed_by'), (711, 'completed_by'), (712, 'completed_by'), (713, 'completed_by'), (714, 'completed_by'), (715, 'completed_by'), (716, 'completed_by'), (717, 'completed_by'), (718, 'completed_by'), (719, 'completed_by'), (720, 'completed_by'), (721, 'completed_by'), (722, 'completed_by'), (723, 'completed_by'), (724, 'completed_by'), (725, 'completed_by'), (726, 'completed_by'), (727, 'completed_by'), (728, 'completed_by'), (729, 'completed_by'), (730, 'completed_by'), (731, 'completed_by'), (732, 'completed_by'), (733, 'completed_by'), (734, 'completed_by'), (735, 'completed_by'), (736, 'completed_by'), (737, 'completed_by'), (738, 'completed_by'), (739, 'completed_by'), (740, 'completed_by'), (741, 'completed_by'), (742, 'completed_by'), (743, 'completed_by'), (744, 'completed_by'), (745, 'completed_by'), (746, 'completed_by'), (747, 'completed_by'), (748, 'completed_by'), (749, 'completed_by'), (750, 'completed_by'), (751, 'completed_by'), (752, 'completed_by'), (753, 'completed_by'), (754, 'completed_by'), (755, 'completed_by'), (756, 'completed_by'), (757, 'completed_by'), (758, 'completed_by'), (759, 'completed_by'), (760, 'completed_by'), (761, 'completed_by'), (762, 'completed_by'), (763, 'completed_by'), (764, 'completed_by'), (766, 'completed_by'), (767, 'completed_by'), (768, 'completed_by'), (769, 'completed_by'), (770, 'completed_by'), (771, 'completed_by'), (772, 'completed_by'), (773, 'completed_by'), (774, 'completed_by'), (775, 'completed_by'), (776, 'completed_by'), (777, 'completed_by'), (778, 'completed_by'), (779, 'completed_by'), (780, 'completed_by'), (781, 'completed_by'), (782, 'completed_by'), (783, 'completed_by'), (784, 'completed_by'), (785, 'completed_by'), (786, 'completed_by'), (787, 'completed_by'), (788, 'completed_by'), (789, 'completed_by'), (790, 'completed_by'), (791, 'completed_by'), (792, 'completed_by'), (793, 'completed_by'), (794, 'completed_by'), (795, 'completed_by'), (796, 'completed_by'), (797, 'completed_by'), (798, 'completed_by'), (799, 'completed_by'), (800, 'completed_by'), (801, 'completed_by'), (802, 'completed_by'), (803, 'completed_by'), (804, 'completed_by'), (805, 'completed_by'), (806, 'completed_by'), (807, 'completed_by'), (808, 'completed_by'), (809, 'completed_by'), (810, 'completed_by'), (811, 'completed_by'), (812, 'completed_by'), (813, 'completed_by'), (814, 'completed_by'), (815, 'completed_by'), (816, 'completed_by'), (817, 'completed_by'), (818, 'completed_by'), (819, 'completed_by'), (820, 'completed_by'), (821, 'completed_by'), (822, 'completed_by'), (823, 'completed_by'), (824, 'completed_by'), (825, 'completed_by'), (826, 'completed_by'), (827, 'completed_by'), (828, 'completed_by'), (829, 'completed_by'), (830, 'completed_by'), (831, 'completed_by'), (832, 'completed_by'), (833, 'completed_by'), (834, 'completed_by'), (835, 'completed_by'), (836, 'completed_by'), (837, 'completed_by'), (838, 'completed_by'), (839, 'completed_by'), (840, 'completed_by'), (841, 'completed_by'), (842, 'completed_by'), (843, 'completed_by'), (844, 'completed_by'), (845, 'completed_by'), (846, 'completed_by'), (847, 'completed_by'), (848, 'completed_by'), (849, 'completed_by'), (850, 'completed_by'), (851, 'completed_by'), (852, 'completed_by'), (853, 'completed_by'), (854, 'completed_by'), (855, 'completed_by'), (856, 'completed_by'), (857, 'completed_by'), (858, 'completed_by'), (859, 'completed_by'), (860, 'completed_by'), (861, 'completed_by'), (862, 'completed_by'), (863, 'completed_by'), (864, 'completed_by'), (865, 'completed_by'), (866, 'completed_by'), (867, 'completed_by'), (868, 'completed_by'), (869, 'completed_by'), (870, 'completed_by'), (871, 'completed_by'), (872, 'completed_by'), (873, 'completed_by'), (874, 'completed_by'), (875, 'completed_by'), (876, 'completed_by'), (877, 'completed_by'), (878, 'completed_by'), (879, 'completed_by'), (880, 'completed_by'), (881, 'completed_by'), (882, 'completed_by'), (883, 'completed_by'), (884, 'completed_by'), (885, 'completed_by'), (886, 'completed_by'), (887, 'completed_by'), (888, 'completed_by'), (889, 'completed_by'), (890, 'completed_by'), (891, 'completed_by'), (892, 'completed_by'), (893, 'completed_by'), (894, 'completed_by'), (895, 'completed_by'), (896, 'completed_by'), (897, 'completed_by'), (898, 'completed_by'), (899, 'completed_by'), (900, 'completed_by'), (901, 'completed_by'), (902, 'completed_by'), (903, 'completed_by'), (904, 'completed_by'), (905, 'completed_by'), (906, 'completed_by'), (907, 'completed_by'), (908, 'completed_by'), (909, 'completed_by'), (910, 'completed_by'), (911, 'completed_by'), (912, 'completed_by'), (913, 'completed_by'), (914, 'completed_by'), (915, 'completed_by'), (916, 'completed_by'), (917, 'completed_by'), (918, 'completed_by'), (919, 'completed_by'), (920, 'completed_by'), (921, 'completed_by'), (922, 'completed_by'), (923, 'completed_by'), (924, 'completed_by'), (925, 'completed_by'), (926, 'completed_by'), (927, 'completed_by'), (928, 'completed_by'), (929, 'completed_by'), (930, 'completed_by'), (931, 'completed_by'), (932, 'completed_by'), (933, 'completed_by'), (934, 'completed_by'), (935, 'completed_by'), (936, 'completed_by'), (937, 'completed_by'), (938, 'completed_by'), (939, 'completed_by'), (940, 'completed_by'), (941, 'completed_by'), (942, 'completed_by'), (943, 'completed_by'), (944, 'completed_by'), (945, 'completed_by'), (946, 'completed_by'), (947, 'completed_by'), (948, 'completed_by'), (949, 'completed_by'), (950, 'completed_by'), (951, 'completed_by'), (952, 'completed_by'), (953, 'completed_by'), (954, 'completed_by'), (955, 'completed_by'), (956, 'completed_by'), (958, 'completed_by'), (959, 'completed_by'), (960, 'completed_by'), (961, 'completed_by'), (962, 'completed_by'), (963, 'completed_by'), (964, 'completed_by'), (965, 'completed_by'), (966, 'completed_by'), (967, 'completed_by'), (968, 'completed_by'), (969, 'completed_by'), (970, 'completed_by'), (971, 'completed_by'), (972, 'completed_by'), (973, 'completed_by'), (974, 'completed_by'), (975, 'completed_by'), (976, 'completed_by'), (977, 'completed_by'), (978, 'completed_by'), (979, 'completed_by'), (980, 'completed_by'), (981, 'completed_by'), (982, 'completed_by'), (983, 'completed_by'), (984, 'completed_by'), (985, 'completed_by'), (986, 'completed_by'), (987, 'completed_by'), (988, 'completed_by'), (989, 'completed_by'), (990, 'completed_by'), (991, 'completed_by'), (992, 'completed_by'), (993, 'completed_by'), (994, 'completed_by'), (995, 'completed_by'), (996, 'completed_by'), (997, 'completed_by'), (998, 'completed_by'), (999, 'completed_by'), (1000, 'completed_by'), (1001, 'completed_by'), (1002, 'completed_by'), (1003, 'completed_by'), (1004, 'completed_by'), (1005, 'completed_by'), (1006, 'completed_by'), (1007, 'completed_by'), (1008, 'completed_by'), (1013, 'completed_by'), (1014, 'completed_by'), (1015, 'completed_by'), (1017, 'completed_by'), (1018, 'completed_by'), (1019, 'completed_by'), (1020, 'completed_by'), (1021, 'completed_by'), (1022, 'completed_by'), (1023, 'completed_by'), (1024, 'completed_by'), (1025, 'completed_by'), (1026, 'completed_by'), (1027, 'completed_by'), (1028, 'completed_by'), (1029, 'completed_by'), (1030, 'completed_by'), (1031, 'completed_by'), (1032, 'completed_by'), (1033, 'completed_by'), (1034, 'completed_by'), (1035, 'completed_by'), (1036, 'completed_by'), (1037, 'completed_by'), (1039, 'completed_by'), (1040, 'completed_by'), (1041, 'completed_by'), (1042, 'completed_by'), (1043, 'completed_by'), (1044, 'completed_by'), (1045, 'completed_by'), (1046, 'completed_by'), (1047, 'completed_by'), (1048, 'completed_by'), (1049, 'completed_by'), (1050, 'completed_by'), (1051, 'completed_by'), (1052, 'completed_by'), (1053, 'completed_by'), (1057, 'completed_by'), (1058, 'completed_by'), (1059, 'completed_by'), (1060, 'completed_by'), (1061, 'completed_by'), (1062, 'completed_by'), (1063, 'completed_by'), (1064, 'completed_by'), (1065, 'completed_by'), (1066, 'completed_by'), (1067, 'completed_by'), (1068, 'completed_by'), (1069, 'completed_by'), (1070, 'completed_by'), (1071, 'completed_by'), (1072, 'completed_by'), (1073, 'completed_by'), (1074, 'completed_by'), (1075, 'completed_by'), (1076, 'completed_by'), (1077, 'completed_by'), (1078, 'completed_by'), (1079, 'completed_by'), (1080, 'completed_by'), (1081, 'completed_by'), (1082, 'completed_by'), (1083, 'completed_by'), (1084, 'completed_by'), (1085, 'completed_by'), (1086, 'completed_by'), (1087, 'completed_by'), (1088, 'completed_by'), (1089, 'completed_by'), (1090, 'completed_by'), (1091, 'completed_by'), (1092, 'completed_by'), (1093, 'completed_by'), (1094, 'completed_by'), (1095, 'completed_by'), (1096, 'completed_by'), (1097, 'completed_by'), (1098, 'completed_by'), (1099, 'completed_by'), (1100, 'completed_by'), (1101, 'completed_by'), (1102, 'completed_by'), (1103, 'completed_by'), (1104, 'completed_by'), (1105, 'completed_by'), (1106, 'completed_by'), (1107, 'completed_by'), (1108, 'completed_by'), (1109, 'completed_by'), (1110, 'completed_by'), (1111, 'completed_by'), (1112, 'completed_by'), (1113, 'completed_by'), (1114, 'completed_by'), (1115, 'completed_by'), (1116, 'completed_by'), (1117, 'completed_by'), (1118, 'completed_by'), (1119, 'completed_by'), (1120, 'completed_by'), (1121, 'completed_by'), (1122, 'completed_by'), (1123, 'completed_by'), (1124, 'completed_by'), (1125, 'completed_by'), (1126, 'completed_by'), (1127, 'completed_by'), (1128, 'completed_by'), (1129, 'completed_by'), (1130, 'completed_by'), (1131, 'completed_by'), (1132, 'completed_by'), (1133, 'completed_by'), (1134, 'completed_by'), (1135, 'completed_by'), (1136, 'completed_by'), (1137, 'completed_by'), (1138, 'completed_by'), (1139, 'completed_by'), (1140, 'completed_by'), (1141, 'completed_by'), (1142, 'completed_by'), (1143, 'completed_by'), (1144, 'completed_by'), (1146, 'completed_by'), (1147, 'completed_by'), (1148, 'completed_by'), (1149, 'completed_by'), (1150, 'completed_by'), (1151, 'completed_by'), (1152, 'completed_by'), (1153, 'completed_by'), (1154, 'completed_by'), (1155, 'completed_by'), (1156, 'completed_by'), (1157, 'completed_by'), (1158, 'completed_by'), (1159, 'completed_by'), (1160, 'completed_by'), (1161, 'completed_by'), (1162, 'completed_by'), (1163, 'completed_by'), (1164, 'completed_by'), (1165, 'completed_by'), (1166, 'completed_by'), (1167, 'completed_by'), (1168, 'completed_by'), (1169, 'completed_by'), (1170, 'completed_by'), (1171, 'completed_by'), (1172, 'completed_by'), (1173, 'completed_by'), (1174, 'completed_by'), (1175, 'completed_by'), (1176, 'completed_by'), (1177, 'completed_by'), (1178, 'completed_by'), (1179, 'completed_by'), (1180, 'completed_by'), (1181, 'completed_by'), (1182, 'completed_by'), (1183, 'completed_by'), (1184, 'completed_by'), (1185, 'completed_by'), (1186, 'completed_by'), (1187, 'completed_by'), (1188, 'completed_by'), (1189, 'completed_by'), (1190, 'completed_by'), (1191, 'completed_by'), (1192, 'completed_by'), (1193, 'completed_by'), (1194, 'completed_by'), (1195, 'completed_by'), (1196, 'completed_by'), (1197, 'completed_by'), (1198, 'completed_by'), (1199, 'completed_by'), (1200, 'completed_by'), (1201, 'completed_by'), (1202, 'completed_by'), (1203, 'completed_by'), (1204, 'completed_by'), (1205, 'completed_by'), (1206, 'completed_by'), (1207, 'completed_by'), (1208, 'completed_by'), (1209, 'completed_by'), (1210, 'completed_by'), (1211, 'completed_by'), (1212, 'completed_by'), (1213, 'completed_by'), (1214, 'completed_by'), (1215, 'completed_by'), (1216, 'completed_by'), (1217, 'completed_by'), (1218, 'completed_by'), (1219, 'completed_by'), (1220, 'completed_by'), (1221, 'completed_by'), (1222, 'completed_by'), (1223, 'completed_by'), (1224, 'completed_by'), (1225, 'completed_by'), (1226, 'completed_by'), (1227, 'completed_by'), (1228, 'completed_by'), (1229, 'completed_by'), (1230, 'completed_by'), (1231, 'completed_by'), (1232, 'completed_by'), (1233, 'completed_by'), (1234, 'completed_by'), (1235, 'completed_by'), (1236, 'completed_by'), (1237, 'completed_by'), (1238, 'completed_by'), (1239, 'completed_by'), (1240, 'completed_by'), (1241, 'completed_by'), (1242, 'completed_by'), (1243, 'completed_by'), (1244, 'completed_by'), (1245, 'completed_by'), (1246, 'completed_by'), (1247, 'completed_by'), (1248, 'completed_by'), (1249, 'completed_by'), (1250, 'completed_by'), (1251, 'completed_by'), (1252, 'completed_by'), (1253, 'completed_by'), (1254, 'completed_by'), (1255, 'completed_by'), (1256, 'completed_by'), (1257, 'completed_by'), (1258, 'completed_by'), (1259, 'completed_by'), (1260, 'completed_by'), (1261, 'completed_by'), (1262, 'completed_by'), (1263, 'completed_by'), (1264, 'completed_by'), (1265, 'completed_by'), (1266, 'completed_by'), (1267, 'completed_by'), (1268, 'completed_by'), (1269, 'completed_by'), (1270, 'completed_by'), (1271, 'completed_by'), (1272, 'completed_by'), (1273, 'completed_by'), (1274, 'completed_by'), (1275, 'completed_by'), (1276, 'completed_by'), (1277, 'completed_by'), (1278, 'completed_by'), (1279, 'completed_by'), (1280, 'completed_by'), (1281, 'completed_by'), (1282, 'completed_by'), (1283, 'completed_by'), (1284, 'completed_by'), (1285, 'completed_by'), (1286, 'completed_by'), (1287, 'completed_by'), (1288, 'completed_by'), (1289, 'completed_by'), (1290, 'completed_by'), (1291, 'completed_by'), (1292, 'completed_by'), (1293, 'completed_by'), (1294, 'completed_by'), (1295, 'completed_by'), (1296, 'completed_by'), (1297, 'completed_by'), (1298, 'completed_by'), (1299, 'completed_by'), (1300, 'completed_by'), (1301, 'completed_by'), (1302, 'completed_by'), (1303, 'completed_by'), (1304, 'completed_by'), (1305, 'completed_by'), (1306, 'completed_by'), (1307, 'completed_by'), (1308, 'completed_by'), (1309, 'completed_by'), (1310, 'completed_by'), (1311, 'completed_by'), (1312, 'completed_by'), (1313, 'completed_by'), (1314, 'completed_by'), (1315, 'completed_by'), (1316, 'completed_by'), (1317, 'completed_by'), (1318, 'completed_by'), (1319, 'completed_by'), (1320, 'completed_by'), (1321, 'completed_by'), (1322, 'completed_by'), (1323, 'completed_by'), (1324, 'completed_by'), (1325, 'completed_by'), (1326, 'completed_by'), (1327, 'completed_by'), (1328, 'completed_by'), (1329, 'completed_by'), (1330, 'completed_by'), (1331, 'completed_by'), (1332, 'completed_by'), (1333, 'completed_by'), (1334, 'completed_by'), (1335, 'completed_by'), (1336, 'completed_by'), (1337, 'completed_by'), (1338, 'completed_by'), (1339, 'completed_by'), (1340, 'completed_by'), (1341, 'completed_by'), (1342, 'completed_by'), (1343, 'completed_by'), (1344, 'completed_by'), (1345, 'completed_by'), (1346, 'completed_by'), (1347, 'completed_by'), (1348, 'completed_by'), (1349, 'completed_by'), (1350, 'completed_by'), (1351, 'completed_by'), (1352, 'completed_by'), (1353, 'completed_by'), (1354, 'completed_by'), (1355, 'completed_by'), (1356, 'completed_by'), (1357, 'completed_by'), (1358, 'completed_by'), (1359, 'completed_by'), (1360, 'completed_by'), (1361, 'completed_by'), (1362, 'completed_by'), (1363, 'completed_by'), (1364, 'completed_by'), (1365, 'completed_by'), (1366, 'completed_by'), (1367, 'completed_by'), (1368, 'completed_by'), (1369, 'completed_by'), (1370, 'completed_by'), (1371, 'completed_by'), (1372, 'completed_by'), (1373, 'completed_by'), (1374, 'completed_by'), (1375, 'completed_by'), (1376, 'completed_by'), (1377, 'completed_by'), (1378, 'completed_by'), (1379, 'completed_by'), (1380, 'completed_by'), (1381, 'completed_by'), (1382, 'completed_by'), (1383, 'completed_by'), (1384, 'completed_by'), (1385, 'completed_by'), (1386, 'completed_by'), (1387, 'completed_by'), (1388, 'completed_by'), (1389, 'completed_by'), (1390, 'completed_by'), (1391, 'completed_by'), (1392, 'completed_by'), (1393, 'completed_by'), (1394, 'completed_by'), (1395, 'completed_by'), (1396, 'completed_by'), (1397, 'completed_by'), (1398, 'completed_by'), (1399, 'completed_by'), (1400, 'completed_by'), (1401, 'completed_by'), (1402, 'completed_by'), (1403, 'completed_by'), (1404, 'completed_by'), (1405, 'completed_by'), (1406, 'completed_by'), (1407, 'completed_by'), (1408, 'completed_by'), (1409, 'completed_by'), (1410, 'completed_by'), (1411, 'completed_by'), (1412, 'completed_by'), (1413, 'completed_by'), (1414, 'completed_by'), (1415, 'completed_by'), (1416, 'completed_by'), (1417, 'completed_by'), (1418, 'completed_by'), (1419, 'completed_by'), (1420, 'completed_by'), (1421, 'completed_by'), (1422, 'completed_by'), (1423, 'completed_by'), (1424, 'completed_by'), (1425, 'completed_by'), (1426, 'completed_by'), (1427, 'completed_by'), (1428, 'completed_by'), (1429, 'completed_by'), (1430, 'completed_by'), (1431, 'completed_by'), (1432, 'completed_by'), (1433, 'completed_by'), (1434, 'completed_by'), (1435, 'completed_by'), (1436, 'completed_by'), (1437, 'completed_by'), (1438, 'completed_by'), (1439, 'completed_by'), (1440, 'completed_by'), (1441, 'completed_by'), (1442, 'completed_by'), (1443, 'completed_by'), (1444, 'completed_by'), (1445, 'completed_by'), (1446, 'completed_by'), (1447, 'completed_by'), (1448, 'completed_by'), (1449, 'completed_by'), (1450, 'completed_by'), (1451, 'completed_by'), (1452, 'completed_by'), (1453, 'completed_by'), (1454, 'completed_by'), (1455, 'completed_by'), (1456, 'completed_by'), (1457, 'completed_by'), (1458, 'completed_by'), (1459, 'completed_by'), (1460, 'completed_by'), (1461, 'completed_by'), (1462, 'completed_by'), (1463, 'completed_by'), (1464, 'completed_by'), (1465, 'completed_by'), (1466, 'completed_by'), (1467, 'completed_by'), (1468, 'completed_by'), (1469, 'completed_by'), (1470, 'completed_by'), (1471, 'completed_by'), (1472, 'completed_by'), (1473, 'completed_by'), (1474, 'completed_by'), (1475, 'completed_by'), (1476, 'completed_by'), (1477, 'completed_by'), (1478, 'completed_by'), (1479, 'completed_by'), (1480, 'completed_by'), (1481, 'completed_by'), (1482, 'completed_by'), (1483, 'completed_by'), (1484, 'completed_by'), (1485, 'completed_by'), (1486, 'completed_by'), (1487, 'completed_by'), (1488, 'completed_by'), (1489, 'completed_by'), (1490, 'completed_by'), (1491, 'completed_by'), (1492, 'completed_by'), (1493, 'completed_by'), (1494, 'completed_by'), (1495, 'completed_by'), (1496, 'completed_by'), (1497, 'completed_by'), (1498, 'completed_by'), (1499, 'completed_by'), (1500, 'completed_by'), (1501, 'completed_by'), (1502, 'completed_by'), (1503, 'completed_by'), (1504, 'completed_by'), (1505, 'completed_by'), (1506, 'completed_by'), (1507, 'completed_by'), (1508, 'completed_by'), (1509, 'completed_by'), (1510, 'completed_by'), (1511, 'completed_by'), (1512, 'completed_by'), (1513, 'completed_by'), (1514, 'completed_by'), (1515, 'completed_by'), (1516, 'completed_by'), (1517, 'completed_by'), (1518, 'completed_by'), (1519, 'completed_by'), (1520, 'completed_by'), (1521, 'completed_by'), (1522, 'completed_by'), (1523, 'completed_by'), (1524, 'completed_by'), (1525, 'completed_by'), (1526, 'completed_by'), (1527, 'completed_by'), (1528, 'completed_by'), (1529, 'completed_by'), (1530, 'completed_by'), (1531, 'completed_by'), (1532, 'completed_by'), (1533, 'completed_by'), (1534, 'completed_by'), (1535, 'completed_by'), (1536, 'completed_by'), (1537, 'completed_by'), (1538, 'completed_by'), (1539, 'completed_by'), (1540, 'completed_by'), (1541, 'completed_by'), (1542, 'completed_by'), (1543, 'completed_by'), (1544, 'completed_by'), (1545, 'completed_by'), (1546, 'completed_by'), (1547, 'completed_by'), (1548, 'completed_by'), (1549, 'completed_by'), (1550, 'completed_by'), (1551, 'completed_by'), (1552, 'completed_by'), (1553, 'completed_by'), (1554, 'completed_by'), (1555, 'completed_by'), (1556, 'completed_by'), (1557, 'completed_by'), (1558, 'completed_by'), (1559, 'completed_by'), (1560, 'completed_by'), (1561, 'completed_by'), (1562, 'completed_by'), (1563, 'completed_by'), (1564, 'completed_by'), (1565, 'completed_by'), (1566, 'completed_by'), (1567, 'completed_by'), (1568, 'completed_by'), (1569, 'completed_by'), (1570, 'completed_by'), (1571, 'completed_by'), (1572, 'completed_by'), (1573, 'completed_by'), (1574, 'completed_by'), (1575, 'completed_by'), (1576, 'completed_by'), (1577, 'completed_by'), (1578, 'completed_by'), (1579, 'completed_by'), (1580, 'completed_by'), (1581, 'completed_by'), (1582, 'completed_by'), (1583, 'completed_by'), (1584, 'completed_by'), (1585, 'completed_by'), (1586, 'completed_by'), (1587, 'completed_by'), (1588, 'completed_by'), (1589, 'completed_by'), (1590, 'completed_by'), (1591, 'completed_by'), (1592, 'completed_by'), (1593, 'completed_by'), (1594, 'completed_by'), (1595, 'completed_by'), (1596, 'completed_by'), (1597, 'completed_by'), (1598, 'completed_by'), (1599, 'completed_by'), (1600, 'completed_by'), (1601, 'completed_by'), (1602, 'completed_by'), (1603, 'completed_by'), (1604, 'completed_by'), (1605, 'completed_by'), (1606, 'completed_by'), (1607, 'completed_by'), (1608, 'completed_by'), (1609, 'completed_by'), (1610, 'completed_by'), (1611, 'completed_by'), (1612, 'completed_by'), (1613, 'completed_by'), (1614, 'completed_by'), (1615, 'completed_by'), (1616, 'completed_by'), (1617, 'completed_by'), (1618, 'completed_by'), (1619, 'completed_by'), (1620, 'completed_by'), (1621, 'completed_by'), (1622, 'completed_by'), (1623, 'completed_by'), (1624, 'completed_by'), (1625, 'completed_by'), (1626, 'completed_by'), (1627, 'completed_by'), (1628, 'completed_by'), (1629, 'completed_by'), (1630, 'completed_by'), (1631, 'completed_by'), (1632, 'completed_by'), (1633, 'completed_by'), (1634, 'completed_by'), (1635, 'completed_by'), (1636, 'completed_by'), (1637, 'completed_by'), (1638, 'completed_by'), (1639, 'completed_by'), (1640, 'completed_by'), (1641, 'completed_by'), (1642, 'completed_by'), (1643, 'completed_by'), (1644, 'completed_by'), (1645, 'completed_by'), (1646, 'completed_by'), (1647, 'completed_by'), (1648, 'completed_by'), (1649, 'completed_by'), (1650, 'completed_by'), (1651, 'completed_by'), (1652, 'completed_by'), (1653, 'completed_by'), (1655, 'completed_by'), (1656, 'completed_by'), (1657, 'completed_by'), (1658, 'completed_by'), (1659, 'completed_by'), (1660, 'completed_by'), (1661, 'completed_by'), (1662, 'completed_by'), (1663, 'completed_by'), (1664, 'completed_by'), (1665, 'completed_by'), (1666, 'completed_by'), (1667, 'completed_by'), (1668, 'completed_by'), (1669, 'completed_by'), (1670, 'completed_by'), (1671, 'completed_by'), (1672, 'completed_by'), (1673, 'completed_by'), (1674, 'completed_by'), (1675, 'completed_by'), (1676, 'completed_by'), (1677, 'completed_by'), (1678, 'completed_by'), (1679, 'completed_by'), (1680, 'completed_by'), (1681, 'completed_by'), (1682, 'completed_by'), (1683, 'completed_by'), (1684, 'completed_by'), (1685, 'completed_by'), (1686, 'completed_by'), (1687, 'completed_by'), (1688, 'completed_by'), (1689, 'completed_by'), (1690, 'completed_by'), (1691, 'completed_by'), (1692, 'completed_by'), (1693, 'completed_by'), (1694, 'completed_by'), (1695, 'completed_by'), (1696, 'completed_by'), (1697, 'completed_by'), (1698, 'completed_by'), (1699, 'completed_by'), (1700, 'completed_by'), (1701, 'completed_by'), (1702, 'completed_by'), (1703, 'completed_by'), (1704, 'completed_by'), (1705, 'completed_by'), (1706, 'completed_by'), (1707, 'completed_by'), (1708, 'completed_by'), (1709, 'completed_by'), (1710, 'completed_by'), (1711, 'completed_by'), (1712, 'completed_by'), (1713, 'completed_by'), (1714, 'completed_by'), (1715, 'completed_by'), (1716, 'completed_by'), (1717, 'completed_by'), (1718, 'completed_by'), (1719, 'completed_by'), (1720, 'completed_by'), (1721, 'completed_by'), (1722, 'completed_by'), (1723, 'completed_by'), (1724, 'completed_by'), (1725, 'completed_by'), (1726, 'completed_by'), (1727, 'completed_by'), (1728, 'completed_by'), (1729, 'completed_by'), (1730, 'completed_by'), (1731, 'completed_by'), (1732, 'completed_by'), (1733, 'completed_by'), (1734, 'completed_by'), (1735, 'completed_by'), (1736, 'completed_by'), (1737, 'completed_by'), (1738, 'completed_by'), (1739, 'completed_by'), (1740, 'completed_by'), (1741, 'completed_by'), (1742, 'completed_by'), (1743, 'completed_by'), (1744, 'completed_by'), (1745, 'completed_by'), (1746, 'completed_by'), (1747, 'completed_by'), (1748, 'completed_by'), (1749, 'completed_by'), (1750, 'completed_by'), (1751, 'completed_by'), (1752, 'completed_by'), (1753, 'completed_by'), (1754, 'completed_by'), (1755, 'completed_by'), (1756, 'completed_by'), (1757, 'completed_by'), (1758, 'completed_by'), (1759, 'completed_by'), (1760, 'completed_by'), (1761, 'completed_by'), (1764, 'completed_by'), (1765, 'completed_by'), (1766, 'completed_by'), (1767, 'completed_by'), (1768, 'completed_by'), (1769, 'completed_by'), (1770, 'completed_by'), (1771, 'completed_by'), (1772, 'completed_by'), (1773, 'completed_by'), (1774, 'completed_by'), (1775, 'completed_by'), (1776, 'completed_by'), (1777, 'completed_by'), (1778, 'completed_by'), (1779, 'completed_by'), (1780, 'completed_by'), (1782, 'completed_by'), (1783, 'completed_by'), (1784, 'completed_by'), (1785, 'completed_by'), (1786, 'completed_by'), (1787, 'completed_by'), (1790, 'completed_by'), (1791, 'completed_by'), (1792, 'completed_by'), (1793, 'completed_by'), (1794, 'completed_by'), (1795, 'completed_by'), (1796, 'completed_by'), (1797, 'completed_by'), (1798, 'completed_by'), (1799, 'completed_by'), (1800, 'completed_by'), (1802, 'completed_by'), (1803, 'completed_by'), (1804, 'completed_by'), (1805, 'completed_by'), (1806, 'completed_by'), (1807, 'completed_by'), (1808, 'completed_by'), (1809, 'completed_by'), (1810, 'completed_by'), (1811, 'completed_by'), (1812, 'completed_by'), (1813, 'completed_by'), (1814, 'completed_by'), (1815, 'completed_by'), (1816, 'completed_by'), (1817, 'completed_by'), (1818, 'completed_by'), (1819, 'completed_by'), (1820, 'completed_by'), (1821, 'completed_by'), (1822, 'completed_by'), (1823, 'completed_by'), (1824, 'completed_by'), (1825, 'completed_by'), (1826, 'completed_by'), (1827, 'completed_by'), (1829, 'completed_by'), (1831, 'completed_by'), (1832, 'completed_by'), (1833, 'completed_by'), (1834, 'completed_by'), (1835, 'completed_by'), (1836, 'completed_by'), (1837, 'completed_by'), (1838, 'completed_by'), (1839, 'completed_by'), (1840, 'completed_by'), (1841, 'completed_by'), (1842, 'completed_by'), (1843, 'completed_by'), (1844, 'completed_by'), (1846, 'completed_by'), (1847, 'completed_by'), (1848, 'completed_by'), (1850, 'completed_by'), (1851, 'completed_by'), (1852, 'completed_by'), (1853, 'completed_by'), (1854, 'completed_by'), (1855, 'completed_by'), (1856, 'completed_by'), (1857, 'completed_by'), (1858, 'completed_by'), (1859, 'completed_by'), (1860, 'completed_by'), (1861, 'completed_by'), (1862, 'completed_by'), (1863, 'completed_by'), (1864, 'completed_by'), (1865, 'completed_by'), (1866, 'completed_by'), (1867, 'completed_by'), (1868, 'completed_by'), (1869, 'completed_by'), (1870, 'completed_by'), (1872, 'completed_by'), (1873, 'completed_by'), (1874, 'completed_by'), (1875, 'completed_by'), (1876, 'completed_by'), (1877, 'completed_by'), (1878, 'completed_by'), (1880, 'completed_by'), (1881, 'completed_by'), (1882, 'completed_by'), (1883, 'completed_by'), (1884, 'completed_by'), (1885, 'completed_by'), (1886, 'completed_by'), (1887, 'completed_by'), (1888, 'completed_by'), (1889, 'completed_by'), (1890, 'completed_by'), (1891, 'completed_by'), (1892, 'completed_by'), (1893, 'completed_by'), (1894, 'completed_by'), (1895, 'completed_by'), (1896, 'completed_by'), (1897, 'completed_by'), (1898, 'completed_by'), (1899, 'completed_by'), (1900, 'completed_by'), (1901, 'completed_by'), (1902, 'completed_by'), (1903, 'completed_by'), (1904, 'completed_by'), (1905, 'completed_by'), (1906, 'completed_by'), (1907, 'completed_by'), (1908, 'completed_by'), (1909, 'completed_by'), (1910, 'completed_by'), (1911, 'completed_by'), (1912, 'completed_by'), (1913, 'completed_by'), (1914, 'completed_by'), (1915, 'completed_by'), (1916, 'completed_by'), (1917, 'completed_by'), (1918, 'completed_by'), (1919, 'completed_by'), (1920, 'completed_by'), (1921, 'completed_by'), (1922, 'completed_by'), (1923, 'completed_by'), (1924, 'completed_by'), (1925, 'completed_by'), (1927, 'completed_by'), (1928, 'completed_by'), (1929, 'completed_by'), (1930, 'completed_by'), (1931, 'completed_by'), (1932, 'completed_by'), (1933, 'completed_by'), (1934, 'completed_by'), (1935, 'completed_by'), (1936, 'completed_by'), (1937, 'completed_by'), (1938, 'completed_by'), (1939, 'completed_by'), (1940, 'completed_by'), (1941, 'completed_by'), (1942, 'completed_by'), (1943, 'completed_by'), (1944, 'completed_by'), (1945, 'completed_by'), (1946, 'completed_by'), (1947, 'completed_by'), (1948, 'completed_by'), (1949, 'completed_by'), (1950, 'completed_by'), (1951, 'completed_by'), (1952, 'completed_by'), (1953, 'completed_by'), (1954, 'completed_by'), (1955, 'completed_by'), (1956, 'completed_by'), (1957, 'completed_by'), (1958, 'completed_by'), (1959, 'completed_by'), (1960, 'completed_by'), (1961, 'completed_by'), (1962, 'completed_by'), (1963, 'completed_by'), (1964, 'completed_by'), (1965, 'completed_by'), (1966, 'completed_by'), (1967, 'completed_by'), (1968, 'completed_by'), (1969, 'completed_by'), (1970, 'completed_by'), (1971, 'completed_by'), (1973, 'completed_by'), (1974, 'completed_by'), (1975, 'completed_by'), (1976, 'completed_by'), (1977, 'completed_by'), (1978, 'completed_by'), (1979, 'completed_by'), (1980, 'completed_by'), (1981, 'completed_by'), (1982, 'completed_by'), (1983, 'completed_by'), (1984, 'completed_by'), (1985, 'completed_by'), (1986, 'completed_by'), (1987, 'completed_by'), (1988, 'completed_by'), (1989, 'completed_by'), (1990, 'completed_by'), (1991, 'completed_by'), (1992, 'completed_by'), (1993, 'completed_by'), (1994, 'completed_by'), (1995, 'completed_by'), (1996, 'completed_by'), (1997, 'completed_by'), (1998, 'completed_by'), (1999, 'completed_by'), (2000, 'completed_by'), (2001, 'completed_by'), (2002, 'completed_by'), (2003, 'completed_by'), (2004, 'completed_by'), (2005, 'completed_by'), (2006, 'completed_by'), (2007, 'completed_by'), (2008, 'completed_by'), (2009, 'completed_by'), (2010, 'completed_by'), (2011, 'completed_by'), (2012, 'completed_by'), (2013, 'completed_by'), (2014, 'completed_by'), (2015, 'completed_by'), (2016, 'completed_by'), (2017, 'completed_by'), (2018, 'completed_by'), (2019, 'completed_by'), (2020, 'completed_by'), (2021, 'completed_by'), (2022, 'completed_by'), (2023, 'completed_by'), (2024, 'completed_by'), (2025, 'completed_by'), (2026, 'completed_by'), (2027, 'completed_by'), (2028, 'completed_by'), (2029, 'completed_by'), (2030, 'completed_by'), (2031, 'completed_by'), (2032, 'completed_by'), (2033, 'completed_by'), (2034, 'completed_by'), (2035, 'completed_by'), (2036, 'completed_by'), (2037, 'completed_by'), (2038, 'completed_by'), (2039, 'completed_by'), (2040, 'completed_by'), (2041, 'completed_by'), (2042, 'completed_by'), (2043, 'completed_by'), (2044, 'completed_by'), (2045, 'completed_by'), (2046, 'completed_by'), (2047, 'completed_by'), (2048, 'completed_by'), (2049, 'completed_by'), (2050, 'completed_by'), (2051, 'completed_by'), (2052, 'completed_by'), (2053, 'completed_by'), (2054, 'completed_by'), (2055, 'completed_by'), (2056, 'completed_by'), (2057, 'completed_by'), (2058, 'completed_by'), (2059, 'completed_by'), (2060, 'completed_by'), (2061, 'completed_by'), (2062, 'completed_by'), (2063, 'completed_by'), (2064, 'completed_by'), (2065, 'completed_by'), (2066, 'completed_by'), (2067, 'completed_by'), (2068, 'completed_by'), (2069, 'completed_by'), (2070, 'completed_by'), (2071, 'completed_by'), (2072, 'completed_by'), (2073, 'completed_by'), (2074, 'completed_by'), (2075, 'completed_by'), (2076, 'completed_by'), (2077, 'completed_by'), (2078, 'completed_by'), (2079, 'completed_by'), (2080, 'completed_by'), (2081, 'completed_by'), (2082, 'completed_by'), (2083, 'completed_by'), (2084, 'completed_by'), (2085, 'completed_by'), (2086, 'completed_by'), (2087, 'completed_by'), (2088, 'completed_by'), (2089, 'completed_by'), (2090, 'completed_by'), (2091, 'completed_by'), (2092, 'completed_by'), (2093, 'completed_by'), (2094, 'completed_by'), (2095, 'completed_by'), (2097, 'completed_by'), (2098, 'completed_by'), (2099, 'completed_by'), (2100, 'completed_by'), (2101, 'completed_by'), (2102, 'completed_by'), (2103, 'completed_by'), (2104, 'completed_by'), (2105, 'completed_by'), (2106, 'completed_by'), (2107, 'completed_by'), (2108, 'completed_by'), (2109, 'completed_by'), (2110, 'completed_by'), (2111, 'completed_by'), (2112, 'completed_by'), (2113, 'completed_by'), (2114, 'completed_by'), (2115, 'completed_by'), (2116, 'completed_by'), (2117, 'completed_by'), (2118, 'completed_by'), (2119, 'completed_by'), (2120, 'completed_by'), (2121, 'completed_by'), (2122, 'completed_by'), (2123, 'completed_by'), (2124, 'completed_by'), (2125, 'completed_by'), (2126, 'completed_by'), (2127, 'completed_by'), (2128, 'completed_by'), (2129, 'completed_by'), (2130, 'completed_by'), (2131, 'completed_by'), (2132, 'completed_by'), (2133, 'completed_by'), (2134, 'completed_by'), (2135, 'completed_by'), (2136, 'completed_by'), (2137, 'completed_by'), (2138, 'completed_by'), (2139, 'completed_by'), (2140, 'completed_by'), (2141, 'completed_by'), (2142, 'completed_by'), (2143, 'completed_by'), (2144, 'completed_by'), (2145, 'completed_by'), (2146, 'completed_by'), (2147, 'completed_by'), (2148, 'completed_by'), (2149, 'completed_by'), (2150, 'completed_by'), (2151, 'completed_by'), (2152, 'completed_by'), (2153, 'completed_by'), (2154, 'completed_by'), (2155, 'completed_by'), (2156, 'completed_by'), (2157, 'completed_by'), (2158, 'completed_by'), (2159, 'completed_by'), (2160, 'completed_by'), (2161, 'completed_by'), (2162, 'completed_by'), (2163, 'completed_by'), (2164, 'completed_by'), (2165, 'completed_by'), (2166, 'completed_by'), (2167, 'completed_by'), (2168, 'completed_by'), (2169, 'completed_by'), (2170, 'completed_by'), (2171, 'completed_by'), (2172, 'completed_by'), (2173, 'completed_by'), (2174, 'completed_by'), (2175, 'completed_by'), (2176, 'completed_by'), (2177, 'completed_by'), (2178, 'completed_by'), (2179, 'completed_by'), (2180, 'completed_by'), (2181, 'completed_by'), (2182, 'completed_by'), (2183, 'completed_by'), (2184, 'completed_by'), (2185, 'completed_by'), (2186, 'completed_by'), (2187, 'completed_by'), (2188, 'completed_by'), (2189, 'completed_by'), (2190, 'completed_by'), (2191, 'completed_by'), (2192, 'completed_by'), (2193, 'completed_by'), (2194, 'completed_by'), (2195, 'completed_by'), (2196, 'completed_by'), (2197, 'completed_by'), (2198, 'completed_by'), (2199, 'completed_by'), (2200, 'completed_by'), (2201, 'completed_by'), (2202, 'completed_by'), (2203, 'completed_by'), (2204, 'completed_by'), (2205, 'completed_by'), (2206, 'completed_by'), (2207, 'completed_by'), (2208, 'completed_by'), (2209, 'completed_by'), (2210, 'completed_by'), (2211, 'completed_by'), (2212, 'completed_by'), (2213, 'completed_by'), (2214, 'completed_by'), (2215, 'completed_by'), (2216, 'completed_by'), (2217, 'completed_by'), (2218, 'completed_by'), (2219, 'completed_by'), (2220, 'completed_by'), (2221, 'completed_by'), (2222, 'completed_by'), (2223, 'completed_by'), (2224, 'completed_by'), (2228, 'completed_by'), (2229, 'completed_by'), (2230, 'completed_by'), (2231, 'completed_by'), (2232, 'completed_by'), (2233, 'completed_by'), (2234, 'completed_by'), (2235, 'completed_by'), (2236, 'completed_by'), (2237, 'completed_by'), (2238, 'completed_by'), (2239, 'completed_by'), (2240, 'completed_by'), (2241, 'completed_by'), (2242, 'completed_by'), (2243, 'completed_by'), (2244, 'completed_by'), (2245, 'completed_by'), (2247, 'completed_by'), (2248, 'completed_by'), (2249, 'completed_by'), (2250, 'completed_by'), (2251, 'completed_by'), (2252, 'completed_by'), (2253, 'completed_by'), (2254, 'completed_by'), (2255, 'completed_by'), (2256, 'completed_by'), (2257, 'completed_by'), (2258, 'completed_by'), (2259, 'completed_by'), (2260, 'completed_by'), (2261, 'completed_by'), (2262, 'completed_by'), (2263, 'completed_by'), (2264, 'completed_by'), (2265, 'completed_by'), (2266, 'completed_by'), (2268, 'completed_by'), (2269, 'completed_by'), (2270, 'completed_by'), (2272, 'completed_by'), (2273, 'completed_by'), (2274, 'completed_by'), (2275, 'completed_by'), (2276, 'completed_by'), (2277, 'completed_by'), (2278, 'completed_by'), (2279, 'completed_by'), (2280, 'completed_by'), (2281, 'completed_by'), (2282, 'completed_by'), (2283, 'completed_by'), (2284, 'completed_by'), (2285, 'completed_by'), (2286, 'completed_by'), (2287, 'completed_by'), (2288, 'completed_by'), (2289, 'completed_by'), (2290, 'completed_by'), (2291, 'completed_by'), (2292, 'completed_by'), (2293, 'completed_by'), (2294, 'completed_by'), (2295, 'completed_by'), (2296, 'completed_by'), (2297, 'completed_by'), (2299, 'completed_by'), (2300, 'completed_by'), (2301, 'completed_by'), (2302, 'completed_by'), (2303, 'completed_by'), (2305, 'completed_by'), (2306, 'completed_by'), (2307, 'completed_by'), (2308, 'completed_by'), (2309, 'completed_by'), (2311, 'completed_by'), (2312, 'completed_by'), (2313, 'completed_by'), (2314, 'completed_by'), (2315, 'completed_by'), (2316, 'completed_by'), (2317, 'completed_by'), (2318, 'completed_by'), (2319, 'completed_by'), (2320, 'completed_by'), (2321, 'completed_by'), (2322, 'completed_by'), (2323, 'completed_by'), (2324, 'completed_by'), (2325, 'completed_by'), (2326, 'completed_by'), (2327, 'completed_by'), (2328, 'completed_by'), (2329, 'completed_by'), (2330, 'completed_by'), (2331, 'completed_by'), (2332, 'completed_by'), (2333, 'completed_by'), (2334, 'completed_by'), (2335, 'completed_by'), (2336, 'completed_by'), (2337, 'completed_by'), (2338, 'completed_by'), (2339, 'completed_by'), (2340, 'completed_by'), (2341, 'completed_by'), (2342, 'completed_by'), (2343, 'completed_by'), (2344, 'completed_by'), (2345, 'completed_by'), (2346, 'completed_by'), (2347, 'completed_by'), (2348, 'completed_by'), (2349, 'completed_by'), (2350, 'completed_by'), (2352, 'completed_by'), (2353, 'completed_by'), (2354, 'completed_by'), (2355, 'completed_by'), (2356, 'completed_by'), (2357, 'completed_by'), (2358, 'completed_by'), (2359, 'completed_by'), (2360, 'completed_by'), (2361, 'completed_by'), (2363, 'completed_by'), (2364, 'completed_by'), (2365, 'completed_by'), (2366, 'completed_by'), (2367, 'completed_by'), (2368, 'completed_by'), (2369, 'completed_by'), (2370, 'completed_by'), (2372, 'completed_by'), (2373, 'completed_by'), (2374, 'completed_by'), (2375, 'completed_by'), (2376, 'completed_by'), (2377, 'completed_by'), (2378, 'completed_by'), (2379, 'completed_by'), (2380, 'completed_by'), (2381, 'completed_by'), (2382, 'completed_by'), (2383, 'completed_by'), (2384, 'completed_by'), (2385, 'completed_by'), (2386, 'completed_by'), (2387, 'completed_by'), (2388, 'completed_by'), (2389, 'completed_by'), (2390, 'completed_by'), (2392, 'completed_by'), (2393, 'completed_by'), (2394, 'completed_by'), (2395, 'completed_by'), (2396, 'completed_by'), (2397, 'completed_by'), (2398, 'completed_by'), (2399, 'completed_by'), (2400, 'completed_by'), (2401, 'completed_by'), (2402, 'completed_by'), (2403, 'completed_by'), (2404, 'completed_by'), (2405, 'completed_by'), (2406, 'completed_by'), (2408, 'completed_by'), (2409, 'completed_by'), (2410, 'completed_by'), (2412, 'completed_by'), (2413, 'completed_by'), (2414, 'completed_by'), (2415, 'completed_by'), (2416, 'completed_by'), (2417, 'completed_by'), (2418, 'completed_by'), (2419, 'completed_by'), (2420, 'completed_by'), (2421, 'completed_by'), (2423, 'completed_by'), (2424, 'completed_by'), (2425, 'completed_by'), (2426, 'completed_by'), (2427, 'completed_by'), (2428, 'completed_by'), (2429, 'completed_by'), (2430, 'completed_by'), (2432, 'completed_by'), (2433, 'completed_by'), (2434, 'completed_by'), (2435, 'completed_by'), (2436, 'completed_by'), (2437, 'completed_by'), (2438, 'completed_by'), (2439, 'completed_by'), (2440, 'completed_by'), (2441, 'completed_by'), (2442, 'completed_by'), (2443, 'completed_by'), (2444, 'completed_by'), (2445, 'completed_by'), (2446, 'completed_by'), (2447, 'completed_by'), (2448, 'completed_by'), (2449, 'completed_by'), (2450, 'completed_by'), (2451, 'completed_by'), (2452, 'completed_by'), (2453, 'completed_by'), (2454, 'completed_by'), (2455, 'completed_by'), (2456, 'completed_by'), (2457, 'completed_by'), (2458, 'completed_by'), (2459, 'completed_by'), (2460, 'completed_by'), (2461, 'completed_by'), (2462, 'completed_by'), (2463, 'completed_by'), (2464, 'completed_by'), (2465, 'completed_by'), (2466, 'completed_by'), (2467, 'completed_by'), (2468, 'completed_by'), (2469, 'completed_by'), (2470, 'completed_by'), (2471, 'completed_by'), (2472, 'completed_by'), (2473, 'completed_by'), (2474, 'completed_by'), (2475, 'completed_by'), (2477, 'completed_by'), (2478, 'completed_by'), (2479, 'completed_by'), (2480, 'completed_by'), (2481, 'completed_by'), (2482, 'completed_by'), (2484, 'completed_by'), (2485, 'completed_by'), (2486, 'completed_by'), (2487, 'completed_by'), (2488, 'completed_by'), (2489, 'completed_by'), (2490, 'completed_by'), (2492, 'completed_by'), (2493, 'completed_by'), (2494, 'completed_by'), (2495, 'completed_by'), (2496, 'completed_by'), (2497, 'completed_by'), (2498, 'completed_by'), (2501, 'completed_by'), (2502, 'completed_by'), (2504, 'completed_by'), (2505, 'completed_by'), (2506, 'completed_by'), (2507, 'completed_by'), (2508, 'completed_by'), (2509, 'completed_by'), (2510, 'completed_by'), (2513, 'completed_by'), (2514, 'completed_by'), (2515, 'completed_by'), (2516, 'completed_by'), (2517, 'completed_by'), (2518, 'completed_by'), (2519, 'completed_by'), (2520, 'completed_by'), (2521, 'completed_by'), (2523, 'completed_by'), (2524, 'completed_by'), (2525, 'completed_by'), (2526, 'completed_by'), (2527, 'completed_by'), (2528, 'completed_by'), (2529, 'completed_by'), (2530, 'completed_by'), (2531, 'completed_by'), (2532, 'completed_by'), (2533, 'completed_by'), (2534, 'completed_by'), (2535, 'completed_by'), (2536, 'completed_by'), (2537, 'completed_by'), (2538, 'completed_by'), (2540, 'completed_by'), (2541, 'completed_by'), (2542, 'completed_by'), (2543, 'completed_by'), (2544, 'completed_by'), (2545, 'completed_by'), (2546, 'completed_by'), (2547, 'completed_by'), (2548, 'completed_by'), (2549, 'completed_by'), (2550, 'completed_by'), (2551, 'completed_by'), (2553, 'completed_by'), (2554, 'completed_by'), (2555, 'completed_by'), (2556, 'completed_by'), (2557, 'completed_by'), (2558, 'completed_by'), (2559, 'completed_by'), (2560, 'completed_by'), (2563, 'completed_by'), (2564, 'completed_by'), (2565, 'completed_by'), (2566, 'completed_by'), (2567, 'completed_by'), (2568, 'completed_by'), (2570, 'completed_by'), (2571, 'completed_by'), (2572, 'completed_by'), (2574, 'completed_by'), (2575, 'completed_by'), (2578, 'completed_by'), (1, 'date_crf_completed'), (2, 'date_crf_completed'), (3, 'date_crf_completed'), (4, 'date_crf_completed'), (5, 'date_crf_completed'), (6, 'date_crf_completed'), (7, 'date_crf_completed'), (8, 'date_crf_completed'), (9, 'date_crf_completed'), (10, 'date_crf_completed'), (11, 'date_crf_completed'), (12, 'date_crf_completed'), (13, 'date_crf_completed'), (14, 'date_crf_completed'), (15, 'date_crf_completed'), (16, 'date_crf_completed'), (17, 'date_crf_completed'), (18, 'date_crf_completed'), (19, 'date_crf_completed'), (20, 'date_crf_completed'), (21, 'date_crf_completed'), (22, 'date_crf_completed'), (23, 'date_crf_completed'), (24, 'date_crf_completed'), (25, 'date_crf_completed'), (26, 'date_crf_completed'), (27, 'date_crf_completed'), (28, 'date_crf_completed'), (29, 'date_crf_completed'), (30, 'date_crf_completed'), (31, 'date_crf_completed'), (32, 'date_crf_completed'), (33, 'date_crf_completed'), (34, 'date_crf_completed'), (35, 'date_crf_completed'), (36, 'date_crf_completed'), (37, 'date_crf_completed'), (38, 'date_crf_completed'), (39, 'date_crf_completed'), (40, 'date_crf_completed'), (41, 'date_crf_completed'), (42, 'date_crf_completed'), (43, 'date_crf_completed'), (44, 'date_crf_completed'), (45, 'date_crf_completed'), (46, 'date_crf_completed'), (47, 'date_crf_completed'), (48, 'date_crf_completed'), (49, 'date_crf_completed'), (50, 'date_crf_completed'), (51, 'date_crf_completed'), (52, 'date_crf_completed'), (53, 'date_crf_completed'), (54, 'date_crf_completed'), (55, 'date_crf_completed'), (56, 'date_crf_completed'), (57, 'date_crf_completed'), (58, 'date_crf_completed'), (59, 'date_crf_completed'), (60, 'date_crf_completed'), (61, 'date_crf_completed'), (62, 'date_crf_completed'), (63, 'date_crf_completed'), (64, 'date_crf_completed'), (65, 'date_crf_completed'), (66, 'date_crf_completed'), (67, 'date_crf_completed'), (68, 'date_crf_completed'), (69, 'date_crf_completed'), (70, 'date_crf_completed'), (71, 'date_crf_completed'), (72, 'date_crf_completed'), (73, 'date_crf_completed'), (74, 'date_crf_completed'), (75, 'date_crf_completed'), (76, 'date_crf_completed'), (77, 'date_crf_completed'), (78, 'date_crf_completed'), (79, 'date_crf_completed'), (80, 'date_crf_completed'), (81, 'date_crf_completed'), (82, 'date_crf_completed'), (83, 'date_crf_completed'), (84, 'date_crf_completed'), (85, 'date_crf_completed'), (86, 'date_crf_completed'), (87, 'date_crf_completed'), (88, 'date_crf_completed'), (89, 'date_crf_completed'), (90, 'date_crf_completed'), (91, 'date_crf_completed'), (92, 'date_crf_completed'), (93, 'date_crf_completed'), (94, 'date_crf_completed'), (95, 'date_crf_completed'), (96, 'date_crf_completed'), (97, 'date_crf_completed'), (98, 'date_crf_completed'), (99, 'date_crf_completed'), (100, 'date_crf_completed'), (101, 'date_crf_completed'), (102, 'date_crf_completed'), (103, 'date_crf_completed'), (104, 'date_crf_completed'), (105, 'date_crf_completed'), (106, 'date_crf_completed'), (107, 'date_crf_completed'), (108, 'date_crf_completed'), (109, 'date_crf_completed'), (110, 'date_crf_completed'), (111, 'date_crf_completed'), (112, 'date_crf_completed'), (113, 'date_crf_completed'), (114, 'date_crf_completed'), (115, 'date_crf_completed'), (116, 'date_crf_completed'), (117, 'date_crf_completed'), (118, 'date_crf_completed'), (119, 'date_crf_completed'), (120, 'date_crf_completed'), (121, 'date_crf_completed'), (122, 'date_crf_completed'), (123, 'date_crf_completed'), (124, 'date_crf_completed'), (125, 'date_crf_completed'), (126, 'date_crf_completed'), (127, 'date_crf_completed'), (128, 'date_crf_completed'), (129, 'date_crf_completed'), (130, 'date_crf_completed'), (131, 'date_crf_completed'), (132, 'date_crf_completed'), (133, 'date_crf_completed'), (134, 'date_crf_completed'), (135, 'date_crf_completed'), (136, 'date_crf_completed'), (137, 'date_crf_completed'), (138, 'date_crf_completed'), (139, 'date_crf_completed'), (140, 'date_crf_completed'), (141, 'date_crf_completed'), (142, 'date_crf_completed'), (143, 'date_crf_completed'), (144, 'date_crf_completed'), (145, 'date_crf_completed'), (146, 'date_crf_completed'), (147, 'date_crf_completed'), (148, 'date_crf_completed'), (149, 'date_crf_completed'), (150, 'date_crf_completed'), (151, 'date_crf_completed'), (152, 'date_crf_completed'), (153, 'date_crf_completed'), (154, 'date_crf_completed'), (155, 'date_crf_completed'), (156, 'date_crf_completed'), (157, 'date_crf_completed'), (158, 'date_crf_completed'), (159, 'date_crf_completed'), (160, 'date_crf_completed'), (161, 'date_crf_completed'), (162, 'date_crf_completed'), (163, 'date_crf_completed'), (164, 'date_crf_completed'), (165, 'date_crf_completed'), (166, 'date_crf_completed'), (167, 'date_crf_completed'), (168, 'date_crf_completed'), (169, 'date_crf_completed'), (170, 'date_crf_completed'), (171, 'date_crf_completed'), (172, 'date_crf_completed'), (173, 'date_crf_completed'), (174, 'date_crf_completed'), (175, 'date_crf_completed'), (176, 'date_crf_completed'), (177, 'date_crf_completed'), (178, 'date_crf_completed'), (179, 'date_crf_completed'), (180, 'date_crf_completed'), (181, 'date_crf_completed'), (182, 'date_crf_completed'), (183, 'date_crf_completed'), (184, 'date_crf_completed'), (185, 'date_crf_completed'), (186, 'date_crf_completed'), (187, 'date_crf_completed'), (188, 'date_crf_completed'), (189, 'date_crf_completed'), (190, 'date_crf_completed'), (191, 'date_crf_completed'), (192, 'date_crf_completed'), (193, 'date_crf_completed'), (194, 'date_crf_completed'), (195, 'date_crf_completed'), (196, 'date_crf_completed'), (197, 'date_crf_completed'), (198, 'date_crf_completed'), (199, 'date_crf_completed'), (200, 'date_crf_completed'), (201, 'date_crf_completed'), (202, 'date_crf_completed'), (203, 'date_crf_completed'), (204, 'date_crf_completed'), (205, 'date_crf_completed'), (206, 'date_crf_completed'), (207, 'date_crf_completed'), (208, 'date_crf_completed'), (209, 'date_crf_completed'), (210, 'date_crf_completed'), (211, 'date_crf_completed'), (212, 'date_crf_completed'), (213, 'date_crf_completed'), (214, 'date_crf_completed'), (215, 'date_crf_completed'), (216, 'date_crf_completed'), (217, 'date_crf_completed'), (218, 'date_crf_completed'), (219, 'date_crf_completed'), (220, 'date_crf_completed'), (221, 'date_crf_completed'), (222, 'date_crf_completed'), (223, 'date_crf_completed'), (224, 'date_crf_completed'), (225, 'date_crf_completed'), (226, 'date_crf_completed'), (227, 'date_crf_completed'), (228, 'date_crf_completed'), (229, 'date_crf_completed'), (230, 'date_crf_completed'), (231, 'date_crf_completed'), (232, 'date_crf_completed'), (233, 'date_crf_completed'), (234, 'date_crf_completed'), (235, 'date_crf_completed'), (236, 'date_crf_completed'), (237, 'date_crf_completed'), (238, 'date_crf_completed'), (239, 'date_crf_completed'), (240, 'date_crf_completed'), (241, 'date_crf_completed'), (242, 'date_crf_completed'), (243, 'date_crf_completed'), (244, 'date_crf_completed'), (245, 'date_crf_completed'), (246, 'date_crf_completed'), (247, 'date_crf_completed'), (248, 'date_crf_completed'), (249, 'date_crf_completed'), (250, 'date_crf_completed'), (251, 'date_crf_completed'), (252, 'date_crf_completed'), (253, 'date_crf_completed'), (254, 'date_crf_completed'), (255, 'date_crf_completed'), (256, 'date_crf_completed'), (257, 'date_crf_completed'), (258, 'date_crf_completed'), (259, 'date_crf_completed'), (260, 'date_crf_completed'), (261, 'date_crf_completed'), (262, 'date_crf_completed'), (263, 'date_crf_completed'), (264, 'date_crf_completed'), (265, 'date_crf_completed'), (266, 'date_crf_completed'), (267, 'date_crf_completed'), (268, 'date_crf_completed'), (269, 'date_crf_completed'), (270, 'date_crf_completed'), (271, 'date_crf_completed'), (272, 'date_crf_completed'), (273, 'date_crf_completed'), (274, 'date_crf_completed'), (275, 'date_crf_completed'), (276, 'date_crf_completed'), (277, 'date_crf_completed'), (278, 'date_crf_completed'), (279, 'date_crf_completed'), (280, 'date_crf_completed'), (281, 'date_crf_completed'), (282, 'date_crf_completed'), (283, 'date_crf_completed'), (284, 'date_crf_completed'), (285, 'date_crf_completed'), (286, 'date_crf_completed'), (287, 'date_crf_completed'), (288, 'date_crf_completed'), (289, 'date_crf_completed'), (290, 'date_crf_completed'), (291, 'date_crf_completed'), (292, 'date_crf_completed'), (293, 'date_crf_completed'), (294, 'date_crf_completed'), (295, 'date_crf_completed'), (296, 'date_crf_completed'), (297, 'date_crf_completed'), (298, 'date_crf_completed'), (299, 'date_crf_completed'), (300, 'date_crf_completed'), (301, 'date_crf_completed'), (302, 'date_crf_completed'), (303, 'date_crf_completed'), (304, 'date_crf_completed'), (305, 'date_crf_completed'), (306, 'date_crf_completed'), (307, 'date_crf_completed'), (308, 'date_crf_completed'), (309, 'date_crf_completed'), (310, 'date_crf_completed'), (311, 'date_crf_completed'), (312, 'date_crf_completed'), (313, 'date_crf_completed'), (314, 'date_crf_completed'), (315, 'date_crf_completed'), (316, 'date_crf_completed'), (317, 'date_crf_completed'), (318, 'date_crf_completed'), (319, 'date_crf_completed'), (320, 'date_crf_completed'), (321, 'date_crf_completed'), (322, 'date_crf_completed'), (323, 'date_crf_completed'), (324, 'date_crf_completed'), (325, 'date_crf_completed'), (326, 'date_crf_completed'), (327, 'date_crf_completed'), (328, 'date_crf_completed'), (329, 'date_crf_completed'), (330, 'date_crf_completed'), (331, 'date_crf_completed'), (332, 'date_crf_completed'), (333, 'date_crf_completed'), (334, 'date_crf_completed'), (335, 'date_crf_completed'), (336, 'date_crf_completed'), (337, 'date_crf_completed'), (338, 'date_crf_completed'), (339, 'date_crf_completed'), (340, 'date_crf_completed'), (341, 'date_crf_completed'), (342, 'date_crf_completed'), (343, 'date_crf_completed'), (344, 'date_crf_completed'), (345, 'date_crf_completed'), (346, 'date_crf_completed'), (347, 'date_crf_completed'), (348, 'date_crf_completed'), (349, 'date_crf_completed'), (350, 'date_crf_completed'), (351, 'date_crf_completed'), (352, 'date_crf_completed'), (353, 'date_crf_completed'), (354, 'date_crf_completed'), (355, 'date_crf_completed'), (356, 'date_crf_completed'), (357, 'date_crf_completed'), (358, 'date_crf_completed'), (359, 'date_crf_completed'), (360, 'date_crf_completed'), (361, 'date_crf_completed'), (362, 'date_crf_completed'), (363, 'date_crf_completed'), (364, 'date_crf_completed'), (365, 'date_crf_completed'), (366, 'date_crf_completed'), (367, 'date_crf_completed'), (368, 'date_crf_completed'), (369, 'date_crf_completed'), (370, 'date_crf_completed'), (371, 'date_crf_completed'), (372, 'date_crf_completed'), (373, 'date_crf_completed'), (374, 'date_crf_completed'), (375, 'date_crf_completed'), (376, 'date_crf_completed'), (377, 'date_crf_completed'), (378, 'date_crf_completed'), (379, 'date_crf_completed'), (380, 'date_crf_completed'), (381, 'date_crf_completed'), (382, 'date_crf_completed'), (383, 'date_crf_completed'), (384, 'date_crf_completed'), (385, 'date_crf_completed'), (386, 'date_crf_completed'), (387, 'date_crf_completed'), (388, 'date_crf_completed'), (389, 'date_crf_completed'), (390, 'date_crf_completed'), (391, 'date_crf_completed'), (392, 'date_crf_completed'), (393, 'date_crf_completed'), (394, 'date_crf_completed'), (395, 'date_crf_completed'), (396, 'date_crf_completed'), (397, 'date_crf_completed'), (398, 'date_crf_completed'), (399, 'date_crf_completed'), (400, 'date_crf_completed'), (401, 'date_crf_completed'), (402, 'date_crf_completed'), (403, 'date_crf_completed'), (404, 'date_crf_completed'), (405, 'date_crf_completed'), (406, 'date_crf_completed'), (407, 'date_crf_completed'), (408, 'date_crf_completed'), (409, 'date_crf_completed'), (410, 'date_crf_completed'), (411, 'date_crf_completed'), (412, 'date_crf_completed'), (413, 'date_crf_completed'), (414, 'date_crf_completed'), (415, 'date_crf_completed'), (416, 'date_crf_completed'), (417, 'date_crf_completed'), (418, 'date_crf_completed'), (419, 'date_crf_completed'), (420, 'date_crf_completed'), (421, 'date_crf_completed'), (422, 'date_crf_completed'), (423, 'date_crf_completed'), (424, 'date_crf_completed'), (425, 'date_crf_completed'), (426, 'date_crf_completed'), (427, 'date_crf_completed'), (428, 'date_crf_completed'), (429, 'date_crf_completed'), (430, 'date_crf_completed'), (431, 'date_crf_completed'), (432, 'date_crf_completed'), (433, 'date_crf_completed'), (434, 'date_crf_completed'), (435, 'date_crf_completed'), (436, 'date_crf_completed'), (437, 'date_crf_completed'), (438, 'date_crf_completed'), (439, 'date_crf_completed'), (440, 'date_crf_completed'), (441, 'date_crf_completed'), (442, 'date_crf_completed'), (443, 'date_crf_completed'), (444, 'date_crf_completed'), (445, 'date_crf_completed'), (446, 'date_crf_completed'), (447, 'date_crf_completed'), (448, 'date_crf_completed'), (449, 'date_crf_completed'), (450, 'date_crf_completed'), (451, 'date_crf_completed'), (452, 'date_crf_completed'), (453, 'date_crf_completed'), (454, 'date_crf_completed'), (455, 'date_crf_completed'), (456, 'date_crf_completed'), (457, 'date_crf_completed'), (458, 'date_crf_completed'), (459, 'date_crf_completed'), (460, 'date_crf_completed'), (461, 'date_crf_completed'), (462, 'date_crf_completed'), (463, 'date_crf_completed'), (464, 'date_crf_completed'), (465, 'date_crf_completed'), (466, 'date_crf_completed'), (467, 'date_crf_completed'), (468, 'date_crf_completed'), (469, 'date_crf_completed'), (471, 'date_crf_completed'), (472, 'date_crf_completed'), (473, 'date_crf_completed'), (474, 'date_crf_completed'), (475, 'date_crf_completed'), (476, 'date_crf_completed'), (477, 'date_crf_completed'), (478, 'date_crf_completed'), (479, 'date_crf_completed'), (480, 'date_crf_completed'), (481, 'date_crf_completed'), (482, 'date_crf_completed'), (483, 'date_crf_completed'), (484, 'date_crf_completed'), (485, 'date_crf_completed'), (486, 'date_crf_completed'), (487, 'date_crf_completed'), (488, 'date_crf_completed'), (489, 'date_crf_completed'), (490, 'date_crf_completed'), (491, 'date_crf_completed'), (492, 'date_crf_completed'), (493, 'date_crf_completed'), (494, 'date_crf_completed'), (495, 'date_crf_completed'), (496, 'date_crf_completed'), (497, 'date_crf_completed'), (498, 'date_crf_completed'), (499, 'date_crf_completed'), (500, 'date_crf_completed'), (501, 'date_crf_completed'), (502, 'date_crf_completed'), (503, 'date_crf_completed'), (504, 'date_crf_completed'), (505, 'date_crf_completed'), (506, 'date_crf_completed'), (507, 'date_crf_completed'), (508, 'date_crf_completed'), (509, 'date_crf_completed'), (510, 'date_crf_completed'), (511, 'date_crf_completed'), (512, 'date_crf_completed'), (513, 'date_crf_completed'), (514, 'date_crf_completed'), (515, 'date_crf_completed'), (516, 'date_crf_completed'), (517, 'date_crf_completed'), (518, 'date_crf_completed'), (519, 'date_crf_completed'), (520, 'date_crf_completed'), (521, 'date_crf_completed'), (522, 'date_crf_completed'), (523, 'date_crf_completed'), (524, 'date_crf_completed'), (525, 'date_crf_completed'), (526, 'date_crf_completed'), (527, 'date_crf_completed'), (528, 'date_crf_completed'), (529, 'date_crf_completed'), (530, 'date_crf_completed'), (531, 'date_crf_completed'), (532, 'date_crf_completed'), (533, 'date_crf_completed'), (534, 'date_crf_completed'), (535, 'date_crf_completed'), (536, 'date_crf_completed'), (537, 'date_crf_completed'), (538, 'date_crf_completed'), (539, 'date_crf_completed'), (540, 'date_crf_completed'), (541, 'date_crf_completed'), (542, 'date_crf_completed'), (543, 'date_crf_completed'), (544, 'date_crf_completed'), (545, 'date_crf_completed'), (546, 'date_crf_completed'), (547, 'date_crf_completed'), (548, 'date_crf_completed'), (549, 'date_crf_completed'), (550, 'date_crf_completed'), (551, 'date_crf_completed'), (552, 'date_crf_completed'), (553, 'date_crf_completed'), (554, 'date_crf_completed'), (555, 'date_crf_completed'), (556, 'date_crf_completed'), (557, 'date_crf_completed'), (558, 'date_crf_completed'), (559, 'date_crf_completed'), (560, 'date_crf_completed'), (561, 'date_crf_completed'), (562, 'date_crf_completed'), (563, 'date_crf_completed'), (564, 'date_crf_completed'), (565, 'date_crf_completed'), (566, 'date_crf_completed'), (567, 'date_crf_completed'), (568, 'date_crf_completed'), (569, 'date_crf_completed'), (570, 'date_crf_completed'), (571, 'date_crf_completed'), (572, 'date_crf_completed'), (573, 'date_crf_completed'), (574, 'date_crf_completed'), (575, 'date_crf_completed'), (576, 'date_crf_completed'), (577, 'date_crf_completed'), (578, 'date_crf_completed'), (579, 'date_crf_completed'), (580, 'date_crf_completed'), (581, 'date_crf_completed'), (582, 'date_crf_completed'), (583, 'date_crf_completed'), (584, 'date_crf_completed'), (585, 'date_crf_completed'), (586, 'date_crf_completed'), (587, 'date_crf_completed'), (588, 'date_crf_completed'), (589, 'date_crf_completed'), (590, 'date_crf_completed'), (591, 'date_crf_completed'), (592, 'date_crf_completed'), (593, 'date_crf_completed'), (594, 'date_crf_completed'), (595, 'date_crf_completed'), (596, 'date_crf_completed'), (597, 'date_crf_completed'), (598, 'date_crf_completed'), (599, 'date_crf_completed'), (600, 'date_crf_completed'), (601, 'date_crf_completed'), (602, 'date_crf_completed'), (603, 'date_crf_completed'), (604, 'date_crf_completed'), (605, 'date_crf_completed'), (606, 'date_crf_completed'), (607, 'date_crf_completed'), (608, 'date_crf_completed'), (609, 'date_crf_completed'), (610, 'date_crf_completed'), (611, 'date_crf_completed'), (612, 'date_crf_completed'), (613, 'date_crf_completed'), (614, 'date_crf_completed'), (615, 'date_crf_completed'), (616, 'date_crf_completed'), (617, 'date_crf_completed'), (618, 'date_crf_completed'), (619, 'date_crf_completed'), (620, 'date_crf_completed'), (621, 'date_crf_completed'), (622, 'date_crf_completed'), (623, 'date_crf_completed'), (624, 'date_crf_completed'), (625, 'date_crf_completed'), (626, 'date_crf_completed'), (627, 'date_crf_completed'), (628, 'date_crf_completed'), (629, 'date_crf_completed'), (630, 'date_crf_completed'), (631, 'date_crf_completed'), (632, 'date_crf_completed'), (633, 'date_crf_completed'), (634, 'date_crf_completed'), (635, 'date_crf_completed'), (636, 'date_crf_completed'), (637, 'date_crf_completed'), (638, 'date_crf_completed'), (639, 'date_crf_completed'), (640, 'date_crf_completed'), (641, 'date_crf_completed'), (642, 'date_crf_completed'), (643, 'date_crf_completed'), (644, 'date_crf_completed'), (645, 'date_crf_completed'), (646, 'date_crf_completed'), (647, 'date_crf_completed'), (648, 'date_crf_completed'), (649, 'date_crf_completed'), (650, 'date_crf_completed'), (651, 'date_crf_completed'), (652, 'date_crf_completed'), (653, 'date_crf_completed'), (654, 'date_crf_completed'), (655, 'date_crf_completed'), (656, 'date_crf_completed'), (657, 'date_crf_completed'), (658, 'date_crf_completed'), (659, 'date_crf_completed'), (660, 'date_crf_completed'), (661, 'date_crf_completed'), (662, 'date_crf_completed'), (663, 'date_crf_completed'), (664, 'date_crf_completed'), (665, 'date_crf_completed'), (666, 'date_crf_completed'), (667, 'date_crf_completed'), (668, 'date_crf_completed'), (669, 'date_crf_completed'), (670, 'date_crf_completed'), (671, 'date_crf_completed'), (672, 'date_crf_completed'), (673, 'date_crf_completed'), (674, 'date_crf_completed'), (675, 'date_crf_completed'), (676, 'date_crf_completed'), (677, 'date_crf_completed'), (678, 'date_crf_completed'), (679, 'date_crf_completed'), (680, 'date_crf_completed'), (681, 'date_crf_completed'), (682, 'date_crf_completed'), (683, 'date_crf_completed'), (684, 'date_crf_completed'), (685, 'date_crf_completed'), (686, 'date_crf_completed'), (687, 'date_crf_completed'), (688, 'date_crf_completed'), (689, 'date_crf_completed'), (690, 'date_crf_completed'), (691, 'date_crf_completed'), (692, 'date_crf_completed'), (693, 'date_crf_completed'), (694, 'date_crf_completed'), (695, 'date_crf_completed'), (696, 'date_crf_completed'), (697, 'date_crf_completed'), (698, 'date_crf_completed'), (699, 'date_crf_completed'), (700, 'date_crf_completed'), (701, 'date_crf_completed'), (702, 'date_crf_completed'), (703, 'date_crf_completed'), (704, 'date_crf_completed'), (705, 'date_crf_completed'), (706, 'date_crf_completed'), (707, 'date_crf_completed'), (708, 'date_crf_completed'), (709, 'date_crf_completed'), (710, 'date_crf_completed'), (711, 'date_crf_completed'), (712, 'date_crf_completed'), (713, 'date_crf_completed'), (714, 'date_crf_completed'), (715, 'date_crf_completed'), (716, 'date_crf_completed'), (717, 'date_crf_completed'), (718, 'date_crf_completed'), (719, 'date_crf_completed'), (720, 'date_crf_completed'), (721, 'date_crf_completed'), (722, 'date_crf_completed'), (723, 'date_crf_completed'), (724, 'date_crf_completed'), (725, 'date_crf_completed'), (726, 'date_crf_completed'), (727, 'date_crf_completed'), (728, 'date_crf_completed'), (729, 'date_crf_completed'), (730, 'date_crf_completed'), (731, 'date_crf_completed'), (732, 'date_crf_completed'), (733, 'date_crf_completed'), (734, 'date_crf_completed'), (735, 'date_crf_completed'), (736, 'date_crf_completed'), (737, 'date_crf_completed'), (738, 'date_crf_completed'), (739, 'date_crf_completed'), (740, 'date_crf_completed'), (741, 'date_crf_completed'), (742, 'date_crf_completed'), (743, 'date_crf_completed'), (744, 'date_crf_completed'), (745, 'date_crf_completed'), (746, 'date_crf_completed'), (747, 'date_crf_completed'), (748, 'date_crf_completed'), (749, 'date_crf_completed'), (750, 'date_crf_completed'), (751, 'date_crf_completed'), (752, 'date_crf_completed'), (753, 'date_crf_completed'), (754, 'date_crf_completed'), (755, 'date_crf_completed'), (756, 'date_crf_completed'), (757, 'date_crf_completed'), (758, 'date_crf_completed'), (759, 'date_crf_completed'), (760, 'date_crf_completed'), (761, 'date_crf_completed'), (762, 'date_crf_completed'), (763, 'date_crf_completed'), (764, 'date_crf_completed'), (766, 'date_crf_completed'), (767, 'date_crf_completed'), (768, 'date_crf_completed'), (769, 'date_crf_completed'), (770, 'date_crf_completed'), (771, 'date_crf_completed'), (772, 'date_crf_completed'), (773, 'date_crf_completed'), (774, 'date_crf_completed'), (775, 'date_crf_completed'), (776, 'date_crf_completed'), (777, 'date_crf_completed'), (778, 'date_crf_completed'), (779, 'date_crf_completed'), (780, 'date_crf_completed'), (781, 'date_crf_completed'), (782, 'date_crf_completed'), (783, 'date_crf_completed'), (784, 'date_crf_completed'), (785, 'date_crf_completed'), (786, 'date_crf_completed'), (787, 'date_crf_completed'), (788, 'date_crf_completed'), (789, 'date_crf_completed'), (790, 'date_crf_completed'), (791, 'date_crf_completed'), (792, 'date_crf_completed'), (793, 'date_crf_completed'), (794, 'date_crf_completed'), (795, 'date_crf_completed'), (796, 'date_crf_completed'), (797, 'date_crf_completed'), (798, 'date_crf_completed'), (799, 'date_crf_completed'), (800, 'date_crf_completed'), (801, 'date_crf_completed'), (802, 'date_crf_completed'), (803, 'date_crf_completed'), (804, 'date_crf_completed'), (805, 'date_crf_completed'), (806, 'date_crf_completed'), (807, 'date_crf_completed'), (808, 'date_crf_completed'), (809, 'date_crf_completed'), (810, 'date_crf_completed'), (811, 'date_crf_completed'), (812, 'date_crf_completed'), (813, 'date_crf_completed'), (814, 'date_crf_completed'), (815, 'date_crf_completed'), (816, 'date_crf_completed'), (817, 'date_crf_completed'), (818, 'date_crf_completed'), (819, 'date_crf_completed'), (820, 'date_crf_completed'), (821, 'date_crf_completed'), (822, 'date_crf_completed'), (823, 'date_crf_completed'), (824, 'date_crf_completed'), (825, 'date_crf_completed'), (826, 'date_crf_completed'), (827, 'date_crf_completed'), (828, 'date_crf_completed'), (829, 'date_crf_completed'), (830, 'date_crf_completed'), (831, 'date_crf_completed'), (832, 'date_crf_completed'), (833, 'date_crf_completed'), (834, 'date_crf_completed'), (835, 'date_crf_completed'), (836, 'date_crf_completed'), (837, 'date_crf_completed'), (838, 'date_crf_completed'), (839, 'date_crf_completed'), (840, 'date_crf_completed'), (841, 'date_crf_completed'), (842, 'date_crf_completed'), (843, 'date_crf_completed'), (844, 'date_crf_completed'), (845, 'date_crf_completed'), (846, 'date_crf_completed'), (847, 'date_crf_completed'), (848, 'date_crf_completed'), (849, 'date_crf_completed'), (850, 'date_crf_completed'), (851, 'date_crf_completed'), (852, 'date_crf_completed'), (853, 'date_crf_completed'), (854, 'date_crf_completed'), (855, 'date_crf_completed'), (856, 'date_crf_completed'), (857, 'date_crf_completed'), (858, 'date_crf_completed'), (859, 'date_crf_completed'), (860, 'date_crf_completed'), (861, 'date_crf_completed'), (862, 'date_crf_completed'), (863, 'date_crf_completed'), (864, 'date_crf_completed'), (865, 'date_crf_completed'), (866, 'date_crf_completed'), (867, 'date_crf_completed'), (868, 'date_crf_completed'), (869, 'date_crf_completed'), (870, 'date_crf_completed'), (871, 'date_crf_completed'), (872, 'date_crf_completed'), (873, 'date_crf_completed'), (874, 'date_crf_completed'), (875, 'date_crf_completed'), (876, 'date_crf_completed'), (877, 'date_crf_completed'), (878, 'date_crf_completed'), (879, 'date_crf_completed'), (880, 'date_crf_completed'), (881, 'date_crf_completed'), (882, 'date_crf_completed'), (883, 'date_crf_completed'), (884, 'date_crf_completed'), (885, 'date_crf_completed'), (886, 'date_crf_completed'), (887, 'date_crf_completed'), (888, 'date_crf_completed'), (889, 'date_crf_completed'), (890, 'date_crf_completed'), (891, 'date_crf_completed'), (892, 'date_crf_completed'), (893, 'date_crf_completed'), (894, 'date_crf_completed'), (895, 'date_crf_completed'), (896, 'date_crf_completed'), (897, 'date_crf_completed'), (898, 'date_crf_completed'), (899, 'date_crf_completed'), (900, 'date_crf_completed'), (901, 'date_crf_completed'), (902, 'date_crf_completed'), (903, 'date_crf_completed'), (904, 'date_crf_completed'), (905, 'date_crf_completed'), (906, 'date_crf_completed'), (907, 'date_crf_completed'), (908, 'date_crf_completed'), (909, 'date_crf_completed'), (910, 'date_crf_completed'), (911, 'date_crf_completed'), (912, 'date_crf_completed'), (913, 'date_crf_completed'), (914, 'date_crf_completed'), (915, 'date_crf_completed'), (916, 'date_crf_completed'), (917, 'date_crf_completed'), (918, 'date_crf_completed'), (919, 'date_crf_completed'), (920, 'date_crf_completed'), (921, 'date_crf_completed'), (922, 'date_crf_completed'), (923, 'date_crf_completed'), (924, 'date_crf_completed'), (925, 'date_crf_completed'), (926, 'date_crf_completed'), (927, 'date_crf_completed'), (928, 'date_crf_completed'), (929, 'date_crf_completed'), (930, 'date_crf_completed'), (931, 'date_crf_completed'), (932, 'date_crf_completed'), (933, 'date_crf_completed'), (934, 'date_crf_completed'), (935, 'date_crf_completed'), (936, 'date_crf_completed'), (937, 'date_crf_completed'), (938, 'date_crf_completed'), (939, 'date_crf_completed'), (940, 'date_crf_completed'), (941, 'date_crf_completed'), (942, 'date_crf_completed'), (943, 'date_crf_completed'), (944, 'date_crf_completed'), (945, 'date_crf_completed'), (946, 'date_crf_completed'), (947, 'date_crf_completed'), (948, 'date_crf_completed'), (949, 'date_crf_completed'), (950, 'date_crf_completed'), (951, 'date_crf_completed'), (952, 'date_crf_completed'), (953, 'date_crf_completed'), (954, 'date_crf_completed'), (955, 'date_crf_completed'), (956, 'date_crf_completed'), (958, 'date_crf_completed'), (959, 'date_crf_completed'), (960, 'date_crf_completed'), (961, 'date_crf_completed'), (962, 'date_crf_completed'), (963, 'date_crf_completed'), (964, 'date_crf_completed'), (965, 'date_crf_completed'), (966, 'date_crf_completed'), (967, 'date_crf_completed'), (968, 'date_crf_completed'), (969, 'date_crf_completed'), (970, 'date_crf_completed'), (971, 'date_crf_completed'), (972, 'date_crf_completed'), (973, 'date_crf_completed'), (974, 'date_crf_completed'), (975, 'date_crf_completed'), (976, 'date_crf_completed'), (977, 'date_crf_completed'), (978, 'date_crf_completed'), (979, 'date_crf_completed'), (980, 'date_crf_completed'), (981, 'date_crf_completed'), (982, 'date_crf_completed'), (983, 'date_crf_completed'), (984, 'date_crf_completed'), (985, 'date_crf_completed'), (986, 'date_crf_completed'), (987, 'date_crf_completed'), (988, 'date_crf_completed'), (989, 'date_crf_completed'), (990, 'date_crf_completed'), (991, 'date_crf_completed'), (992, 'date_crf_completed'), (993, 'date_crf_completed'), (994, 'date_crf_completed'), (995, 'date_crf_completed'), (996, 'date_crf_completed'), (997, 'date_crf_completed'), (998, 'date_crf_completed'), (999, 'date_crf_completed'), (1000, 'date_crf_completed'), (1001, 'date_crf_completed'), (1002, 'date_crf_completed'), (1003, 'date_crf_completed'), (1004, 'date_crf_completed'), (1005, 'date_crf_completed'), (1006, 'date_crf_completed'), (1007, 'date_crf_completed'), (1008, 'date_crf_completed'), (1013, 'date_crf_completed'), (1014, 'date_crf_completed'), (1015, 'date_crf_completed'), (1017, 'date_crf_completed'), (1018, 'date_crf_completed'), (1019, 'date_crf_completed'), (1020, 'date_crf_completed'), (1021, 'date_crf_completed'), (1022, 'date_crf_completed'), (1023, 'date_crf_completed'), (1024, 'date_crf_completed'), (1025, 'date_crf_completed'), (1026, 'date_crf_completed'), (1027, 'date_crf_completed'), (1028, 'date_crf_completed'), (1029, 'date_crf_completed'), (1030, 'date_crf_completed'), (1031, 'date_crf_completed'), (1032, 'date_crf_completed'), (1033, 'date_crf_completed'), (1034, 'date_crf_completed'), (1035, 'date_crf_completed'), (1036, 'date_crf_completed'), (1037, 'date_crf_completed'), (1039, 'date_crf_completed'), (1040, 'date_crf_completed'), (1041, 'date_crf_completed'), (1042, 'date_crf_completed'), (1043, 'date_crf_completed'), (1044, 'date_crf_completed'), (1045, 'date_crf_completed'), (1046, 'date_crf_completed'), (1047, 'date_crf_completed'), (1048, 'date_crf_completed'), (1049, 'date_crf_completed'), (1050, 'date_crf_completed'), (1051, 'date_crf_completed'), (1052, 'date_crf_completed'), (1053, 'date_crf_completed'), (1057, 'date_crf_completed'), (1058, 'date_crf_completed'), (1059, 'date_crf_completed'), (1060, 'date_crf_completed'), (1061, 'date_crf_completed'), (1062, 'date_crf_completed'), (1063, 'date_crf_completed'), (1064, 'date_crf_completed'), (1065, 'date_crf_completed'), (1066, 'date_crf_completed'), (1067, 'date_crf_completed'), (1068, 'date_crf_completed'), (1069, 'date_crf_completed'), (1070, 'date_crf_completed'), (1071, 'date_crf_completed'), (1072, 'date_crf_completed'), (1073, 'date_crf_completed'), (1074, 'date_crf_completed'), (1075, 'date_crf_completed'), (1076, 'date_crf_completed'), (1077, 'date_crf_completed'), (1078, 'date_crf_completed'), (1079, 'date_crf_completed'), (1080, 'date_crf_completed'), (1081, 'date_crf_completed'), (1082, 'date_crf_completed'), (1083, 'date_crf_completed'), (1084, 'date_crf_completed'), (1085, 'date_crf_completed'), (1086, 'date_crf_completed'), (1087, 'date_crf_completed'), (1088, 'date_crf_completed'), (1089, 'date_crf_completed'), (1090, 'date_crf_completed'), (1091, 'date_crf_completed'), (1092, 'date_crf_completed'), (1093, 'date_crf_completed'), (1094, 'date_crf_completed'), (1095, 'date_crf_completed'), (1096, 'date_crf_completed'), (1097, 'date_crf_completed'), (1098, 'date_crf_completed'), (1099, 'date_crf_completed'), (1100, 'date_crf_completed'), (1101, 'date_crf_completed'), (1102, 'date_crf_completed'), (1103, 'date_crf_completed'), (1104, 'date_crf_completed'), (1105, 'date_crf_completed'), (1106, 'date_crf_completed'), (1107, 'date_crf_completed'), (1108, 'date_crf_completed'), (1109, 'date_crf_completed'), (1110, 'date_crf_completed'), (1111, 'date_crf_completed'), (1112, 'date_crf_completed'), (1113, 'date_crf_completed'), (1114, 'date_crf_completed'), (1115, 'date_crf_completed'), (1116, 'date_crf_completed'), (1117, 'date_crf_completed'), (1118, 'date_crf_completed'), (1119, 'date_crf_completed'), (1120, 'date_crf_completed'), (1121, 'date_crf_completed'), (1122, 'date_crf_completed'), (1123, 'date_crf_completed'), (1124, 'date_crf_completed'), (1125, 'date_crf_completed'), (1126, 'date_crf_completed'), (1127, 'date_crf_completed'), (1128, 'date_crf_completed'), (1129, 'date_crf_completed'), (1130, 'date_crf_completed'), (1131, 'date_crf_completed'), (1132, 'date_crf_completed'), (1133, 'date_crf_completed'), (1134, 'date_crf_completed'), (1135, 'date_crf_completed'), (1136, 'date_crf_completed'), (1137, 'date_crf_completed'), (1138, 'date_crf_completed'), (1139, 'date_crf_completed'), (1140, 'date_crf_completed'), (1141, 'date_crf_completed'), (1142, 'date_crf_completed'), (1143, 'date_crf_completed'), (1144, 'date_crf_completed'), (1146, 'date_crf_completed'), (1147, 'date_crf_completed'), (1148, 'date_crf_completed'), (1149, 'date_crf_completed'), (1150, 'date_crf_completed'), (1151, 'date_crf_completed'), (1152, 'date_crf_completed'), (1153, 'date_crf_completed'), (1154, 'date_crf_completed'), (1155, 'date_crf_completed'), (1156, 'date_crf_completed'), (1157, 'date_crf_completed'), (1158, 'date_crf_completed'), (1159, 'date_crf_completed'), (1160, 'date_crf_completed'), (1161, 'date_crf_completed'), (1162, 'date_crf_completed'), (1163, 'date_crf_completed'), (1164, 'date_crf_completed'), (1165, 'date_crf_completed'), (1166, 'date_crf_completed'), (1167, 'date_crf_completed'), (1168, 'date_crf_completed'), (1169, 'date_crf_completed'), (1170, 'date_crf_completed'), (1171, 'date_crf_completed'), (1172, 'date_crf_completed'), (1173, 'date_crf_completed'), (1174, 'date_crf_completed'), (1175, 'date_crf_completed'), (1176, 'date_crf_completed'), (1177, 'date_crf_completed'), (1178, 'date_crf_completed'), (1179, 'date_crf_completed'), (1180, 'date_crf_completed'), (1181, 'date_crf_completed'), (1182, 'date_crf_completed'), (1183, 'date_crf_completed'), (1184, 'date_crf_completed'), (1185, 'date_crf_completed'), (1186, 'date_crf_completed'), (1187, 'date_crf_completed'), (1188, 'date_crf_completed'), (1189, 'date_crf_completed'), (1190, 'date_crf_completed'), (1191, 'date_crf_completed'), (1192, 'date_crf_completed'), (1193, 'date_crf_completed'), (1194, 'date_crf_completed'), (1195, 'date_crf_completed'), (1196, 'date_crf_completed'), (1197, 'date_crf_completed'), (1198, 'date_crf_completed'), (1199, 'date_crf_completed'), (1200, 'date_crf_completed'), (1201, 'date_crf_completed'), (1202, 'date_crf_completed'), (1203, 'date_crf_completed'), (1204, 'date_crf_completed'), (1205, 'date_crf_completed'), (1206, 'date_crf_completed'), (1207, 'date_crf_completed'), (1208, 'date_crf_completed'), (1209, 'date_crf_completed'), (1210, 'date_crf_completed'), (1211, 'date_crf_completed'), (1212, 'date_crf_completed'), (1213, 'date_crf_completed'), (1214, 'date_crf_completed'), (1215, 'date_crf_completed'), (1216, 'date_crf_completed'), (1217, 'date_crf_completed'), (1218, 'date_crf_completed'), (1219, 'date_crf_completed'), (1220, 'date_crf_completed'), (1221, 'date_crf_completed'), (1222, 'date_crf_completed'), (1223, 'date_crf_completed'), (1224, 'date_crf_completed'), (1225, 'date_crf_completed'), (1226, 'date_crf_completed'), (1227, 'date_crf_completed'), (1228, 'date_crf_completed'), (1229, 'date_crf_completed'), (1230, 'date_crf_completed'), (1231, 'date_crf_completed'), (1232, 'date_crf_completed'), (1233, 'date_crf_completed'), (1234, 'date_crf_completed'), (1235, 'date_crf_completed'), (1236, 'date_crf_completed'), (1237, 'date_crf_completed'), (1238, 'date_crf_completed'), (1239, 'date_crf_completed'), (1240, 'date_crf_completed'), (1241, 'date_crf_completed'), (1242, 'date_crf_completed'), (1243, 'date_crf_completed'), (1244, 'date_crf_completed'), (1245, 'date_crf_completed'), (1246, 'date_crf_completed'), (1247, 'date_crf_completed'), (1248, 'date_crf_completed'), (1249, 'date_crf_completed'), (1250, 'date_crf_completed'), (1251, 'date_crf_completed'), (1252, 'date_crf_completed'), (1253, 'date_crf_completed'), (1254, 'date_crf_completed'), (1255, 'date_crf_completed'), (1256, 'date_crf_completed'), (1257, 'date_crf_completed'), (1258, 'date_crf_completed'), (1259, 'date_crf_completed'), (1260, 'date_crf_completed'), (1261, 'date_crf_completed'), (1262, 'date_crf_completed'), (1263, 'date_crf_completed'), (1264, 'date_crf_completed'), (1265, 'date_crf_completed'), (1266, 'date_crf_completed'), (1267, 'date_crf_completed'), (1268, 'date_crf_completed'), (1269, 'date_crf_completed'), (1270, 'date_crf_completed'), (1271, 'date_crf_completed'), (1272, 'date_crf_completed'), (1273, 'date_crf_completed'), (1274, 'date_crf_completed'), (1275, 'date_crf_completed'), (1276, 'date_crf_completed'), (1277, 'date_crf_completed'), (1278, 'date_crf_completed'), (1279, 'date_crf_completed'), (1280, 'date_crf_completed'), (1281, 'date_crf_completed'), (1282, 'date_crf_completed'), (1283, 'date_crf_completed'), (1284, 'date_crf_completed'), (1285, 'date_crf_completed'), (1286, 'date_crf_completed'), (1287, 'date_crf_completed'), (1288, 'date_crf_completed'), (1289, 'date_crf_completed'), (1290, 'date_crf_completed'), (1291, 'date_crf_completed'), (1292, 'date_crf_completed'), (1293, 'date_crf_completed'), (1294, 'date_crf_completed'), (1295, 'date_crf_completed'), (1296, 'date_crf_completed'), (1297, 'date_crf_completed'), (1298, 'date_crf_completed'), (1299, 'date_crf_completed'), (1300, 'date_crf_completed'), (1301, 'date_crf_completed'), (1302, 'date_crf_completed'), (1303, 'date_crf_completed'), (1304, 'date_crf_completed'), (1305, 'date_crf_completed'), (1306, 'date_crf_completed'), (1307, 'date_crf_completed'), (1308, 'date_crf_completed'), (1309, 'date_crf_completed'), (1310, 'date_crf_completed'), (1311, 'date_crf_completed'), (1312, 'date_crf_completed'), (1313, 'date_crf_completed'), (1314, 'date_crf_completed'), (1315, 'date_crf_completed'), (1316, 'date_crf_completed'), (1317, 'date_crf_completed'), (1318, 'date_crf_completed'), (1319, 'date_crf_completed'), (1320, 'date_crf_completed'), (1321, 'date_crf_completed'), (1322, 'date_crf_completed'), (1323, 'date_crf_completed'), (1324, 'date_crf_completed'), (1325, 'date_crf_completed'), (1326, 'date_crf_completed'), (1327, 'date_crf_completed'), (1328, 'date_crf_completed'), (1329, 'date_crf_completed'), (1330, 'date_crf_completed'), (1331, 'date_crf_completed'), (1332, 'date_crf_completed'), (1333, 'date_crf_completed'), (1334, 'date_crf_completed'), (1335, 'date_crf_completed'), (1336, 'date_crf_completed'), (1337, 'date_crf_completed'), (1338, 'date_crf_completed'), (1339, 'date_crf_completed'), (1340, 'date_crf_completed'), (1341, 'date_crf_completed'), (1342, 'date_crf_completed'), (1343, 'date_crf_completed'), (1344, 'date_crf_completed'), (1345, 'date_crf_completed'), (1346, 'date_crf_completed'), (1347, 'date_crf_completed'), (1348, 'date_crf_completed'), (1349, 'date_crf_completed'), (1350, 'date_crf_completed'), (1351, 'date_crf_completed'), (1352, 'date_crf_completed'), (1353, 'date_crf_completed'), (1354, 'date_crf_completed'), (1355, 'date_crf_completed'), (1356, 'date_crf_completed'), (1357, 'date_crf_completed'), (1358, 'date_crf_completed'), (1359, 'date_crf_completed'), (1360, 'date_crf_completed'), (1361, 'date_crf_completed'), (1362, 'date_crf_completed'), (1363, 'date_crf_completed'), (1364, 'date_crf_completed'), (1365, 'date_crf_completed'), (1366, 'date_crf_completed'), (1367, 'date_crf_completed'), (1368, 'date_crf_completed'), (1369, 'date_crf_completed'), (1370, 'date_crf_completed'), (1371, 'date_crf_completed'), (1372, 'date_crf_completed'), (1373, 'date_crf_completed'), (1374, 'date_crf_completed'), (1375, 'date_crf_completed'), (1376, 'date_crf_completed'), (1377, 'date_crf_completed'), (1378, 'date_crf_completed'), (1379, 'date_crf_completed'), (1380, 'date_crf_completed'), (1381, 'date_crf_completed'), (1382, 'date_crf_completed'), (1383, 'date_crf_completed'), (1384, 'date_crf_completed'), (1385, 'date_crf_completed'), (1386, 'date_crf_completed'), (1387, 'date_crf_completed'), (1388, 'date_crf_completed'), (1389, 'date_crf_completed'), (1390, 'date_crf_completed'), (1391, 'date_crf_completed'), (1392, 'date_crf_completed'), (1393, 'date_crf_completed'), (1394, 'date_crf_completed'), (1395, 'date_crf_completed'), (1396, 'date_crf_completed'), (1397, 'date_crf_completed'), (1398, 'date_crf_completed'), (1399, 'date_crf_completed'), (1400, 'date_crf_completed'), (1401, 'date_crf_completed'), (1402, 'date_crf_completed'), (1403, 'date_crf_completed'), (1404, 'date_crf_completed'), (1405, 'date_crf_completed'), (1406, 'date_crf_completed'), (1407, 'date_crf_completed'), (1408, 'date_crf_completed'), (1409, 'date_crf_completed'), (1410, 'date_crf_completed'), (1411, 'date_crf_completed'), (1412, 'date_crf_completed'), (1413, 'date_crf_completed'), (1414, 'date_crf_completed'), (1415, 'date_crf_completed'), (1416, 'date_crf_completed'), (1417, 'date_crf_completed'), (1418, 'date_crf_completed'), (1419, 'date_crf_completed'), (1420, 'date_crf_completed'), (1421, 'date_crf_completed'), (1422, 'date_crf_completed'), (1423, 'date_crf_completed'), (1424, 'date_crf_completed'), (1425, 'date_crf_completed'), (1426, 'date_crf_completed'), (1427, 'date_crf_completed'), (1428, 'date_crf_completed'), (1429, 'date_crf_completed'), (1430, 'date_crf_completed'), (1431, 'date_crf_completed'), (1432, 'date_crf_completed'), (1433, 'date_crf_completed'), (1434, 'date_crf_completed'), (1435, 'date_crf_completed'), (1436, 'date_crf_completed'), (1437, 'date_crf_completed'), (1438, 'date_crf_completed'), (1439, 'date_crf_completed'), (1440, 'date_crf_completed'), (1441, 'date_crf_completed'), (1442, 'date_crf_completed'), (1443, 'date_crf_completed'), (1444, 'date_crf_completed'), (1445, 'date_crf_completed'), (1446, 'date_crf_completed'), (1447, 'date_crf_completed'), (1448, 'date_crf_completed'), (1449, 'date_crf_completed'), (1450, 'date_crf_completed'), (1451, 'date_crf_completed'), (1452, 'date_crf_completed'), (1453, 'date_crf_completed'), (1454, 'date_crf_completed'), (1455, 'date_crf_completed'), (1456, 'date_crf_completed'), (1457, 'date_crf_completed'), (1458, 'date_crf_completed'), (1459, 'date_crf_completed'), (1460, 'date_crf_completed'), (1461, 'date_crf_completed'), (1462, 'date_crf_completed'), (1463, 'date_crf_completed'), (1464, 'date_crf_completed'), (1465, 'date_crf_completed'), (1466, 'date_crf_completed'), (1467, 'date_crf_completed'), (1468, 'date_crf_completed'), (1469, 'date_crf_completed'), (1470, 'date_crf_completed'), (1471, 'date_crf_completed'), (1472, 'date_crf_completed'), (1473, 'date_crf_completed'), (1474, 'date_crf_completed'), (1475, 'date_crf_completed'), (1476, 'date_crf_completed'), (1477, 'date_crf_completed'), (1478, 'date_crf_completed'), (1479, 'date_crf_completed'), (1480, 'date_crf_completed'), (1481, 'date_crf_completed'), (1482, 'date_crf_completed'), (1483, 'date_crf_completed'), (1484, 'date_crf_completed'), (1485, 'date_crf_completed'), (1486, 'date_crf_completed'), (1487, 'date_crf_completed'), (1488, 'date_crf_completed'), (1489, 'date_crf_completed'), (1490, 'date_crf_completed'), (1491, 'date_crf_completed'), (1492, 'date_crf_completed'), (1493, 'date_crf_completed'), (1494, 'date_crf_completed'), (1495, 'date_crf_completed'), (1496, 'date_crf_completed'), (1497, 'date_crf_completed'), (1498, 'date_crf_completed'), (1499, 'date_crf_completed'), (1500, 'date_crf_completed'), (1501, 'date_crf_completed'), (1502, 'date_crf_completed'), (1503, 'date_crf_completed'), (1504, 'date_crf_completed'), (1505, 'date_crf_completed'), (1506, 'date_crf_completed'), (1507, 'date_crf_completed'), (1508, 'date_crf_completed'), (1509, 'date_crf_completed'), (1510, 'date_crf_completed'), (1511, 'date_crf_completed'), (1512, 'date_crf_completed'), (1513, 'date_crf_completed'), (1514, 'date_crf_completed'), (1515, 'date_crf_completed'), (1516, 'date_crf_completed'), (1517, 'date_crf_completed'), (1518, 'date_crf_completed'), (1519, 'date_crf_completed'), (1520, 'date_crf_completed'), (1521, 'date_crf_completed'), (1522, 'date_crf_completed'), (1523, 'date_crf_completed'), (1524, 'date_crf_completed'), (1525, 'date_crf_completed'), (1526, 'date_crf_completed'), (1527, 'date_crf_completed'), (1528, 'date_crf_completed'), (1529, 'date_crf_completed'), (1530, 'date_crf_completed'), (1531, 'date_crf_completed'), (1532, 'date_crf_completed'), (1533, 'date_crf_completed'), (1534, 'date_crf_completed'), (1535, 'date_crf_completed'), (1536, 'date_crf_completed'), (1537, 'date_crf_completed'), (1538, 'date_crf_completed'), (1539, 'date_crf_completed'), (1540, 'date_crf_completed'), (1541, 'date_crf_completed'), (1542, 'date_crf_completed'), (1543, 'date_crf_completed'), (1544, 'date_crf_completed'), (1545, 'date_crf_completed'), (1546, 'date_crf_completed'), (1547, 'date_crf_completed'), (1548, 'date_crf_completed'), (1549, 'date_crf_completed'), (1550, 'date_crf_completed'), (1551, 'date_crf_completed'), (1552, 'date_crf_completed'), (1553, 'date_crf_completed'), (1554, 'date_crf_completed'), (1555, 'date_crf_completed'), (1556, 'date_crf_completed'), (1557, 'date_crf_completed'), (1558, 'date_crf_completed'), (1559, 'date_crf_completed'), (1560, 'date_crf_completed'), (1561, 'date_crf_completed'), (1562, 'date_crf_completed'), (1563, 'date_crf_completed'), (1564, 'date_crf_completed'), (1565, 'date_crf_completed'), (1566, 'date_crf_completed'), (1567, 'date_crf_completed'), (1568, 'date_crf_completed'), (1569, 'date_crf_completed'), (1570, 'date_crf_completed'), (1571, 'date_crf_completed'), (1572, 'date_crf_completed'), (1573, 'date_crf_completed'), (1574, 'date_crf_completed'), (1575, 'date_crf_completed'), (1576, 'date_crf_completed'), (1577, 'date_crf_completed'), (1578, 'date_crf_completed'), (1579, 'date_crf_completed'), (1580, 'date_crf_completed'), (1581, 'date_crf_completed'), (1582, 'date_crf_completed'), (1583, 'date_crf_completed'), (1584, 'date_crf_completed'), (1585, 'date_crf_completed'), (1586, 'date_crf_completed'), (1587, 'date_crf_completed'), (1588, 'date_crf_completed'), (1589, 'date_crf_completed'), (1590, 'date_crf_completed'), (1591, 'date_crf_completed'), (1592, 'date_crf_completed'), (1593, 'date_crf_completed'), (1594, 'date_crf_completed'), (1595, 'date_crf_completed'), (1596, 'date_crf_completed'), (1597, 'date_crf_completed'), (1598, 'date_crf_completed'), (1599, 'date_crf_completed'), (1600, 'date_crf_completed'), (1601, 'date_crf_completed'), (1602, 'date_crf_completed'), (1603, 'date_crf_completed'), (1604, 'date_crf_completed'), (1605, 'date_crf_completed'), (1606, 'date_crf_completed'), (1607, 'date_crf_completed'), (1608, 'date_crf_completed'), (1609, 'date_crf_completed'), (1610, 'date_crf_completed'), (1611, 'date_crf_completed'), (1612, 'date_crf_completed'), (1613, 'date_crf_completed'), (1614, 'date_crf_completed'), (1615, 'date_crf_completed'), (1616, 'date_crf_completed'), (1617, 'date_crf_completed'), (1618, 'date_crf_completed'), (1619, 'date_crf_completed'), (1620, 'date_crf_completed'), (1621, 'date_crf_completed'), (1622, 'date_crf_completed'), (1623, 'date_crf_completed'), (1624, 'date_crf_completed'), (1625, 'date_crf_completed'), (1626, 'date_crf_completed'), (1627, 'date_crf_completed'), (1628, 'date_crf_completed'), (1629, 'date_crf_completed'), (1630, 'date_crf_completed'), (1631, 'date_crf_completed'), (1632, 'date_crf_completed'), (1633, 'date_crf_completed'), (1634, 'date_crf_completed'), (1635, 'date_crf_completed'), (1636, 'date_crf_completed'), (1637, 'date_crf_completed'), (1638, 'date_crf_completed'), (1639, 'date_crf_completed'), (1640, 'date_crf_completed'), (1641, 'date_crf_completed'), (1642, 'date_crf_completed'), (1643, 'date_crf_completed'), (1644, 'date_crf_completed'), (1645, 'date_crf_completed'), (1646, 'date_crf_completed'), (1647, 'date_crf_completed'), (1648, 'date_crf_completed'), (1649, 'date_crf_completed'), (1650, 'date_crf_completed'), (1651, 'date_crf_completed'), (1652, 'date_crf_completed'), (1653, 'date_crf_completed'), (1655, 'date_crf_completed'), (1656, 'date_crf_completed'), (1657, 'date_crf_completed'), (1658, 'date_crf_completed'), (1659, 'date_crf_completed'), (1660, 'date_crf_completed'), (1661, 'date_crf_completed'), (1662, 'date_crf_completed'), (1663, 'date_crf_completed'), (1664, 'date_crf_completed'), (1665, 'date_crf_completed'), (1666, 'date_crf_completed'), (1667, 'date_crf_completed'), (1668, 'date_crf_completed'), (1669, 'date_crf_completed'), (1670, 'date_crf_completed'), (1671, 'date_crf_completed'), (1672, 'date_crf_completed'), (1673, 'date_crf_completed'), (1674, 'date_crf_completed'), (1675, 'date_crf_completed'), (1676, 'date_crf_completed'), (1677, 'date_crf_completed'), (1678, 'date_crf_completed'), (1679, 'date_crf_completed'), (1680, 'date_crf_completed'), (1681, 'date_crf_completed'), (1682, 'date_crf_completed'), (1683, 'date_crf_completed'), (1684, 'date_crf_completed'), (1685, 'date_crf_completed'), (1686, 'date_crf_completed'), (1687, 'date_crf_completed'), (1688, 'date_crf_completed'), (1689, 'date_crf_completed'), (1690, 'date_crf_completed'), (1691, 'date_crf_completed'), (1692, 'date_crf_completed'), (1693, 'date_crf_completed'), (1694, 'date_crf_completed'), (1695, 'date_crf_completed'), (1696, 'date_crf_completed'), (1697, 'date_crf_completed'), (1698, 'date_crf_completed'), (1699, 'date_crf_completed'), (1700, 'date_crf_completed'), (1701, 'date_crf_completed'), (1702, 'date_crf_completed'), (1703, 'date_crf_completed'), (1704, 'date_crf_completed'), (1705, 'date_crf_completed'), (1706, 'date_crf_completed'), (1707, 'date_crf_completed'), (1708, 'date_crf_completed'), (1709, 'date_crf_completed'), (1710, 'date_crf_completed'), (1711, 'date_crf_completed'), (1712, 'date_crf_completed'), (1713, 'date_crf_completed'), (1714, 'date_crf_completed'), (1715, 'date_crf_completed'), (1716, 'date_crf_completed'), (1717, 'date_crf_completed'), (1718, 'date_crf_completed'), (1719, 'date_crf_completed'), (1720, 'date_crf_completed'), (1721, 'date_crf_completed'), (1722, 'date_crf_completed'), (1723, 'date_crf_completed'), (1724, 'date_crf_completed'), (1725, 'date_crf_completed'), (1726, 'date_crf_completed'), (1727, 'date_crf_completed'), (1728, 'date_crf_completed'), (1729, 'date_crf_completed'), (1730, 'date_crf_completed'), (1731, 'date_crf_completed'), (1732, 'date_crf_completed'), (1733, 'date_crf_completed'), (1734, 'date_crf_completed'), (1735, 'date_crf_completed'), (1736, 'date_crf_completed'), (1737, 'date_crf_completed'), (1738, 'date_crf_completed'), (1739, 'date_crf_completed'), (1740, 'date_crf_completed'), (1741, 'date_crf_completed'), (1742, 'date_crf_completed'), (1743, 'date_crf_completed'), (1744, 'date_crf_completed'), (1745, 'date_crf_completed'), (1746, 'date_crf_completed'), (1747, 'date_crf_completed'), (1748, 'date_crf_completed'), (1749, 'date_crf_completed'), (1750, 'date_crf_completed'), (1751, 'date_crf_completed'), (1752, 'date_crf_completed'), (1753, 'date_crf_completed'), (1754, 'date_crf_completed'), (1755, 'date_crf_completed'), (1756, 'date_crf_completed'), (1757, 'date_crf_completed'), (1758, 'date_crf_completed'), (1759, 'date_crf_completed'), (1760, 'date_crf_completed'), (1761, 'date_crf_completed'), (1763, 'date_crf_completed'), (1764, 'date_crf_completed'), (1765, 'date_crf_completed'), (1766, 'date_crf_completed'), (1767, 'date_crf_completed'), (1768, 'date_crf_completed'), (1769, 'date_crf_completed'), (1770, 'date_crf_completed'), (1771, 'date_crf_completed'), (1772, 'date_crf_completed'), (1773, 'date_crf_completed'), (1774, 'date_crf_completed'), (1775, 'date_crf_completed'), (1776, 'date_crf_completed'), (1777, 'date_crf_completed'), (1778, 'date_crf_completed'), (1779, 'date_crf_completed'), (1780, 'date_crf_completed'), (1781, 'date_crf_completed'), (1782, 'date_crf_completed'), (1783, 'date_crf_completed'), (1784, 'date_crf_completed'), (1785, 'date_crf_completed'), (1786, 'date_crf_completed'), (1787, 'date_crf_completed'), (1788, 'date_crf_completed'), (1789, 'date_crf_completed'), (1790, 'date_crf_completed'), (1791, 'date_crf_completed'), (1792, 'date_crf_completed'), (1793, 'date_crf_completed'), (1794, 'date_crf_completed'), (1795, 'date_crf_completed'), (1796, 'date_crf_completed'), (1797, 'date_crf_completed'), (1798, 'date_crf_completed'), (1799, 'date_crf_completed'), (1800, 'date_crf_completed'), (1801, 'date_crf_completed'), (1802, 'date_crf_completed'), (1803, 'date_crf_completed'), (1804, 'date_crf_completed'), (1805, 'date_crf_completed'), (1806, 'date_crf_completed'), (1807, 'date_crf_completed'), (1808, 'date_crf_completed'), (1809, 'date_crf_completed'), (1810, 'date_crf_completed'), (1811, 'date_crf_completed'), (1812, 'date_crf_completed'), (1813, 'date_crf_completed'), (1814, 'date_crf_completed'), (1815, 'date_crf_completed'), (1816, 'date_crf_completed'), (1817, 'date_crf_completed'), (1818, 'date_crf_completed'), (1819, 'date_crf_completed'), (1820, 'date_crf_completed'), (1821, 'date_crf_completed'), (1822, 'date_crf_completed'), (1823, 'date_crf_completed'), (1824, 'date_crf_completed'), (1825, 'date_crf_completed'), (1826, 'date_crf_completed'), (1827, 'date_crf_completed'), (1829, 'date_crf_completed'), (1831, 'date_crf_completed'), (1832, 'date_crf_completed'), (1833, 'date_crf_completed'), (1834, 'date_crf_completed'), (1835, 'date_crf_completed'), (1836, 'date_crf_completed'), (1837, 'date_crf_completed'), (1838, 'date_crf_completed'), (1839, 'date_crf_completed'), (1840, 'date_crf_completed'), (1841, 'date_crf_completed'), (1842, 'date_crf_completed'), (1843, 'date_crf_completed'), (1844, 'date_crf_completed'), (1846, 'date_crf_completed'), (1847, 'date_crf_completed'), (1848, 'date_crf_completed'), (1850, 'date_crf_completed'), (1851, 'date_crf_completed'), (1852, 'date_crf_completed'), (1853, 'date_crf_completed'), (1854, 'date_crf_completed'), (1855, 'date_crf_completed'), (1856, 'date_crf_completed'), (1857, 'date_crf_completed'), (1858, 'date_crf_completed'), (1859, 'date_crf_completed'), (1860, 'date_crf_completed'), (1861, 'date_crf_completed'), (1862, 'date_crf_completed'), (1863, 'date_crf_completed'), (1864, 'date_crf_completed'), (1865, 'date_crf_completed'), (1866, 'date_crf_completed'), (1867, 'date_crf_completed'), (1868, 'date_crf_completed'), (1869, 'date_crf_completed'), (1870, 'date_crf_completed'), (1872, 'date_crf_completed'), (1873, 'date_crf_completed'), (1874, 'date_crf_completed'), (1875, 'date_crf_completed'), (1876, 'date_crf_completed'), (1877, 'date_crf_completed'), (1878, 'date_crf_completed'), (1880, 'date_crf_completed'), (1881, 'date_crf_completed'), (1882, 'date_crf_completed'), (1883, 'date_crf_completed'), (1884, 'date_crf_completed'), (1885, 'date_crf_completed'), (1886, 'date_crf_completed'), (1887, 'date_crf_completed'), (1888, 'date_crf_completed'), (1889, 'date_crf_completed'), (1890, 'date_crf_completed'), (1891, 'date_crf_completed'), (1892, 'date_crf_completed'), (1893, 'date_crf_completed'), (1894, 'date_crf_completed'), (1895, 'date_crf_completed'), (1896, 'date_crf_completed'), (1897, 'date_crf_completed'), (1898, 'date_crf_completed'), (1899, 'date_crf_completed'), (1900, 'date_crf_completed'), (1901, 'date_crf_completed'), (1902, 'date_crf_completed'), (1903, 'date_crf_completed'), (1904, 'date_crf_completed'), (1905, 'date_crf_completed'), (1906, 'date_crf_completed'), (1907, 'date_crf_completed'), (1908, 'date_crf_completed'), (1909, 'date_crf_completed'), (1910, 'date_crf_completed'), (1911, 'date_crf_completed'), (1912, 'date_crf_completed'), (1913, 'date_crf_completed'), (1914, 'date_crf_completed'), (1915, 'date_crf_completed'), (1916, 'date_crf_completed'), (1917, 'date_crf_completed'), (1918, 'date_crf_completed'), (1919, 'date_crf_completed'), (1920, 'date_crf_completed'), (1921, 'date_crf_completed'), (1922, 'date_crf_completed'), (1923, 'date_crf_completed'), (1924, 'date_crf_completed'), (1925, 'date_crf_completed'), (1927, 'date_crf_completed'), (1928, 'date_crf_completed'), (1929, 'date_crf_completed'), (1930, 'date_crf_completed'), (1931, 'date_crf_completed'), (1932, 'date_crf_completed'), (1933, 'date_crf_completed'), (1934, 'date_crf_completed'), (1935, 'date_crf_completed'), (1936, 'date_crf_completed'), (1937, 'date_crf_completed'), (1938, 'date_crf_completed'), (1939, 'date_crf_completed'), (1940, 'date_crf_completed'), (1941, 'date_crf_completed'), (1942, 'date_crf_completed'), (1943, 'date_crf_completed'), (1944, 'date_crf_completed'), (1945, 'date_crf_completed'), (1946, 'date_crf_completed'), (1947, 'date_crf_completed'), (1948, 'date_crf_completed'), (1949, 'date_crf_completed'), (1950, 'date_crf_completed'), (1951, 'date_crf_completed'), (1952, 'date_crf_completed'), (1953, 'date_crf_completed'), (1954, 'date_crf_completed'), (1955, 'date_crf_completed'), (1956, 'date_crf_completed'), (1957, 'date_crf_completed'), (1958, 'date_crf_completed'), (1959, 'date_crf_completed'), (1960, 'date_crf_completed'), (1961, 'date_crf_completed'), (1962, 'date_crf_completed'), (1963, 'date_crf_completed'), (1964, 'date_crf_completed'), (1965, 'date_crf_completed'), (1966, 'date_crf_completed'), (1967, 'date_crf_completed'), (1968, 'date_crf_completed'), (1969, 'date_crf_completed'), (1970, 'date_crf_completed'), (1971, 'date_crf_completed'), (1973, 'date_crf_completed'), (1974, 'date_crf_completed'), (1975, 'date_crf_completed'), (1976, 'date_crf_completed'), (1977, 'date_crf_completed'), (1978, 'date_crf_completed'), (1979, 'date_crf_completed'), (1980, 'date_crf_completed'), (1981, 'date_crf_completed'), (1982, 'date_crf_completed'), (1983, 'date_crf_completed'), (1984, 'date_crf_completed'), (1985, 'date_crf_completed'), (1986, 'date_crf_completed'), (1987, 'date_crf_completed'), (1988, 'date_crf_completed'), (1989, 'date_crf_completed'), (1990, 'date_crf_completed'), (1991, 'date_crf_completed'), (1992, 'date_crf_completed'), (1993, 'date_crf_completed'), (1994, 'date_crf_completed'), (1995, 'date_crf_completed'), (1996, 'date_crf_completed'), (1997, 'date_crf_completed'), (1998, 'date_crf_completed'), (1999, 'date_crf_completed'), (2000, 'date_crf_completed'), (2001, 'date_crf_completed'), (2002, 'date_crf_completed'), (2003, 'date_crf_completed'), (2004, 'date_crf_completed'), (2005, 'date_crf_completed'), (2006, 'date_crf_completed'), (2007, 'date_crf_completed'), (2008, 'date_crf_completed'), (2009, 'date_crf_completed'), (2010, 'date_crf_completed'), (2011, 'date_crf_completed'), (2012, 'date_crf_completed'), (2013, 'date_crf_completed'), (2014, 'date_crf_completed'), (2015, 'date_crf_completed'), (2016, 'date_crf_completed'), (2017, 'date_crf_completed'), (2018, 'date_crf_completed'), (2019, 'date_crf_completed'), (2020, 'date_crf_completed'), (2021, 'date_crf_completed'), (2022, 'date_crf_completed'), (2023, 'date_crf_completed'), (2024, 'date_crf_completed'), (2025, 'date_crf_completed'), (2026, 'date_crf_completed'), (2027, 'date_crf_completed'), (2028, 'date_crf_completed'), (2029, 'date_crf_completed'), (2030, 'date_crf_completed'), (2031, 'date_crf_completed'), (2032, 'date_crf_completed'), (2033, 'date_crf_completed'), (2034, 'date_crf_completed'), (2035, 'date_crf_completed'), (2036, 'date_crf_completed'), (2037, 'date_crf_completed'), (2038, 'date_crf_completed'), (2039, 'date_crf_completed'), (2040, 'date_crf_completed'), (2041, 'date_crf_completed'), (2042, 'date_crf_completed'), (2043, 'date_crf_completed'), (2044, 'date_crf_completed'), (2045, 'date_crf_completed'), (2046, 'date_crf_completed'), (2047, 'date_crf_completed'), (2048, 'date_crf_completed'), (2049, 'date_crf_completed'), (2050, 'date_crf_completed'), (2051, 'date_crf_completed'), (2052, 'date_crf_completed'), (2053, 'date_crf_completed'), (2054, 'date_crf_completed'), (2055, 'date_crf_completed'), (2056, 'date_crf_completed'), (2057, 'date_crf_completed'), (2058, 'date_crf_completed'), (2059, 'date_crf_completed'), (2060, 'date_crf_completed'), (2061, 'date_crf_completed'), (2062, 'date_crf_completed'), (2063, 'date_crf_completed'), (2064, 'date_crf_completed'), (2065, 'date_crf_completed'), (2066, 'date_crf_completed'), (2067, 'date_crf_completed'), (2068, 'date_crf_completed'), (2069, 'date_crf_completed'), (2070, 'date_crf_completed'), (2071, 'date_crf_completed'), (2072, 'date_crf_completed'), (2073, 'date_crf_completed'), (2074, 'date_crf_completed'), (2075, 'date_crf_completed'), (2076, 'date_crf_completed'), (2077, 'date_crf_completed'), (2078, 'date_crf_completed'), (2079, 'date_crf_completed'), (2080, 'date_crf_completed'), (2081, 'date_crf_completed'), (2082, 'date_crf_completed'), (2083, 'date_crf_completed'), (2084, 'date_crf_completed'), (2085, 'date_crf_completed'), (2086, 'date_crf_completed'), (2087, 'date_crf_completed'), (2088, 'date_crf_completed'), (2089, 'date_crf_completed'), (2090, 'date_crf_completed'), (2091, 'date_crf_completed'), (2092, 'date_crf_completed'), (2093, 'date_crf_completed'), (2094, 'date_crf_completed'), (2095, 'date_crf_completed'), (2097, 'date_crf_completed'), (2098, 'date_crf_completed'), (2099, 'date_crf_completed'), (2100, 'date_crf_completed'), (2101, 'date_crf_completed'), (2102, 'date_crf_completed'), (2103, 'date_crf_completed'), (2104, 'date_crf_completed'), (2105, 'date_crf_completed'), (2106, 'date_crf_completed'), (2107, 'date_crf_completed'), (2108, 'date_crf_completed'), (2109, 'date_crf_completed'), (2110, 'date_crf_completed'), (2111, 'date_crf_completed'), (2112, 'date_crf_completed'), (2113, 'date_crf_completed'), (2114, 'date_crf_completed'), (2115, 'date_crf_completed'), (2116, 'date_crf_completed'), (2117, 'date_crf_completed'), (2118, 'date_crf_completed'), (2119, 'date_crf_completed'), (2120, 'date_crf_completed'), (2121, 'date_crf_completed'), (2122, 'date_crf_completed'), (2123, 'date_crf_completed'), (2124, 'date_crf_completed'), (2125, 'date_crf_completed'), (2126, 'date_crf_completed'), (2127, 'date_crf_completed'), (2128, 'date_crf_completed'), (2129, 'date_crf_completed'), (2130, 'date_crf_completed'), (2131, 'date_crf_completed'), (2132, 'date_crf_completed'), (2133, 'date_crf_completed'), (2134, 'date_crf_completed'), (2135, 'date_crf_completed'), (2136, 'date_crf_completed'), (2137, 'date_crf_completed'), (2138, 'date_crf_completed'), (2139, 'date_crf_completed'), (2140, 'date_crf_completed'), (2141, 'date_crf_completed'), (2142, 'date_crf_completed'), (2143, 'date_crf_completed'), (2144, 'date_crf_completed'), (2145, 'date_crf_completed'), (2146, 'date_crf_completed'), (2147, 'date_crf_completed'), (2148, 'date_crf_completed'), (2149, 'date_crf_completed'), (2150, 'date_crf_completed'), (2151, 'date_crf_completed'), (2152, 'date_crf_completed'), (2153, 'date_crf_completed'), (2154, 'date_crf_completed'), (2155, 'date_crf_completed'), (2156, 'date_crf_completed'), (2157, 'date_crf_completed'), (2158, 'date_crf_completed'), (2159, 'date_crf_completed'), (2160, 'date_crf_completed'), (2161, 'date_crf_completed'), (2162, 'date_crf_completed'), (2163, 'date_crf_completed'), (2164, 'date_crf_completed'), (2165, 'date_crf_completed'), (2166, 'date_crf_completed'), (2167, 'date_crf_completed'), (2168, 'date_crf_completed'), (2169, 'date_crf_completed'), (2170, 'date_crf_completed'), (2171, 'date_crf_completed'), (2172, 'date_crf_completed'), (2173, 'date_crf_completed'), (2174, 'date_crf_completed'), (2175, 'date_crf_completed'), (2176, 'date_crf_completed'), (2177, 'date_crf_completed'), (2178, 'date_crf_completed'), (2179, 'date_crf_completed'), (2180, 'date_crf_completed'), (2181, 'date_crf_completed'), (2182, 'date_crf_completed'), (2183, 'date_crf_completed'), (2184, 'date_crf_completed'), (2185, 'date_crf_completed'), (2186, 'date_crf_completed'), (2187, 'date_crf_completed'), (2188, 'date_crf_completed'), (2189, 'date_crf_completed'), (2190, 'date_crf_completed'), (2191, 'date_crf_completed'), (2192, 'date_crf_completed'), (2193, 'date_crf_completed'), (2194, 'date_crf_completed'), (2195, 'date_crf_completed'), (2196, 'date_crf_completed'), (2197, 'date_crf_completed'), (2198, 'date_crf_completed'), (2199, 'date_crf_completed'), (2200, 'date_crf_completed'), (2201, 'date_crf_completed'), (2202, 'date_crf_completed'), (2203, 'date_crf_completed'), (2204, 'date_crf_completed'), (2205, 'date_crf_completed'), (2206, 'date_crf_completed'), (2207, 'date_crf_completed'), (2208, 'date_crf_completed'), (2209, 'date_crf_completed'), (2210, 'date_crf_completed'), (2211, 'date_crf_completed'), (2212, 'date_crf_completed'), (2213, 'date_crf_completed'), (2214, 'date_crf_completed'), (2215, 'date_crf_completed'), (2216, 'date_crf_completed'), (2217, 'date_crf_completed'), (2218, 'date_crf_completed'), (2219, 'date_crf_completed'), (2220, 'date_crf_completed'), (2221, 'date_crf_completed'), (2222, 'date_crf_completed'), (2223, 'date_crf_completed'), (2224, 'date_crf_completed'), (2228, 'date_crf_completed'), (2229, 'date_crf_completed'), (2230, 'date_crf_completed'), (2231, 'date_crf_completed'), (2232, 'date_crf_completed'), (2233, 'date_crf_completed'), (2234, 'date_crf_completed'), (2235, 'date_crf_completed'), (2236, 'date_crf_completed'), (2237, 'date_crf_completed'), (2238, 'date_crf_completed'), (2239, 'date_crf_completed'), (2240, 'date_crf_completed'), (2241, 'date_crf_completed'), (2242, 'date_crf_completed'), (2243, 'date_crf_completed'), (2244, 'date_crf_completed'), (2245, 'date_crf_completed'), (2247, 'date_crf_completed'), (2248, 'date_crf_completed'), (2249, 'date_crf_completed'), (2250, 'date_crf_completed'), (2251, 'date_crf_completed'), (2252, 'date_crf_completed'), (2253, 'date_crf_completed'), (2254, 'date_crf_completed'), (2255, 'date_crf_completed'), (2256, 'date_crf_completed'), (2257, 'date_crf_completed'), (2258, 'date_crf_completed'), (2259, 'date_crf_completed'), (2260, 'date_crf_completed'), (2261, 'date_crf_completed'), (2262, 'date_crf_completed'), (2263, 'date_crf_completed'), (2264, 'date_crf_completed'), (2265, 'date_crf_completed'), (2266, 'date_crf_completed'), (2268, 'date_crf_completed'), (2269, 'date_crf_completed'), (2270, 'date_crf_completed'), (2272, 'date_crf_completed'), (2273, 'date_crf_completed'), (2274, 'date_crf_completed'), (2275, 'date_crf_completed'), (2276, 'date_crf_completed'), (2277, 'date_crf_completed'), (2278, 'date_crf_completed'), (2279, 'date_crf_completed'), (2280, 'date_crf_completed'), (2281, 'date_crf_completed'), (2282, 'date_crf_completed'), (2283, 'date_crf_completed'), (2284, 'date_crf_completed'), (2285, 'date_crf_completed'), (2286, 'date_crf_completed'), (2287, 'date_crf_completed'), (2288, 'date_crf_completed'), (2289, 'date_crf_completed'), (2290, 'date_crf_completed'), (2291, 'date_crf_completed'), (2292, 'date_crf_completed'), (2293, 'date_crf_completed'), (2294, 'date_crf_completed'), (2295, 'date_crf_completed'), (2296, 'date_crf_completed'), (2297, 'date_crf_completed'), (2299, 'date_crf_completed'), (2300, 'date_crf_completed'), (2301, 'date_crf_completed'), (2302, 'date_crf_completed'), (2303, 'date_crf_completed'), (2305, 'date_crf_completed'), (2306, 'date_crf_completed'), (2307, 'date_crf_completed'), (2308, 'date_crf_completed'), (2309, 'date_crf_completed'), (2311, 'date_crf_completed'), (2312, 'date_crf_completed'), (2313, 'date_crf_completed'), (2314, 'date_crf_completed'), (2315, 'date_crf_completed'), (2316, 'date_crf_completed'), (2317, 'date_crf_completed'), (2318, 'date_crf_completed'), (2319, 'date_crf_completed'), (2320, 'date_crf_completed'), (2321, 'date_crf_completed'), (2322, 'date_crf_completed'), (2323, 'date_crf_completed'), (2324, 'date_crf_completed'), (2325, 'date_crf_completed'), (2326, 'date_crf_completed'), (2327, 'date_crf_completed'), (2328, 'date_crf_completed'), (2329, 'date_crf_completed'), (2330, 'date_crf_completed'), (2331, 'date_crf_completed'), (2332, 'date_crf_completed'), (2333, 'date_crf_completed'), (2334, 'date_crf_completed'), (2335, 'date_crf_completed'), (2336, 'date_crf_completed'), (2337, 'date_crf_completed'), (2338, 'date_crf_completed'), (2339, 'date_crf_completed'), (2340, 'date_crf_completed'), (2341, 'date_crf_completed'), (2342, 'date_crf_completed'), (2343, 'date_crf_completed'), (2344, 'date_crf_completed'), (2345, 'date_crf_completed'), (2346, 'date_crf_completed'), (2347, 'date_crf_completed'), (2348, 'date_crf_completed'), (2349, 'date_crf_completed'), (2350, 'date_crf_completed'), (2352, 'date_crf_completed'), (2353, 'date_crf_completed'), (2354, 'date_crf_completed'), (2355, 'date_crf_completed'), (2356, 'date_crf_completed'), (2357, 'date_crf_completed'), (2358, 'date_crf_completed'), (2359, 'date_crf_completed'), (2360, 'date_crf_completed'), (2361, 'date_crf_completed'), (2362, 'date_crf_completed'), (2363, 'date_crf_completed'), (2364, 'date_crf_completed'), (2365, 'date_crf_completed'), (2366, 'date_crf_completed'), (2367, 'date_crf_completed'), (2368, 'date_crf_completed'), (2369, 'date_crf_completed'), (2370, 'date_crf_completed'), (2372, 'date_crf_completed'), (2373, 'date_crf_completed'), (2374, 'date_crf_completed'), (2375, 'date_crf_completed'), (2376, 'date_crf_completed'), (2377, 'date_crf_completed'), (2378, 'date_crf_completed'), (2379, 'date_crf_completed'), (2380, 'date_crf_completed'), (2381, 'date_crf_completed'), (2382, 'date_crf_completed'), (2383, 'date_crf_completed'), (2384, 'date_crf_completed'), (2385, 'date_crf_completed'), (2386, 'date_crf_completed'), (2387, 'date_crf_completed'), (2388, 'date_crf_completed'), (2389, 'date_crf_completed'), (2390, 'date_crf_completed'), (2392, 'date_crf_completed'), (2393, 'date_crf_completed'), (2394, 'date_crf_completed'), (2395, 'date_crf_completed'), (2396, 'date_crf_completed'), (2397, 'date_crf_completed'), (2398, 'date_crf_completed'), (2399, 'date_crf_completed'), (2400, 'date_crf_completed'), (2401, 'date_crf_completed'), (2402, 'date_crf_completed'), (2403, 'date_crf_completed'), (2404, 'date_crf_completed'), (2405, 'date_crf_completed'), (2406, 'date_crf_completed'), (2408, 'date_crf_completed'), (2409, 'date_crf_completed'), (2410, 'date_crf_completed'), (2411, 'date_crf_completed'), (2412, 'date_crf_completed'), (2413, 'date_crf_completed'), (2414, 'date_crf_completed'), (2415, 'date_crf_completed'), (2416, 'date_crf_completed'), (2417, 'date_crf_completed'), (2418, 'date_crf_completed'), (2419, 'date_crf_completed'), (2420, 'date_crf_completed'), (2421, 'date_crf_completed'), (2423, 'date_crf_completed'), (2424, 'date_crf_completed'), (2425, 'date_crf_completed'), (2426, 'date_crf_completed'), (2427, 'date_crf_completed'), (2428, 'date_crf_completed'), (2429, 'date_crf_completed'), (2430, 'date_crf_completed'), (2432, 'date_crf_completed'), (2433, 'date_crf_completed'), (2434, 'date_crf_completed'), (2435, 'date_crf_completed'), (2436, 'date_crf_completed'), (2437, 'date_crf_completed'), (2438, 'date_crf_completed'), (2439, 'date_crf_completed'), (2440, 'date_crf_completed'), (2441, 'date_crf_completed'), (2442, 'date_crf_completed'), (2443, 'date_crf_completed'), (2444, 'date_crf_completed'), (2445, 'date_crf_completed'), (2446, 'date_crf_completed'), (2447, 'date_crf_completed'), (2448, 'date_crf_completed'), (2449, 'date_crf_completed'), (2450, 'date_crf_completed'), (2451, 'date_crf_completed'), (2452, 'date_crf_completed'), (2453, 'date_crf_completed'), (2454, 'date_crf_completed'), (2455, 'date_crf_completed'), (2456, 'date_crf_completed'), (2457, 'date_crf_completed'), (2458, 'date_crf_completed'), (2459, 'date_crf_completed'), (2460, 'date_crf_completed'), (2461, 'date_crf_completed'), (2462, 'date_crf_completed'), (2463, 'date_crf_completed'), (2464, 'date_crf_completed'), (2465, 'date_crf_completed'), (2466, 'date_crf_completed'), (2467, 'date_crf_completed'), (2468, 'date_crf_completed'), (2469, 'date_crf_completed'), (2470, 'date_crf_completed'), (2471, 'date_crf_completed'), (2472, 'date_crf_completed'), (2473, 'date_crf_completed'), (2474, 'date_crf_completed'), (2475, 'date_crf_completed'), (2477, 'date_crf_completed'), (2478, 'date_crf_completed'), (2479, 'date_crf_completed'), (2480, 'date_crf_completed'), (2481, 'date_crf_completed'), (2482, 'date_crf_completed'), (2484, 'date_crf_completed'), (2485, 'date_crf_completed'), (2486, 'date_crf_completed'), (2487, 'date_crf_completed'), (2488, 'date_crf_completed'), (2489, 'date_crf_completed'), (2490, 'date_crf_completed'), (2492, 'date_crf_completed'), (2493, 'date_crf_completed'), (2494, 'date_crf_completed'), (2495, 'date_crf_completed'), (2496, 'date_crf_completed'), (2497, 'date_crf_completed'), (2498, 'date_crf_completed'), (2501, 'date_crf_completed'), (2502, 'date_crf_completed'), (2503, 'date_crf_completed'), (2504, 'date_crf_completed'), (2505, 'date_crf_completed'), (2506, 'date_crf_completed'), (2507, 'date_crf_completed'), (2508, 'date_crf_completed'), (2509, 'date_crf_completed'), (2510, 'date_crf_completed'), (2512, 'date_crf_completed'), (2513, 'date_crf_completed'), (2514, 'date_crf_completed'), (2515, 'date_crf_completed'), (2516, 'date_crf_completed'), (2517, 'date_crf_completed'), (2518, 'date_crf_completed'), (2519, 'date_crf_completed'), (2520, 'date_crf_completed'), (2521, 'date_crf_completed'), (2523, 'date_crf_completed'), (2524, 'date_crf_completed'), (2525, 'date_crf_completed'), (2526, 'date_crf_completed'), (2527, 'date_crf_completed'), (2528, 'date_crf_completed'), (2529, 'date_crf_completed'), (2530, 'date_crf_completed'), (2531, 'date_crf_completed'), (2532, 'date_crf_completed'), (2533, 'date_crf_completed'), (2534, 'date_crf_completed'), (2535, 'date_crf_completed'), (2536, 'date_crf_completed'), (2537, 'date_crf_completed'), (2538, 'date_crf_completed'), (2539, 'date_crf_completed'), (2540, 'date_crf_completed'), (2541, 'date_crf_completed'), (2542, 'date_crf_completed'), (2543, 'date_crf_completed'), (2544, 'date_crf_completed'), (2545, 'date_crf_completed'), (2546, 'date_crf_completed'), (2547, 'date_crf_completed'), (2548, 'date_crf_completed'), (2549, 'date_crf_completed'), (2550, 'date_crf_completed'), (2551, 'date_crf_completed'), (2552, 'date_crf_completed'), (2553, 'date_crf_completed'), (2554, 'date_crf_completed'), (2555, 'date_crf_completed'), (2556, 'date_crf_completed'), (2557, 'date_crf_completed'), (2558, 'date_crf_completed'), (2559, 'date_crf_completed'), (2560, 'date_crf_completed'), (2561, 'date_crf_completed'), (2563, 'date_crf_completed'), (2564, 'date_crf_completed'), (2565, 'date_crf_completed'), (2566, 'date_crf_completed'), (2567, 'date_crf_completed'), (2568, 'date_crf_completed'), (2569, 'date_crf_completed'), (2570, 'date_crf_completed'), (2571, 'date_crf_completed'), (2572, 'date_crf_completed'), (2573, 'date_crf_completed'), (2574, 'date_crf_completed'), (2575, 'date_crf_completed'), (2578, 'date_crf_completed'), (2579, 'date_crf_completed'), (2580, 'date_crf_completed'), (2581, 'date_crf_completed'), (2582, 'date_crf_completed'), (2583, 'date_crf_completed'), (2584, 'date_crf_completed'), (2585, 'date_crf_completed'), (2586, 'date_crf_completed'), (2587, 'date_crf_completed'), (2588, 'date_crf_completed'), (2589, 'date_crf_completed'), (2590, 'date_crf_completed'), (2594, 'date_crf_completed'), (2595, 'date_crf_completed'), (2596, 'date_crf_completed'), (2597, 'date_crf_completed'), (2600, 'date_crf_completed'), (2601, 'date_crf_completed'), (2602, 'date_crf_completed'), (2604, 'date_crf_completed'), (2605, 'date_crf_completed'), (2606, 'date_crf_completed'), (2607, 'date_crf_completed'), (2608, 'date_crf_completed'), (2610, 'date_crf_completed'), (2611, 'date_crf_completed'), (2612, 'date_crf_completed'), (2613, 'date_crf_completed'), (2616, 'date_crf_completed'), (2244, 'sample_date'), (2481, 'sample_date'), (2487, 'sample_date'), (582, 'registryconsent'), (714, 'registryconsent'), (1057, 'registryconsent'), (1062, 'registryconsent'), (1063, 'registryconsent'), (1064, 'registryconsent'), (1298, 'registryconsent'), (1647, 'registryconsent'), (2212, 'registryconsent'), (2244, 'registryconsent'), (2284, 'registryconsent'), (2355, 'registryconsent'), (2481, 'registryconsent'), (2599, 'registryconsent'), (2700, 'registryconsent'), (2725, 'registryconsent'), (2126, 'biorepconsent'), (2127, 'biorepconsent'), (2128, 'biorepconsent'), (2129, 'biorepconsent'), (2130, 'biorepconsent'), (2131, 'biorepconsent'), (2134, 'biorepconsent'), (2135, 'biorepconsent'), (2136, 'biorepconsent'), (2138, 'biorepconsent'), (2139, 'biorepconsent'), (2140, 'biorepconsent'), (2141, 'biorepconsent'), (2212, 'biorepconsent'), (2244, 'biorepconsent'), (2284, 'biorepconsent'), (2355, 'biorepconsent'), (2481, 'biorepconsent'), (2244, 'ibdyesno'), (2284, 'ibdyesno'), (2355, 'ibdyesno'), (2, 'ibdtype'), (3, 'ibdtype'), (22, 'ibdtype'), (95, 'ibdtype'), (96, 'ibdtype'), (104, 'ibdtype'), (105, 'ibdtype'), (106, 'ibdtype'), (109, 'ibdtype'), (111, 'ibdtype'), (113, 'ibdtype'), (136, 'ibdtype'), (137, 'ibdtype'), (148, 'ibdtype'), (149, 'ibdtype'), (166, 'ibdtype'), (168, 'ibdtype'), (204, 'ibdtype'), (205, 'ibdtype'), (208, 'ibdtype'), (209, 'ibdtype'), (236, 'ibdtype'), (243, 'ibdtype'), (254, 'ibdtype'), (255, 'ibdtype'), (256, 'ibdtype'), (257, 'ibdtype'), (258, 'ibdtype'), (259, 'ibdtype'), (260, 'ibdtype'), (261, 'ibdtype'), (262, 'ibdtype'), (263, 'ibdtype'), (264, 'ibdtype'), (265, 'ibdtype'), (266, 'ibdtype'), (267, 'ibdtype'), (268, 'ibdtype'), (269, 'ibdtype'), (270, 'ibdtype'), (271, 'ibdtype'), (272, 'ibdtype'), (273, 'ibdtype'), (274, 'ibdtype'), (275, 'ibdtype'), (276, 'ibdtype'), (277, 'ibdtype'), (278, 'ibdtype'), (279, 'ibdtype'), (280, 'ibdtype'), (281, 'ibdtype'), (282, 'ibdtype'), (283, 'ibdtype'), (284, 'ibdtype'), (285, 'ibdtype'), (286, 'ibdtype'), (287, 'ibdtype'), (288, 'ibdtype'), (289, 'ibdtype'), (290, 'ibdtype'), (291, 'ibdtype'), (292, 'ibdtype'), (293, 'ibdtype'), (294, 'ibdtype'), (295, 'ibdtype'), (296, 'ibdtype'), (297, 'ibdtype'), (298, 'ibdtype'), (299, 'ibdtype'), (300, 'ibdtype'), (301, 'ibdtype'), (302, 'ibdtype'), (303, 'ibdtype'), (304, 'ibdtype'), (305, 'ibdtype'), (306, 'ibdtype'), (307, 'ibdtype'), (308, 'ibdtype'), (309, 'ibdtype'), (310, 'ibdtype'), (311, 'ibdtype'), (312, 'ibdtype'), (313, 'ibdtype'), (314, 'ibdtype'), (315, 'ibdtype'), (316, 'ibdtype'), (317, 'ibdtype'), (318, 'ibdtype'), (319, 'ibdtype'), (320, 'ibdtype'), (321, 'ibdtype'), (322, 'ibdtype'), (323, 'ibdtype'), (324, 'ibdtype'), (325, 'ibdtype'), (326, 'ibdtype'), (327, 'ibdtype'), (328, 'ibdtype'), (329, 'ibdtype'), (330, 'ibdtype'), (331, 'ibdtype'), (332, 'ibdtype'), (333, 'ibdtype'), (334, 'ibdtype'), (335, 'ibdtype'), (336, 'ibdtype'), (337, 'ibdtype'), (338, 'ibdtype'), (339, 'ibdtype'), (340, 'ibdtype'), (341, 'ibdtype'), (342, 'ibdtype'), (343, 'ibdtype'), (344, 'ibdtype'), (345, 'ibdtype'), (346, 'ibdtype'), (347, 'ibdtype'), (348, 'ibdtype'), (353, 'ibdtype'), (354, 'ibdtype'), (355, 'ibdtype'), (366, 'ibdtype'), (367, 'ibdtype'), (368, 'ibdtype'), (369, 'ibdtype'), (370, 'ibdtype'), (387, 'ibdtype'), (393, 'ibdtype'), (394, 'ibdtype'), (431, 'ibdtype'), (432, 'ibdtype'), (433, 'ibdtype'), (435, 'ibdtype'), (436, 'ibdtype'), (439, 'ibdtype'), (440, 'ibdtype'), (445, 'ibdtype'), (446, 'ibdtype'), (463, 'ibdtype'), (464, 'ibdtype'), (469, 'ibdtype'), (471, 'ibdtype'), (472, 'ibdtype'), (477, 'ibdtype'), (478, 'ibdtype'), (479, 'ibdtype'), (481, 'ibdtype'), (487, 'ibdtype'), (493, 'ibdtype'), (494, 'ibdtype'), (495, 'ibdtype'), (496, 'ibdtype'), (502, 'ibdtype'), (509, 'ibdtype'), (510, 'ibdtype'), (511, 'ibdtype'), (516, 'ibdtype'), (517, 'ibdtype'), (522, 'ibdtype'), (523, 'ibdtype'), (524, 'ibdtype'), (525, 'ibdtype'), (526, 'ibdtype'), (540, 'ibdtype'), (541, 'ibdtype'), (544, 'ibdtype'), (545, 'ibdtype'), (559, 'ibdtype'), (560, 'ibdtype'), (582, 'ibdtype'), (587, 'ibdtype'), (590, 'ibdtype'), (598, 'ibdtype'), (605, 'ibdtype'), (606, 'ibdtype'), (616, 'ibdtype'), (617, 'ibdtype'), (620, 'ibdtype'), (643, 'ibdtype'), (644, 'ibdtype'), (645, 'ibdtype'), (646, 'ibdtype'), (647, 'ibdtype'), (681, 'ibdtype'), (682, 'ibdtype'), (683, 'ibdtype'), (684, 'ibdtype'), (687, 'ibdtype'), (688, 'ibdtype'), (693, 'ibdtype'), (699, 'ibdtype'), (700, 'ibdtype'), (728, 'ibdtype'), (729, 'ibdtype'), (730, 'ibdtype'), (731, 'ibdtype'), (735, 'ibdtype'), (738, 'ibdtype'), (739, 'ibdtype'), (740, 'ibdtype'), (741, 'ibdtype'), (743, 'ibdtype'), (800, 'ibdtype'), (807, 'ibdtype'), (808, 'ibdtype'), (809, 'ibdtype'), (811, 'ibdtype'), (812, 'ibdtype'), (813, 'ibdtype'), (815, 'ibdtype'), (816, 'ibdtype'), (819, 'ibdtype'), (821, 'ibdtype'), (822, 'ibdtype'), (848, 'ibdtype'), (849, 'ibdtype'), (852, 'ibdtype'), (853, 'ibdtype'), (854, 'ibdtype'), (855, 'ibdtype'), (857, 'ibdtype'), (860, 'ibdtype'), (861, 'ibdtype'), (882, 'ibdtype'), (888, 'ibdtype'), (940, 'ibdtype'), (941, 'ibdtype'), (943, 'ibdtype'), (946, 'ibdtype'), (947, 'ibdtype'), (954, 'ibdtype'), (956, 'ibdtype'), (963, 'ibdtype'), (964, 'ibdtype'), (969, 'ibdtype'), (977, 'ibdtype'), (996, 'ibdtype'), (999, 'ibdtype'), (1001, 'ibdtype'), (1002, 'ibdtype'), (1003, 'ibdtype'), (1005, 'ibdtype'), (1006, 'ibdtype'), (1007, 'ibdtype'), (1008, 'ibdtype'), (1013, 'ibdtype'), (1014, 'ibdtype'), (1017, 'ibdtype'), (1023, 'ibdtype'), (1024, 'ibdtype'), (1031, 'ibdtype'), (1033, 'ibdtype'), (1041, 'ibdtype'), (1042, 'ibdtype'), (1043, 'ibdtype'), (1044, 'ibdtype'), (1048, 'ibdtype'), (1050, 'ibdtype'), (1051, 'ibdtype'), (1052, 'ibdtype'), (1053, 'ibdtype'), (1055, 'ibdtype'), (1056, 'ibdtype'), (1057, 'ibdtype'), (1059, 'ibdtype'), (1061, 'ibdtype'), (1062, 'ibdtype'), (1063, 'ibdtype'), (1064, 'ibdtype'), (1067, 'ibdtype'), (1068, 'ibdtype'), (1071, 'ibdtype'), (1072, 'ibdtype'), (1075, 'ibdtype'), (1076, 'ibdtype'), (1079, 'ibdtype'), (1080, 'ibdtype'), (1085, 'ibdtype'), (1086, 'ibdtype'), (1087, 'ibdtype'), (1088, 'ibdtype'), (1089, 'ibdtype'), (1090, 'ibdtype'), (1091, 'ibdtype'), (1092, 'ibdtype'), (1097, 'ibdtype'), (1098, 'ibdtype'), (1099, 'ibdtype'), (1100, 'ibdtype'), (1119, 'ibdtype'), (1121, 'ibdtype'), (1122, 'ibdtype'), (1124, 'ibdtype'), (1125, 'ibdtype'), (1126, 'ibdtype'), (1128, 'ibdtype'), (1129, 'ibdtype'), (1130, 'ibdtype'), (1132, 'ibdtype'), (1133, 'ibdtype'), (1134, 'ibdtype'), (1135, 'ibdtype'), (1136, 'ibdtype'), (1137, 'ibdtype'), (1138, 'ibdtype'), (1139, 'ibdtype'), (1140, 'ibdtype'), (1142, 'ibdtype'), (1143, 'ibdtype'), (1144, 'ibdtype'), (1146, 'ibdtype'), (1147, 'ibdtype'), (1150, 'ibdtype'), (1152, 'ibdtype'), (1153, 'ibdtype'), (1154, 'ibdtype'), (1155, 'ibdtype'), (1156, 'ibdtype'), (1157, 'ibdtype'), (1158, 'ibdtype'), (1159, 'ibdtype'), (1162, 'ibdtype'), (1163, 'ibdtype'), (1167, 'ibdtype'), (1168, 'ibdtype'), (1169, 'ibdtype'), (1171, 'ibdtype'), (1172, 'ibdtype'), (1176, 'ibdtype'), (1177, 'ibdtype'), (1178, 'ibdtype'), (1179, 'ibdtype'), (1182, 'ibdtype'), (1183, 'ibdtype'), (1186, 'ibdtype'), (1187, 'ibdtype'), (1190, 'ibdtype'), (1191, 'ibdtype'), (1194, 'ibdtype'), (1195, 'ibdtype'), (1196, 'ibdtype'), (1200, 'ibdtype'), (1201, 'ibdtype'), (1204, 'ibdtype'), (1205, 'ibdtype'), (1206, 'ibdtype'), (1211, 'ibdtype'), (1213, 'ibdtype'), (1214, 'ibdtype'), (1215, 'ibdtype'), (1217, 'ibdtype'), (1218, 'ibdtype'), (1226, 'ibdtype'), (1227, 'ibdtype'), (1230, 'ibdtype'), (1235, 'ibdtype'), (1240, 'ibdtype'), (1246, 'ibdtype'), (1249, 'ibdtype'), (1250, 'ibdtype'), (1251, 'ibdtype'), (1252, 'ibdtype'), (1253, 'ibdtype'), (1257, 'ibdtype'), (1264, 'ibdtype'), (1301, 'ibdtype'), (1302, 'ibdtype'), (1303, 'ibdtype'), (1312, 'ibdtype'), (1316, 'ibdtype'), (1317, 'ibdtype'), (1318, 'ibdtype'), (1319, 'ibdtype'), (1323, 'ibdtype'), (1324, 'ibdtype'), (1326, 'ibdtype'), (1327, 'ibdtype'), (1328, 'ibdtype'), (1329, 'ibdtype'), (1331, 'ibdtype'), (1334, 'ibdtype'), (1335, 'ibdtype'), (1336, 'ibdtype'), (1339, 'ibdtype'), (1350, 'ibdtype'), (1351, 'ibdtype'), (1352, 'ibdtype'), (1358, 'ibdtype'), (1359, 'ibdtype'), (1360, 'ibdtype'), (1361, 'ibdtype'), (1374, 'ibdtype'), (1377, 'ibdtype'), (1378, 'ibdtype'), (1379, 'ibdtype'), (1380, 'ibdtype'), (1381, 'ibdtype'), (1385, 'ibdtype'), (1386, 'ibdtype'), (1397, 'ibdtype'), (1398, 'ibdtype'), (1399, 'ibdtype'), (1405, 'ibdtype'), (1408, 'ibdtype'), (1409, 'ibdtype'), (1416, 'ibdtype'), (1417, 'ibdtype'), (1425, 'ibdtype'), (1426, 'ibdtype'), (1429, 'ibdtype'), (1430, 'ibdtype'), (1431, 'ibdtype'), (1432, 'ibdtype'), (1453, 'ibdtype'), (1454, 'ibdtype'), (1455, 'ibdtype'), (1457, 'ibdtype'), (1458, 'ibdtype'), (1459, 'ibdtype'), (1460, 'ibdtype'), (1466, 'ibdtype'), (1473, 'ibdtype'), (1478, 'ibdtype'), (1479, 'ibdtype'), (1480, 'ibdtype'), (1481, 'ibdtype'), (1482, 'ibdtype'), (1484, 'ibdtype'), (1487, 'ibdtype'), (1490, 'ibdtype'), (1491, 'ibdtype'), (1492, 'ibdtype'), (1494, 'ibdtype'), (1495, 'ibdtype'), (1497, 'ibdtype'), (1498, 'ibdtype'), (1507, 'ibdtype'), (1508, 'ibdtype'), (1509, 'ibdtype'), (1510, 'ibdtype'), (1514, 'ibdtype'), (1515, 'ibdtype'), (1516, 'ibdtype'), (1517, 'ibdtype'), (1518, 'ibdtype'), (1522, 'ibdtype'), (1523, 'ibdtype'), (1524, 'ibdtype'), (1526, 'ibdtype'), (1527, 'ibdtype'), (1528, 'ibdtype'), (1529, 'ibdtype'), (1530, 'ibdtype'), (1531, 'ibdtype'), (1532, 'ibdtype'), (1533, 'ibdtype'), (1534, 'ibdtype'), (1535, 'ibdtype'), (1537, 'ibdtype'), (1538, 'ibdtype'), (1539, 'ibdtype'), (1543, 'ibdtype'), (1544, 'ibdtype'), (1545, 'ibdtype'), (1548, 'ibdtype'), (1549, 'ibdtype'), (1550, 'ibdtype'), (1551, 'ibdtype'), (1554, 'ibdtype'), (1557, 'ibdtype'), (1558, 'ibdtype'), (1559, 'ibdtype'), (1565, 'ibdtype'), (1570, 'ibdtype'), (1626, 'ibdtype'), (1627, 'ibdtype'), (1628, 'ibdtype'), (1629, 'ibdtype'), (1630, 'ibdtype'), (1631, 'ibdtype'), (1632, 'ibdtype'), (1633, 'ibdtype'), (1635, 'ibdtype'), (1636, 'ibdtype'), (1637, 'ibdtype'), (1638, 'ibdtype'), (1640, 'ibdtype'), (1641, 'ibdtype'), (1642, 'ibdtype'), (1644, 'ibdtype'), (1645, 'ibdtype'), (1648, 'ibdtype'), (1649, 'ibdtype'), (1651, 'ibdtype'), (1652, 'ibdtype'), (1653, 'ibdtype'), (1655, 'ibdtype'), (1657, 'ibdtype'), (1658, 'ibdtype'), (1659, 'ibdtype'), (1660, 'ibdtype'), (1661, 'ibdtype'), (1663, 'ibdtype'), (1664, 'ibdtype'), (1665, 'ibdtype'), (1667, 'ibdtype'), (1668, 'ibdtype'), (1673, 'ibdtype'), (1675, 'ibdtype'), (1679, 'ibdtype'), (1684, 'ibdtype'), (1686, 'ibdtype'), (1687, 'ibdtype'), (1688, 'ibdtype'), (1689, 'ibdtype'), (1692, 'ibdtype'), (1693, 'ibdtype'), (1695, 'ibdtype'), (1697, 'ibdtype'), (1702, 'ibdtype'), (1703, 'ibdtype'), (1705, 'ibdtype'), (1706, 'ibdtype'), (1707, 'ibdtype'), (1708, 'ibdtype'), (1709, 'ibdtype'), (1710, 'ibdtype'), (1716, 'ibdtype'), (1717, 'ibdtype'), (1719, 'ibdtype'), (1720, 'ibdtype'), (1721, 'ibdtype'), (1724, 'ibdtype'), (1727, 'ibdtype'), (1729, 'ibdtype'), (1733, 'ibdtype'), (1734, 'ibdtype'), (1736, 'ibdtype'), (1737, 'ibdtype'), (1739, 'ibdtype'), (1740, 'ibdtype'), (1741, 'ibdtype'), (1745, 'ibdtype'), (1750, 'ibdtype'), (1752, 'ibdtype'), (1753, 'ibdtype'), (1754, 'ibdtype'), (1755, 'ibdtype'), (1757, 'ibdtype'), (1758, 'ibdtype'), (1761, 'ibdtype'), (1762, 'ibdtype'), (1763, 'ibdtype'), (1764, 'ibdtype'), (1765, 'ibdtype'), (1768, 'ibdtype'), (1769, 'ibdtype'), (1770, 'ibdtype'), (1773, 'ibdtype'), (1774, 'ibdtype'), (1777, 'ibdtype'), (1780, 'ibdtype'), (1781, 'ibdtype'), (1784, 'ibdtype'), (1786, 'ibdtype'), (1787, 'ibdtype'), (1789, 'ibdtype'), (1791, 'ibdtype'), (1792, 'ibdtype'), (1794, 'ibdtype'), (1795, 'ibdtype'), (1796, 'ibdtype'), (1797, 'ibdtype'), (1798, 'ibdtype'), (1801, 'ibdtype'), (1802, 'ibdtype'), (1805, 'ibdtype'), (1806, 'ibdtype'), (1808, 'ibdtype'), (1809, 'ibdtype'), (1812, 'ibdtype'), (1813, 'ibdtype'), (1814, 'ibdtype'), (1815, 'ibdtype'), (1817, 'ibdtype'), (1820, 'ibdtype'), (1821, 'ibdtype'), (1823, 'ibdtype'), (1824, 'ibdtype'), (1826, 'ibdtype'), (1827, 'ibdtype'), (1831, 'ibdtype'), (1832, 'ibdtype'), (1833, 'ibdtype'), (1837, 'ibdtype'), (1838, 'ibdtype'), (1839, 'ibdtype'), (1840, 'ibdtype'), (1844, 'ibdtype'), (1847, 'ibdtype'), (1848, 'ibdtype'), (1851, 'ibdtype'), (1852, 'ibdtype'), (1854, 'ibdtype'), (1855, 'ibdtype'), (1856, 'ibdtype'), (1857, 'ibdtype'), (1860, 'ibdtype'), (1861, 'ibdtype'), (1862, 'ibdtype'), (1864, 'ibdtype'), (1869, 'ibdtype'), (1870, 'ibdtype'), (1873, 'ibdtype'), (1874, 'ibdtype'), (1875, 'ibdtype'), (1877, 'ibdtype'), (1878, 'ibdtype'), (1880, 'ibdtype'), (1883, 'ibdtype'), (1884, 'ibdtype'), (1885, 'ibdtype'), (1887, 'ibdtype'), (1888, 'ibdtype'), (1889, 'ibdtype'), (1895, 'ibdtype'), (1896, 'ibdtype'), (1899, 'ibdtype'), (1902, 'ibdtype'), (1905, 'ibdtype'), (1912, 'ibdtype'), (1913, 'ibdtype'), (1915, 'ibdtype'), (1917, 'ibdtype'), (1919, 'ibdtype'), (1928, 'ibdtype'), (1929, 'ibdtype'), (1932, 'ibdtype'), (1935, 'ibdtype'), (1936, 'ibdtype'), (1937, 'ibdtype'), (1962, 'ibdtype'), (1963, 'ibdtype'), (1964, 'ibdtype'), (1965, 'ibdtype'), (1966, 'ibdtype'), (1967, 'ibdtype'), (1968, 'ibdtype'), (1969, 'ibdtype'), (1970, 'ibdtype'), (1971, 'ibdtype'), (1973, 'ibdtype'), (1974, 'ibdtype'), (1975, 'ibdtype'), (1976, 'ibdtype'), (2002, 'ibdtype'), (2003, 'ibdtype'), (2004, 'ibdtype'), (2005, 'ibdtype'), (2006, 'ibdtype'), (2007, 'ibdtype'), (2008, 'ibdtype'), (2009, 'ibdtype'), (2010, 'ibdtype'), (2011, 'ibdtype'), (2012, 'ibdtype'), (2013, 'ibdtype'), (2014, 'ibdtype'), (2015, 'ibdtype'), (2016, 'ibdtype'), (2017, 'ibdtype'), (2018, 'ibdtype'), (2019, 'ibdtype'), (2020, 'ibdtype'), (2021, 'ibdtype'), (2022, 'ibdtype'), (2023, 'ibdtype'), (2024, 'ibdtype'), (2025, 'ibdtype'), (2026, 'ibdtype'), (2027, 'ibdtype'), (2028, 'ibdtype'), (2029, 'ibdtype'), (2030, 'ibdtype'), (2031, 'ibdtype'), (2032, 'ibdtype'), (2033, 'ibdtype'), (2034, 'ibdtype'), (2035, 'ibdtype'), (2036, 'ibdtype'), (2037, 'ibdtype'), (2038, 'ibdtype'), (2039, 'ibdtype'), (2040, 'ibdtype'), (2041, 'ibdtype'), (2042, 'ibdtype'), (2043, 'ibdtype'), (2044, 'ibdtype'), (2045, 'ibdtype'), (2046, 'ibdtype'), (2047, 'ibdtype'), (2048, 'ibdtype'), (2049, 'ibdtype'), (2050, 'ibdtype'), (2051, 'ibdtype'), (2052, 'ibdtype'), (2053, 'ibdtype'), (2054, 'ibdtype'), (2055, 'ibdtype'), (2056, 'ibdtype'), (2057, 'ibdtype'), (2058, 'ibdtype'), (2059, 'ibdtype'), (2060, 'ibdtype'), (2061, 'ibdtype'), (2062, 'ibdtype'), (2063, 'ibdtype'), (2064, 'ibdtype'), (2065, 'ibdtype'), (2066, 'ibdtype'), (2067, 'ibdtype'), (2068, 'ibdtype'), (2069, 'ibdtype'), (2070, 'ibdtype'), (2071, 'ibdtype'), (2072, 'ibdtype'), (2073, 'ibdtype'), (2074, 'ibdtype'), (2075, 'ibdtype'), (2076, 'ibdtype'), (2077, 'ibdtype'), (2078, 'ibdtype'), (2079, 'ibdtype'), (2080, 'ibdtype'), (2081, 'ibdtype'), (2082, 'ibdtype'), (2083, 'ibdtype'), (2084, 'ibdtype'), (2085, 'ibdtype'), (2086, 'ibdtype'), (2087, 'ibdtype'), (2088, 'ibdtype'), (2089, 'ibdtype'), (2090, 'ibdtype'), (2091, 'ibdtype'), (2092, 'ibdtype'), (2093, 'ibdtype'), (2094, 'ibdtype'), (2095, 'ibdtype'), (2119, 'ibdtype'), (2120, 'ibdtype'), (2121, 'ibdtype'), (2122, 'ibdtype'), (2142, 'ibdtype'), (2166, 'ibdtype'), (2167, 'ibdtype'), (2168, 'ibdtype'), (2169, 'ibdtype'), (2213, 'ibdtype'), (2214, 'ibdtype'), (2215, 'ibdtype'), (2216, 'ibdtype'), (2217, 'ibdtype'), (2218, 'ibdtype'), (2219, 'ibdtype'), (2220, 'ibdtype'), (2237, 'ibdtype'), (2238, 'ibdtype'), (2240, 'ibdtype'), (2241, 'ibdtype'), (2242, 'ibdtype'), (2243, 'ibdtype'), (2244, 'ibdtype'), (2247, 'ibdtype'), (2248, 'ibdtype'), (2249, 'ibdtype'), (2250, 'ibdtype'), (2261, 'ibdtype'), (2262, 'ibdtype'), (2263, 'ibdtype'), (2264, 'ibdtype'), (2272, 'ibdtype'), (2273, 'ibdtype'), (2276, 'ibdtype'), (2282, 'ibdtype'), (2284, 'ibdtype'), (2289, 'ibdtype'), (2291, 'ibdtype'), (2292, 'ibdtype'), (2293, 'ibdtype'), (2306, 'ibdtype'), (2315, 'ibdtype'), (2316, 'ibdtype'), (2319, 'ibdtype'), (2321, 'ibdtype'), (2322, 'ibdtype'), (2323, 'ibdtype'), (2325, 'ibdtype'), (2328, 'ibdtype'), (2329, 'ibdtype'), (2332, 'ibdtype'), (2334, 'ibdtype'), (2335, 'ibdtype'), (2336, 'ibdtype'), (2337, 'ibdtype'), (2340, 'ibdtype'), (2341, 'ibdtype'), (2347, 'ibdtype'), (2355, 'ibdtype'), (2357, 'ibdtype'), (2370, 'ibdtype'), (2371, 'ibdtype'), (2376, 'ibdtype'), (2378, 'ibdtype'), (2379, 'ibdtype'), (2382, 'ibdtype'), (2383, 'ibdtype'), (2391, 'ibdtype'), (2392, 'ibdtype'), (2394, 'ibdtype'), (2395, 'ibdtype'), (2404, 'ibdtype'), (2405, 'ibdtype'), (2407, 'ibdtype'), (2408, 'ibdtype'), (2419, 'ibdtype'), (2425, 'ibdtype'), (2430, 'ibdtype'), (2432, 'ibdtype'), (2433, 'ibdtype'), (2435, 'ibdtype'), (2436, 'ibdtype'), (2437, 'ibdtype'), (2438, 'ibdtype'), (2439, 'ibdtype'), (2440, 'ibdtype'), (2449, 'ibdtype'), (2469, 'ibdtype'), (2470, 'ibdtype'), (2478, 'ibdtype'), (2479, 'ibdtype'), (2482, 'ibdtype'), (2483, 'ibdtype'), (2489, 'ibdtype'), (2490, 'ibdtype'), (2492, 'ibdtype'), (2493, 'ibdtype'), (2499, 'ibdtype'), (2500, 'ibdtype'), (2510, 'ibdtype'), (2516, 'ibdtype'), (2517, 'ibdtype'), (2525, 'ibdtype'), (2526, 'ibdtype'), (2528, 'ibdtype'), (2529, 'ibdtype'), (2547, 'ibdtype'), (2549, 'ibdtype'), (2552, 'ibdtype'), (2554, 'ibdtype'), (2555, 'ibdtype'), (2556, 'ibdtype'), (2557, 'ibdtype'), (2558, 'ibdtype'), (2559, 'ibdtype'), (2560, 'ibdtype'), (2562, 'ibdtype'), (2563, 'ibdtype'), (2564, 'ibdtype'), (2567, 'ibdtype'), (2569, 'ibdtype'), (2571, 'ibdtype'), (2573, 'ibdtype'), (2575, 'ibdtype'), (2578, 'ibdtype'), (2582, 'ibdtype'), (2583, 'ibdtype'), (2584, 'ibdtype'), (2585, 'ibdtype'), (2586, 'ibdtype'), (2587, 'ibdtype'), (2589, 'ibdtype'), (2590, 'ibdtype'), (2591, 'ibdtype'), (2592, 'ibdtype'), (2593, 'ibdtype'), (2595, 'ibdtype'), (2596, 'ibdtype'), (2604, 'ibdtype'), (2607, 'ibdtype'), (2609, 'ibdtype'), (2611, 'ibdtype'), (2618, 'ibdtype'), (2622, 'ibdtype'), (2623, 'ibdtype'), (2624, 'ibdtype'), (2626, 'ibdtype'), (2627, 'ibdtype'), (2629, 'ibdtype'), (2630, 'ibdtype'), (2632, 'ibdtype'), (2633, 'ibdtype'), (2636, 'ibdtype'), (2637, 'ibdtype'), (2638, 'ibdtype'), (2639, 'ibdtype'), (2641, 'ibdtype'), (2642, 'ibdtype'), (2644, 'ibdtype'), (2647, 'ibdtype'), (2648, 'ibdtype'), (2649, 'ibdtype'), (2652, 'ibdtype'), (2653, 'ibdtype'), (2654, 'ibdtype'), (2657, 'ibdtype'), (2658, 'ibdtype'), (2659, 'ibdtype'), (2660, 'ibdtype'), (2661, 'ibdtype'), (2662, 'ibdtype'), (2663, 'ibdtype'), (2665, 'ibdtype'), (2666, 'ibdtype'), (2667, 'ibdtype'), (2669, 'ibdtype'), (2670, 'ibdtype'), (2671, 'ibdtype'), (2673, 'ibdtype'), (2674, 'ibdtype'), (2675, 'ibdtype'), (2678, 'ibdtype'), (2679, 'ibdtype'), (2680, 'ibdtype'), (2683, 'ibdtype'), (2685, 'ibdtype'), (2693, 'ibdtype'), (2694, 'ibdtype'), (2695, 'ibdtype'), (2696, 'ibdtype'), (2697, 'ibdtype'), (2698, 'ibdtype'), (2705, 'ibdtype'), (2707, 'ibdtype'), (2710, 'ibdtype'), (2711, 'ibdtype'), (2720, 'ibdtype'), (2721, 'ibdtype'), (2722, 'ibdtype'), (2724, 'ibdtype'), (2731, 'ibdtype'), (2737, 'ibdtype'), (2740, 'ibdtype'), (2741, 'ibdtype'), (2743, 'ibdtype'), (2748, 'ibdtype'), (2750, 'ibdtype'), (2753, 'ibdtype'), (2755, 'ibdtype'), (2756, 'ibdtype'), (2757, 'ibdtype'), (2759, 'ibdtype'), (2760, 'ibdtype'), (2762, 'ibdtype'), (2764, 'ibdtype'), (2765, 'ibdtype'), (2770, 'ibdtype'), (2775, 'ibdtype'), (2776, 'ibdtype'), (2781, 'ibdtype'), (2782, 'ibdtype'), (2788, 'ibdtype'), (2790, 'ibdtype'), (2791, 'ibdtype'), (2794, 'ibdtype'), (2797, 'ibdtype'), (2798, 'ibdtype'), (2803, 'ibdtype'), (2804, 'ibdtype'), (2811, 'ibdtype'), (2812, 'ibdtype'), (2817, 'ibdtype'), (2820, 'ibdtype'), (2821, 'ibdtype'), (2824, 'ibdtype'), (2826, 'ibdtype'), (2827, 'ibdtype'), (2244, 'sampletype'), (2250, 'sampletype'), (2284, 'sampletype'), (2355, 'sampletype'), (2487, 'sampletype'), (2770, 'sampletype'))",
     "output_type": "error",
     "traceback": [
      "\u001b[0;31m---------------------------------------------------------------------------\u001b[0m",
      "\u001b[0;31mAssertionError\u001b[0m                            Traceback (most recent call last)",
      "\u001b[0;32m<ipython-input-147-19eba66762a6>\u001b[0m in \u001b[0;36m<module>\u001b[0;34m()\u001b[0m\n\u001b[0;32m----> 1\u001b[0;31m \u001b[0mdata\u001b[0m \u001b[0;34m=\u001b[0m \u001b[0mloading\u001b[0m\u001b[0;34m.\u001b[0m\u001b[0minit_load_data_and_labels\u001b[0m\u001b[0;34m(\u001b[0m\u001b[0mdata_\u001b[0m\u001b[0;34m=\u001b[0m\u001b[0mdata_\u001b[0m\u001b[0;34m,\u001b[0m \u001b[0mdata_dict_\u001b[0m\u001b[0;34m=\u001b[0m\u001b[0mdata_dict_\u001b[0m\u001b[0;34m)\u001b[0m\u001b[0;34m\u001b[0m\u001b[0m\n\u001b[0m",
      "\u001b[0;32m/home/gus/src/repos/git/project-repos/biorep-etl/src/biorep_etl/data/load_recode.py\u001b[0m in \u001b[0;36minit_load_data_and_labels\u001b[0;34m(data_, data_dict_)\u001b[0m\n\u001b[1;32m     60\u001b[0m \u001b[0;34m\u001b[0m\u001b[0m\n\u001b[1;32m     61\u001b[0m     loaded.data = load_redcap_dump(data_=data_).pipe(ck.none_missing,\n\u001b[0;32m---> 62\u001b[0;31m                                                      columns=required)\n\u001b[0m\u001b[1;32m     63\u001b[0m \u001b[0;34m\u001b[0m\u001b[0m\n\u001b[1;32m     64\u001b[0m \u001b[0;34m\u001b[0m\u001b[0m\n",
      "\u001b[0;32m/home/gus/.anaconda/envs/biorepo/lib/python3.5/site-packages/pandas/core/generic.py\u001b[0m in \u001b[0;36mpipe\u001b[0;34m(self, func, *args, **kwargs)\u001b[0m\n\u001b[1;32m   2705\u001b[0m             \u001b[0;32mreturn\u001b[0m \u001b[0mfunc\u001b[0m\u001b[0;34m(\u001b[0m\u001b[0;34m*\u001b[0m\u001b[0margs\u001b[0m\u001b[0;34m,\u001b[0m \u001b[0;34m**\u001b[0m\u001b[0mkwargs\u001b[0m\u001b[0;34m)\u001b[0m\u001b[0;34m\u001b[0m\u001b[0m\n\u001b[1;32m   2706\u001b[0m         \u001b[0;32melse\u001b[0m\u001b[0;34m:\u001b[0m\u001b[0;34m\u001b[0m\u001b[0m\n\u001b[0;32m-> 2707\u001b[0;31m             \u001b[0;32mreturn\u001b[0m \u001b[0mfunc\u001b[0m\u001b[0;34m(\u001b[0m\u001b[0mself\u001b[0m\u001b[0;34m,\u001b[0m \u001b[0;34m*\u001b[0m\u001b[0margs\u001b[0m\u001b[0;34m,\u001b[0m \u001b[0;34m**\u001b[0m\u001b[0mkwargs\u001b[0m\u001b[0;34m)\u001b[0m\u001b[0;34m\u001b[0m\u001b[0m\n\u001b[0m\u001b[1;32m   2708\u001b[0m \u001b[0;34m\u001b[0m\u001b[0m\n\u001b[1;32m   2709\u001b[0m     \u001b[0;31m# ----------------------------------------------------------------------\u001b[0m\u001b[0;34m\u001b[0m\u001b[0;34m\u001b[0m\u001b[0m\n",
      "\u001b[0;32m/home/gus/.anaconda/envs/biorepo/lib/python3.5/site-packages/engarde/checks.py\u001b[0m in \u001b[0;36mnone_missing\u001b[0;34m(df, columns)\u001b[0m\n\u001b[1;32m     34\u001b[0m         \u001b[0mcolumns\u001b[0m \u001b[0;34m=\u001b[0m \u001b[0mdf\u001b[0m\u001b[0;34m.\u001b[0m\u001b[0mcolumns\u001b[0m\u001b[0;34m\u001b[0m\u001b[0m\n\u001b[1;32m     35\u001b[0m     \u001b[0;32mtry\u001b[0m\u001b[0;34m:\u001b[0m\u001b[0;34m\u001b[0m\u001b[0m\n\u001b[0;32m---> 36\u001b[0;31m         \u001b[0;32massert\u001b[0m \u001b[0;32mnot\u001b[0m \u001b[0mdf\u001b[0m\u001b[0;34m[\u001b[0m\u001b[0mcolumns\u001b[0m\u001b[0;34m]\u001b[0m\u001b[0;34m.\u001b[0m\u001b[0misnull\u001b[0m\u001b[0;34m(\u001b[0m\u001b[0;34m)\u001b[0m\u001b[0;34m.\u001b[0m\u001b[0many\u001b[0m\u001b[0;34m(\u001b[0m\u001b[0;34m)\u001b[0m\u001b[0;34m.\u001b[0m\u001b[0many\u001b[0m\u001b[0;34m(\u001b[0m\u001b[0;34m)\u001b[0m\u001b[0;34m\u001b[0m\u001b[0m\n\u001b[0m\u001b[1;32m     37\u001b[0m     \u001b[0;32mexcept\u001b[0m \u001b[0mAssertionError\u001b[0m \u001b[0;32mas\u001b[0m \u001b[0me\u001b[0m\u001b[0;34m:\u001b[0m\u001b[0;34m\u001b[0m\u001b[0m\n\u001b[1;32m     38\u001b[0m         \u001b[0mmissing\u001b[0m \u001b[0;34m=\u001b[0m \u001b[0mdf\u001b[0m\u001b[0;34m[\u001b[0m\u001b[0mcolumns\u001b[0m\u001b[0;34m]\u001b[0m\u001b[0;34m.\u001b[0m\u001b[0misnull\u001b[0m\u001b[0;34m(\u001b[0m\u001b[0;34m)\u001b[0m\u001b[0;34m\u001b[0m\u001b[0m\n",
      "\u001b[0;31mAssertionError\u001b[0m: ((2284, 'samplenumber'), (2334, 'samplenumber'), (2350, 'samplenumber'), (2481, 'samplenumber'), (2487, 'samplenumber'), (2770, 'samplenumber'), (2244, 'label_on_sample'), (2350, 'label_on_sample'), (2481, 'label_on_sample'), (2487, 'label_on_sample'), (2212, 'mrn'), (2240, 'mrn'), (2241, 'mrn'), (2242, 'mrn'), (2244, 'mrn'), (2378, 'mrn'), (2379, 'mrn'), (2244, 'biorepidnumber'), (2250, 'biorepidnumber'), (2350, 'biorepidnumber'), (2481, 'biorepidnumber'), (2487, 'biorepidnumber'), (1, 'completed_by'), (2, 'completed_by'), (3, 'completed_by'), (4, 'completed_by'), (5, 'completed_by'), (6, 'completed_by'), (7, 'completed_by'), (8, 'completed_by'), (9, 'completed_by'), (10, 'completed_by'), (11, 'completed_by'), (12, 'completed_by'), (13, 'completed_by'), (14, 'completed_by'), (15, 'completed_by'), (16, 'completed_by'), (17, 'completed_by'), (18, 'completed_by'), (19, 'completed_by'), (20, 'completed_by'), (21, 'completed_by'), (22, 'completed_by'), (23, 'completed_by'), (24, 'completed_by'), (25, 'completed_by'), (26, 'completed_by'), (27, 'completed_by'), (28, 'completed_by'), (29, 'completed_by'), (30, 'completed_by'), (31, 'completed_by'), (32, 'completed_by'), (33, 'completed_by'), (34, 'completed_by'), (35, 'completed_by'), (36, 'completed_by'), (37, 'completed_by'), (38, 'completed_by'), (39, 'completed_by'), (40, 'completed_by'), (41, 'completed_by'), (42, 'completed_by'), (43, 'completed_by'), (44, 'completed_by'), (45, 'completed_by'), (46, 'completed_by'), (47, 'completed_by'), (48, 'completed_by'), (49, 'completed_by'), (50, 'completed_by'), (51, 'completed_by'), (52, 'completed_by'), (53, 'completed_by'), (54, 'completed_by'), (55, 'completed_by'), (56, 'completed_by'), (57, 'completed_by'), (58, 'completed_by'), (59, 'completed_by'), (60, 'completed_by'), (61, 'completed_by'), (62, 'completed_by'), (63, 'completed_by'), (64, 'completed_by'), (65, 'completed_by'), (66, 'completed_by'), (67, 'completed_by'), (68, 'completed_by'), (69, 'completed_by'), (70, 'completed_by'), (71, 'completed_by'), (72, 'completed_by'), (73, 'completed_by'), (74, 'completed_by'), (75, 'completed_by'), (76, 'completed_by'), (77, 'completed_by'), (78, 'completed_by'), (79, 'completed_by'), (80, 'completed_by'), (81, 'completed_by'), (82, 'completed_by'), (83, 'completed_by'), (84, 'completed_by'), (85, 'completed_by'), (86, 'completed_by'), (87, 'completed_by'), (88, 'completed_by'), (89, 'completed_by'), (90, 'completed_by'), (91, 'completed_by'), (92, 'completed_by'), (93, 'completed_by'), (94, 'completed_by'), (95, 'completed_by'), (96, 'completed_by'), (97, 'completed_by'), (98, 'completed_by'), (99, 'completed_by'), (100, 'completed_by'), (101, 'completed_by'), (102, 'completed_by'), (103, 'completed_by'), (104, 'completed_by'), (105, 'completed_by'), (106, 'completed_by'), (107, 'completed_by'), (108, 'completed_by'), (109, 'completed_by'), (110, 'completed_by'), (111, 'completed_by'), (112, 'completed_by'), (113, 'completed_by'), (114, 'completed_by'), (115, 'completed_by'), (116, 'completed_by'), (117, 'completed_by'), (118, 'completed_by'), (119, 'completed_by'), (120, 'completed_by'), (121, 'completed_by'), (122, 'completed_by'), (123, 'completed_by'), (124, 'completed_by'), (125, 'completed_by'), (126, 'completed_by'), (127, 'completed_by'), (128, 'completed_by'), (129, 'completed_by'), (130, 'completed_by'), (131, 'completed_by'), (132, 'completed_by'), (133, 'completed_by'), (134, 'completed_by'), (135, 'completed_by'), (136, 'completed_by'), (137, 'completed_by'), (138, 'completed_by'), (139, 'completed_by'), (140, 'completed_by'), (141, 'completed_by'), (142, 'completed_by'), (143, 'completed_by'), (144, 'completed_by'), (145, 'completed_by'), (146, 'completed_by'), (147, 'completed_by'), (148, 'completed_by'), (149, 'completed_by'), (150, 'completed_by'), (151, 'completed_by'), (152, 'completed_by'), (153, 'completed_by'), (154, 'completed_by'), (155, 'completed_by'), (156, 'completed_by'), (157, 'completed_by'), (158, 'completed_by'), (159, 'completed_by'), (160, 'completed_by'), (161, 'completed_by'), (162, 'completed_by'), (163, 'completed_by'), (164, 'completed_by'), (165, 'completed_by'), (166, 'completed_by'), (167, 'completed_by'), (168, 'completed_by'), (169, 'completed_by'), (170, 'completed_by'), (171, 'completed_by'), (172, 'completed_by'), (173, 'completed_by'), (174, 'completed_by'), (175, 'completed_by'), (176, 'completed_by'), (177, 'completed_by'), (178, 'completed_by'), (179, 'completed_by'), (180, 'completed_by'), (181, 'completed_by'), (182, 'completed_by'), (183, 'completed_by'), (184, 'completed_by'), (185, 'completed_by'), (186, 'completed_by'), (187, 'completed_by'), (188, 'completed_by'), (189, 'completed_by'), (190, 'completed_by'), (191, 'completed_by'), (192, 'completed_by'), (193, 'completed_by'), (194, 'completed_by'), (195, 'completed_by'), (196, 'completed_by'), (197, 'completed_by'), (198, 'completed_by'), (199, 'completed_by'), (200, 'completed_by'), (201, 'completed_by'), (202, 'completed_by'), (203, 'completed_by'), (204, 'completed_by'), (205, 'completed_by'), (206, 'completed_by'), (207, 'completed_by'), (208, 'completed_by'), (209, 'completed_by'), (210, 'completed_by'), (211, 'completed_by'), (212, 'completed_by'), (213, 'completed_by'), (214, 'completed_by'), (215, 'completed_by'), (216, 'completed_by'), (217, 'completed_by'), (218, 'completed_by'), (219, 'completed_by'), (220, 'completed_by'), (221, 'completed_by'), (222, 'completed_by'), (223, 'completed_by'), (224, 'completed_by'), (225, 'completed_by'), (226, 'completed_by'), (227, 'completed_by'), (228, 'completed_by'), (229, 'completed_by'), (230, 'completed_by'), (231, 'completed_by'), (232, 'completed_by'), (233, 'completed_by'), (234, 'completed_by'), (235, 'completed_by'), (236, 'completed_by'), (237, 'completed_by'), (238, 'completed_by'), (239, 'completed_by'), (240, 'completed_by'), (241, 'completed_by'), (242, 'completed_by'), (243, 'completed_by'), (244, 'completed_by'), (245, 'completed_by'), (246, 'completed_by'), (247, 'completed_by'), (248, 'completed_by'), (249, 'completed_by'), (250, 'completed_by'), (251, 'completed_by'), (252, 'completed_by'), (253, 'completed_by'), (254, 'completed_by'), (255, 'completed_by'), (256, 'completed_by'), (257, 'completed_by'), (258, 'completed_by'), (259, 'completed_by'), (260, 'completed_by'), (261, 'completed_by'), (262, 'completed_by'), (263, 'completed_by'), (264, 'completed_by'), (265, 'completed_by'), (266, 'completed_by'), (267, 'completed_by'), (268, 'completed_by'), (269, 'completed_by'), (270, 'completed_by'), (271, 'completed_by'), (272, 'completed_by'), (273, 'completed_by'), (274, 'completed_by'), (275, 'completed_by'), (276, 'completed_by'), (277, 'completed_by'), (278, 'completed_by'), (279, 'completed_by'), (280, 'completed_by'), (281, 'completed_by'), (282, 'completed_by'), (283, 'completed_by'), (284, 'completed_by'), (285, 'completed_by'), (286, 'completed_by'), (287, 'completed_by'), (288, 'completed_by'), (289, 'completed_by'), (290, 'completed_by'), (291, 'completed_by'), (292, 'completed_by'), (293, 'completed_by'), (294, 'completed_by'), (295, 'completed_by'), (296, 'completed_by'), (297, 'completed_by'), (298, 'completed_by'), (299, 'completed_by'), (300, 'completed_by'), (301, 'completed_by'), (302, 'completed_by'), (303, 'completed_by'), (304, 'completed_by'), (305, 'completed_by'), (306, 'completed_by'), (307, 'completed_by'), (308, 'completed_by'), (309, 'completed_by'), (310, 'completed_by'), (311, 'completed_by'), (312, 'completed_by'), (313, 'completed_by'), (314, 'completed_by'), (315, 'completed_by'), (316, 'completed_by'), (317, 'completed_by'), (318, 'completed_by'), (319, 'completed_by'), (320, 'completed_by'), (321, 'completed_by'), (322, 'completed_by'), (323, 'completed_by'), (324, 'completed_by'), (325, 'completed_by'), (326, 'completed_by'), (327, 'completed_by'), (328, 'completed_by'), (329, 'completed_by'), (330, 'completed_by'), (331, 'completed_by'), (332, 'completed_by'), (333, 'completed_by'), (334, 'completed_by'), (335, 'completed_by'), (336, 'completed_by'), (337, 'completed_by'), (338, 'completed_by'), (339, 'completed_by'), (340, 'completed_by'), (341, 'completed_by'), (342, 'completed_by'), (343, 'completed_by'), (344, 'completed_by'), (345, 'completed_by'), (346, 'completed_by'), (347, 'completed_by'), (348, 'completed_by'), (349, 'completed_by'), (350, 'completed_by'), (351, 'completed_by'), (352, 'completed_by'), (353, 'completed_by'), (354, 'completed_by'), (355, 'completed_by'), (356, 'completed_by'), (357, 'completed_by'), (358, 'completed_by'), (359, 'completed_by'), (360, 'completed_by'), (361, 'completed_by'), (362, 'completed_by'), (363, 'completed_by'), (364, 'completed_by'), (365, 'completed_by'), (366, 'completed_by'), (367, 'completed_by'), (368, 'completed_by'), (369, 'completed_by'), (370, 'completed_by'), (371, 'completed_by'), (372, 'completed_by'), (373, 'completed_by'), (374, 'completed_by'), (375, 'completed_by'), (376, 'completed_by'), (377, 'completed_by'), (378, 'completed_by'), (379, 'completed_by'), (380, 'completed_by'), (381, 'completed_by'), (382, 'completed_by'), (383, 'completed_by'), (384, 'completed_by'), (385, 'completed_by'), (386, 'completed_by'), (387, 'completed_by'), (388, 'completed_by'), (389, 'completed_by'), (390, 'completed_by'), (391, 'completed_by'), (392, 'completed_by'), (393, 'completed_by'), (394, 'completed_by'), (395, 'completed_by'), (396, 'completed_by'), (397, 'completed_by'), (398, 'completed_by'), (399, 'completed_by'), (400, 'completed_by'), (401, 'completed_by'), (402, 'completed_by'), (403, 'completed_by'), (404, 'completed_by'), (405, 'completed_by'), (406, 'completed_by'), (407, 'completed_by'), (408, 'completed_by'), (409, 'completed_by'), (410, 'completed_by'), (411, 'completed_by'), (412, 'completed_by'), (413, 'completed_by'), (414, 'completed_by'), (415, 'completed_by'), (416, 'completed_by'), (417, 'completed_by'), (418, 'completed_by'), (419, 'completed_by'), (420, 'completed_by'), (421, 'completed_by'), (422, 'completed_by'), (423, 'completed_by'), (424, 'completed_by'), (425, 'completed_by'), (426, 'completed_by'), (427, 'completed_by'), (428, 'completed_by'), (429, 'completed_by'), (430, 'completed_by'), (431, 'completed_by'), (432, 'completed_by'), (433, 'completed_by'), (434, 'completed_by'), (435, 'completed_by'), (436, 'completed_by'), (437, 'completed_by'), (438, 'completed_by'), (439, 'completed_by'), (440, 'completed_by'), (441, 'completed_by'), (442, 'completed_by'), (443, 'completed_by'), (444, 'completed_by'), (445, 'completed_by'), (446, 'completed_by'), (447, 'completed_by'), (448, 'completed_by'), (449, 'completed_by'), (450, 'completed_by'), (451, 'completed_by'), (452, 'completed_by'), (453, 'completed_by'), (454, 'completed_by'), (455, 'completed_by'), (456, 'completed_by'), (457, 'completed_by'), (458, 'completed_by'), (459, 'completed_by'), (460, 'completed_by'), (461, 'completed_by'), (462, 'completed_by'), (463, 'completed_by'), (464, 'completed_by'), (465, 'completed_by'), (466, 'completed_by'), (467, 'completed_by'), (468, 'completed_by'), (469, 'completed_by'), (471, 'completed_by'), (472, 'completed_by'), (473, 'completed_by'), (474, 'completed_by'), (475, 'completed_by'), (476, 'completed_by'), (477, 'completed_by'), (478, 'completed_by'), (479, 'completed_by'), (480, 'completed_by'), (481, 'completed_by'), (482, 'completed_by'), (483, 'completed_by'), (484, 'completed_by'), (485, 'completed_by'), (486, 'completed_by'), (487, 'completed_by'), (488, 'completed_by'), (489, 'completed_by'), (490, 'completed_by'), (491, 'completed_by'), (492, 'completed_by'), (493, 'completed_by'), (494, 'completed_by'), (495, 'completed_by'), (496, 'completed_by'), (497, 'completed_by'), (498, 'completed_by'), (499, 'completed_by'), (500, 'completed_by'), (501, 'completed_by'), (502, 'completed_by'), (503, 'completed_by'), (504, 'completed_by'), (505, 'completed_by'), (506, 'completed_by'), (507, 'completed_by'), (508, 'completed_by'), (509, 'completed_by'), (510, 'completed_by'), (511, 'completed_by'), (512, 'completed_by'), (513, 'completed_by'), (514, 'completed_by'), (515, 'completed_by'), (516, 'completed_by'), (517, 'completed_by'), (518, 'completed_by'), (519, 'completed_by'), (520, 'completed_by'), (521, 'completed_by'), (522, 'completed_by'), (523, 'completed_by'), (524, 'completed_by'), (525, 'completed_by'), (526, 'completed_by'), (527, 'completed_by'), (528, 'completed_by'), (529, 'completed_by'), (530, 'completed_by'), (531, 'completed_by'), (532, 'completed_by'), (533, 'completed_by'), (534, 'completed_by'), (535, 'completed_by'), (536, 'completed_by'), (537, 'completed_by'), (538, 'completed_by'), (539, 'completed_by'), (540, 'completed_by'), (541, 'completed_by'), (542, 'completed_by'), (543, 'completed_by'), (544, 'completed_by'), (545, 'completed_by'), (546, 'completed_by'), (547, 'completed_by'), (548, 'completed_by'), (549, 'completed_by'), (550, 'completed_by'), (551, 'completed_by'), (552, 'completed_by'), (553, 'completed_by'), (554, 'completed_by'), (555, 'completed_by'), (556, 'completed_by'), (557, 'completed_by'), (558, 'completed_by'), (559, 'completed_by'), (560, 'completed_by'), (561, 'completed_by'), (562, 'completed_by'), (563, 'completed_by'), (564, 'completed_by'), (565, 'completed_by'), (566, 'completed_by'), (567, 'completed_by'), (568, 'completed_by'), (569, 'completed_by'), (570, 'completed_by'), (571, 'completed_by'), (572, 'completed_by'), (573, 'completed_by'), (574, 'completed_by'), (575, 'completed_by'), (576, 'completed_by'), (577, 'completed_by'), (578, 'completed_by'), (579, 'completed_by'), (580, 'completed_by'), (581, 'completed_by'), (582, 'completed_by'), (583, 'completed_by'), (584, 'completed_by'), (585, 'completed_by'), (586, 'completed_by'), (587, 'completed_by'), (588, 'completed_by'), (589, 'completed_by'), (590, 'completed_by'), (591, 'completed_by'), (592, 'completed_by'), (593, 'completed_by'), (594, 'completed_by'), (595, 'completed_by'), (596, 'completed_by'), (597, 'completed_by'), (598, 'completed_by'), (599, 'completed_by'), (600, 'completed_by'), (601, 'completed_by'), (602, 'completed_by'), (603, 'completed_by'), (604, 'completed_by'), (605, 'completed_by'), (606, 'completed_by'), (607, 'completed_by'), (608, 'completed_by'), (609, 'completed_by'), (610, 'completed_by'), (611, 'completed_by'), (612, 'completed_by'), (613, 'completed_by'), (614, 'completed_by'), (615, 'completed_by'), (616, 'completed_by'), (617, 'completed_by'), (618, 'completed_by'), (619, 'completed_by'), (620, 'completed_by'), (621, 'completed_by'), (622, 'completed_by'), (623, 'completed_by'), (624, 'completed_by'), (625, 'completed_by'), (626, 'completed_by'), (627, 'completed_by'), (628, 'completed_by'), (629, 'completed_by'), (630, 'completed_by'), (631, 'completed_by'), (632, 'completed_by'), (633, 'completed_by'), (634, 'completed_by'), (635, 'completed_by'), (636, 'completed_by'), (637, 'completed_by'), (638, 'completed_by'), (639, 'completed_by'), (640, 'completed_by'), (641, 'completed_by'), (642, 'completed_by'), (643, 'completed_by'), (644, 'completed_by'), (645, 'completed_by'), (646, 'completed_by'), (647, 'completed_by'), (648, 'completed_by'), (649, 'completed_by'), (650, 'completed_by'), (651, 'completed_by'), (652, 'completed_by'), (653, 'completed_by'), (654, 'completed_by'), (655, 'completed_by'), (656, 'completed_by'), (657, 'completed_by'), (658, 'completed_by'), (659, 'completed_by'), (660, 'completed_by'), (661, 'completed_by'), (662, 'completed_by'), (663, 'completed_by'), (664, 'completed_by'), (665, 'completed_by'), (666, 'completed_by'), (667, 'completed_by'), (668, 'completed_by'), (669, 'completed_by'), (670, 'completed_by'), (671, 'completed_by'), (672, 'completed_by'), (673, 'completed_by'), (674, 'completed_by'), (675, 'completed_by'), (676, 'completed_by'), (677, 'completed_by'), (678, 'completed_by'), (679, 'completed_by'), (680, 'completed_by'), (681, 'completed_by'), (682, 'completed_by'), (683, 'completed_by'), (684, 'completed_by'), (685, 'completed_by'), (686, 'completed_by'), (687, 'completed_by'), (688, 'completed_by'), (689, 'completed_by'), (690, 'completed_by'), (691, 'completed_by'), (692, 'completed_by'), (693, 'completed_by'), (694, 'completed_by'), (695, 'completed_by'), (696, 'completed_by'), (697, 'completed_by'), (698, 'completed_by'), (699, 'completed_by'), (700, 'completed_by'), (701, 'completed_by'), (702, 'completed_by'), (703, 'completed_by'), (704, 'completed_by'), (705, 'completed_by'), (706, 'completed_by'), (707, 'completed_by'), (708, 'completed_by'), (709, 'completed_by'), (710, 'completed_by'), (711, 'completed_by'), (712, 'completed_by'), (713, 'completed_by'), (714, 'completed_by'), (715, 'completed_by'), (716, 'completed_by'), (717, 'completed_by'), (718, 'completed_by'), (719, 'completed_by'), (720, 'completed_by'), (721, 'completed_by'), (722, 'completed_by'), (723, 'completed_by'), (724, 'completed_by'), (725, 'completed_by'), (726, 'completed_by'), (727, 'completed_by'), (728, 'completed_by'), (729, 'completed_by'), (730, 'completed_by'), (731, 'completed_by'), (732, 'completed_by'), (733, 'completed_by'), (734, 'completed_by'), (735, 'completed_by'), (736, 'completed_by'), (737, 'completed_by'), (738, 'completed_by'), (739, 'completed_by'), (740, 'completed_by'), (741, 'completed_by'), (742, 'completed_by'), (743, 'completed_by'), (744, 'completed_by'), (745, 'completed_by'), (746, 'completed_by'), (747, 'completed_by'), (748, 'completed_by'), (749, 'completed_by'), (750, 'completed_by'), (751, 'completed_by'), (752, 'completed_by'), (753, 'completed_by'), (754, 'completed_by'), (755, 'completed_by'), (756, 'completed_by'), (757, 'completed_by'), (758, 'completed_by'), (759, 'completed_by'), (760, 'completed_by'), (761, 'completed_by'), (762, 'completed_by'), (763, 'completed_by'), (764, 'completed_by'), (766, 'completed_by'), (767, 'completed_by'), (768, 'completed_by'), (769, 'completed_by'), (770, 'completed_by'), (771, 'completed_by'), (772, 'completed_by'), (773, 'completed_by'), (774, 'completed_by'), (775, 'completed_by'), (776, 'completed_by'), (777, 'completed_by'), (778, 'completed_by'), (779, 'completed_by'), (780, 'completed_by'), (781, 'completed_by'), (782, 'completed_by'), (783, 'completed_by'), (784, 'completed_by'), (785, 'completed_by'), (786, 'completed_by'), (787, 'completed_by'), (788, 'completed_by'), (789, 'completed_by'), (790, 'completed_by'), (791, 'completed_by'), (792, 'completed_by'), (793, 'completed_by'), (794, 'completed_by'), (795, 'completed_by'), (796, 'completed_by'), (797, 'completed_by'), (798, 'completed_by'), (799, 'completed_by'), (800, 'completed_by'), (801, 'completed_by'), (802, 'completed_by'), (803, 'completed_by'), (804, 'completed_by'), (805, 'completed_by'), (806, 'completed_by'), (807, 'completed_by'), (808, 'completed_by'), (809, 'completed_by'), (810, 'completed_by'), (811, 'completed_by'), (812, 'completed_by'), (813, 'completed_by'), (814, 'completed_by'), (815, 'completed_by'), (816, 'completed_by'), (817, 'completed_by'), (818, 'completed_by'), (819, 'completed_by'), (820, 'completed_by'), (821, 'completed_by'), (822, 'completed_by'), (823, 'completed_by'), (824, 'completed_by'), (825, 'completed_by'), (826, 'completed_by'), (827, 'completed_by'), (828, 'completed_by'), (829, 'completed_by'), (830, 'completed_by'), (831, 'completed_by'), (832, 'completed_by'), (833, 'completed_by'), (834, 'completed_by'), (835, 'completed_by'), (836, 'completed_by'), (837, 'completed_by'), (838, 'completed_by'), (839, 'completed_by'), (840, 'completed_by'), (841, 'completed_by'), (842, 'completed_by'), (843, 'completed_by'), (844, 'completed_by'), (845, 'completed_by'), (846, 'completed_by'), (847, 'completed_by'), (848, 'completed_by'), (849, 'completed_by'), (850, 'completed_by'), (851, 'completed_by'), (852, 'completed_by'), (853, 'completed_by'), (854, 'completed_by'), (855, 'completed_by'), (856, 'completed_by'), (857, 'completed_by'), (858, 'completed_by'), (859, 'completed_by'), (860, 'completed_by'), (861, 'completed_by'), (862, 'completed_by'), (863, 'completed_by'), (864, 'completed_by'), (865, 'completed_by'), (866, 'completed_by'), (867, 'completed_by'), (868, 'completed_by'), (869, 'completed_by'), (870, 'completed_by'), (871, 'completed_by'), (872, 'completed_by'), (873, 'completed_by'), (874, 'completed_by'), (875, 'completed_by'), (876, 'completed_by'), (877, 'completed_by'), (878, 'completed_by'), (879, 'completed_by'), (880, 'completed_by'), (881, 'completed_by'), (882, 'completed_by'), (883, 'completed_by'), (884, 'completed_by'), (885, 'completed_by'), (886, 'completed_by'), (887, 'completed_by'), (888, 'completed_by'), (889, 'completed_by'), (890, 'completed_by'), (891, 'completed_by'), (892, 'completed_by'), (893, 'completed_by'), (894, 'completed_by'), (895, 'completed_by'), (896, 'completed_by'), (897, 'completed_by'), (898, 'completed_by'), (899, 'completed_by'), (900, 'completed_by'), (901, 'completed_by'), (902, 'completed_by'), (903, 'completed_by'), (904, 'completed_by'), (905, 'completed_by'), (906, 'completed_by'), (907, 'completed_by'), (908, 'completed_by'), (909, 'completed_by'), (910, 'completed_by'), (911, 'completed_by'), (912, 'completed_by'), (913, 'completed_by'), (914, 'completed_by'), (915, 'completed_by'), (916, 'completed_by'), (917, 'completed_by'), (918, 'completed_by'), (919, 'completed_by'), (920, 'completed_by'), (921, 'completed_by'), (922, 'completed_by'), (923, 'completed_by'), (924, 'completed_by'), (925, 'completed_by'), (926, 'completed_by'), (927, 'completed_by'), (928, 'completed_by'), (929, 'completed_by'), (930, 'completed_by'), (931, 'completed_by'), (932, 'completed_by'), (933, 'completed_by'), (934, 'completed_by'), (935, 'completed_by'), (936, 'completed_by'), (937, 'completed_by'), (938, 'completed_by'), (939, 'completed_by'), (940, 'completed_by'), (941, 'completed_by'), (942, 'completed_by'), (943, 'completed_by'), (944, 'completed_by'), (945, 'completed_by'), (946, 'completed_by'), (947, 'completed_by'), (948, 'completed_by'), (949, 'completed_by'), (950, 'completed_by'), (951, 'completed_by'), (952, 'completed_by'), (953, 'completed_by'), (954, 'completed_by'), (955, 'completed_by'), (956, 'completed_by'), (958, 'completed_by'), (959, 'completed_by'), (960, 'completed_by'), (961, 'completed_by'), (962, 'completed_by'), (963, 'completed_by'), (964, 'completed_by'), (965, 'completed_by'), (966, 'completed_by'), (967, 'completed_by'), (968, 'completed_by'), (969, 'completed_by'), (970, 'completed_by'), (971, 'completed_by'), (972, 'completed_by'), (973, 'completed_by'), (974, 'completed_by'), (975, 'completed_by'), (976, 'completed_by'), (977, 'completed_by'), (978, 'completed_by'), (979, 'completed_by'), (980, 'completed_by'), (981, 'completed_by'), (982, 'completed_by'), (983, 'completed_by'), (984, 'completed_by'), (985, 'completed_by'), (986, 'completed_by'), (987, 'completed_by'), (988, 'completed_by'), (989, 'completed_by'), (990, 'completed_by'), (991, 'completed_by'), (992, 'completed_by'), (993, 'completed_by'), (994, 'completed_by'), (995, 'completed_by'), (996, 'completed_by'), (997, 'completed_by'), (998, 'completed_by'), (999, 'completed_by'), (1000, 'completed_by'), (1001, 'completed_by'), (1002, 'completed_by'), (1003, 'completed_by'), (1004, 'completed_by'), (1005, 'completed_by'), (1006, 'completed_by'), (1007, 'completed_by'), (1008, 'completed_by'), (1013, 'completed_by'), (1014, 'completed_by'), (1015, 'completed_by'), (1017, 'completed_by'), (1018, 'completed_by'), (1019, 'completed_by'), (1020, 'completed_by'), (1021, 'completed_by'), (1022, 'completed_by'), (1023, 'completed_by'), (1024, 'completed_by'), (1025, 'completed_by'), (1026, 'completed_by'), (1027, 'completed_by'), (1028, 'completed_by'), (1029, 'completed_by'), (1030, 'completed_by'), (1031, 'completed_by'), (1032, 'completed_by'), (1033, 'completed_by'), (1034, 'completed_by'), (1035, 'completed_by'), (1036, 'completed_by'), (1037, 'completed_by'), (1039, 'completed_by'), (1040, 'completed_by'), (1041, 'completed_by'), (1042, 'completed_by'), (1043, 'completed_by'), (1044, 'completed_by'), (1045, 'completed_by'), (1046, 'completed_by'), (1047, 'completed_by'), (1048, 'completed_by'), (1049, 'completed_by'), (1050, 'completed_by'), (1051, 'completed_by'), (1052, 'completed_by'), (1053, 'completed_by'), (1057, 'completed_by'), (1058, 'completed_by'), (1059, 'completed_by'), (1060, 'completed_by'), (1061, 'completed_by'), (1062, 'completed_by'), (1063, 'completed_by'), (1064, 'completed_by'), (1065, 'completed_by'), (1066, 'completed_by'), (1067, 'completed_by'), (1068, 'completed_by'), (1069, 'completed_by'), (1070, 'completed_by'), (1071, 'completed_by'), (1072, 'completed_by'), (1073, 'completed_by'), (1074, 'completed_by'), (1075, 'completed_by'), (1076, 'completed_by'), (1077, 'completed_by'), (1078, 'completed_by'), (1079, 'completed_by'), (1080, 'completed_by'), (1081, 'completed_by'), (1082, 'completed_by'), (1083, 'completed_by'), (1084, 'completed_by'), (1085, 'completed_by'), (1086, 'completed_by'), (1087, 'completed_by'), (1088, 'completed_by'), (1089, 'completed_by'), (1090, 'completed_by'), (1091, 'completed_by'), (1092, 'completed_by'), (1093, 'completed_by'), (1094, 'completed_by'), (1095, 'completed_by'), (1096, 'completed_by'), (1097, 'completed_by'), (1098, 'completed_by'), (1099, 'completed_by'), (1100, 'completed_by'), (1101, 'completed_by'), (1102, 'completed_by'), (1103, 'completed_by'), (1104, 'completed_by'), (1105, 'completed_by'), (1106, 'completed_by'), (1107, 'completed_by'), (1108, 'completed_by'), (1109, 'completed_by'), (1110, 'completed_by'), (1111, 'completed_by'), (1112, 'completed_by'), (1113, 'completed_by'), (1114, 'completed_by'), (1115, 'completed_by'), (1116, 'completed_by'), (1117, 'completed_by'), (1118, 'completed_by'), (1119, 'completed_by'), (1120, 'completed_by'), (1121, 'completed_by'), (1122, 'completed_by'), (1123, 'completed_by'), (1124, 'completed_by'), (1125, 'completed_by'), (1126, 'completed_by'), (1127, 'completed_by'), (1128, 'completed_by'), (1129, 'completed_by'), (1130, 'completed_by'), (1131, 'completed_by'), (1132, 'completed_by'), (1133, 'completed_by'), (1134, 'completed_by'), (1135, 'completed_by'), (1136, 'completed_by'), (1137, 'completed_by'), (1138, 'completed_by'), (1139, 'completed_by'), (1140, 'completed_by'), (1141, 'completed_by'), (1142, 'completed_by'), (1143, 'completed_by'), (1144, 'completed_by'), (1146, 'completed_by'), (1147, 'completed_by'), (1148, 'completed_by'), (1149, 'completed_by'), (1150, 'completed_by'), (1151, 'completed_by'), (1152, 'completed_by'), (1153, 'completed_by'), (1154, 'completed_by'), (1155, 'completed_by'), (1156, 'completed_by'), (1157, 'completed_by'), (1158, 'completed_by'), (1159, 'completed_by'), (1160, 'completed_by'), (1161, 'completed_by'), (1162, 'completed_by'), (1163, 'completed_by'), (1164, 'completed_by'), (1165, 'completed_by'), (1166, 'completed_by'), (1167, 'completed_by'), (1168, 'completed_by'), (1169, 'completed_by'), (1170, 'completed_by'), (1171, 'completed_by'), (1172, 'completed_by'), (1173, 'completed_by'), (1174, 'completed_by'), (1175, 'completed_by'), (1176, 'completed_by'), (1177, 'completed_by'), (1178, 'completed_by'), (1179, 'completed_by'), (1180, 'completed_by'), (1181, 'completed_by'), (1182, 'completed_by'), (1183, 'completed_by'), (1184, 'completed_by'), (1185, 'completed_by'), (1186, 'completed_by'), (1187, 'completed_by'), (1188, 'completed_by'), (1189, 'completed_by'), (1190, 'completed_by'), (1191, 'completed_by'), (1192, 'completed_by'), (1193, 'completed_by'), (1194, 'completed_by'), (1195, 'completed_by'), (1196, 'completed_by'), (1197, 'completed_by'), (1198, 'completed_by'), (1199, 'completed_by'), (1200, 'completed_by'), (1201, 'completed_by'), (1202, 'completed_by'), (1203, 'completed_by'), (1204, 'completed_by'), (1205, 'completed_by'), (1206, 'completed_by'), (1207, 'completed_by'), (1208, 'completed_by'), (1209, 'completed_by'), (1210, 'completed_by'), (1211, 'completed_by'), (1212, 'completed_by'), (1213, 'completed_by'), (1214, 'completed_by'), (1215, 'completed_by'), (1216, 'completed_by'), (1217, 'completed_by'), (1218, 'completed_by'), (1219, 'completed_by'), (1220, 'completed_by'), (1221, 'completed_by'), (1222, 'completed_by'), (1223, 'completed_by'), (1224, 'completed_by'), (1225, 'completed_by'), (1226, 'completed_by'), (1227, 'completed_by'), (1228, 'completed_by'), (1229, 'completed_by'), (1230, 'completed_by'), (1231, 'completed_by'), (1232, 'completed_by'), (1233, 'completed_by'), (1234, 'completed_by'), (1235, 'completed_by'), (1236, 'completed_by'), (1237, 'completed_by'), (1238, 'completed_by'), (1239, 'completed_by'), (1240, 'completed_by'), (1241, 'completed_by'), (1242, 'completed_by'), (1243, 'completed_by'), (1244, 'completed_by'), (1245, 'completed_by'), (1246, 'completed_by'), (1247, 'completed_by'), (1248, 'completed_by'), (1249, 'completed_by'), (1250, 'completed_by'), (1251, 'completed_by'), (1252, 'completed_by'), (1253, 'completed_by'), (1254, 'completed_by'), (1255, 'completed_by'), (1256, 'completed_by'), (1257, 'completed_by'), (1258, 'completed_by'), (1259, 'completed_by'), (1260, 'completed_by'), (1261, 'completed_by'), (1262, 'completed_by'), (1263, 'completed_by'), (1264, 'completed_by'), (1265, 'completed_by'), (1266, 'completed_by'), (1267, 'completed_by'), (1268, 'completed_by'), (1269, 'completed_by'), (1270, 'completed_by'), (1271, 'completed_by'), (1272, 'completed_by'), (1273, 'completed_by'), (1274, 'completed_by'), (1275, 'completed_by'), (1276, 'completed_by'), (1277, 'completed_by'), (1278, 'completed_by'), (1279, 'completed_by'), (1280, 'completed_by'), (1281, 'completed_by'), (1282, 'completed_by'), (1283, 'completed_by'), (1284, 'completed_by'), (1285, 'completed_by'), (1286, 'completed_by'), (1287, 'completed_by'), (1288, 'completed_by'), (1289, 'completed_by'), (1290, 'completed_by'), (1291, 'completed_by'), (1292, 'completed_by'), (1293, 'completed_by'), (1294, 'completed_by'), (1295, 'completed_by'), (1296, 'completed_by'), (1297, 'completed_by'), (1298, 'completed_by'), (1299, 'completed_by'), (1300, 'completed_by'), (1301, 'completed_by'), (1302, 'completed_by'), (1303, 'completed_by'), (1304, 'completed_by'), (1305, 'completed_by'), (1306, 'completed_by'), (1307, 'completed_by'), (1308, 'completed_by'), (1309, 'completed_by'), (1310, 'completed_by'), (1311, 'completed_by'), (1312, 'completed_by'), (1313, 'completed_by'), (1314, 'completed_by'), (1315, 'completed_by'), (1316, 'completed_by'), (1317, 'completed_by'), (1318, 'completed_by'), (1319, 'completed_by'), (1320, 'completed_by'), (1321, 'completed_by'), (1322, 'completed_by'), (1323, 'completed_by'), (1324, 'completed_by'), (1325, 'completed_by'), (1326, 'completed_by'), (1327, 'completed_by'), (1328, 'completed_by'), (1329, 'completed_by'), (1330, 'completed_by'), (1331, 'completed_by'), (1332, 'completed_by'), (1333, 'completed_by'), (1334, 'completed_by'), (1335, 'completed_by'), (1336, 'completed_by'), (1337, 'completed_by'), (1338, 'completed_by'), (1339, 'completed_by'), (1340, 'completed_by'), (1341, 'completed_by'), (1342, 'completed_by'), (1343, 'completed_by'), (1344, 'completed_by'), (1345, 'completed_by'), (1346, 'completed_by'), (1347, 'completed_by'), (1348, 'completed_by'), (1349, 'completed_by'), (1350, 'completed_by'), (1351, 'completed_by'), (1352, 'completed_by'), (1353, 'completed_by'), (1354, 'completed_by'), (1355, 'completed_by'), (1356, 'completed_by'), (1357, 'completed_by'), (1358, 'completed_by'), (1359, 'completed_by'), (1360, 'completed_by'), (1361, 'completed_by'), (1362, 'completed_by'), (1363, 'completed_by'), (1364, 'completed_by'), (1365, 'completed_by'), (1366, 'completed_by'), (1367, 'completed_by'), (1368, 'completed_by'), (1369, 'completed_by'), (1370, 'completed_by'), (1371, 'completed_by'), (1372, 'completed_by'), (1373, 'completed_by'), (1374, 'completed_by'), (1375, 'completed_by'), (1376, 'completed_by'), (1377, 'completed_by'), (1378, 'completed_by'), (1379, 'completed_by'), (1380, 'completed_by'), (1381, 'completed_by'), (1382, 'completed_by'), (1383, 'completed_by'), (1384, 'completed_by'), (1385, 'completed_by'), (1386, 'completed_by'), (1387, 'completed_by'), (1388, 'completed_by'), (1389, 'completed_by'), (1390, 'completed_by'), (1391, 'completed_by'), (1392, 'completed_by'), (1393, 'completed_by'), (1394, 'completed_by'), (1395, 'completed_by'), (1396, 'completed_by'), (1397, 'completed_by'), (1398, 'completed_by'), (1399, 'completed_by'), (1400, 'completed_by'), (1401, 'completed_by'), (1402, 'completed_by'), (1403, 'completed_by'), (1404, 'completed_by'), (1405, 'completed_by'), (1406, 'completed_by'), (1407, 'completed_by'), (1408, 'completed_by'), (1409, 'completed_by'), (1410, 'completed_by'), (1411, 'completed_by'), (1412, 'completed_by'), (1413, 'completed_by'), (1414, 'completed_by'), (1415, 'completed_by'), (1416, 'completed_by'), (1417, 'completed_by'), (1418, 'completed_by'), (1419, 'completed_by'), (1420, 'completed_by'), (1421, 'completed_by'), (1422, 'completed_by'), (1423, 'completed_by'), (1424, 'completed_by'), (1425, 'completed_by'), (1426, 'completed_by'), (1427, 'completed_by'), (1428, 'completed_by'), (1429, 'completed_by'), (1430, 'completed_by'), (1431, 'completed_by'), (1432, 'completed_by'), (1433, 'completed_by'), (1434, 'completed_by'), (1435, 'completed_by'), (1436, 'completed_by'), (1437, 'completed_by'), (1438, 'completed_by'), (1439, 'completed_by'), (1440, 'completed_by'), (1441, 'completed_by'), (1442, 'completed_by'), (1443, 'completed_by'), (1444, 'completed_by'), (1445, 'completed_by'), (1446, 'completed_by'), (1447, 'completed_by'), (1448, 'completed_by'), (1449, 'completed_by'), (1450, 'completed_by'), (1451, 'completed_by'), (1452, 'completed_by'), (1453, 'completed_by'), (1454, 'completed_by'), (1455, 'completed_by'), (1456, 'completed_by'), (1457, 'completed_by'), (1458, 'completed_by'), (1459, 'completed_by'), (1460, 'completed_by'), (1461, 'completed_by'), (1462, 'completed_by'), (1463, 'completed_by'), (1464, 'completed_by'), (1465, 'completed_by'), (1466, 'completed_by'), (1467, 'completed_by'), (1468, 'completed_by'), (1469, 'completed_by'), (1470, 'completed_by'), (1471, 'completed_by'), (1472, 'completed_by'), (1473, 'completed_by'), (1474, 'completed_by'), (1475, 'completed_by'), (1476, 'completed_by'), (1477, 'completed_by'), (1478, 'completed_by'), (1479, 'completed_by'), (1480, 'completed_by'), (1481, 'completed_by'), (1482, 'completed_by'), (1483, 'completed_by'), (1484, 'completed_by'), (1485, 'completed_by'), (1486, 'completed_by'), (1487, 'completed_by'), (1488, 'completed_by'), (1489, 'completed_by'), (1490, 'completed_by'), (1491, 'completed_by'), (1492, 'completed_by'), (1493, 'completed_by'), (1494, 'completed_by'), (1495, 'completed_by'), (1496, 'completed_by'), (1497, 'completed_by'), (1498, 'completed_by'), (1499, 'completed_by'), (1500, 'completed_by'), (1501, 'completed_by'), (1502, 'completed_by'), (1503, 'completed_by'), (1504, 'completed_by'), (1505, 'completed_by'), (1506, 'completed_by'), (1507, 'completed_by'), (1508, 'completed_by'), (1509, 'completed_by'), (1510, 'completed_by'), (1511, 'completed_by'), (1512, 'completed_by'), (1513, 'completed_by'), (1514, 'completed_by'), (1515, 'completed_by'), (1516, 'completed_by'), (1517, 'completed_by'), (1518, 'completed_by'), (1519, 'completed_by'), (1520, 'completed_by'), (1521, 'completed_by'), (1522, 'completed_by'), (1523, 'completed_by'), (1524, 'completed_by'), (1525, 'completed_by'), (1526, 'completed_by'), (1527, 'completed_by'), (1528, 'completed_by'), (1529, 'completed_by'), (1530, 'completed_by'), (1531, 'completed_by'), (1532, 'completed_by'), (1533, 'completed_by'), (1534, 'completed_by'), (1535, 'completed_by'), (1536, 'completed_by'), (1537, 'completed_by'), (1538, 'completed_by'), (1539, 'completed_by'), (1540, 'completed_by'), (1541, 'completed_by'), (1542, 'completed_by'), (1543, 'completed_by'), (1544, 'completed_by'), (1545, 'completed_by'), (1546, 'completed_by'), (1547, 'completed_by'), (1548, 'completed_by'), (1549, 'completed_by'), (1550, 'completed_by'), (1551, 'completed_by'), (1552, 'completed_by'), (1553, 'completed_by'), (1554, 'completed_by'), (1555, 'completed_by'), (1556, 'completed_by'), (1557, 'completed_by'), (1558, 'completed_by'), (1559, 'completed_by'), (1560, 'completed_by'), (1561, 'completed_by'), (1562, 'completed_by'), (1563, 'completed_by'), (1564, 'completed_by'), (1565, 'completed_by'), (1566, 'completed_by'), (1567, 'completed_by'), (1568, 'completed_by'), (1569, 'completed_by'), (1570, 'completed_by'), (1571, 'completed_by'), (1572, 'completed_by'), (1573, 'completed_by'), (1574, 'completed_by'), (1575, 'completed_by'), (1576, 'completed_by'), (1577, 'completed_by'), (1578, 'completed_by'), (1579, 'completed_by'), (1580, 'completed_by'), (1581, 'completed_by'), (1582, 'completed_by'), (1583, 'completed_by'), (1584, 'completed_by'), (1585, 'completed_by'), (1586, 'completed_by'), (1587, 'completed_by'), (1588, 'completed_by'), (1589, 'completed_by'), (1590, 'completed_by'), (1591, 'completed_by'), (1592, 'completed_by'), (1593, 'completed_by'), (1594, 'completed_by'), (1595, 'completed_by'), (1596, 'completed_by'), (1597, 'completed_by'), (1598, 'completed_by'), (1599, 'completed_by'), (1600, 'completed_by'), (1601, 'completed_by'), (1602, 'completed_by'), (1603, 'completed_by'), (1604, 'completed_by'), (1605, 'completed_by'), (1606, 'completed_by'), (1607, 'completed_by'), (1608, 'completed_by'), (1609, 'completed_by'), (1610, 'completed_by'), (1611, 'completed_by'), (1612, 'completed_by'), (1613, 'completed_by'), (1614, 'completed_by'), (1615, 'completed_by'), (1616, 'completed_by'), (1617, 'completed_by'), (1618, 'completed_by'), (1619, 'completed_by'), (1620, 'completed_by'), (1621, 'completed_by'), (1622, 'completed_by'), (1623, 'completed_by'), (1624, 'completed_by'), (1625, 'completed_by'), (1626, 'completed_by'), (1627, 'completed_by'), (1628, 'completed_by'), (1629, 'completed_by'), (1630, 'completed_by'), (1631, 'completed_by'), (1632, 'completed_by'), (1633, 'completed_by'), (1634, 'completed_by'), (1635, 'completed_by'), (1636, 'completed_by'), (1637, 'completed_by'), (1638, 'completed_by'), (1639, 'completed_by'), (1640, 'completed_by'), (1641, 'completed_by'), (1642, 'completed_by'), (1643, 'completed_by'), (1644, 'completed_by'), (1645, 'completed_by'), (1646, 'completed_by'), (1647, 'completed_by'), (1648, 'completed_by'), (1649, 'completed_by'), (1650, 'completed_by'), (1651, 'completed_by'), (1652, 'completed_by'), (1653, 'completed_by'), (1655, 'completed_by'), (1656, 'completed_by'), (1657, 'completed_by'), (1658, 'completed_by'), (1659, 'completed_by'), (1660, 'completed_by'), (1661, 'completed_by'), (1662, 'completed_by'), (1663, 'completed_by'), (1664, 'completed_by'), (1665, 'completed_by'), (1666, 'completed_by'), (1667, 'completed_by'), (1668, 'completed_by'), (1669, 'completed_by'), (1670, 'completed_by'), (1671, 'completed_by'), (1672, 'completed_by'), (1673, 'completed_by'), (1674, 'completed_by'), (1675, 'completed_by'), (1676, 'completed_by'), (1677, 'completed_by'), (1678, 'completed_by'), (1679, 'completed_by'), (1680, 'completed_by'), (1681, 'completed_by'), (1682, 'completed_by'), (1683, 'completed_by'), (1684, 'completed_by'), (1685, 'completed_by'), (1686, 'completed_by'), (1687, 'completed_by'), (1688, 'completed_by'), (1689, 'completed_by'), (1690, 'completed_by'), (1691, 'completed_by'), (1692, 'completed_by'), (1693, 'completed_by'), (1694, 'completed_by'), (1695, 'completed_by'), (1696, 'completed_by'), (1697, 'completed_by'), (1698, 'completed_by'), (1699, 'completed_by'), (1700, 'completed_by'), (1701, 'completed_by'), (1702, 'completed_by'), (1703, 'completed_by'), (1704, 'completed_by'), (1705, 'completed_by'), (1706, 'completed_by'), (1707, 'completed_by'), (1708, 'completed_by'), (1709, 'completed_by'), (1710, 'completed_by'), (1711, 'completed_by'), (1712, 'completed_by'), (1713, 'completed_by'), (1714, 'completed_by'), (1715, 'completed_by'), (1716, 'completed_by'), (1717, 'completed_by'), (1718, 'completed_by'), (1719, 'completed_by'), (1720, 'completed_by'), (1721, 'completed_by'), (1722, 'completed_by'), (1723, 'completed_by'), (1724, 'completed_by'), (1725, 'completed_by'), (1726, 'completed_by'), (1727, 'completed_by'), (1728, 'completed_by'), (1729, 'completed_by'), (1730, 'completed_by'), (1731, 'completed_by'), (1732, 'completed_by'), (1733, 'completed_by'), (1734, 'completed_by'), (1735, 'completed_by'), (1736, 'completed_by'), (1737, 'completed_by'), (1738, 'completed_by'), (1739, 'completed_by'), (1740, 'completed_by'), (1741, 'completed_by'), (1742, 'completed_by'), (1743, 'completed_by'), (1744, 'completed_by'), (1745, 'completed_by'), (1746, 'completed_by'), (1747, 'completed_by'), (1748, 'completed_by'), (1749, 'completed_by'), (1750, 'completed_by'), (1751, 'completed_by'), (1752, 'completed_by'), (1753, 'completed_by'), (1754, 'completed_by'), (1755, 'completed_by'), (1756, 'completed_by'), (1757, 'completed_by'), (1758, 'completed_by'), (1759, 'completed_by'), (1760, 'completed_by'), (1761, 'completed_by'), (1764, 'completed_by'), (1765, 'completed_by'), (1766, 'completed_by'), (1767, 'completed_by'), (1768, 'completed_by'), (1769, 'completed_by'), (1770, 'completed_by'), (1771, 'completed_by'), (1772, 'completed_by'), (1773, 'completed_by'), (1774, 'completed_by'), (1775, 'completed_by'), (1776, 'completed_by'), (1777, 'completed_by'), (1778, 'completed_by'), (1779, 'completed_by'), (1780, 'completed_by'), (1782, 'completed_by'), (1783, 'completed_by'), (1784, 'completed_by'), (1785, 'completed_by'), (1786, 'completed_by'), (1787, 'completed_by'), (1790, 'completed_by'), (1791, 'completed_by'), (1792, 'completed_by'), (1793, 'completed_by'), (1794, 'completed_by'), (1795, 'completed_by'), (1796, 'completed_by'), (1797, 'completed_by'), (1798, 'completed_by'), (1799, 'completed_by'), (1800, 'completed_by'), (1802, 'completed_by'), (1803, 'completed_by'), (1804, 'completed_by'), (1805, 'completed_by'), (1806, 'completed_by'), (1807, 'completed_by'), (1808, 'completed_by'), (1809, 'completed_by'), (1810, 'completed_by'), (1811, 'completed_by'), (1812, 'completed_by'), (1813, 'completed_by'), (1814, 'completed_by'), (1815, 'completed_by'), (1816, 'completed_by'), (1817, 'completed_by'), (1818, 'completed_by'), (1819, 'completed_by'), (1820, 'completed_by'), (1821, 'completed_by'), (1822, 'completed_by'), (1823, 'completed_by'), (1824, 'completed_by'), (1825, 'completed_by'), (1826, 'completed_by'), (1827, 'completed_by'), (1829, 'completed_by'), (1831, 'completed_by'), (1832, 'completed_by'), (1833, 'completed_by'), (1834, 'completed_by'), (1835, 'completed_by'), (1836, 'completed_by'), (1837, 'completed_by'), (1838, 'completed_by'), (1839, 'completed_by'), (1840, 'completed_by'), (1841, 'completed_by'), (1842, 'completed_by'), (1843, 'completed_by'), (1844, 'completed_by'), (1846, 'completed_by'), (1847, 'completed_by'), (1848, 'completed_by'), (1850, 'completed_by'), (1851, 'completed_by'), (1852, 'completed_by'), (1853, 'completed_by'), (1854, 'completed_by'), (1855, 'completed_by'), (1856, 'completed_by'), (1857, 'completed_by'), (1858, 'completed_by'), (1859, 'completed_by'), (1860, 'completed_by'), (1861, 'completed_by'), (1862, 'completed_by'), (1863, 'completed_by'), (1864, 'completed_by'), (1865, 'completed_by'), (1866, 'completed_by'), (1867, 'completed_by'), (1868, 'completed_by'), (1869, 'completed_by'), (1870, 'completed_by'), (1872, 'completed_by'), (1873, 'completed_by'), (1874, 'completed_by'), (1875, 'completed_by'), (1876, 'completed_by'), (1877, 'completed_by'), (1878, 'completed_by'), (1880, 'completed_by'), (1881, 'completed_by'), (1882, 'completed_by'), (1883, 'completed_by'), (1884, 'completed_by'), (1885, 'completed_by'), (1886, 'completed_by'), (1887, 'completed_by'), (1888, 'completed_by'), (1889, 'completed_by'), (1890, 'completed_by'), (1891, 'completed_by'), (1892, 'completed_by'), (1893, 'completed_by'), (1894, 'completed_by'), (1895, 'completed_by'), (1896, 'completed_by'), (1897, 'completed_by'), (1898, 'completed_by'), (1899, 'completed_by'), (1900, 'completed_by'), (1901, 'completed_by'), (1902, 'completed_by'), (1903, 'completed_by'), (1904, 'completed_by'), (1905, 'completed_by'), (1906, 'completed_by'), (1907, 'completed_by'), (1908, 'completed_by'), (1909, 'completed_by'), (1910, 'completed_by'), (1911, 'completed_by'), (1912, 'completed_by'), (1913, 'completed_by'), (1914, 'completed_by'), (1915, 'completed_by'), (1916, 'completed_by'), (1917, 'completed_by'), (1918, 'completed_by'), (1919, 'completed_by'), (1920, 'completed_by'), (1921, 'completed_by'), (1922, 'completed_by'), (1923, 'completed_by'), (1924, 'completed_by'), (1925, 'completed_by'), (1927, 'completed_by'), (1928, 'completed_by'), (1929, 'completed_by'), (1930, 'completed_by'), (1931, 'completed_by'), (1932, 'completed_by'), (1933, 'completed_by'), (1934, 'completed_by'), (1935, 'completed_by'), (1936, 'completed_by'), (1937, 'completed_by'), (1938, 'completed_by'), (1939, 'completed_by'), (1940, 'completed_by'), (1941, 'completed_by'), (1942, 'completed_by'), (1943, 'completed_by'), (1944, 'completed_by'), (1945, 'completed_by'), (1946, 'completed_by'), (1947, 'completed_by'), (1948, 'completed_by'), (1949, 'completed_by'), (1950, 'completed_by'), (1951, 'completed_by'), (1952, 'completed_by'), (1953, 'completed_by'), (1954, 'completed_by'), (1955, 'completed_by'), (1956, 'completed_by'), (1957, 'completed_by'), (1958, 'completed_by'), (1959, 'completed_by'), (1960, 'completed_by'), (1961, 'completed_by'), (1962, 'completed_by'), (1963, 'completed_by'), (1964, 'completed_by'), (1965, 'completed_by'), (1966, 'completed_by'), (1967, 'completed_by'), (1968, 'completed_by'), (1969, 'completed_by'), (1970, 'completed_by'), (1971, 'completed_by'), (1973, 'completed_by'), (1974, 'completed_by'), (1975, 'completed_by'), (1976, 'completed_by'), (1977, 'completed_by'), (1978, 'completed_by'), (1979, 'completed_by'), (1980, 'completed_by'), (1981, 'completed_by'), (1982, 'completed_by'), (1983, 'completed_by'), (1984, 'completed_by'), (1985, 'completed_by'), (1986, 'completed_by'), (1987, 'completed_by'), (1988, 'completed_by'), (1989, 'completed_by'), (1990, 'completed_by'), (1991, 'completed_by'), (1992, 'completed_by'), (1993, 'completed_by'), (1994, 'completed_by'), (1995, 'completed_by'), (1996, 'completed_by'), (1997, 'completed_by'), (1998, 'completed_by'), (1999, 'completed_by'), (2000, 'completed_by'), (2001, 'completed_by'), (2002, 'completed_by'), (2003, 'completed_by'), (2004, 'completed_by'), (2005, 'completed_by'), (2006, 'completed_by'), (2007, 'completed_by'), (2008, 'completed_by'), (2009, 'completed_by'), (2010, 'completed_by'), (2011, 'completed_by'), (2012, 'completed_by'), (2013, 'completed_by'), (2014, 'completed_by'), (2015, 'completed_by'), (2016, 'completed_by'), (2017, 'completed_by'), (2018, 'completed_by'), (2019, 'completed_by'), (2020, 'completed_by'), (2021, 'completed_by'), (2022, 'completed_by'), (2023, 'completed_by'), (2024, 'completed_by'), (2025, 'completed_by'), (2026, 'completed_by'), (2027, 'completed_by'), (2028, 'completed_by'), (2029, 'completed_by'), (2030, 'completed_by'), (2031, 'completed_by'), (2032, 'completed_by'), (2033, 'completed_by'), (2034, 'completed_by'), (2035, 'completed_by'), (2036, 'completed_by'), (2037, 'completed_by'), (2038, 'completed_by'), (2039, 'completed_by'), (2040, 'completed_by'), (2041, 'completed_by'), (2042, 'completed_by'), (2043, 'completed_by'), (2044, 'completed_by'), (2045, 'completed_by'), (2046, 'completed_by'), (2047, 'completed_by'), (2048, 'completed_by'), (2049, 'completed_by'), (2050, 'completed_by'), (2051, 'completed_by'), (2052, 'completed_by'), (2053, 'completed_by'), (2054, 'completed_by'), (2055, 'completed_by'), (2056, 'completed_by'), (2057, 'completed_by'), (2058, 'completed_by'), (2059, 'completed_by'), (2060, 'completed_by'), (2061, 'completed_by'), (2062, 'completed_by'), (2063, 'completed_by'), (2064, 'completed_by'), (2065, 'completed_by'), (2066, 'completed_by'), (2067, 'completed_by'), (2068, 'completed_by'), (2069, 'completed_by'), (2070, 'completed_by'), (2071, 'completed_by'), (2072, 'completed_by'), (2073, 'completed_by'), (2074, 'completed_by'), (2075, 'completed_by'), (2076, 'completed_by'), (2077, 'completed_by'), (2078, 'completed_by'), (2079, 'completed_by'), (2080, 'completed_by'), (2081, 'completed_by'), (2082, 'completed_by'), (2083, 'completed_by'), (2084, 'completed_by'), (2085, 'completed_by'), (2086, 'completed_by'), (2087, 'completed_by'), (2088, 'completed_by'), (2089, 'completed_by'), (2090, 'completed_by'), (2091, 'completed_by'), (2092, 'completed_by'), (2093, 'completed_by'), (2094, 'completed_by'), (2095, 'completed_by'), (2097, 'completed_by'), (2098, 'completed_by'), (2099, 'completed_by'), (2100, 'completed_by'), (2101, 'completed_by'), (2102, 'completed_by'), (2103, 'completed_by'), (2104, 'completed_by'), (2105, 'completed_by'), (2106, 'completed_by'), (2107, 'completed_by'), (2108, 'completed_by'), (2109, 'completed_by'), (2110, 'completed_by'), (2111, 'completed_by'), (2112, 'completed_by'), (2113, 'completed_by'), (2114, 'completed_by'), (2115, 'completed_by'), (2116, 'completed_by'), (2117, 'completed_by'), (2118, 'completed_by'), (2119, 'completed_by'), (2120, 'completed_by'), (2121, 'completed_by'), (2122, 'completed_by'), (2123, 'completed_by'), (2124, 'completed_by'), (2125, 'completed_by'), (2126, 'completed_by'), (2127, 'completed_by'), (2128, 'completed_by'), (2129, 'completed_by'), (2130, 'completed_by'), (2131, 'completed_by'), (2132, 'completed_by'), (2133, 'completed_by'), (2134, 'completed_by'), (2135, 'completed_by'), (2136, 'completed_by'), (2137, 'completed_by'), (2138, 'completed_by'), (2139, 'completed_by'), (2140, 'completed_by'), (2141, 'completed_by'), (2142, 'completed_by'), (2143, 'completed_by'), (2144, 'completed_by'), (2145, 'completed_by'), (2146, 'completed_by'), (2147, 'completed_by'), (2148, 'completed_by'), (2149, 'completed_by'), (2150, 'completed_by'), (2151, 'completed_by'), (2152, 'completed_by'), (2153, 'completed_by'), (2154, 'completed_by'), (2155, 'completed_by'), (2156, 'completed_by'), (2157, 'completed_by'), (2158, 'completed_by'), (2159, 'completed_by'), (2160, 'completed_by'), (2161, 'completed_by'), (2162, 'completed_by'), (2163, 'completed_by'), (2164, 'completed_by'), (2165, 'completed_by'), (2166, 'completed_by'), (2167, 'completed_by'), (2168, 'completed_by'), (2169, 'completed_by'), (2170, 'completed_by'), (2171, 'completed_by'), (2172, 'completed_by'), (2173, 'completed_by'), (2174, 'completed_by'), (2175, 'completed_by'), (2176, 'completed_by'), (2177, 'completed_by'), (2178, 'completed_by'), (2179, 'completed_by'), (2180, 'completed_by'), (2181, 'completed_by'), (2182, 'completed_by'), (2183, 'completed_by'), (2184, 'completed_by'), (2185, 'completed_by'), (2186, 'completed_by'), (2187, 'completed_by'), (2188, 'completed_by'), (2189, 'completed_by'), (2190, 'completed_by'), (2191, 'completed_by'), (2192, 'completed_by'), (2193, 'completed_by'), (2194, 'completed_by'), (2195, 'completed_by'), (2196, 'completed_by'), (2197, 'completed_by'), (2198, 'completed_by'), (2199, 'completed_by'), (2200, 'completed_by'), (2201, 'completed_by'), (2202, 'completed_by'), (2203, 'completed_by'), (2204, 'completed_by'), (2205, 'completed_by'), (2206, 'completed_by'), (2207, 'completed_by'), (2208, 'completed_by'), (2209, 'completed_by'), (2210, 'completed_by'), (2211, 'completed_by'), (2212, 'completed_by'), (2213, 'completed_by'), (2214, 'completed_by'), (2215, 'completed_by'), (2216, 'completed_by'), (2217, 'completed_by'), (2218, 'completed_by'), (2219, 'completed_by'), (2220, 'completed_by'), (2221, 'completed_by'), (2222, 'completed_by'), (2223, 'completed_by'), (2224, 'completed_by'), (2228, 'completed_by'), (2229, 'completed_by'), (2230, 'completed_by'), (2231, 'completed_by'), (2232, 'completed_by'), (2233, 'completed_by'), (2234, 'completed_by'), (2235, 'completed_by'), (2236, 'completed_by'), (2237, 'completed_by'), (2238, 'completed_by'), (2239, 'completed_by'), (2240, 'completed_by'), (2241, 'completed_by'), (2242, 'completed_by'), (2243, 'completed_by'), (2244, 'completed_by'), (2245, 'completed_by'), (2247, 'completed_by'), (2248, 'completed_by'), (2249, 'completed_by'), (2250, 'completed_by'), (2251, 'completed_by'), (2252, 'completed_by'), (2253, 'completed_by'), (2254, 'completed_by'), (2255, 'completed_by'), (2256, 'completed_by'), (2257, 'completed_by'), (2258, 'completed_by'), (2259, 'completed_by'), (2260, 'completed_by'), (2261, 'completed_by'), (2262, 'completed_by'), (2263, 'completed_by'), (2264, 'completed_by'), (2265, 'completed_by'), (2266, 'completed_by'), (2268, 'completed_by'), (2269, 'completed_by'), (2270, 'completed_by'), (2272, 'completed_by'), (2273, 'completed_by'), (2274, 'completed_by'), (2275, 'completed_by'), (2276, 'completed_by'), (2277, 'completed_by'), (2278, 'completed_by'), (2279, 'completed_by'), (2280, 'completed_by'), (2281, 'completed_by'), (2282, 'completed_by'), (2283, 'completed_by'), (2284, 'completed_by'), (2285, 'completed_by'), (2286, 'completed_by'), (2287, 'completed_by'), (2288, 'completed_by'), (2289, 'completed_by'), (2290, 'completed_by'), (2291, 'completed_by'), (2292, 'completed_by'), (2293, 'completed_by'), (2294, 'completed_by'), (2295, 'completed_by'), (2296, 'completed_by'), (2297, 'completed_by'), (2299, 'completed_by'), (2300, 'completed_by'), (2301, 'completed_by'), (2302, 'completed_by'), (2303, 'completed_by'), (2305, 'completed_by'), (2306, 'completed_by'), (2307, 'completed_by'), (2308, 'completed_by'), (2309, 'completed_by'), (2311, 'completed_by'), (2312, 'completed_by'), (2313, 'completed_by'), (2314, 'completed_by'), (2315, 'completed_by'), (2316, 'completed_by'), (2317, 'completed_by'), (2318, 'completed_by'), (2319, 'completed_by'), (2320, 'completed_by'), (2321, 'completed_by'), (2322, 'completed_by'), (2323, 'completed_by'), (2324, 'completed_by'), (2325, 'completed_by'), (2326, 'completed_by'), (2327, 'completed_by'), (2328, 'completed_by'), (2329, 'completed_by'), (2330, 'completed_by'), (2331, 'completed_by'), (2332, 'completed_by'), (2333, 'completed_by'), (2334, 'completed_by'), (2335, 'completed_by'), (2336, 'completed_by'), (2337, 'completed_by'), (2338, 'completed_by'), (2339, 'completed_by'), (2340, 'completed_by'), (2341, 'completed_by'), (2342, 'completed_by'), (2343, 'completed_by'), (2344, 'completed_by'), (2345, 'completed_by'), (2346, 'completed_by'), (2347, 'completed_by'), (2348, 'completed_by'), (2349, 'completed_by'), (2350, 'completed_by'), (2352, 'completed_by'), (2353, 'completed_by'), (2354, 'completed_by'), (2355, 'completed_by'), (2356, 'completed_by'), (2357, 'completed_by'), (2358, 'completed_by'), (2359, 'completed_by'), (2360, 'completed_by'), (2361, 'completed_by'), (2363, 'completed_by'), (2364, 'completed_by'), (2365, 'completed_by'), (2366, 'completed_by'), (2367, 'completed_by'), (2368, 'completed_by'), (2369, 'completed_by'), (2370, 'completed_by'), (2372, 'completed_by'), (2373, 'completed_by'), (2374, 'completed_by'), (2375, 'completed_by'), (2376, 'completed_by'), (2377, 'completed_by'), (2378, 'completed_by'), (2379, 'completed_by'), (2380, 'completed_by'), (2381, 'completed_by'), (2382, 'completed_by'), (2383, 'completed_by'), (2384, 'completed_by'), (2385, 'completed_by'), (2386, 'completed_by'), (2387, 'completed_by'), (2388, 'completed_by'), (2389, 'completed_by'), (2390, 'completed_by'), (2392, 'completed_by'), (2393, 'completed_by'), (2394, 'completed_by'), (2395, 'completed_by'), (2396, 'completed_by'), (2397, 'completed_by'), (2398, 'completed_by'), (2399, 'completed_by'), (2400, 'completed_by'), (2401, 'completed_by'), (2402, 'completed_by'), (2403, 'completed_by'), (2404, 'completed_by'), (2405, 'completed_by'), (2406, 'completed_by'), (2408, 'completed_by'), (2409, 'completed_by'), (2410, 'completed_by'), (2412, 'completed_by'), (2413, 'completed_by'), (2414, 'completed_by'), (2415, 'completed_by'), (2416, 'completed_by'), (2417, 'completed_by'), (2418, 'completed_by'), (2419, 'completed_by'), (2420, 'completed_by'), (2421, 'completed_by'), (2423, 'completed_by'), (2424, 'completed_by'), (2425, 'completed_by'), (2426, 'completed_by'), (2427, 'completed_by'), (2428, 'completed_by'), (2429, 'completed_by'), (2430, 'completed_by'), (2432, 'completed_by'), (2433, 'completed_by'), (2434, 'completed_by'), (2435, 'completed_by'), (2436, 'completed_by'), (2437, 'completed_by'), (2438, 'completed_by'), (2439, 'completed_by'), (2440, 'completed_by'), (2441, 'completed_by'), (2442, 'completed_by'), (2443, 'completed_by'), (2444, 'completed_by'), (2445, 'completed_by'), (2446, 'completed_by'), (2447, 'completed_by'), (2448, 'completed_by'), (2449, 'completed_by'), (2450, 'completed_by'), (2451, 'completed_by'), (2452, 'completed_by'), (2453, 'completed_by'), (2454, 'completed_by'), (2455, 'completed_by'), (2456, 'completed_by'), (2457, 'completed_by'), (2458, 'completed_by'), (2459, 'completed_by'), (2460, 'completed_by'), (2461, 'completed_by'), (2462, 'completed_by'), (2463, 'completed_by'), (2464, 'completed_by'), (2465, 'completed_by'), (2466, 'completed_by'), (2467, 'completed_by'), (2468, 'completed_by'), (2469, 'completed_by'), (2470, 'completed_by'), (2471, 'completed_by'), (2472, 'completed_by'), (2473, 'completed_by'), (2474, 'completed_by'), (2475, 'completed_by'), (2477, 'completed_by'), (2478, 'completed_by'), (2479, 'completed_by'), (2480, 'completed_by'), (2481, 'completed_by'), (2482, 'completed_by'), (2484, 'completed_by'), (2485, 'completed_by'), (2486, 'completed_by'), (2487, 'completed_by'), (2488, 'completed_by'), (2489, 'completed_by'), (2490, 'completed_by'), (2492, 'completed_by'), (2493, 'completed_by'), (2494, 'completed_by'), (2495, 'completed_by'), (2496, 'completed_by'), (2497, 'completed_by'), (2498, 'completed_by'), (2501, 'completed_by'), (2502, 'completed_by'), (2504, 'completed_by'), (2505, 'completed_by'), (2506, 'completed_by'), (2507, 'completed_by'), (2508, 'completed_by'), (2509, 'completed_by'), (2510, 'completed_by'), (2513, 'completed_by'), (2514, 'completed_by'), (2515, 'completed_by'), (2516, 'completed_by'), (2517, 'completed_by'), (2518, 'completed_by'), (2519, 'completed_by'), (2520, 'completed_by'), (2521, 'completed_by'), (2523, 'completed_by'), (2524, 'completed_by'), (2525, 'completed_by'), (2526, 'completed_by'), (2527, 'completed_by'), (2528, 'completed_by'), (2529, 'completed_by'), (2530, 'completed_by'), (2531, 'completed_by'), (2532, 'completed_by'), (2533, 'completed_by'), (2534, 'completed_by'), (2535, 'completed_by'), (2536, 'completed_by'), (2537, 'completed_by'), (2538, 'completed_by'), (2540, 'completed_by'), (2541, 'completed_by'), (2542, 'completed_by'), (2543, 'completed_by'), (2544, 'completed_by'), (2545, 'completed_by'), (2546, 'completed_by'), (2547, 'completed_by'), (2548, 'completed_by'), (2549, 'completed_by'), (2550, 'completed_by'), (2551, 'completed_by'), (2553, 'completed_by'), (2554, 'completed_by'), (2555, 'completed_by'), (2556, 'completed_by'), (2557, 'completed_by'), (2558, 'completed_by'), (2559, 'completed_by'), (2560, 'completed_by'), (2563, 'completed_by'), (2564, 'completed_by'), (2565, 'completed_by'), (2566, 'completed_by'), (2567, 'completed_by'), (2568, 'completed_by'), (2570, 'completed_by'), (2571, 'completed_by'), (2572, 'completed_by'), (2574, 'completed_by'), (2575, 'completed_by'), (2578, 'completed_by'), (1, 'date_crf_completed'), (2, 'date_crf_completed'), (3, 'date_crf_completed'), (4, 'date_crf_completed'), (5, 'date_crf_completed'), (6, 'date_crf_completed'), (7, 'date_crf_completed'), (8, 'date_crf_completed'), (9, 'date_crf_completed'), (10, 'date_crf_completed'), (11, 'date_crf_completed'), (12, 'date_crf_completed'), (13, 'date_crf_completed'), (14, 'date_crf_completed'), (15, 'date_crf_completed'), (16, 'date_crf_completed'), (17, 'date_crf_completed'), (18, 'date_crf_completed'), (19, 'date_crf_completed'), (20, 'date_crf_completed'), (21, 'date_crf_completed'), (22, 'date_crf_completed'), (23, 'date_crf_completed'), (24, 'date_crf_completed'), (25, 'date_crf_completed'), (26, 'date_crf_completed'), (27, 'date_crf_completed'), (28, 'date_crf_completed'), (29, 'date_crf_completed'), (30, 'date_crf_completed'), (31, 'date_crf_completed'), (32, 'date_crf_completed'), (33, 'date_crf_completed'), (34, 'date_crf_completed'), (35, 'date_crf_completed'), (36, 'date_crf_completed'), (37, 'date_crf_completed'), (38, 'date_crf_completed'), (39, 'date_crf_completed'), (40, 'date_crf_completed'), (41, 'date_crf_completed'), (42, 'date_crf_completed'), (43, 'date_crf_completed'), (44, 'date_crf_completed'), (45, 'date_crf_completed'), (46, 'date_crf_completed'), (47, 'date_crf_completed'), (48, 'date_crf_completed'), (49, 'date_crf_completed'), (50, 'date_crf_completed'), (51, 'date_crf_completed'), (52, 'date_crf_completed'), (53, 'date_crf_completed'), (54, 'date_crf_completed'), (55, 'date_crf_completed'), (56, 'date_crf_completed'), (57, 'date_crf_completed'), (58, 'date_crf_completed'), (59, 'date_crf_completed'), (60, 'date_crf_completed'), (61, 'date_crf_completed'), (62, 'date_crf_completed'), (63, 'date_crf_completed'), (64, 'date_crf_completed'), (65, 'date_crf_completed'), (66, 'date_crf_completed'), (67, 'date_crf_completed'), (68, 'date_crf_completed'), (69, 'date_crf_completed'), (70, 'date_crf_completed'), (71, 'date_crf_completed'), (72, 'date_crf_completed'), (73, 'date_crf_completed'), (74, 'date_crf_completed'), (75, 'date_crf_completed'), (76, 'date_crf_completed'), (77, 'date_crf_completed'), (78, 'date_crf_completed'), (79, 'date_crf_completed'), (80, 'date_crf_completed'), (81, 'date_crf_completed'), (82, 'date_crf_completed'), (83, 'date_crf_completed'), (84, 'date_crf_completed'), (85, 'date_crf_completed'), (86, 'date_crf_completed'), (87, 'date_crf_completed'), (88, 'date_crf_completed'), (89, 'date_crf_completed'), (90, 'date_crf_completed'), (91, 'date_crf_completed'), (92, 'date_crf_completed'), (93, 'date_crf_completed'), (94, 'date_crf_completed'), (95, 'date_crf_completed'), (96, 'date_crf_completed'), (97, 'date_crf_completed'), (98, 'date_crf_completed'), (99, 'date_crf_completed'), (100, 'date_crf_completed'), (101, 'date_crf_completed'), (102, 'date_crf_completed'), (103, 'date_crf_completed'), (104, 'date_crf_completed'), (105, 'date_crf_completed'), (106, 'date_crf_completed'), (107, 'date_crf_completed'), (108, 'date_crf_completed'), (109, 'date_crf_completed'), (110, 'date_crf_completed'), (111, 'date_crf_completed'), (112, 'date_crf_completed'), (113, 'date_crf_completed'), (114, 'date_crf_completed'), (115, 'date_crf_completed'), (116, 'date_crf_completed'), (117, 'date_crf_completed'), (118, 'date_crf_completed'), (119, 'date_crf_completed'), (120, 'date_crf_completed'), (121, 'date_crf_completed'), (122, 'date_crf_completed'), (123, 'date_crf_completed'), (124, 'date_crf_completed'), (125, 'date_crf_completed'), (126, 'date_crf_completed'), (127, 'date_crf_completed'), (128, 'date_crf_completed'), (129, 'date_crf_completed'), (130, 'date_crf_completed'), (131, 'date_crf_completed'), (132, 'date_crf_completed'), (133, 'date_crf_completed'), (134, 'date_crf_completed'), (135, 'date_crf_completed'), (136, 'date_crf_completed'), (137, 'date_crf_completed'), (138, 'date_crf_completed'), (139, 'date_crf_completed'), (140, 'date_crf_completed'), (141, 'date_crf_completed'), (142, 'date_crf_completed'), (143, 'date_crf_completed'), (144, 'date_crf_completed'), (145, 'date_crf_completed'), (146, 'date_crf_completed'), (147, 'date_crf_completed'), (148, 'date_crf_completed'), (149, 'date_crf_completed'), (150, 'date_crf_completed'), (151, 'date_crf_completed'), (152, 'date_crf_completed'), (153, 'date_crf_completed'), (154, 'date_crf_completed'), (155, 'date_crf_completed'), (156, 'date_crf_completed'), (157, 'date_crf_completed'), (158, 'date_crf_completed'), (159, 'date_crf_completed'), (160, 'date_crf_completed'), (161, 'date_crf_completed'), (162, 'date_crf_completed'), (163, 'date_crf_completed'), (164, 'date_crf_completed'), (165, 'date_crf_completed'), (166, 'date_crf_completed'), (167, 'date_crf_completed'), (168, 'date_crf_completed'), (169, 'date_crf_completed'), (170, 'date_crf_completed'), (171, 'date_crf_completed'), (172, 'date_crf_completed'), (173, 'date_crf_completed'), (174, 'date_crf_completed'), (175, 'date_crf_completed'), (176, 'date_crf_completed'), (177, 'date_crf_completed'), (178, 'date_crf_completed'), (179, 'date_crf_completed'), (180, 'date_crf_completed'), (181, 'date_crf_completed'), (182, 'date_crf_completed'), (183, 'date_crf_completed'), (184, 'date_crf_completed'), (185, 'date_crf_completed'), (186, 'date_crf_completed'), (187, 'date_crf_completed'), (188, 'date_crf_completed'), (189, 'date_crf_completed'), (190, 'date_crf_completed'), (191, 'date_crf_completed'), (192, 'date_crf_completed'), (193, 'date_crf_completed'), (194, 'date_crf_completed'), (195, 'date_crf_completed'), (196, 'date_crf_completed'), (197, 'date_crf_completed'), (198, 'date_crf_completed'), (199, 'date_crf_completed'), (200, 'date_crf_completed'), (201, 'date_crf_completed'), (202, 'date_crf_completed'), (203, 'date_crf_completed'), (204, 'date_crf_completed'), (205, 'date_crf_completed'), (206, 'date_crf_completed'), (207, 'date_crf_completed'), (208, 'date_crf_completed'), (209, 'date_crf_completed'), (210, 'date_crf_completed'), (211, 'date_crf_completed'), (212, 'date_crf_completed'), (213, 'date_crf_completed'), (214, 'date_crf_completed'), (215, 'date_crf_completed'), (216, 'date_crf_completed'), (217, 'date_crf_completed'), (218, 'date_crf_completed'), (219, 'date_crf_completed'), (220, 'date_crf_completed'), (221, 'date_crf_completed'), (222, 'date_crf_completed'), (223, 'date_crf_completed'), (224, 'date_crf_completed'), (225, 'date_crf_completed'), (226, 'date_crf_completed'), (227, 'date_crf_completed'), (228, 'date_crf_completed'), (229, 'date_crf_completed'), (230, 'date_crf_completed'), (231, 'date_crf_completed'), (232, 'date_crf_completed'), (233, 'date_crf_completed'), (234, 'date_crf_completed'), (235, 'date_crf_completed'), (236, 'date_crf_completed'), (237, 'date_crf_completed'), (238, 'date_crf_completed'), (239, 'date_crf_completed'), (240, 'date_crf_completed'), (241, 'date_crf_completed'), (242, 'date_crf_completed'), (243, 'date_crf_completed'), (244, 'date_crf_completed'), (245, 'date_crf_completed'), (246, 'date_crf_completed'), (247, 'date_crf_completed'), (248, 'date_crf_completed'), (249, 'date_crf_completed'), (250, 'date_crf_completed'), (251, 'date_crf_completed'), (252, 'date_crf_completed'), (253, 'date_crf_completed'), (254, 'date_crf_completed'), (255, 'date_crf_completed'), (256, 'date_crf_completed'), (257, 'date_crf_completed'), (258, 'date_crf_completed'), (259, 'date_crf_completed'), (260, 'date_crf_completed'), (261, 'date_crf_completed'), (262, 'date_crf_completed'), (263, 'date_crf_completed'), (264, 'date_crf_completed'), (265, 'date_crf_completed'), (266, 'date_crf_completed'), (267, 'date_crf_completed'), (268, 'date_crf_completed'), (269, 'date_crf_completed'), (270, 'date_crf_completed'), (271, 'date_crf_completed'), (272, 'date_crf_completed'), (273, 'date_crf_completed'), (274, 'date_crf_completed'), (275, 'date_crf_completed'), (276, 'date_crf_completed'), (277, 'date_crf_completed'), (278, 'date_crf_completed'), (279, 'date_crf_completed'), (280, 'date_crf_completed'), (281, 'date_crf_completed'), (282, 'date_crf_completed'), (283, 'date_crf_completed'), (284, 'date_crf_completed'), (285, 'date_crf_completed'), (286, 'date_crf_completed'), (287, 'date_crf_completed'), (288, 'date_crf_completed'), (289, 'date_crf_completed'), (290, 'date_crf_completed'), (291, 'date_crf_completed'), (292, 'date_crf_completed'), (293, 'date_crf_completed'), (294, 'date_crf_completed'), (295, 'date_crf_completed'), (296, 'date_crf_completed'), (297, 'date_crf_completed'), (298, 'date_crf_completed'), (299, 'date_crf_completed'), (300, 'date_crf_completed'), (301, 'date_crf_completed'), (302, 'date_crf_completed'), (303, 'date_crf_completed'), (304, 'date_crf_completed'), (305, 'date_crf_completed'), (306, 'date_crf_completed'), (307, 'date_crf_completed'), (308, 'date_crf_completed'), (309, 'date_crf_completed'), (310, 'date_crf_completed'), (311, 'date_crf_completed'), (312, 'date_crf_completed'), (313, 'date_crf_completed'), (314, 'date_crf_completed'), (315, 'date_crf_completed'), (316, 'date_crf_completed'), (317, 'date_crf_completed'), (318, 'date_crf_completed'), (319, 'date_crf_completed'), (320, 'date_crf_completed'), (321, 'date_crf_completed'), (322, 'date_crf_completed'), (323, 'date_crf_completed'), (324, 'date_crf_completed'), (325, 'date_crf_completed'), (326, 'date_crf_completed'), (327, 'date_crf_completed'), (328, 'date_crf_completed'), (329, 'date_crf_completed'), (330, 'date_crf_completed'), (331, 'date_crf_completed'), (332, 'date_crf_completed'), (333, 'date_crf_completed'), (334, 'date_crf_completed'), (335, 'date_crf_completed'), (336, 'date_crf_completed'), (337, 'date_crf_completed'), (338, 'date_crf_completed'), (339, 'date_crf_completed'), (340, 'date_crf_completed'), (341, 'date_crf_completed'), (342, 'date_crf_completed'), (343, 'date_crf_completed'), (344, 'date_crf_completed'), (345, 'date_crf_completed'), (346, 'date_crf_completed'), (347, 'date_crf_completed'), (348, 'date_crf_completed'), (349, 'date_crf_completed'), (350, 'date_crf_completed'), (351, 'date_crf_completed'), (352, 'date_crf_completed'), (353, 'date_crf_completed'), (354, 'date_crf_completed'), (355, 'date_crf_completed'), (356, 'date_crf_completed'), (357, 'date_crf_completed'), (358, 'date_crf_completed'), (359, 'date_crf_completed'), (360, 'date_crf_completed'), (361, 'date_crf_completed'), (362, 'date_crf_completed'), (363, 'date_crf_completed'), (364, 'date_crf_completed'), (365, 'date_crf_completed'), (366, 'date_crf_completed'), (367, 'date_crf_completed'), (368, 'date_crf_completed'), (369, 'date_crf_completed'), (370, 'date_crf_completed'), (371, 'date_crf_completed'), (372, 'date_crf_completed'), (373, 'date_crf_completed'), (374, 'date_crf_completed'), (375, 'date_crf_completed'), (376, 'date_crf_completed'), (377, 'date_crf_completed'), (378, 'date_crf_completed'), (379, 'date_crf_completed'), (380, 'date_crf_completed'), (381, 'date_crf_completed'), (382, 'date_crf_completed'), (383, 'date_crf_completed'), (384, 'date_crf_completed'), (385, 'date_crf_completed'), (386, 'date_crf_completed'), (387, 'date_crf_completed'), (388, 'date_crf_completed'), (389, 'date_crf_completed'), (390, 'date_crf_completed'), (391, 'date_crf_completed'), (392, 'date_crf_completed'), (393, 'date_crf_completed'), (394, 'date_crf_completed'), (395, 'date_crf_completed'), (396, 'date_crf_completed'), (397, 'date_crf_completed'), (398, 'date_crf_completed'), (399, 'date_crf_completed'), (400, 'date_crf_completed'), (401, 'date_crf_completed'), (402, 'date_crf_completed'), (403, 'date_crf_completed'), (404, 'date_crf_completed'), (405, 'date_crf_completed'), (406, 'date_crf_completed'), (407, 'date_crf_completed'), (408, 'date_crf_completed'), (409, 'date_crf_completed'), (410, 'date_crf_completed'), (411, 'date_crf_completed'), (412, 'date_crf_completed'), (413, 'date_crf_completed'), (414, 'date_crf_completed'), (415, 'date_crf_completed'), (416, 'date_crf_completed'), (417, 'date_crf_completed'), (418, 'date_crf_completed'), (419, 'date_crf_completed'), (420, 'date_crf_completed'), (421, 'date_crf_completed'), (422, 'date_crf_completed'), (423, 'date_crf_completed'), (424, 'date_crf_completed'), (425, 'date_crf_completed'), (426, 'date_crf_completed'), (427, 'date_crf_completed'), (428, 'date_crf_completed'), (429, 'date_crf_completed'), (430, 'date_crf_completed'), (431, 'date_crf_completed'), (432, 'date_crf_completed'), (433, 'date_crf_completed'), (434, 'date_crf_completed'), (435, 'date_crf_completed'), (436, 'date_crf_completed'), (437, 'date_crf_completed'), (438, 'date_crf_completed'), (439, 'date_crf_completed'), (440, 'date_crf_completed'), (441, 'date_crf_completed'), (442, 'date_crf_completed'), (443, 'date_crf_completed'), (444, 'date_crf_completed'), (445, 'date_crf_completed'), (446, 'date_crf_completed'), (447, 'date_crf_completed'), (448, 'date_crf_completed'), (449, 'date_crf_completed'), (450, 'date_crf_completed'), (451, 'date_crf_completed'), (452, 'date_crf_completed'), (453, 'date_crf_completed'), (454, 'date_crf_completed'), (455, 'date_crf_completed'), (456, 'date_crf_completed'), (457, 'date_crf_completed'), (458, 'date_crf_completed'), (459, 'date_crf_completed'), (460, 'date_crf_completed'), (461, 'date_crf_completed'), (462, 'date_crf_completed'), (463, 'date_crf_completed'), (464, 'date_crf_completed'), (465, 'date_crf_completed'), (466, 'date_crf_completed'), (467, 'date_crf_completed'), (468, 'date_crf_completed'), (469, 'date_crf_completed'), (471, 'date_crf_completed'), (472, 'date_crf_completed'), (473, 'date_crf_completed'), (474, 'date_crf_completed'), (475, 'date_crf_completed'), (476, 'date_crf_completed'), (477, 'date_crf_completed'), (478, 'date_crf_completed'), (479, 'date_crf_completed'), (480, 'date_crf_completed'), (481, 'date_crf_completed'), (482, 'date_crf_completed'), (483, 'date_crf_completed'), (484, 'date_crf_completed'), (485, 'date_crf_completed'), (486, 'date_crf_completed'), (487, 'date_crf_completed'), (488, 'date_crf_completed'), (489, 'date_crf_completed'), (490, 'date_crf_completed'), (491, 'date_crf_completed'), (492, 'date_crf_completed'), (493, 'date_crf_completed'), (494, 'date_crf_completed'), (495, 'date_crf_completed'), (496, 'date_crf_completed'), (497, 'date_crf_completed'), (498, 'date_crf_completed'), (499, 'date_crf_completed'), (500, 'date_crf_completed'), (501, 'date_crf_completed'), (502, 'date_crf_completed'), (503, 'date_crf_completed'), (504, 'date_crf_completed'), (505, 'date_crf_completed'), (506, 'date_crf_completed'), (507, 'date_crf_completed'), (508, 'date_crf_completed'), (509, 'date_crf_completed'), (510, 'date_crf_completed'), (511, 'date_crf_completed'), (512, 'date_crf_completed'), (513, 'date_crf_completed'), (514, 'date_crf_completed'), (515, 'date_crf_completed'), (516, 'date_crf_completed'), (517, 'date_crf_completed'), (518, 'date_crf_completed'), (519, 'date_crf_completed'), (520, 'date_crf_completed'), (521, 'date_crf_completed'), (522, 'date_crf_completed'), (523, 'date_crf_completed'), (524, 'date_crf_completed'), (525, 'date_crf_completed'), (526, 'date_crf_completed'), (527, 'date_crf_completed'), (528, 'date_crf_completed'), (529, 'date_crf_completed'), (530, 'date_crf_completed'), (531, 'date_crf_completed'), (532, 'date_crf_completed'), (533, 'date_crf_completed'), (534, 'date_crf_completed'), (535, 'date_crf_completed'), (536, 'date_crf_completed'), (537, 'date_crf_completed'), (538, 'date_crf_completed'), (539, 'date_crf_completed'), (540, 'date_crf_completed'), (541, 'date_crf_completed'), (542, 'date_crf_completed'), (543, 'date_crf_completed'), (544, 'date_crf_completed'), (545, 'date_crf_completed'), (546, 'date_crf_completed'), (547, 'date_crf_completed'), (548, 'date_crf_completed'), (549, 'date_crf_completed'), (550, 'date_crf_completed'), (551, 'date_crf_completed'), (552, 'date_crf_completed'), (553, 'date_crf_completed'), (554, 'date_crf_completed'), (555, 'date_crf_completed'), (556, 'date_crf_completed'), (557, 'date_crf_completed'), (558, 'date_crf_completed'), (559, 'date_crf_completed'), (560, 'date_crf_completed'), (561, 'date_crf_completed'), (562, 'date_crf_completed'), (563, 'date_crf_completed'), (564, 'date_crf_completed'), (565, 'date_crf_completed'), (566, 'date_crf_completed'), (567, 'date_crf_completed'), (568, 'date_crf_completed'), (569, 'date_crf_completed'), (570, 'date_crf_completed'), (571, 'date_crf_completed'), (572, 'date_crf_completed'), (573, 'date_crf_completed'), (574, 'date_crf_completed'), (575, 'date_crf_completed'), (576, 'date_crf_completed'), (577, 'date_crf_completed'), (578, 'date_crf_completed'), (579, 'date_crf_completed'), (580, 'date_crf_completed'), (581, 'date_crf_completed'), (582, 'date_crf_completed'), (583, 'date_crf_completed'), (584, 'date_crf_completed'), (585, 'date_crf_completed'), (586, 'date_crf_completed'), (587, 'date_crf_completed'), (588, 'date_crf_completed'), (589, 'date_crf_completed'), (590, 'date_crf_completed'), (591, 'date_crf_completed'), (592, 'date_crf_completed'), (593, 'date_crf_completed'), (594, 'date_crf_completed'), (595, 'date_crf_completed'), (596, 'date_crf_completed'), (597, 'date_crf_completed'), (598, 'date_crf_completed'), (599, 'date_crf_completed'), (600, 'date_crf_completed'), (601, 'date_crf_completed'), (602, 'date_crf_completed'), (603, 'date_crf_completed'), (604, 'date_crf_completed'), (605, 'date_crf_completed'), (606, 'date_crf_completed'), (607, 'date_crf_completed'), (608, 'date_crf_completed'), (609, 'date_crf_completed'), (610, 'date_crf_completed'), (611, 'date_crf_completed'), (612, 'date_crf_completed'), (613, 'date_crf_completed'), (614, 'date_crf_completed'), (615, 'date_crf_completed'), (616, 'date_crf_completed'), (617, 'date_crf_completed'), (618, 'date_crf_completed'), (619, 'date_crf_completed'), (620, 'date_crf_completed'), (621, 'date_crf_completed'), (622, 'date_crf_completed'), (623, 'date_crf_completed'), (624, 'date_crf_completed'), (625, 'date_crf_completed'), (626, 'date_crf_completed'), (627, 'date_crf_completed'), (628, 'date_crf_completed'), (629, 'date_crf_completed'), (630, 'date_crf_completed'), (631, 'date_crf_completed'), (632, 'date_crf_completed'), (633, 'date_crf_completed'), (634, 'date_crf_completed'), (635, 'date_crf_completed'), (636, 'date_crf_completed'), (637, 'date_crf_completed'), (638, 'date_crf_completed'), (639, 'date_crf_completed'), (640, 'date_crf_completed'), (641, 'date_crf_completed'), (642, 'date_crf_completed'), (643, 'date_crf_completed'), (644, 'date_crf_completed'), (645, 'date_crf_completed'), (646, 'date_crf_completed'), (647, 'date_crf_completed'), (648, 'date_crf_completed'), (649, 'date_crf_completed'), (650, 'date_crf_completed'), (651, 'date_crf_completed'), (652, 'date_crf_completed'), (653, 'date_crf_completed'), (654, 'date_crf_completed'), (655, 'date_crf_completed'), (656, 'date_crf_completed'), (657, 'date_crf_completed'), (658, 'date_crf_completed'), (659, 'date_crf_completed'), (660, 'date_crf_completed'), (661, 'date_crf_completed'), (662, 'date_crf_completed'), (663, 'date_crf_completed'), (664, 'date_crf_completed'), (665, 'date_crf_completed'), (666, 'date_crf_completed'), (667, 'date_crf_completed'), (668, 'date_crf_completed'), (669, 'date_crf_completed'), (670, 'date_crf_completed'), (671, 'date_crf_completed'), (672, 'date_crf_completed'), (673, 'date_crf_completed'), (674, 'date_crf_completed'), (675, 'date_crf_completed'), (676, 'date_crf_completed'), (677, 'date_crf_completed'), (678, 'date_crf_completed'), (679, 'date_crf_completed'), (680, 'date_crf_completed'), (681, 'date_crf_completed'), (682, 'date_crf_completed'), (683, 'date_crf_completed'), (684, 'date_crf_completed'), (685, 'date_crf_completed'), (686, 'date_crf_completed'), (687, 'date_crf_completed'), (688, 'date_crf_completed'), (689, 'date_crf_completed'), (690, 'date_crf_completed'), (691, 'date_crf_completed'), (692, 'date_crf_completed'), (693, 'date_crf_completed'), (694, 'date_crf_completed'), (695, 'date_crf_completed'), (696, 'date_crf_completed'), (697, 'date_crf_completed'), (698, 'date_crf_completed'), (699, 'date_crf_completed'), (700, 'date_crf_completed'), (701, 'date_crf_completed'), (702, 'date_crf_completed'), (703, 'date_crf_completed'), (704, 'date_crf_completed'), (705, 'date_crf_completed'), (706, 'date_crf_completed'), (707, 'date_crf_completed'), (708, 'date_crf_completed'), (709, 'date_crf_completed'), (710, 'date_crf_completed'), (711, 'date_crf_completed'), (712, 'date_crf_completed'), (713, 'date_crf_completed'), (714, 'date_crf_completed'), (715, 'date_crf_completed'), (716, 'date_crf_completed'), (717, 'date_crf_completed'), (718, 'date_crf_completed'), (719, 'date_crf_completed'), (720, 'date_crf_completed'), (721, 'date_crf_completed'), (722, 'date_crf_completed'), (723, 'date_crf_completed'), (724, 'date_crf_completed'), (725, 'date_crf_completed'), (726, 'date_crf_completed'), (727, 'date_crf_completed'), (728, 'date_crf_completed'), (729, 'date_crf_completed'), (730, 'date_crf_completed'), (731, 'date_crf_completed'), (732, 'date_crf_completed'), (733, 'date_crf_completed'), (734, 'date_crf_completed'), (735, 'date_crf_completed'), (736, 'date_crf_completed'), (737, 'date_crf_completed'), (738, 'date_crf_completed'), (739, 'date_crf_completed'), (740, 'date_crf_completed'), (741, 'date_crf_completed'), (742, 'date_crf_completed'), (743, 'date_crf_completed'), (744, 'date_crf_completed'), (745, 'date_crf_completed'), (746, 'date_crf_completed'), (747, 'date_crf_completed'), (748, 'date_crf_completed'), (749, 'date_crf_completed'), (750, 'date_crf_completed'), (751, 'date_crf_completed'), (752, 'date_crf_completed'), (753, 'date_crf_completed'), (754, 'date_crf_completed'), (755, 'date_crf_completed'), (756, 'date_crf_completed'), (757, 'date_crf_completed'), (758, 'date_crf_completed'), (759, 'date_crf_completed'), (760, 'date_crf_completed'), (761, 'date_crf_completed'), (762, 'date_crf_completed'), (763, 'date_crf_completed'), (764, 'date_crf_completed'), (766, 'date_crf_completed'), (767, 'date_crf_completed'), (768, 'date_crf_completed'), (769, 'date_crf_completed'), (770, 'date_crf_completed'), (771, 'date_crf_completed'), (772, 'date_crf_completed'), (773, 'date_crf_completed'), (774, 'date_crf_completed'), (775, 'date_crf_completed'), (776, 'date_crf_completed'), (777, 'date_crf_completed'), (778, 'date_crf_completed'), (779, 'date_crf_completed'), (780, 'date_crf_completed'), (781, 'date_crf_completed'), (782, 'date_crf_completed'), (783, 'date_crf_completed'), (784, 'date_crf_completed'), (785, 'date_crf_completed'), (786, 'date_crf_completed'), (787, 'date_crf_completed'), (788, 'date_crf_completed'), (789, 'date_crf_completed'), (790, 'date_crf_completed'), (791, 'date_crf_completed'), (792, 'date_crf_completed'), (793, 'date_crf_completed'), (794, 'date_crf_completed'), (795, 'date_crf_completed'), (796, 'date_crf_completed'), (797, 'date_crf_completed'), (798, 'date_crf_completed'), (799, 'date_crf_completed'), (800, 'date_crf_completed'), (801, 'date_crf_completed'), (802, 'date_crf_completed'), (803, 'date_crf_completed'), (804, 'date_crf_completed'), (805, 'date_crf_completed'), (806, 'date_crf_completed'), (807, 'date_crf_completed'), (808, 'date_crf_completed'), (809, 'date_crf_completed'), (810, 'date_crf_completed'), (811, 'date_crf_completed'), (812, 'date_crf_completed'), (813, 'date_crf_completed'), (814, 'date_crf_completed'), (815, 'date_crf_completed'), (816, 'date_crf_completed'), (817, 'date_crf_completed'), (818, 'date_crf_completed'), (819, 'date_crf_completed'), (820, 'date_crf_completed'), (821, 'date_crf_completed'), (822, 'date_crf_completed'), (823, 'date_crf_completed'), (824, 'date_crf_completed'), (825, 'date_crf_completed'), (826, 'date_crf_completed'), (827, 'date_crf_completed'), (828, 'date_crf_completed'), (829, 'date_crf_completed'), (830, 'date_crf_completed'), (831, 'date_crf_completed'), (832, 'date_crf_completed'), (833, 'date_crf_completed'), (834, 'date_crf_completed'), (835, 'date_crf_completed'), (836, 'date_crf_completed'), (837, 'date_crf_completed'), (838, 'date_crf_completed'), (839, 'date_crf_completed'), (840, 'date_crf_completed'), (841, 'date_crf_completed'), (842, 'date_crf_completed'), (843, 'date_crf_completed'), (844, 'date_crf_completed'), (845, 'date_crf_completed'), (846, 'date_crf_completed'), (847, 'date_crf_completed'), (848, 'date_crf_completed'), (849, 'date_crf_completed'), (850, 'date_crf_completed'), (851, 'date_crf_completed'), (852, 'date_crf_completed'), (853, 'date_crf_completed'), (854, 'date_crf_completed'), (855, 'date_crf_completed'), (856, 'date_crf_completed'), (857, 'date_crf_completed'), (858, 'date_crf_completed'), (859, 'date_crf_completed'), (860, 'date_crf_completed'), (861, 'date_crf_completed'), (862, 'date_crf_completed'), (863, 'date_crf_completed'), (864, 'date_crf_completed'), (865, 'date_crf_completed'), (866, 'date_crf_completed'), (867, 'date_crf_completed'), (868, 'date_crf_completed'), (869, 'date_crf_completed'), (870, 'date_crf_completed'), (871, 'date_crf_completed'), (872, 'date_crf_completed'), (873, 'date_crf_completed'), (874, 'date_crf_completed'), (875, 'date_crf_completed'), (876, 'date_crf_completed'), (877, 'date_crf_completed'), (878, 'date_crf_completed'), (879, 'date_crf_completed'), (880, 'date_crf_completed'), (881, 'date_crf_completed'), (882, 'date_crf_completed'), (883, 'date_crf_completed'), (884, 'date_crf_completed'), (885, 'date_crf_completed'), (886, 'date_crf_completed'), (887, 'date_crf_completed'), (888, 'date_crf_completed'), (889, 'date_crf_completed'), (890, 'date_crf_completed'), (891, 'date_crf_completed'), (892, 'date_crf_completed'), (893, 'date_crf_completed'), (894, 'date_crf_completed'), (895, 'date_crf_completed'), (896, 'date_crf_completed'), (897, 'date_crf_completed'), (898, 'date_crf_completed'), (899, 'date_crf_completed'), (900, 'date_crf_completed'), (901, 'date_crf_completed'), (902, 'date_crf_completed'), (903, 'date_crf_completed'), (904, 'date_crf_completed'), (905, 'date_crf_completed'), (906, 'date_crf_completed'), (907, 'date_crf_completed'), (908, 'date_crf_completed'), (909, 'date_crf_completed'), (910, 'date_crf_completed'), (911, 'date_crf_completed'), (912, 'date_crf_completed'), (913, 'date_crf_completed'), (914, 'date_crf_completed'), (915, 'date_crf_completed'), (916, 'date_crf_completed'), (917, 'date_crf_completed'), (918, 'date_crf_completed'), (919, 'date_crf_completed'), (920, 'date_crf_completed'), (921, 'date_crf_completed'), (922, 'date_crf_completed'), (923, 'date_crf_completed'), (924, 'date_crf_completed'), (925, 'date_crf_completed'), (926, 'date_crf_completed'), (927, 'date_crf_completed'), (928, 'date_crf_completed'), (929, 'date_crf_completed'), (930, 'date_crf_completed'), (931, 'date_crf_completed'), (932, 'date_crf_completed'), (933, 'date_crf_completed'), (934, 'date_crf_completed'), (935, 'date_crf_completed'), (936, 'date_crf_completed'), (937, 'date_crf_completed'), (938, 'date_crf_completed'), (939, 'date_crf_completed'), (940, 'date_crf_completed'), (941, 'date_crf_completed'), (942, 'date_crf_completed'), (943, 'date_crf_completed'), (944, 'date_crf_completed'), (945, 'date_crf_completed'), (946, 'date_crf_completed'), (947, 'date_crf_completed'), (948, 'date_crf_completed'), (949, 'date_crf_completed'), (950, 'date_crf_completed'), (951, 'date_crf_completed'), (952, 'date_crf_completed'), (953, 'date_crf_completed'), (954, 'date_crf_completed'), (955, 'date_crf_completed'), (956, 'date_crf_completed'), (958, 'date_crf_completed'), (959, 'date_crf_completed'), (960, 'date_crf_completed'), (961, 'date_crf_completed'), (962, 'date_crf_completed'), (963, 'date_crf_completed'), (964, 'date_crf_completed'), (965, 'date_crf_completed'), (966, 'date_crf_completed'), (967, 'date_crf_completed'), (968, 'date_crf_completed'), (969, 'date_crf_completed'), (970, 'date_crf_completed'), (971, 'date_crf_completed'), (972, 'date_crf_completed'), (973, 'date_crf_completed'), (974, 'date_crf_completed'), (975, 'date_crf_completed'), (976, 'date_crf_completed'), (977, 'date_crf_completed'), (978, 'date_crf_completed'), (979, 'date_crf_completed'), (980, 'date_crf_completed'), (981, 'date_crf_completed'), (982, 'date_crf_completed'), (983, 'date_crf_completed'), (984, 'date_crf_completed'), (985, 'date_crf_completed'), (986, 'date_crf_completed'), (987, 'date_crf_completed'), (988, 'date_crf_completed'), (989, 'date_crf_completed'), (990, 'date_crf_completed'), (991, 'date_crf_completed'), (992, 'date_crf_completed'), (993, 'date_crf_completed'), (994, 'date_crf_completed'), (995, 'date_crf_completed'), (996, 'date_crf_completed'), (997, 'date_crf_completed'), (998, 'date_crf_completed'), (999, 'date_crf_completed'), (1000, 'date_crf_completed'), (1001, 'date_crf_completed'), (1002, 'date_crf_completed'), (1003, 'date_crf_completed'), (1004, 'date_crf_completed'), (1005, 'date_crf_completed'), (1006, 'date_crf_completed'), (1007, 'date_crf_completed'), (1008, 'date_crf_completed'), (1013, 'date_crf_completed'), (1014, 'date_crf_completed'), (1015, 'date_crf_completed'), (1017, 'date_crf_completed'), (1018, 'date_crf_completed'), (1019, 'date_crf_completed'), (1020, 'date_crf_completed'), (1021, 'date_crf_completed'), (1022, 'date_crf_completed'), (1023, 'date_crf_completed'), (1024, 'date_crf_completed'), (1025, 'date_crf_completed'), (1026, 'date_crf_completed'), (1027, 'date_crf_completed'), (1028, 'date_crf_completed'), (1029, 'date_crf_completed'), (1030, 'date_crf_completed'), (1031, 'date_crf_completed'), (1032, 'date_crf_completed'), (1033, 'date_crf_completed'), (1034, 'date_crf_completed'), (1035, 'date_crf_completed'), (1036, 'date_crf_completed'), (1037, 'date_crf_completed'), (1039, 'date_crf_completed'), (1040, 'date_crf_completed'), (1041, 'date_crf_completed'), (1042, 'date_crf_completed'), (1043, 'date_crf_completed'), (1044, 'date_crf_completed'), (1045, 'date_crf_completed'), (1046, 'date_crf_completed'), (1047, 'date_crf_completed'), (1048, 'date_crf_completed'), (1049, 'date_crf_completed'), (1050, 'date_crf_completed'), (1051, 'date_crf_completed'), (1052, 'date_crf_completed'), (1053, 'date_crf_completed'), (1057, 'date_crf_completed'), (1058, 'date_crf_completed'), (1059, 'date_crf_completed'), (1060, 'date_crf_completed'), (1061, 'date_crf_completed'), (1062, 'date_crf_completed'), (1063, 'date_crf_completed'), (1064, 'date_crf_completed'), (1065, 'date_crf_completed'), (1066, 'date_crf_completed'), (1067, 'date_crf_completed'), (1068, 'date_crf_completed'), (1069, 'date_crf_completed'), (1070, 'date_crf_completed'), (1071, 'date_crf_completed'), (1072, 'date_crf_completed'), (1073, 'date_crf_completed'), (1074, 'date_crf_completed'), (1075, 'date_crf_completed'), (1076, 'date_crf_completed'), (1077, 'date_crf_completed'), (1078, 'date_crf_completed'), (1079, 'date_crf_completed'), (1080, 'date_crf_completed'), (1081, 'date_crf_completed'), (1082, 'date_crf_completed'), (1083, 'date_crf_completed'), (1084, 'date_crf_completed'), (1085, 'date_crf_completed'), (1086, 'date_crf_completed'), (1087, 'date_crf_completed'), (1088, 'date_crf_completed'), (1089, 'date_crf_completed'), (1090, 'date_crf_completed'), (1091, 'date_crf_completed'), (1092, 'date_crf_completed'), (1093, 'date_crf_completed'), (1094, 'date_crf_completed'), (1095, 'date_crf_completed'), (1096, 'date_crf_completed'), (1097, 'date_crf_completed'), (1098, 'date_crf_completed'), (1099, 'date_crf_completed'), (1100, 'date_crf_completed'), (1101, 'date_crf_completed'), (1102, 'date_crf_completed'), (1103, 'date_crf_completed'), (1104, 'date_crf_completed'), (1105, 'date_crf_completed'), (1106, 'date_crf_completed'), (1107, 'date_crf_completed'), (1108, 'date_crf_completed'), (1109, 'date_crf_completed'), (1110, 'date_crf_completed'), (1111, 'date_crf_completed'), (1112, 'date_crf_completed'), (1113, 'date_crf_completed'), (1114, 'date_crf_completed'), (1115, 'date_crf_completed'), (1116, 'date_crf_completed'), (1117, 'date_crf_completed'), (1118, 'date_crf_completed'), (1119, 'date_crf_completed'), (1120, 'date_crf_completed'), (1121, 'date_crf_completed'), (1122, 'date_crf_completed'), (1123, 'date_crf_completed'), (1124, 'date_crf_completed'), (1125, 'date_crf_completed'), (1126, 'date_crf_completed'), (1127, 'date_crf_completed'), (1128, 'date_crf_completed'), (1129, 'date_crf_completed'), (1130, 'date_crf_completed'), (1131, 'date_crf_completed'), (1132, 'date_crf_completed'), (1133, 'date_crf_completed'), (1134, 'date_crf_completed'), (1135, 'date_crf_completed'), (1136, 'date_crf_completed'), (1137, 'date_crf_completed'), (1138, 'date_crf_completed'), (1139, 'date_crf_completed'), (1140, 'date_crf_completed'), (1141, 'date_crf_completed'), (1142, 'date_crf_completed'), (1143, 'date_crf_completed'), (1144, 'date_crf_completed'), (1146, 'date_crf_completed'), (1147, 'date_crf_completed'), (1148, 'date_crf_completed'), (1149, 'date_crf_completed'), (1150, 'date_crf_completed'), (1151, 'date_crf_completed'), (1152, 'date_crf_completed'), (1153, 'date_crf_completed'), (1154, 'date_crf_completed'), (1155, 'date_crf_completed'), (1156, 'date_crf_completed'), (1157, 'date_crf_completed'), (1158, 'date_crf_completed'), (1159, 'date_crf_completed'), (1160, 'date_crf_completed'), (1161, 'date_crf_completed'), (1162, 'date_crf_completed'), (1163, 'date_crf_completed'), (1164, 'date_crf_completed'), (1165, 'date_crf_completed'), (1166, 'date_crf_completed'), (1167, 'date_crf_completed'), (1168, 'date_crf_completed'), (1169, 'date_crf_completed'), (1170, 'date_crf_completed'), (1171, 'date_crf_completed'), (1172, 'date_crf_completed'), (1173, 'date_crf_completed'), (1174, 'date_crf_completed'), (1175, 'date_crf_completed'), (1176, 'date_crf_completed'), (1177, 'date_crf_completed'), (1178, 'date_crf_completed'), (1179, 'date_crf_completed'), (1180, 'date_crf_completed'), (1181, 'date_crf_completed'), (1182, 'date_crf_completed'), (1183, 'date_crf_completed'), (1184, 'date_crf_completed'), (1185, 'date_crf_completed'), (1186, 'date_crf_completed'), (1187, 'date_crf_completed'), (1188, 'date_crf_completed'), (1189, 'date_crf_completed'), (1190, 'date_crf_completed'), (1191, 'date_crf_completed'), (1192, 'date_crf_completed'), (1193, 'date_crf_completed'), (1194, 'date_crf_completed'), (1195, 'date_crf_completed'), (1196, 'date_crf_completed'), (1197, 'date_crf_completed'), (1198, 'date_crf_completed'), (1199, 'date_crf_completed'), (1200, 'date_crf_completed'), (1201, 'date_crf_completed'), (1202, 'date_crf_completed'), (1203, 'date_crf_completed'), (1204, 'date_crf_completed'), (1205, 'date_crf_completed'), (1206, 'date_crf_completed'), (1207, 'date_crf_completed'), (1208, 'date_crf_completed'), (1209, 'date_crf_completed'), (1210, 'date_crf_completed'), (1211, 'date_crf_completed'), (1212, 'date_crf_completed'), (1213, 'date_crf_completed'), (1214, 'date_crf_completed'), (1215, 'date_crf_completed'), (1216, 'date_crf_completed'), (1217, 'date_crf_completed'), (1218, 'date_crf_completed'), (1219, 'date_crf_completed'), (1220, 'date_crf_completed'), (1221, 'date_crf_completed'), (1222, 'date_crf_completed'), (1223, 'date_crf_completed'), (1224, 'date_crf_completed'), (1225, 'date_crf_completed'), (1226, 'date_crf_completed'), (1227, 'date_crf_completed'), (1228, 'date_crf_completed'), (1229, 'date_crf_completed'), (1230, 'date_crf_completed'), (1231, 'date_crf_completed'), (1232, 'date_crf_completed'), (1233, 'date_crf_completed'), (1234, 'date_crf_completed'), (1235, 'date_crf_completed'), (1236, 'date_crf_completed'), (1237, 'date_crf_completed'), (1238, 'date_crf_completed'), (1239, 'date_crf_completed'), (1240, 'date_crf_completed'), (1241, 'date_crf_completed'), (1242, 'date_crf_completed'), (1243, 'date_crf_completed'), (1244, 'date_crf_completed'), (1245, 'date_crf_completed'), (1246, 'date_crf_completed'), (1247, 'date_crf_completed'), (1248, 'date_crf_completed'), (1249, 'date_crf_completed'), (1250, 'date_crf_completed'), (1251, 'date_crf_completed'), (1252, 'date_crf_completed'), (1253, 'date_crf_completed'), (1254, 'date_crf_completed'), (1255, 'date_crf_completed'), (1256, 'date_crf_completed'), (1257, 'date_crf_completed'), (1258, 'date_crf_completed'), (1259, 'date_crf_completed'), (1260, 'date_crf_completed'), (1261, 'date_crf_completed'), (1262, 'date_crf_completed'), (1263, 'date_crf_completed'), (1264, 'date_crf_completed'), (1265, 'date_crf_completed'), (1266, 'date_crf_completed'), (1267, 'date_crf_completed'), (1268, 'date_crf_completed'), (1269, 'date_crf_completed'), (1270, 'date_crf_completed'), (1271, 'date_crf_completed'), (1272, 'date_crf_completed'), (1273, 'date_crf_completed'), (1274, 'date_crf_completed'), (1275, 'date_crf_completed'), (1276, 'date_crf_completed'), (1277, 'date_crf_completed'), (1278, 'date_crf_completed'), (1279, 'date_crf_completed'), (1280, 'date_crf_completed'), (1281, 'date_crf_completed'), (1282, 'date_crf_completed'), (1283, 'date_crf_completed'), (1284, 'date_crf_completed'), (1285, 'date_crf_completed'), (1286, 'date_crf_completed'), (1287, 'date_crf_completed'), (1288, 'date_crf_completed'), (1289, 'date_crf_completed'), (1290, 'date_crf_completed'), (1291, 'date_crf_completed'), (1292, 'date_crf_completed'), (1293, 'date_crf_completed'), (1294, 'date_crf_completed'), (1295, 'date_crf_completed'), (1296, 'date_crf_completed'), (1297, 'date_crf_completed'), (1298, 'date_crf_completed'), (1299, 'date_crf_completed'), (1300, 'date_crf_completed'), (1301, 'date_crf_completed'), (1302, 'date_crf_completed'), (1303, 'date_crf_completed'), (1304, 'date_crf_completed'), (1305, 'date_crf_completed'), (1306, 'date_crf_completed'), (1307, 'date_crf_completed'), (1308, 'date_crf_completed'), (1309, 'date_crf_completed'), (1310, 'date_crf_completed'), (1311, 'date_crf_completed'), (1312, 'date_crf_completed'), (1313, 'date_crf_completed'), (1314, 'date_crf_completed'), (1315, 'date_crf_completed'), (1316, 'date_crf_completed'), (1317, 'date_crf_completed'), (1318, 'date_crf_completed'), (1319, 'date_crf_completed'), (1320, 'date_crf_completed'), (1321, 'date_crf_completed'), (1322, 'date_crf_completed'), (1323, 'date_crf_completed'), (1324, 'date_crf_completed'), (1325, 'date_crf_completed'), (1326, 'date_crf_completed'), (1327, 'date_crf_completed'), (1328, 'date_crf_completed'), (1329, 'date_crf_completed'), (1330, 'date_crf_completed'), (1331, 'date_crf_completed'), (1332, 'date_crf_completed'), (1333, 'date_crf_completed'), (1334, 'date_crf_completed'), (1335, 'date_crf_completed'), (1336, 'date_crf_completed'), (1337, 'date_crf_completed'), (1338, 'date_crf_completed'), (1339, 'date_crf_completed'), (1340, 'date_crf_completed'), (1341, 'date_crf_completed'), (1342, 'date_crf_completed'), (1343, 'date_crf_completed'), (1344, 'date_crf_completed'), (1345, 'date_crf_completed'), (1346, 'date_crf_completed'), (1347, 'date_crf_completed'), (1348, 'date_crf_completed'), (1349, 'date_crf_completed'), (1350, 'date_crf_completed'), (1351, 'date_crf_completed'), (1352, 'date_crf_completed'), (1353, 'date_crf_completed'), (1354, 'date_crf_completed'), (1355, 'date_crf_completed'), (1356, 'date_crf_completed'), (1357, 'date_crf_completed'), (1358, 'date_crf_completed'), (1359, 'date_crf_completed'), (1360, 'date_crf_completed'), (1361, 'date_crf_completed'), (1362, 'date_crf_completed'), (1363, 'date_crf_completed'), (1364, 'date_crf_completed'), (1365, 'date_crf_completed'), (1366, 'date_crf_completed'), (1367, 'date_crf_completed'), (1368, 'date_crf_completed'), (1369, 'date_crf_completed'), (1370, 'date_crf_completed'), (1371, 'date_crf_completed'), (1372, 'date_crf_completed'), (1373, 'date_crf_completed'), (1374, 'date_crf_completed'), (1375, 'date_crf_completed'), (1376, 'date_crf_completed'), (1377, 'date_crf_completed'), (1378, 'date_crf_completed'), (1379, 'date_crf_completed'), (1380, 'date_crf_completed'), (1381, 'date_crf_completed'), (1382, 'date_crf_completed'), (1383, 'date_crf_completed'), (1384, 'date_crf_completed'), (1385, 'date_crf_completed'), (1386, 'date_crf_completed'), (1387, 'date_crf_completed'), (1388, 'date_crf_completed'), (1389, 'date_crf_completed'), (1390, 'date_crf_completed'), (1391, 'date_crf_completed'), (1392, 'date_crf_completed'), (1393, 'date_crf_completed'), (1394, 'date_crf_completed'), (1395, 'date_crf_completed'), (1396, 'date_crf_completed'), (1397, 'date_crf_completed'), (1398, 'date_crf_completed'), (1399, 'date_crf_completed'), (1400, 'date_crf_completed'), (1401, 'date_crf_completed'), (1402, 'date_crf_completed'), (1403, 'date_crf_completed'), (1404, 'date_crf_completed'), (1405, 'date_crf_completed'), (1406, 'date_crf_completed'), (1407, 'date_crf_completed'), (1408, 'date_crf_completed'), (1409, 'date_crf_completed'), (1410, 'date_crf_completed'), (1411, 'date_crf_completed'), (1412, 'date_crf_completed'), (1413, 'date_crf_completed'), (1414, 'date_crf_completed'), (1415, 'date_crf_completed'), (1416, 'date_crf_completed'), (1417, 'date_crf_completed'), (1418, 'date_crf_completed'), (1419, 'date_crf_completed'), (1420, 'date_crf_completed'), (1421, 'date_crf_completed'), (1422, 'date_crf_completed'), (1423, 'date_crf_completed'), (1424, 'date_crf_completed'), (1425, 'date_crf_completed'), (1426, 'date_crf_completed'), (1427, 'date_crf_completed'), (1428, 'date_crf_completed'), (1429, 'date_crf_completed'), (1430, 'date_crf_completed'), (1431, 'date_crf_completed'), (1432, 'date_crf_completed'), (1433, 'date_crf_completed'), (1434, 'date_crf_completed'), (1435, 'date_crf_completed'), (1436, 'date_crf_completed'), (1437, 'date_crf_completed'), (1438, 'date_crf_completed'), (1439, 'date_crf_completed'), (1440, 'date_crf_completed'), (1441, 'date_crf_completed'), (1442, 'date_crf_completed'), (1443, 'date_crf_completed'), (1444, 'date_crf_completed'), (1445, 'date_crf_completed'), (1446, 'date_crf_completed'), (1447, 'date_crf_completed'), (1448, 'date_crf_completed'), (1449, 'date_crf_completed'), (1450, 'date_crf_completed'), (1451, 'date_crf_completed'), (1452, 'date_crf_completed'), (1453, 'date_crf_completed'), (1454, 'date_crf_completed'), (1455, 'date_crf_completed'), (1456, 'date_crf_completed'), (1457, 'date_crf_completed'), (1458, 'date_crf_completed'), (1459, 'date_crf_completed'), (1460, 'date_crf_completed'), (1461, 'date_crf_completed'), (1462, 'date_crf_completed'), (1463, 'date_crf_completed'), (1464, 'date_crf_completed'), (1465, 'date_crf_completed'), (1466, 'date_crf_completed'), (1467, 'date_crf_completed'), (1468, 'date_crf_completed'), (1469, 'date_crf_completed'), (1470, 'date_crf_completed'), (1471, 'date_crf_completed'), (1472, 'date_crf_completed'), (1473, 'date_crf_completed'), (1474, 'date_crf_completed'), (1475, 'date_crf_completed'), (1476, 'date_crf_completed'), (1477, 'date_crf_completed'), (1478, 'date_crf_completed'), (1479, 'date_crf_completed'), (1480, 'date_crf_completed'), (1481, 'date_crf_completed'), (1482, 'date_crf_completed'), (1483, 'date_crf_completed'), (1484, 'date_crf_completed'), (1485, 'date_crf_completed'), (1486, 'date_crf_completed'), (1487, 'date_crf_completed'), (1488, 'date_crf_completed'), (1489, 'date_crf_completed'), (1490, 'date_crf_completed'), (1491, 'date_crf_completed'), (1492, 'date_crf_completed'), (1493, 'date_crf_completed'), (1494, 'date_crf_completed'), (1495, 'date_crf_completed'), (1496, 'date_crf_completed'), (1497, 'date_crf_completed'), (1498, 'date_crf_completed'), (1499, 'date_crf_completed'), (1500, 'date_crf_completed'), (1501, 'date_crf_completed'), (1502, 'date_crf_completed'), (1503, 'date_crf_completed'), (1504, 'date_crf_completed'), (1505, 'date_crf_completed'), (1506, 'date_crf_completed'), (1507, 'date_crf_completed'), (1508, 'date_crf_completed'), (1509, 'date_crf_completed'), (1510, 'date_crf_completed'), (1511, 'date_crf_completed'), (1512, 'date_crf_completed'), (1513, 'date_crf_completed'), (1514, 'date_crf_completed'), (1515, 'date_crf_completed'), (1516, 'date_crf_completed'), (1517, 'date_crf_completed'), (1518, 'date_crf_completed'), (1519, 'date_crf_completed'), (1520, 'date_crf_completed'), (1521, 'date_crf_completed'), (1522, 'date_crf_completed'), (1523, 'date_crf_completed'), (1524, 'date_crf_completed'), (1525, 'date_crf_completed'), (1526, 'date_crf_completed'), (1527, 'date_crf_completed'), (1528, 'date_crf_completed'), (1529, 'date_crf_completed'), (1530, 'date_crf_completed'), (1531, 'date_crf_completed'), (1532, 'date_crf_completed'), (1533, 'date_crf_completed'), (1534, 'date_crf_completed'), (1535, 'date_crf_completed'), (1536, 'date_crf_completed'), (1537, 'date_crf_completed'), (1538, 'date_crf_completed'), (1539, 'date_crf_completed'), (1540, 'date_crf_completed'), (1541, 'date_crf_completed'), (1542, 'date_crf_completed'), (1543, 'date_crf_completed'), (1544, 'date_crf_completed'), (1545, 'date_crf_completed'), (1546, 'date_crf_completed'), (1547, 'date_crf_completed'), (1548, 'date_crf_completed'), (1549, 'date_crf_completed'), (1550, 'date_crf_completed'), (1551, 'date_crf_completed'), (1552, 'date_crf_completed'), (1553, 'date_crf_completed'), (1554, 'date_crf_completed'), (1555, 'date_crf_completed'), (1556, 'date_crf_completed'), (1557, 'date_crf_completed'), (1558, 'date_crf_completed'), (1559, 'date_crf_completed'), (1560, 'date_crf_completed'), (1561, 'date_crf_completed'), (1562, 'date_crf_completed'), (1563, 'date_crf_completed'), (1564, 'date_crf_completed'), (1565, 'date_crf_completed'), (1566, 'date_crf_completed'), (1567, 'date_crf_completed'), (1568, 'date_crf_completed'), (1569, 'date_crf_completed'), (1570, 'date_crf_completed'), (1571, 'date_crf_completed'), (1572, 'date_crf_completed'), (1573, 'date_crf_completed'), (1574, 'date_crf_completed'), (1575, 'date_crf_completed'), (1576, 'date_crf_completed'), (1577, 'date_crf_completed'), (1578, 'date_crf_completed'), (1579, 'date_crf_completed'), (1580, 'date_crf_completed'), (1581, 'date_crf_completed'), (1582, 'date_crf_completed'), (1583, 'date_crf_completed'), (1584, 'date_crf_completed'), (1585, 'date_crf_completed'), (1586, 'date_crf_completed'), (1587, 'date_crf_completed'), (1588, 'date_crf_completed'), (1589, 'date_crf_completed'), (1590, 'date_crf_completed'), (1591, 'date_crf_completed'), (1592, 'date_crf_completed'), (1593, 'date_crf_completed'), (1594, 'date_crf_completed'), (1595, 'date_crf_completed'), (1596, 'date_crf_completed'), (1597, 'date_crf_completed'), (1598, 'date_crf_completed'), (1599, 'date_crf_completed'), (1600, 'date_crf_completed'), (1601, 'date_crf_completed'), (1602, 'date_crf_completed'), (1603, 'date_crf_completed'), (1604, 'date_crf_completed'), (1605, 'date_crf_completed'), (1606, 'date_crf_completed'), (1607, 'date_crf_completed'), (1608, 'date_crf_completed'), (1609, 'date_crf_completed'), (1610, 'date_crf_completed'), (1611, 'date_crf_completed'), (1612, 'date_crf_completed'), (1613, 'date_crf_completed'), (1614, 'date_crf_completed'), (1615, 'date_crf_completed'), (1616, 'date_crf_completed'), (1617, 'date_crf_completed'), (1618, 'date_crf_completed'), (1619, 'date_crf_completed'), (1620, 'date_crf_completed'), (1621, 'date_crf_completed'), (1622, 'date_crf_completed'), (1623, 'date_crf_completed'), (1624, 'date_crf_completed'), (1625, 'date_crf_completed'), (1626, 'date_crf_completed'), (1627, 'date_crf_completed'), (1628, 'date_crf_completed'), (1629, 'date_crf_completed'), (1630, 'date_crf_completed'), (1631, 'date_crf_completed'), (1632, 'date_crf_completed'), (1633, 'date_crf_completed'), (1634, 'date_crf_completed'), (1635, 'date_crf_completed'), (1636, 'date_crf_completed'), (1637, 'date_crf_completed'), (1638, 'date_crf_completed'), (1639, 'date_crf_completed'), (1640, 'date_crf_completed'), (1641, 'date_crf_completed'), (1642, 'date_crf_completed'), (1643, 'date_crf_completed'), (1644, 'date_crf_completed'), (1645, 'date_crf_completed'), (1646, 'date_crf_completed'), (1647, 'date_crf_completed'), (1648, 'date_crf_completed'), (1649, 'date_crf_completed'), (1650, 'date_crf_completed'), (1651, 'date_crf_completed'), (1652, 'date_crf_completed'), (1653, 'date_crf_completed'), (1655, 'date_crf_completed'), (1656, 'date_crf_completed'), (1657, 'date_crf_completed'), (1658, 'date_crf_completed'), (1659, 'date_crf_completed'), (1660, 'date_crf_completed'), (1661, 'date_crf_completed'), (1662, 'date_crf_completed'), (1663, 'date_crf_completed'), (1664, 'date_crf_completed'), (1665, 'date_crf_completed'), (1666, 'date_crf_completed'), (1667, 'date_crf_completed'), (1668, 'date_crf_completed'), (1669, 'date_crf_completed'), (1670, 'date_crf_completed'), (1671, 'date_crf_completed'), (1672, 'date_crf_completed'), (1673, 'date_crf_completed'), (1674, 'date_crf_completed'), (1675, 'date_crf_completed'), (1676, 'date_crf_completed'), (1677, 'date_crf_completed'), (1678, 'date_crf_completed'), (1679, 'date_crf_completed'), (1680, 'date_crf_completed'), (1681, 'date_crf_completed'), (1682, 'date_crf_completed'), (1683, 'date_crf_completed'), (1684, 'date_crf_completed'), (1685, 'date_crf_completed'), (1686, 'date_crf_completed'), (1687, 'date_crf_completed'), (1688, 'date_crf_completed'), (1689, 'date_crf_completed'), (1690, 'date_crf_completed'), (1691, 'date_crf_completed'), (1692, 'date_crf_completed'), (1693, 'date_crf_completed'), (1694, 'date_crf_completed'), (1695, 'date_crf_completed'), (1696, 'date_crf_completed'), (1697, 'date_crf_completed'), (1698, 'date_crf_completed'), (1699, 'date_crf_completed'), (1700, 'date_crf_completed'), (1701, 'date_crf_completed'), (1702, 'date_crf_completed'), (1703, 'date_crf_completed'), (1704, 'date_crf_completed'), (1705, 'date_crf_completed'), (1706, 'date_crf_completed'), (1707, 'date_crf_completed'), (1708, 'date_crf_completed'), (1709, 'date_crf_completed'), (1710, 'date_crf_completed'), (1711, 'date_crf_completed'), (1712, 'date_crf_completed'), (1713, 'date_crf_completed'), (1714, 'date_crf_completed'), (1715, 'date_crf_completed'), (1716, 'date_crf_completed'), (1717, 'date_crf_completed'), (1718, 'date_crf_completed'), (1719, 'date_crf_completed'), (1720, 'date_crf_completed'), (1721, 'date_crf_completed'), (1722, 'date_crf_completed'), (1723, 'date_crf_completed'), (1724, 'date_crf_completed'), (1725, 'date_crf_completed'), (1726, 'date_crf_completed'), (1727, 'date_crf_completed'), (1728, 'date_crf_completed'), (1729, 'date_crf_completed'), (1730, 'date_crf_completed'), (1731, 'date_crf_completed'), (1732, 'date_crf_completed'), (1733, 'date_crf_completed'), (1734, 'date_crf_completed'), (1735, 'date_crf_completed'), (1736, 'date_crf_completed'), (1737, 'date_crf_completed'), (1738, 'date_crf_completed'), (1739, 'date_crf_completed'), (1740, 'date_crf_completed'), (1741, 'date_crf_completed'), (1742, 'date_crf_completed'), (1743, 'date_crf_completed'), (1744, 'date_crf_completed'), (1745, 'date_crf_completed'), (1746, 'date_crf_completed'), (1747, 'date_crf_completed'), (1748, 'date_crf_completed'), (1749, 'date_crf_completed'), (1750, 'date_crf_completed'), (1751, 'date_crf_completed'), (1752, 'date_crf_completed'), (1753, 'date_crf_completed'), (1754, 'date_crf_completed'), (1755, 'date_crf_completed'), (1756, 'date_crf_completed'), (1757, 'date_crf_completed'), (1758, 'date_crf_completed'), (1759, 'date_crf_completed'), (1760, 'date_crf_completed'), (1761, 'date_crf_completed'), (1763, 'date_crf_completed'), (1764, 'date_crf_completed'), (1765, 'date_crf_completed'), (1766, 'date_crf_completed'), (1767, 'date_crf_completed'), (1768, 'date_crf_completed'), (1769, 'date_crf_completed'), (1770, 'date_crf_completed'), (1771, 'date_crf_completed'), (1772, 'date_crf_completed'), (1773, 'date_crf_completed'), (1774, 'date_crf_completed'), (1775, 'date_crf_completed'), (1776, 'date_crf_completed'), (1777, 'date_crf_completed'), (1778, 'date_crf_completed'), (1779, 'date_crf_completed'), (1780, 'date_crf_completed'), (1781, 'date_crf_completed'), (1782, 'date_crf_completed'), (1783, 'date_crf_completed'), (1784, 'date_crf_completed'), (1785, 'date_crf_completed'), (1786, 'date_crf_completed'), (1787, 'date_crf_completed'), (1788, 'date_crf_completed'), (1789, 'date_crf_completed'), (1790, 'date_crf_completed'), (1791, 'date_crf_completed'), (1792, 'date_crf_completed'), (1793, 'date_crf_completed'), (1794, 'date_crf_completed'), (1795, 'date_crf_completed'), (1796, 'date_crf_completed'), (1797, 'date_crf_completed'), (1798, 'date_crf_completed'), (1799, 'date_crf_completed'), (1800, 'date_crf_completed'), (1801, 'date_crf_completed'), (1802, 'date_crf_completed'), (1803, 'date_crf_completed'), (1804, 'date_crf_completed'), (1805, 'date_crf_completed'), (1806, 'date_crf_completed'), (1807, 'date_crf_completed'), (1808, 'date_crf_completed'), (1809, 'date_crf_completed'), (1810, 'date_crf_completed'), (1811, 'date_crf_completed'), (1812, 'date_crf_completed'), (1813, 'date_crf_completed'), (1814, 'date_crf_completed'), (1815, 'date_crf_completed'), (1816, 'date_crf_completed'), (1817, 'date_crf_completed'), (1818, 'date_crf_completed'), (1819, 'date_crf_completed'), (1820, 'date_crf_completed'), (1821, 'date_crf_completed'), (1822, 'date_crf_completed'), (1823, 'date_crf_completed'), (1824, 'date_crf_completed'), (1825, 'date_crf_completed'), (1826, 'date_crf_completed'), (1827, 'date_crf_completed'), (1829, 'date_crf_completed'), (1831, 'date_crf_completed'), (1832, 'date_crf_completed'), (1833, 'date_crf_completed'), (1834, 'date_crf_completed'), (1835, 'date_crf_completed'), (1836, 'date_crf_completed'), (1837, 'date_crf_completed'), (1838, 'date_crf_completed'), (1839, 'date_crf_completed'), (1840, 'date_crf_completed'), (1841, 'date_crf_completed'), (1842, 'date_crf_completed'), (1843, 'date_crf_completed'), (1844, 'date_crf_completed'), (1846, 'date_crf_completed'), (1847, 'date_crf_completed'), (1848, 'date_crf_completed'), (1850, 'date_crf_completed'), (1851, 'date_crf_completed'), (1852, 'date_crf_completed'), (1853, 'date_crf_completed'), (1854, 'date_crf_completed'), (1855, 'date_crf_completed'), (1856, 'date_crf_completed'), (1857, 'date_crf_completed'), (1858, 'date_crf_completed'), (1859, 'date_crf_completed'), (1860, 'date_crf_completed'), (1861, 'date_crf_completed'), (1862, 'date_crf_completed'), (1863, 'date_crf_completed'), (1864, 'date_crf_completed'), (1865, 'date_crf_completed'), (1866, 'date_crf_completed'), (1867, 'date_crf_completed'), (1868, 'date_crf_completed'), (1869, 'date_crf_completed'), (1870, 'date_crf_completed'), (1872, 'date_crf_completed'), (1873, 'date_crf_completed'), (1874, 'date_crf_completed'), (1875, 'date_crf_completed'), (1876, 'date_crf_completed'), (1877, 'date_crf_completed'), (1878, 'date_crf_completed'), (1880, 'date_crf_completed'), (1881, 'date_crf_completed'), (1882, 'date_crf_completed'), (1883, 'date_crf_completed'), (1884, 'date_crf_completed'), (1885, 'date_crf_completed'), (1886, 'date_crf_completed'), (1887, 'date_crf_completed'), (1888, 'date_crf_completed'), (1889, 'date_crf_completed'), (1890, 'date_crf_completed'), (1891, 'date_crf_completed'), (1892, 'date_crf_completed'), (1893, 'date_crf_completed'), (1894, 'date_crf_completed'), (1895, 'date_crf_completed'), (1896, 'date_crf_completed'), (1897, 'date_crf_completed'), (1898, 'date_crf_completed'), (1899, 'date_crf_completed'), (1900, 'date_crf_completed'), (1901, 'date_crf_completed'), (1902, 'date_crf_completed'), (1903, 'date_crf_completed'), (1904, 'date_crf_completed'), (1905, 'date_crf_completed'), (1906, 'date_crf_completed'), (1907, 'date_crf_completed'), (1908, 'date_crf_completed'), (1909, 'date_crf_completed'), (1910, 'date_crf_completed'), (1911, 'date_crf_completed'), (1912, 'date_crf_completed'), (1913, 'date_crf_completed'), (1914, 'date_crf_completed'), (1915, 'date_crf_completed'), (1916, 'date_crf_completed'), (1917, 'date_crf_completed'), (1918, 'date_crf_completed'), (1919, 'date_crf_completed'), (1920, 'date_crf_completed'), (1921, 'date_crf_completed'), (1922, 'date_crf_completed'), (1923, 'date_crf_completed'), (1924, 'date_crf_completed'), (1925, 'date_crf_completed'), (1927, 'date_crf_completed'), (1928, 'date_crf_completed'), (1929, 'date_crf_completed'), (1930, 'date_crf_completed'), (1931, 'date_crf_completed'), (1932, 'date_crf_completed'), (1933, 'date_crf_completed'), (1934, 'date_crf_completed'), (1935, 'date_crf_completed'), (1936, 'date_crf_completed'), (1937, 'date_crf_completed'), (1938, 'date_crf_completed'), (1939, 'date_crf_completed'), (1940, 'date_crf_completed'), (1941, 'date_crf_completed'), (1942, 'date_crf_completed'), (1943, 'date_crf_completed'), (1944, 'date_crf_completed'), (1945, 'date_crf_completed'), (1946, 'date_crf_completed'), (1947, 'date_crf_completed'), (1948, 'date_crf_completed'), (1949, 'date_crf_completed'), (1950, 'date_crf_completed'), (1951, 'date_crf_completed'), (1952, 'date_crf_completed'), (1953, 'date_crf_completed'), (1954, 'date_crf_completed'), (1955, 'date_crf_completed'), (1956, 'date_crf_completed'), (1957, 'date_crf_completed'), (1958, 'date_crf_completed'), (1959, 'date_crf_completed'), (1960, 'date_crf_completed'), (1961, 'date_crf_completed'), (1962, 'date_crf_completed'), (1963, 'date_crf_completed'), (1964, 'date_crf_completed'), (1965, 'date_crf_completed'), (1966, 'date_crf_completed'), (1967, 'date_crf_completed'), (1968, 'date_crf_completed'), (1969, 'date_crf_completed'), (1970, 'date_crf_completed'), (1971, 'date_crf_completed'), (1973, 'date_crf_completed'), (1974, 'date_crf_completed'), (1975, 'date_crf_completed'), (1976, 'date_crf_completed'), (1977, 'date_crf_completed'), (1978, 'date_crf_completed'), (1979, 'date_crf_completed'), (1980, 'date_crf_completed'), (1981, 'date_crf_completed'), (1982, 'date_crf_completed'), (1983, 'date_crf_completed'), (1984, 'date_crf_completed'), (1985, 'date_crf_completed'), (1986, 'date_crf_completed'), (1987, 'date_crf_completed'), (1988, 'date_crf_completed'), (1989, 'date_crf_completed'), (1990, 'date_crf_completed'), (1991, 'date_crf_completed'), (1992, 'date_crf_completed'), (1993, 'date_crf_completed'), (1994, 'date_crf_completed'), (1995, 'date_crf_completed'), (1996, 'date_crf_completed'), (1997, 'date_crf_completed'), (1998, 'date_crf_completed'), (1999, 'date_crf_completed'), (2000, 'date_crf_completed'), (2001, 'date_crf_completed'), (2002, 'date_crf_completed'), (2003, 'date_crf_completed'), (2004, 'date_crf_completed'), (2005, 'date_crf_completed'), (2006, 'date_crf_completed'), (2007, 'date_crf_completed'), (2008, 'date_crf_completed'), (2009, 'date_crf_completed'), (2010, 'date_crf_completed'), (2011, 'date_crf_completed'), (2012, 'date_crf_completed'), (2013, 'date_crf_completed'), (2014, 'date_crf_completed'), (2015, 'date_crf_completed'), (2016, 'date_crf_completed'), (2017, 'date_crf_completed'), (2018, 'date_crf_completed'), (2019, 'date_crf_completed'), (2020, 'date_crf_completed'), (2021, 'date_crf_completed'), (2022, 'date_crf_completed'), (2023, 'date_crf_completed'), (2024, 'date_crf_completed'), (2025, 'date_crf_completed'), (2026, 'date_crf_completed'), (2027, 'date_crf_completed'), (2028, 'date_crf_completed'), (2029, 'date_crf_completed'), (2030, 'date_crf_completed'), (2031, 'date_crf_completed'), (2032, 'date_crf_completed'), (2033, 'date_crf_completed'), (2034, 'date_crf_completed'), (2035, 'date_crf_completed'), (2036, 'date_crf_completed'), (2037, 'date_crf_completed'), (2038, 'date_crf_completed'), (2039, 'date_crf_completed'), (2040, 'date_crf_completed'), (2041, 'date_crf_completed'), (2042, 'date_crf_completed'), (2043, 'date_crf_completed'), (2044, 'date_crf_completed'), (2045, 'date_crf_completed'), (2046, 'date_crf_completed'), (2047, 'date_crf_completed'), (2048, 'date_crf_completed'), (2049, 'date_crf_completed'), (2050, 'date_crf_completed'), (2051, 'date_crf_completed'), (2052, 'date_crf_completed'), (2053, 'date_crf_completed'), (2054, 'date_crf_completed'), (2055, 'date_crf_completed'), (2056, 'date_crf_completed'), (2057, 'date_crf_completed'), (2058, 'date_crf_completed'), (2059, 'date_crf_completed'), (2060, 'date_crf_completed'), (2061, 'date_crf_completed'), (2062, 'date_crf_completed'), (2063, 'date_crf_completed'), (2064, 'date_crf_completed'), (2065, 'date_crf_completed'), (2066, 'date_crf_completed'), (2067, 'date_crf_completed'), (2068, 'date_crf_completed'), (2069, 'date_crf_completed'), (2070, 'date_crf_completed'), (2071, 'date_crf_completed'), (2072, 'date_crf_completed'), (2073, 'date_crf_completed'), (2074, 'date_crf_completed'), (2075, 'date_crf_completed'), (2076, 'date_crf_completed'), (2077, 'date_crf_completed'), (2078, 'date_crf_completed'), (2079, 'date_crf_completed'), (2080, 'date_crf_completed'), (2081, 'date_crf_completed'), (2082, 'date_crf_completed'), (2083, 'date_crf_completed'), (2084, 'date_crf_completed'), (2085, 'date_crf_completed'), (2086, 'date_crf_completed'), (2087, 'date_crf_completed'), (2088, 'date_crf_completed'), (2089, 'date_crf_completed'), (2090, 'date_crf_completed'), (2091, 'date_crf_completed'), (2092, 'date_crf_completed'), (2093, 'date_crf_completed'), (2094, 'date_crf_completed'), (2095, 'date_crf_completed'), (2097, 'date_crf_completed'), (2098, 'date_crf_completed'), (2099, 'date_crf_completed'), (2100, 'date_crf_completed'), (2101, 'date_crf_completed'), (2102, 'date_crf_completed'), (2103, 'date_crf_completed'), (2104, 'date_crf_completed'), (2105, 'date_crf_completed'), (2106, 'date_crf_completed'), (2107, 'date_crf_completed'), (2108, 'date_crf_completed'), (2109, 'date_crf_completed'), (2110, 'date_crf_completed'), (2111, 'date_crf_completed'), (2112, 'date_crf_completed'), (2113, 'date_crf_completed'), (2114, 'date_crf_completed'), (2115, 'date_crf_completed'), (2116, 'date_crf_completed'), (2117, 'date_crf_completed'), (2118, 'date_crf_completed'), (2119, 'date_crf_completed'), (2120, 'date_crf_completed'), (2121, 'date_crf_completed'), (2122, 'date_crf_completed'), (2123, 'date_crf_completed'), (2124, 'date_crf_completed'), (2125, 'date_crf_completed'), (2126, 'date_crf_completed'), (2127, 'date_crf_completed'), (2128, 'date_crf_completed'), (2129, 'date_crf_completed'), (2130, 'date_crf_completed'), (2131, 'date_crf_completed'), (2132, 'date_crf_completed'), (2133, 'date_crf_completed'), (2134, 'date_crf_completed'), (2135, 'date_crf_completed'), (2136, 'date_crf_completed'), (2137, 'date_crf_completed'), (2138, 'date_crf_completed'), (2139, 'date_crf_completed'), (2140, 'date_crf_completed'), (2141, 'date_crf_completed'), (2142, 'date_crf_completed'), (2143, 'date_crf_completed'), (2144, 'date_crf_completed'), (2145, 'date_crf_completed'), (2146, 'date_crf_completed'), (2147, 'date_crf_completed'), (2148, 'date_crf_completed'), (2149, 'date_crf_completed'), (2150, 'date_crf_completed'), (2151, 'date_crf_completed'), (2152, 'date_crf_completed'), (2153, 'date_crf_completed'), (2154, 'date_crf_completed'), (2155, 'date_crf_completed'), (2156, 'date_crf_completed'), (2157, 'date_crf_completed'), (2158, 'date_crf_completed'), (2159, 'date_crf_completed'), (2160, 'date_crf_completed'), (2161, 'date_crf_completed'), (2162, 'date_crf_completed'), (2163, 'date_crf_completed'), (2164, 'date_crf_completed'), (2165, 'date_crf_completed'), (2166, 'date_crf_completed'), (2167, 'date_crf_completed'), (2168, 'date_crf_completed'), (2169, 'date_crf_completed'), (2170, 'date_crf_completed'), (2171, 'date_crf_completed'), (2172, 'date_crf_completed'), (2173, 'date_crf_completed'), (2174, 'date_crf_completed'), (2175, 'date_crf_completed'), (2176, 'date_crf_completed'), (2177, 'date_crf_completed'), (2178, 'date_crf_completed'), (2179, 'date_crf_completed'), (2180, 'date_crf_completed'), (2181, 'date_crf_completed'), (2182, 'date_crf_completed'), (2183, 'date_crf_completed'), (2184, 'date_crf_completed'), (2185, 'date_crf_completed'), (2186, 'date_crf_completed'), (2187, 'date_crf_completed'), (2188, 'date_crf_completed'), (2189, 'date_crf_completed'), (2190, 'date_crf_completed'), (2191, 'date_crf_completed'), (2192, 'date_crf_completed'), (2193, 'date_crf_completed'), (2194, 'date_crf_completed'), (2195, 'date_crf_completed'), (2196, 'date_crf_completed'), (2197, 'date_crf_completed'), (2198, 'date_crf_completed'), (2199, 'date_crf_completed'), (2200, 'date_crf_completed'), (2201, 'date_crf_completed'), (2202, 'date_crf_completed'), (2203, 'date_crf_completed'), (2204, 'date_crf_completed'), (2205, 'date_crf_completed'), (2206, 'date_crf_completed'), (2207, 'date_crf_completed'), (2208, 'date_crf_completed'), (2209, 'date_crf_completed'), (2210, 'date_crf_completed'), (2211, 'date_crf_completed'), (2212, 'date_crf_completed'), (2213, 'date_crf_completed'), (2214, 'date_crf_completed'), (2215, 'date_crf_completed'), (2216, 'date_crf_completed'), (2217, 'date_crf_completed'), (2218, 'date_crf_completed'), (2219, 'date_crf_completed'), (2220, 'date_crf_completed'), (2221, 'date_crf_completed'), (2222, 'date_crf_completed'), (2223, 'date_crf_completed'), (2224, 'date_crf_completed'), (2228, 'date_crf_completed'), (2229, 'date_crf_completed'), (2230, 'date_crf_completed'), (2231, 'date_crf_completed'), (2232, 'date_crf_completed'), (2233, 'date_crf_completed'), (2234, 'date_crf_completed'), (2235, 'date_crf_completed'), (2236, 'date_crf_completed'), (2237, 'date_crf_completed'), (2238, 'date_crf_completed'), (2239, 'date_crf_completed'), (2240, 'date_crf_completed'), (2241, 'date_crf_completed'), (2242, 'date_crf_completed'), (2243, 'date_crf_completed'), (2244, 'date_crf_completed'), (2245, 'date_crf_completed'), (2247, 'date_crf_completed'), (2248, 'date_crf_completed'), (2249, 'date_crf_completed'), (2250, 'date_crf_completed'), (2251, 'date_crf_completed'), (2252, 'date_crf_completed'), (2253, 'date_crf_completed'), (2254, 'date_crf_completed'), (2255, 'date_crf_completed'), (2256, 'date_crf_completed'), (2257, 'date_crf_completed'), (2258, 'date_crf_completed'), (2259, 'date_crf_completed'), (2260, 'date_crf_completed'), (2261, 'date_crf_completed'), (2262, 'date_crf_completed'), (2263, 'date_crf_completed'), (2264, 'date_crf_completed'), (2265, 'date_crf_completed'), (2266, 'date_crf_completed'), (2268, 'date_crf_completed'), (2269, 'date_crf_completed'), (2270, 'date_crf_completed'), (2272, 'date_crf_completed'), (2273, 'date_crf_completed'), (2274, 'date_crf_completed'), (2275, 'date_crf_completed'), (2276, 'date_crf_completed'), (2277, 'date_crf_completed'), (2278, 'date_crf_completed'), (2279, 'date_crf_completed'), (2280, 'date_crf_completed'), (2281, 'date_crf_completed'), (2282, 'date_crf_completed'), (2283, 'date_crf_completed'), (2284, 'date_crf_completed'), (2285, 'date_crf_completed'), (2286, 'date_crf_completed'), (2287, 'date_crf_completed'), (2288, 'date_crf_completed'), (2289, 'date_crf_completed'), (2290, 'date_crf_completed'), (2291, 'date_crf_completed'), (2292, 'date_crf_completed'), (2293, 'date_crf_completed'), (2294, 'date_crf_completed'), (2295, 'date_crf_completed'), (2296, 'date_crf_completed'), (2297, 'date_crf_completed'), (2299, 'date_crf_completed'), (2300, 'date_crf_completed'), (2301, 'date_crf_completed'), (2302, 'date_crf_completed'), (2303, 'date_crf_completed'), (2305, 'date_crf_completed'), (2306, 'date_crf_completed'), (2307, 'date_crf_completed'), (2308, 'date_crf_completed'), (2309, 'date_crf_completed'), (2311, 'date_crf_completed'), (2312, 'date_crf_completed'), (2313, 'date_crf_completed'), (2314, 'date_crf_completed'), (2315, 'date_crf_completed'), (2316, 'date_crf_completed'), (2317, 'date_crf_completed'), (2318, 'date_crf_completed'), (2319, 'date_crf_completed'), (2320, 'date_crf_completed'), (2321, 'date_crf_completed'), (2322, 'date_crf_completed'), (2323, 'date_crf_completed'), (2324, 'date_crf_completed'), (2325, 'date_crf_completed'), (2326, 'date_crf_completed'), (2327, 'date_crf_completed'), (2328, 'date_crf_completed'), (2329, 'date_crf_completed'), (2330, 'date_crf_completed'), (2331, 'date_crf_completed'), (2332, 'date_crf_completed'), (2333, 'date_crf_completed'), (2334, 'date_crf_completed'), (2335, 'date_crf_completed'), (2336, 'date_crf_completed'), (2337, 'date_crf_completed'), (2338, 'date_crf_completed'), (2339, 'date_crf_completed'), (2340, 'date_crf_completed'), (2341, 'date_crf_completed'), (2342, 'date_crf_completed'), (2343, 'date_crf_completed'), (2344, 'date_crf_completed'), (2345, 'date_crf_completed'), (2346, 'date_crf_completed'), (2347, 'date_crf_completed'), (2348, 'date_crf_completed'), (2349, 'date_crf_completed'), (2350, 'date_crf_completed'), (2352, 'date_crf_completed'), (2353, 'date_crf_completed'), (2354, 'date_crf_completed'), (2355, 'date_crf_completed'), (2356, 'date_crf_completed'), (2357, 'date_crf_completed'), (2358, 'date_crf_completed'), (2359, 'date_crf_completed'), (2360, 'date_crf_completed'), (2361, 'date_crf_completed'), (2362, 'date_crf_completed'), (2363, 'date_crf_completed'), (2364, 'date_crf_completed'), (2365, 'date_crf_completed'), (2366, 'date_crf_completed'), (2367, 'date_crf_completed'), (2368, 'date_crf_completed'), (2369, 'date_crf_completed'), (2370, 'date_crf_completed'), (2372, 'date_crf_completed'), (2373, 'date_crf_completed'), (2374, 'date_crf_completed'), (2375, 'date_crf_completed'), (2376, 'date_crf_completed'), (2377, 'date_crf_completed'), (2378, 'date_crf_completed'), (2379, 'date_crf_completed'), (2380, 'date_crf_completed'), (2381, 'date_crf_completed'), (2382, 'date_crf_completed'), (2383, 'date_crf_completed'), (2384, 'date_crf_completed'), (2385, 'date_crf_completed'), (2386, 'date_crf_completed'), (2387, 'date_crf_completed'), (2388, 'date_crf_completed'), (2389, 'date_crf_completed'), (2390, 'date_crf_completed'), (2392, 'date_crf_completed'), (2393, 'date_crf_completed'), (2394, 'date_crf_completed'), (2395, 'date_crf_completed'), (2396, 'date_crf_completed'), (2397, 'date_crf_completed'), (2398, 'date_crf_completed'), (2399, 'date_crf_completed'), (2400, 'date_crf_completed'), (2401, 'date_crf_completed'), (2402, 'date_crf_completed'), (2403, 'date_crf_completed'), (2404, 'date_crf_completed'), (2405, 'date_crf_completed'), (2406, 'date_crf_completed'), (2408, 'date_crf_completed'), (2409, 'date_crf_completed'), (2410, 'date_crf_completed'), (2411, 'date_crf_completed'), (2412, 'date_crf_completed'), (2413, 'date_crf_completed'), (2414, 'date_crf_completed'), (2415, 'date_crf_completed'), (2416, 'date_crf_completed'), (2417, 'date_crf_completed'), (2418, 'date_crf_completed'), (2419, 'date_crf_completed'), (2420, 'date_crf_completed'), (2421, 'date_crf_completed'), (2423, 'date_crf_completed'), (2424, 'date_crf_completed'), (2425, 'date_crf_completed'), (2426, 'date_crf_completed'), (2427, 'date_crf_completed'), (2428, 'date_crf_completed'), (2429, 'date_crf_completed'), (2430, 'date_crf_completed'), (2432, 'date_crf_completed'), (2433, 'date_crf_completed'), (2434, 'date_crf_completed'), (2435, 'date_crf_completed'), (2436, 'date_crf_completed'), (2437, 'date_crf_completed'), (2438, 'date_crf_completed'), (2439, 'date_crf_completed'), (2440, 'date_crf_completed'), (2441, 'date_crf_completed'), (2442, 'date_crf_completed'), (2443, 'date_crf_completed'), (2444, 'date_crf_completed'), (2445, 'date_crf_completed'), (2446, 'date_crf_completed'), (2447, 'date_crf_completed'), (2448, 'date_crf_completed'), (2449, 'date_crf_completed'), (2450, 'date_crf_completed'), (2451, 'date_crf_completed'), (2452, 'date_crf_completed'), (2453, 'date_crf_completed'), (2454, 'date_crf_completed'), (2455, 'date_crf_completed'), (2456, 'date_crf_completed'), (2457, 'date_crf_completed'), (2458, 'date_crf_completed'), (2459, 'date_crf_completed'), (2460, 'date_crf_completed'), (2461, 'date_crf_completed'), (2462, 'date_crf_completed'), (2463, 'date_crf_completed'), (2464, 'date_crf_completed'), (2465, 'date_crf_completed'), (2466, 'date_crf_completed'), (2467, 'date_crf_completed'), (2468, 'date_crf_completed'), (2469, 'date_crf_completed'), (2470, 'date_crf_completed'), (2471, 'date_crf_completed'), (2472, 'date_crf_completed'), (2473, 'date_crf_completed'), (2474, 'date_crf_completed'), (2475, 'date_crf_completed'), (2477, 'date_crf_completed'), (2478, 'date_crf_completed'), (2479, 'date_crf_completed'), (2480, 'date_crf_completed'), (2481, 'date_crf_completed'), (2482, 'date_crf_completed'), (2484, 'date_crf_completed'), (2485, 'date_crf_completed'), (2486, 'date_crf_completed'), (2487, 'date_crf_completed'), (2488, 'date_crf_completed'), (2489, 'date_crf_completed'), (2490, 'date_crf_completed'), (2492, 'date_crf_completed'), (2493, 'date_crf_completed'), (2494, 'date_crf_completed'), (2495, 'date_crf_completed'), (2496, 'date_crf_completed'), (2497, 'date_crf_completed'), (2498, 'date_crf_completed'), (2501, 'date_crf_completed'), (2502, 'date_crf_completed'), (2503, 'date_crf_completed'), (2504, 'date_crf_completed'), (2505, 'date_crf_completed'), (2506, 'date_crf_completed'), (2507, 'date_crf_completed'), (2508, 'date_crf_completed'), (2509, 'date_crf_completed'), (2510, 'date_crf_completed'), (2512, 'date_crf_completed'), (2513, 'date_crf_completed'), (2514, 'date_crf_completed'), (2515, 'date_crf_completed'), (2516, 'date_crf_completed'), (2517, 'date_crf_completed'), (2518, 'date_crf_completed'), (2519, 'date_crf_completed'), (2520, 'date_crf_completed'), (2521, 'date_crf_completed'), (2523, 'date_crf_completed'), (2524, 'date_crf_completed'), (2525, 'date_crf_completed'), (2526, 'date_crf_completed'), (2527, 'date_crf_completed'), (2528, 'date_crf_completed'), (2529, 'date_crf_completed'), (2530, 'date_crf_completed'), (2531, 'date_crf_completed'), (2532, 'date_crf_completed'), (2533, 'date_crf_completed'), (2534, 'date_crf_completed'), (2535, 'date_crf_completed'), (2536, 'date_crf_completed'), (2537, 'date_crf_completed'), (2538, 'date_crf_completed'), (2539, 'date_crf_completed'), (2540, 'date_crf_completed'), (2541, 'date_crf_completed'), (2542, 'date_crf_completed'), (2543, 'date_crf_completed'), (2544, 'date_crf_completed'), (2545, 'date_crf_completed'), (2546, 'date_crf_completed'), (2547, 'date_crf_completed'), (2548, 'date_crf_completed'), (2549, 'date_crf_completed'), (2550, 'date_crf_completed'), (2551, 'date_crf_completed'), (2552, 'date_crf_completed'), (2553, 'date_crf_completed'), (2554, 'date_crf_completed'), (2555, 'date_crf_completed'), (2556, 'date_crf_completed'), (2557, 'date_crf_completed'), (2558, 'date_crf_completed'), (2559, 'date_crf_completed'), (2560, 'date_crf_completed'), (2561, 'date_crf_completed'), (2563, 'date_crf_completed'), (2564, 'date_crf_completed'), (2565, 'date_crf_completed'), (2566, 'date_crf_completed'), (2567, 'date_crf_completed'), (2568, 'date_crf_completed'), (2569, 'date_crf_completed'), (2570, 'date_crf_completed'), (2571, 'date_crf_completed'), (2572, 'date_crf_completed'), (2573, 'date_crf_completed'), (2574, 'date_crf_completed'), (2575, 'date_crf_completed'), (2578, 'date_crf_completed'), (2579, 'date_crf_completed'), (2580, 'date_crf_completed'), (2581, 'date_crf_completed'), (2582, 'date_crf_completed'), (2583, 'date_crf_completed'), (2584, 'date_crf_completed'), (2585, 'date_crf_completed'), (2586, 'date_crf_completed'), (2587, 'date_crf_completed'), (2588, 'date_crf_completed'), (2589, 'date_crf_completed'), (2590, 'date_crf_completed'), (2594, 'date_crf_completed'), (2595, 'date_crf_completed'), (2596, 'date_crf_completed'), (2597, 'date_crf_completed'), (2600, 'date_crf_completed'), (2601, 'date_crf_completed'), (2602, 'date_crf_completed'), (2604, 'date_crf_completed'), (2605, 'date_crf_completed'), (2606, 'date_crf_completed'), (2607, 'date_crf_completed'), (2608, 'date_crf_completed'), (2610, 'date_crf_completed'), (2611, 'date_crf_completed'), (2612, 'date_crf_completed'), (2613, 'date_crf_completed'), (2616, 'date_crf_completed'), (2244, 'sample_date'), (2481, 'sample_date'), (2487, 'sample_date'), (582, 'registryconsent'), (714, 'registryconsent'), (1057, 'registryconsent'), (1062, 'registryconsent'), (1063, 'registryconsent'), (1064, 'registryconsent'), (1298, 'registryconsent'), (1647, 'registryconsent'), (2212, 'registryconsent'), (2244, 'registryconsent'), (2284, 'registryconsent'), (2355, 'registryconsent'), (2481, 'registryconsent'), (2599, 'registryconsent'), (2700, 'registryconsent'), (2725, 'registryconsent'), (2126, 'biorepconsent'), (2127, 'biorepconsent'), (2128, 'biorepconsent'), (2129, 'biorepconsent'), (2130, 'biorepconsent'), (2131, 'biorepconsent'), (2134, 'biorepconsent'), (2135, 'biorepconsent'), (2136, 'biorepconsent'), (2138, 'biorepconsent'), (2139, 'biorepconsent'), (2140, 'biorepconsent'), (2141, 'biorepconsent'), (2212, 'biorepconsent'), (2244, 'biorepconsent'), (2284, 'biorepconsent'), (2355, 'biorepconsent'), (2481, 'biorepconsent'), (2244, 'ibdyesno'), (2284, 'ibdyesno'), (2355, 'ibdyesno'), (2, 'ibdtype'), (3, 'ibdtype'), (22, 'ibdtype'), (95, 'ibdtype'), (96, 'ibdtype'), (104, 'ibdtype'), (105, 'ibdtype'), (106, 'ibdtype'), (109, 'ibdtype'), (111, 'ibdtype'), (113, 'ibdtype'), (136, 'ibdtype'), (137, 'ibdtype'), (148, 'ibdtype'), (149, 'ibdtype'), (166, 'ibdtype'), (168, 'ibdtype'), (204, 'ibdtype'), (205, 'ibdtype'), (208, 'ibdtype'), (209, 'ibdtype'), (236, 'ibdtype'), (243, 'ibdtype'), (254, 'ibdtype'), (255, 'ibdtype'), (256, 'ibdtype'), (257, 'ibdtype'), (258, 'ibdtype'), (259, 'ibdtype'), (260, 'ibdtype'), (261, 'ibdtype'), (262, 'ibdtype'), (263, 'ibdtype'), (264, 'ibdtype'), (265, 'ibdtype'), (266, 'ibdtype'), (267, 'ibdtype'), (268, 'ibdtype'), (269, 'ibdtype'), (270, 'ibdtype'), (271, 'ibdtype'), (272, 'ibdtype'), (273, 'ibdtype'), (274, 'ibdtype'), (275, 'ibdtype'), (276, 'ibdtype'), (277, 'ibdtype'), (278, 'ibdtype'), (279, 'ibdtype'), (280, 'ibdtype'), (281, 'ibdtype'), (282, 'ibdtype'), (283, 'ibdtype'), (284, 'ibdtype'), (285, 'ibdtype'), (286, 'ibdtype'), (287, 'ibdtype'), (288, 'ibdtype'), (289, 'ibdtype'), (290, 'ibdtype'), (291, 'ibdtype'), (292, 'ibdtype'), (293, 'ibdtype'), (294, 'ibdtype'), (295, 'ibdtype'), (296, 'ibdtype'), (297, 'ibdtype'), (298, 'ibdtype'), (299, 'ibdtype'), (300, 'ibdtype'), (301, 'ibdtype'), (302, 'ibdtype'), (303, 'ibdtype'), (304, 'ibdtype'), (305, 'ibdtype'), (306, 'ibdtype'), (307, 'ibdtype'), (308, 'ibdtype'), (309, 'ibdtype'), (310, 'ibdtype'), (311, 'ibdtype'), (312, 'ibdtype'), (313, 'ibdtype'), (314, 'ibdtype'), (315, 'ibdtype'), (316, 'ibdtype'), (317, 'ibdtype'), (318, 'ibdtype'), (319, 'ibdtype'), (320, 'ibdtype'), (321, 'ibdtype'), (322, 'ibdtype'), (323, 'ibdtype'), (324, 'ibdtype'), (325, 'ibdtype'), (326, 'ibdtype'), (327, 'ibdtype'), (328, 'ibdtype'), (329, 'ibdtype'), (330, 'ibdtype'), (331, 'ibdtype'), (332, 'ibdtype'), (333, 'ibdtype'), (334, 'ibdtype'), (335, 'ibdtype'), (336, 'ibdtype'), (337, 'ibdtype'), (338, 'ibdtype'), (339, 'ibdtype'), (340, 'ibdtype'), (341, 'ibdtype'), (342, 'ibdtype'), (343, 'ibdtype'), (344, 'ibdtype'), (345, 'ibdtype'), (346, 'ibdtype'), (347, 'ibdtype'), (348, 'ibdtype'), (353, 'ibdtype'), (354, 'ibdtype'), (355, 'ibdtype'), (366, 'ibdtype'), (367, 'ibdtype'), (368, 'ibdtype'), (369, 'ibdtype'), (370, 'ibdtype'), (387, 'ibdtype'), (393, 'ibdtype'), (394, 'ibdtype'), (431, 'ibdtype'), (432, 'ibdtype'), (433, 'ibdtype'), (435, 'ibdtype'), (436, 'ibdtype'), (439, 'ibdtype'), (440, 'ibdtype'), (445, 'ibdtype'), (446, 'ibdtype'), (463, 'ibdtype'), (464, 'ibdtype'), (469, 'ibdtype'), (471, 'ibdtype'), (472, 'ibdtype'), (477, 'ibdtype'), (478, 'ibdtype'), (479, 'ibdtype'), (481, 'ibdtype'), (487, 'ibdtype'), (493, 'ibdtype'), (494, 'ibdtype'), (495, 'ibdtype'), (496, 'ibdtype'), (502, 'ibdtype'), (509, 'ibdtype'), (510, 'ibdtype'), (511, 'ibdtype'), (516, 'ibdtype'), (517, 'ibdtype'), (522, 'ibdtype'), (523, 'ibdtype'), (524, 'ibdtype'), (525, 'ibdtype'), (526, 'ibdtype'), (540, 'ibdtype'), (541, 'ibdtype'), (544, 'ibdtype'), (545, 'ibdtype'), (559, 'ibdtype'), (560, 'ibdtype'), (582, 'ibdtype'), (587, 'ibdtype'), (590, 'ibdtype'), (598, 'ibdtype'), (605, 'ibdtype'), (606, 'ibdtype'), (616, 'ibdtype'), (617, 'ibdtype'), (620, 'ibdtype'), (643, 'ibdtype'), (644, 'ibdtype'), (645, 'ibdtype'), (646, 'ibdtype'), (647, 'ibdtype'), (681, 'ibdtype'), (682, 'ibdtype'), (683, 'ibdtype'), (684, 'ibdtype'), (687, 'ibdtype'), (688, 'ibdtype'), (693, 'ibdtype'), (699, 'ibdtype'), (700, 'ibdtype'), (728, 'ibdtype'), (729, 'ibdtype'), (730, 'ibdtype'), (731, 'ibdtype'), (735, 'ibdtype'), (738, 'ibdtype'), (739, 'ibdtype'), (740, 'ibdtype'), (741, 'ibdtype'), (743, 'ibdtype'), (800, 'ibdtype'), (807, 'ibdtype'), (808, 'ibdtype'), (809, 'ibdtype'), (811, 'ibdtype'), (812, 'ibdtype'), (813, 'ibdtype'), (815, 'ibdtype'), (816, 'ibdtype'), (819, 'ibdtype'), (821, 'ibdtype'), (822, 'ibdtype'), (848, 'ibdtype'), (849, 'ibdtype'), (852, 'ibdtype'), (853, 'ibdtype'), (854, 'ibdtype'), (855, 'ibdtype'), (857, 'ibdtype'), (860, 'ibdtype'), (861, 'ibdtype'), (882, 'ibdtype'), (888, 'ibdtype'), (940, 'ibdtype'), (941, 'ibdtype'), (943, 'ibdtype'), (946, 'ibdtype'), (947, 'ibdtype'), (954, 'ibdtype'), (956, 'ibdtype'), (963, 'ibdtype'), (964, 'ibdtype'), (969, 'ibdtype'), (977, 'ibdtype'), (996, 'ibdtype'), (999, 'ibdtype'), (1001, 'ibdtype'), (1002, 'ibdtype'), (1003, 'ibdtype'), (1005, 'ibdtype'), (1006, 'ibdtype'), (1007, 'ibdtype'), (1008, 'ibdtype'), (1013, 'ibdtype'), (1014, 'ibdtype'), (1017, 'ibdtype'), (1023, 'ibdtype'), (1024, 'ibdtype'), (1031, 'ibdtype'), (1033, 'ibdtype'), (1041, 'ibdtype'), (1042, 'ibdtype'), (1043, 'ibdtype'), (1044, 'ibdtype'), (1048, 'ibdtype'), (1050, 'ibdtype'), (1051, 'ibdtype'), (1052, 'ibdtype'), (1053, 'ibdtype'), (1055, 'ibdtype'), (1056, 'ibdtype'), (1057, 'ibdtype'), (1059, 'ibdtype'), (1061, 'ibdtype'), (1062, 'ibdtype'), (1063, 'ibdtype'), (1064, 'ibdtype'), (1067, 'ibdtype'), (1068, 'ibdtype'), (1071, 'ibdtype'), (1072, 'ibdtype'), (1075, 'ibdtype'), (1076, 'ibdtype'), (1079, 'ibdtype'), (1080, 'ibdtype'), (1085, 'ibdtype'), (1086, 'ibdtype'), (1087, 'ibdtype'), (1088, 'ibdtype'), (1089, 'ibdtype'), (1090, 'ibdtype'), (1091, 'ibdtype'), (1092, 'ibdtype'), (1097, 'ibdtype'), (1098, 'ibdtype'), (1099, 'ibdtype'), (1100, 'ibdtype'), (1119, 'ibdtype'), (1121, 'ibdtype'), (1122, 'ibdtype'), (1124, 'ibdtype'), (1125, 'ibdtype'), (1126, 'ibdtype'), (1128, 'ibdtype'), (1129, 'ibdtype'), (1130, 'ibdtype'), (1132, 'ibdtype'), (1133, 'ibdtype'), (1134, 'ibdtype'), (1135, 'ibdtype'), (1136, 'ibdtype'), (1137, 'ibdtype'), (1138, 'ibdtype'), (1139, 'ibdtype'), (1140, 'ibdtype'), (1142, 'ibdtype'), (1143, 'ibdtype'), (1144, 'ibdtype'), (1146, 'ibdtype'), (1147, 'ibdtype'), (1150, 'ibdtype'), (1152, 'ibdtype'), (1153, 'ibdtype'), (1154, 'ibdtype'), (1155, 'ibdtype'), (1156, 'ibdtype'), (1157, 'ibdtype'), (1158, 'ibdtype'), (1159, 'ibdtype'), (1162, 'ibdtype'), (1163, 'ibdtype'), (1167, 'ibdtype'), (1168, 'ibdtype'), (1169, 'ibdtype'), (1171, 'ibdtype'), (1172, 'ibdtype'), (1176, 'ibdtype'), (1177, 'ibdtype'), (1178, 'ibdtype'), (1179, 'ibdtype'), (1182, 'ibdtype'), (1183, 'ibdtype'), (1186, 'ibdtype'), (1187, 'ibdtype'), (1190, 'ibdtype'), (1191, 'ibdtype'), (1194, 'ibdtype'), (1195, 'ibdtype'), (1196, 'ibdtype'), (1200, 'ibdtype'), (1201, 'ibdtype'), (1204, 'ibdtype'), (1205, 'ibdtype'), (1206, 'ibdtype'), (1211, 'ibdtype'), (1213, 'ibdtype'), (1214, 'ibdtype'), (1215, 'ibdtype'), (1217, 'ibdtype'), (1218, 'ibdtype'), (1226, 'ibdtype'), (1227, 'ibdtype'), (1230, 'ibdtype'), (1235, 'ibdtype'), (1240, 'ibdtype'), (1246, 'ibdtype'), (1249, 'ibdtype'), (1250, 'ibdtype'), (1251, 'ibdtype'), (1252, 'ibdtype'), (1253, 'ibdtype'), (1257, 'ibdtype'), (1264, 'ibdtype'), (1301, 'ibdtype'), (1302, 'ibdtype'), (1303, 'ibdtype'), (1312, 'ibdtype'), (1316, 'ibdtype'), (1317, 'ibdtype'), (1318, 'ibdtype'), (1319, 'ibdtype'), (1323, 'ibdtype'), (1324, 'ibdtype'), (1326, 'ibdtype'), (1327, 'ibdtype'), (1328, 'ibdtype'), (1329, 'ibdtype'), (1331, 'ibdtype'), (1334, 'ibdtype'), (1335, 'ibdtype'), (1336, 'ibdtype'), (1339, 'ibdtype'), (1350, 'ibdtype'), (1351, 'ibdtype'), (1352, 'ibdtype'), (1358, 'ibdtype'), (1359, 'ibdtype'), (1360, 'ibdtype'), (1361, 'ibdtype'), (1374, 'ibdtype'), (1377, 'ibdtype'), (1378, 'ibdtype'), (1379, 'ibdtype'), (1380, 'ibdtype'), (1381, 'ibdtype'), (1385, 'ibdtype'), (1386, 'ibdtype'), (1397, 'ibdtype'), (1398, 'ibdtype'), (1399, 'ibdtype'), (1405, 'ibdtype'), (1408, 'ibdtype'), (1409, 'ibdtype'), (1416, 'ibdtype'), (1417, 'ibdtype'), (1425, 'ibdtype'), (1426, 'ibdtype'), (1429, 'ibdtype'), (1430, 'ibdtype'), (1431, 'ibdtype'), (1432, 'ibdtype'), (1453, 'ibdtype'), (1454, 'ibdtype'), (1455, 'ibdtype'), (1457, 'ibdtype'), (1458, 'ibdtype'), (1459, 'ibdtype'), (1460, 'ibdtype'), (1466, 'ibdtype'), (1473, 'ibdtype'), (1478, 'ibdtype'), (1479, 'ibdtype'), (1480, 'ibdtype'), (1481, 'ibdtype'), (1482, 'ibdtype'), (1484, 'ibdtype'), (1487, 'ibdtype'), (1490, 'ibdtype'), (1491, 'ibdtype'), (1492, 'ibdtype'), (1494, 'ibdtype'), (1495, 'ibdtype'), (1497, 'ibdtype'), (1498, 'ibdtype'), (1507, 'ibdtype'), (1508, 'ibdtype'), (1509, 'ibdtype'), (1510, 'ibdtype'), (1514, 'ibdtype'), (1515, 'ibdtype'), (1516, 'ibdtype'), (1517, 'ibdtype'), (1518, 'ibdtype'), (1522, 'ibdtype'), (1523, 'ibdtype'), (1524, 'ibdtype'), (1526, 'ibdtype'), (1527, 'ibdtype'), (1528, 'ibdtype'), (1529, 'ibdtype'), (1530, 'ibdtype'), (1531, 'ibdtype'), (1532, 'ibdtype'), (1533, 'ibdtype'), (1534, 'ibdtype'), (1535, 'ibdtype'), (1537, 'ibdtype'), (1538, 'ibdtype'), (1539, 'ibdtype'), (1543, 'ibdtype'), (1544, 'ibdtype'), (1545, 'ibdtype'), (1548, 'ibdtype'), (1549, 'ibdtype'), (1550, 'ibdtype'), (1551, 'ibdtype'), (1554, 'ibdtype'), (1557, 'ibdtype'), (1558, 'ibdtype'), (1559, 'ibdtype'), (1565, 'ibdtype'), (1570, 'ibdtype'), (1626, 'ibdtype'), (1627, 'ibdtype'), (1628, 'ibdtype'), (1629, 'ibdtype'), (1630, 'ibdtype'), (1631, 'ibdtype'), (1632, 'ibdtype'), (1633, 'ibdtype'), (1635, 'ibdtype'), (1636, 'ibdtype'), (1637, 'ibdtype'), (1638, 'ibdtype'), (1640, 'ibdtype'), (1641, 'ibdtype'), (1642, 'ibdtype'), (1644, 'ibdtype'), (1645, 'ibdtype'), (1648, 'ibdtype'), (1649, 'ibdtype'), (1651, 'ibdtype'), (1652, 'ibdtype'), (1653, 'ibdtype'), (1655, 'ibdtype'), (1657, 'ibdtype'), (1658, 'ibdtype'), (1659, 'ibdtype'), (1660, 'ibdtype'), (1661, 'ibdtype'), (1663, 'ibdtype'), (1664, 'ibdtype'), (1665, 'ibdtype'), (1667, 'ibdtype'), (1668, 'ibdtype'), (1673, 'ibdtype'), (1675, 'ibdtype'), (1679, 'ibdtype'), (1684, 'ibdtype'), (1686, 'ibdtype'), (1687, 'ibdtype'), (1688, 'ibdtype'), (1689, 'ibdtype'), (1692, 'ibdtype'), (1693, 'ibdtype'), (1695, 'ibdtype'), (1697, 'ibdtype'), (1702, 'ibdtype'), (1703, 'ibdtype'), (1705, 'ibdtype'), (1706, 'ibdtype'), (1707, 'ibdtype'), (1708, 'ibdtype'), (1709, 'ibdtype'), (1710, 'ibdtype'), (1716, 'ibdtype'), (1717, 'ibdtype'), (1719, 'ibdtype'), (1720, 'ibdtype'), (1721, 'ibdtype'), (1724, 'ibdtype'), (1727, 'ibdtype'), (1729, 'ibdtype'), (1733, 'ibdtype'), (1734, 'ibdtype'), (1736, 'ibdtype'), (1737, 'ibdtype'), (1739, 'ibdtype'), (1740, 'ibdtype'), (1741, 'ibdtype'), (1745, 'ibdtype'), (1750, 'ibdtype'), (1752, 'ibdtype'), (1753, 'ibdtype'), (1754, 'ibdtype'), (1755, 'ibdtype'), (1757, 'ibdtype'), (1758, 'ibdtype'), (1761, 'ibdtype'), (1762, 'ibdtype'), (1763, 'ibdtype'), (1764, 'ibdtype'), (1765, 'ibdtype'), (1768, 'ibdtype'), (1769, 'ibdtype'), (1770, 'ibdtype'), (1773, 'ibdtype'), (1774, 'ibdtype'), (1777, 'ibdtype'), (1780, 'ibdtype'), (1781, 'ibdtype'), (1784, 'ibdtype'), (1786, 'ibdtype'), (1787, 'ibdtype'), (1789, 'ibdtype'), (1791, 'ibdtype'), (1792, 'ibdtype'), (1794, 'ibdtype'), (1795, 'ibdtype'), (1796, 'ibdtype'), (1797, 'ibdtype'), (1798, 'ibdtype'), (1801, 'ibdtype'), (1802, 'ibdtype'), (1805, 'ibdtype'), (1806, 'ibdtype'), (1808, 'ibdtype'), (1809, 'ibdtype'), (1812, 'ibdtype'), (1813, 'ibdtype'), (1814, 'ibdtype'), (1815, 'ibdtype'), (1817, 'ibdtype'), (1820, 'ibdtype'), (1821, 'ibdtype'), (1823, 'ibdtype'), (1824, 'ibdtype'), (1826, 'ibdtype'), (1827, 'ibdtype'), (1831, 'ibdtype'), (1832, 'ibdtype'), (1833, 'ibdtype'), (1837, 'ibdtype'), (1838, 'ibdtype'), (1839, 'ibdtype'), (1840, 'ibdtype'), (1844, 'ibdtype'), (1847, 'ibdtype'), (1848, 'ibdtype'), (1851, 'ibdtype'), (1852, 'ibdtype'), (1854, 'ibdtype'), (1855, 'ibdtype'), (1856, 'ibdtype'), (1857, 'ibdtype'), (1860, 'ibdtype'), (1861, 'ibdtype'), (1862, 'ibdtype'), (1864, 'ibdtype'), (1869, 'ibdtype'), (1870, 'ibdtype'), (1873, 'ibdtype'), (1874, 'ibdtype'), (1875, 'ibdtype'), (1877, 'ibdtype'), (1878, 'ibdtype'), (1880, 'ibdtype'), (1883, 'ibdtype'), (1884, 'ibdtype'), (1885, 'ibdtype'), (1887, 'ibdtype'), (1888, 'ibdtype'), (1889, 'ibdtype'), (1895, 'ibdtype'), (1896, 'ibdtype'), (1899, 'ibdtype'), (1902, 'ibdtype'), (1905, 'ibdtype'), (1912, 'ibdtype'), (1913, 'ibdtype'), (1915, 'ibdtype'), (1917, 'ibdtype'), (1919, 'ibdtype'), (1928, 'ibdtype'), (1929, 'ibdtype'), (1932, 'ibdtype'), (1935, 'ibdtype'), (1936, 'ibdtype'), (1937, 'ibdtype'), (1962, 'ibdtype'), (1963, 'ibdtype'), (1964, 'ibdtype'), (1965, 'ibdtype'), (1966, 'ibdtype'), (1967, 'ibdtype'), (1968, 'ibdtype'), (1969, 'ibdtype'), (1970, 'ibdtype'), (1971, 'ibdtype'), (1973, 'ibdtype'), (1974, 'ibdtype'), (1975, 'ibdtype'), (1976, 'ibdtype'), (2002, 'ibdtype'), (2003, 'ibdtype'), (2004, 'ibdtype'), (2005, 'ibdtype'), (2006, 'ibdtype'), (2007, 'ibdtype'), (2008, 'ibdtype'), (2009, 'ibdtype'), (2010, 'ibdtype'), (2011, 'ibdtype'), (2012, 'ibdtype'), (2013, 'ibdtype'), (2014, 'ibdtype'), (2015, 'ibdtype'), (2016, 'ibdtype'), (2017, 'ibdtype'), (2018, 'ibdtype'), (2019, 'ibdtype'), (2020, 'ibdtype'), (2021, 'ibdtype'), (2022, 'ibdtype'), (2023, 'ibdtype'), (2024, 'ibdtype'), (2025, 'ibdtype'), (2026, 'ibdtype'), (2027, 'ibdtype'), (2028, 'ibdtype'), (2029, 'ibdtype'), (2030, 'ibdtype'), (2031, 'ibdtype'), (2032, 'ibdtype'), (2033, 'ibdtype'), (2034, 'ibdtype'), (2035, 'ibdtype'), (2036, 'ibdtype'), (2037, 'ibdtype'), (2038, 'ibdtype'), (2039, 'ibdtype'), (2040, 'ibdtype'), (2041, 'ibdtype'), (2042, 'ibdtype'), (2043, 'ibdtype'), (2044, 'ibdtype'), (2045, 'ibdtype'), (2046, 'ibdtype'), (2047, 'ibdtype'), (2048, 'ibdtype'), (2049, 'ibdtype'), (2050, 'ibdtype'), (2051, 'ibdtype'), (2052, 'ibdtype'), (2053, 'ibdtype'), (2054, 'ibdtype'), (2055, 'ibdtype'), (2056, 'ibdtype'), (2057, 'ibdtype'), (2058, 'ibdtype'), (2059, 'ibdtype'), (2060, 'ibdtype'), (2061, 'ibdtype'), (2062, 'ibdtype'), (2063, 'ibdtype'), (2064, 'ibdtype'), (2065, 'ibdtype'), (2066, 'ibdtype'), (2067, 'ibdtype'), (2068, 'ibdtype'), (2069, 'ibdtype'), (2070, 'ibdtype'), (2071, 'ibdtype'), (2072, 'ibdtype'), (2073, 'ibdtype'), (2074, 'ibdtype'), (2075, 'ibdtype'), (2076, 'ibdtype'), (2077, 'ibdtype'), (2078, 'ibdtype'), (2079, 'ibdtype'), (2080, 'ibdtype'), (2081, 'ibdtype'), (2082, 'ibdtype'), (2083, 'ibdtype'), (2084, 'ibdtype'), (2085, 'ibdtype'), (2086, 'ibdtype'), (2087, 'ibdtype'), (2088, 'ibdtype'), (2089, 'ibdtype'), (2090, 'ibdtype'), (2091, 'ibdtype'), (2092, 'ibdtype'), (2093, 'ibdtype'), (2094, 'ibdtype'), (2095, 'ibdtype'), (2119, 'ibdtype'), (2120, 'ibdtype'), (2121, 'ibdtype'), (2122, 'ibdtype'), (2142, 'ibdtype'), (2166, 'ibdtype'), (2167, 'ibdtype'), (2168, 'ibdtype'), (2169, 'ibdtype'), (2213, 'ibdtype'), (2214, 'ibdtype'), (2215, 'ibdtype'), (2216, 'ibdtype'), (2217, 'ibdtype'), (2218, 'ibdtype'), (2219, 'ibdtype'), (2220, 'ibdtype'), (2237, 'ibdtype'), (2238, 'ibdtype'), (2240, 'ibdtype'), (2241, 'ibdtype'), (2242, 'ibdtype'), (2243, 'ibdtype'), (2244, 'ibdtype'), (2247, 'ibdtype'), (2248, 'ibdtype'), (2249, 'ibdtype'), (2250, 'ibdtype'), (2261, 'ibdtype'), (2262, 'ibdtype'), (2263, 'ibdtype'), (2264, 'ibdtype'), (2272, 'ibdtype'), (2273, 'ibdtype'), (2276, 'ibdtype'), (2282, 'ibdtype'), (2284, 'ibdtype'), (2289, 'ibdtype'), (2291, 'ibdtype'), (2292, 'ibdtype'), (2293, 'ibdtype'), (2306, 'ibdtype'), (2315, 'ibdtype'), (2316, 'ibdtype'), (2319, 'ibdtype'), (2321, 'ibdtype'), (2322, 'ibdtype'), (2323, 'ibdtype'), (2325, 'ibdtype'), (2328, 'ibdtype'), (2329, 'ibdtype'), (2332, 'ibdtype'), (2334, 'ibdtype'), (2335, 'ibdtype'), (2336, 'ibdtype'), (2337, 'ibdtype'), (2340, 'ibdtype'), (2341, 'ibdtype'), (2347, 'ibdtype'), (2355, 'ibdtype'), (2357, 'ibdtype'), (2370, 'ibdtype'), (2371, 'ibdtype'), (2376, 'ibdtype'), (2378, 'ibdtype'), (2379, 'ibdtype'), (2382, 'ibdtype'), (2383, 'ibdtype'), (2391, 'ibdtype'), (2392, 'ibdtype'), (2394, 'ibdtype'), (2395, 'ibdtype'), (2404, 'ibdtype'), (2405, 'ibdtype'), (2407, 'ibdtype'), (2408, 'ibdtype'), (2419, 'ibdtype'), (2425, 'ibdtype'), (2430, 'ibdtype'), (2432, 'ibdtype'), (2433, 'ibdtype'), (2435, 'ibdtype'), (2436, 'ibdtype'), (2437, 'ibdtype'), (2438, 'ibdtype'), (2439, 'ibdtype'), (2440, 'ibdtype'), (2449, 'ibdtype'), (2469, 'ibdtype'), (2470, 'ibdtype'), (2478, 'ibdtype'), (2479, 'ibdtype'), (2482, 'ibdtype'), (2483, 'ibdtype'), (2489, 'ibdtype'), (2490, 'ibdtype'), (2492, 'ibdtype'), (2493, 'ibdtype'), (2499, 'ibdtype'), (2500, 'ibdtype'), (2510, 'ibdtype'), (2516, 'ibdtype'), (2517, 'ibdtype'), (2525, 'ibdtype'), (2526, 'ibdtype'), (2528, 'ibdtype'), (2529, 'ibdtype'), (2547, 'ibdtype'), (2549, 'ibdtype'), (2552, 'ibdtype'), (2554, 'ibdtype'), (2555, 'ibdtype'), (2556, 'ibdtype'), (2557, 'ibdtype'), (2558, 'ibdtype'), (2559, 'ibdtype'), (2560, 'ibdtype'), (2562, 'ibdtype'), (2563, 'ibdtype'), (2564, 'ibdtype'), (2567, 'ibdtype'), (2569, 'ibdtype'), (2571, 'ibdtype'), (2573, 'ibdtype'), (2575, 'ibdtype'), (2578, 'ibdtype'), (2582, 'ibdtype'), (2583, 'ibdtype'), (2584, 'ibdtype'), (2585, 'ibdtype'), (2586, 'ibdtype'), (2587, 'ibdtype'), (2589, 'ibdtype'), (2590, 'ibdtype'), (2591, 'ibdtype'), (2592, 'ibdtype'), (2593, 'ibdtype'), (2595, 'ibdtype'), (2596, 'ibdtype'), (2604, 'ibdtype'), (2607, 'ibdtype'), (2609, 'ibdtype'), (2611, 'ibdtype'), (2618, 'ibdtype'), (2622, 'ibdtype'), (2623, 'ibdtype'), (2624, 'ibdtype'), (2626, 'ibdtype'), (2627, 'ibdtype'), (2629, 'ibdtype'), (2630, 'ibdtype'), (2632, 'ibdtype'), (2633, 'ibdtype'), (2636, 'ibdtype'), (2637, 'ibdtype'), (2638, 'ibdtype'), (2639, 'ibdtype'), (2641, 'ibdtype'), (2642, 'ibdtype'), (2644, 'ibdtype'), (2647, 'ibdtype'), (2648, 'ibdtype'), (2649, 'ibdtype'), (2652, 'ibdtype'), (2653, 'ibdtype'), (2654, 'ibdtype'), (2657, 'ibdtype'), (2658, 'ibdtype'), (2659, 'ibdtype'), (2660, 'ibdtype'), (2661, 'ibdtype'), (2662, 'ibdtype'), (2663, 'ibdtype'), (2665, 'ibdtype'), (2666, 'ibdtype'), (2667, 'ibdtype'), (2669, 'ibdtype'), (2670, 'ibdtype'), (2671, 'ibdtype'), (2673, 'ibdtype'), (2674, 'ibdtype'), (2675, 'ibdtype'), (2678, 'ibdtype'), (2679, 'ibdtype'), (2680, 'ibdtype'), (2683, 'ibdtype'), (2685, 'ibdtype'), (2693, 'ibdtype'), (2694, 'ibdtype'), (2695, 'ibdtype'), (2696, 'ibdtype'), (2697, 'ibdtype'), (2698, 'ibdtype'), (2705, 'ibdtype'), (2707, 'ibdtype'), (2710, 'ibdtype'), (2711, 'ibdtype'), (2720, 'ibdtype'), (2721, 'ibdtype'), (2722, 'ibdtype'), (2724, 'ibdtype'), (2731, 'ibdtype'), (2737, 'ibdtype'), (2740, 'ibdtype'), (2741, 'ibdtype'), (2743, 'ibdtype'), (2748, 'ibdtype'), (2750, 'ibdtype'), (2753, 'ibdtype'), (2755, 'ibdtype'), (2756, 'ibdtype'), (2757, 'ibdtype'), (2759, 'ibdtype'), (2760, 'ibdtype'), (2762, 'ibdtype'), (2764, 'ibdtype'), (2765, 'ibdtype'), (2770, 'ibdtype'), (2775, 'ibdtype'), (2776, 'ibdtype'), (2781, 'ibdtype'), (2782, 'ibdtype'), (2788, 'ibdtype'), (2790, 'ibdtype'), (2791, 'ibdtype'), (2794, 'ibdtype'), (2797, 'ibdtype'), (2798, 'ibdtype'), (2803, 'ibdtype'), (2804, 'ibdtype'), (2811, 'ibdtype'), (2812, 'ibdtype'), (2817, 'ibdtype'), (2820, 'ibdtype'), (2821, 'ibdtype'), (2824, 'ibdtype'), (2826, 'ibdtype'), (2827, 'ibdtype'), (2244, 'sampletype'), (2250, 'sampletype'), (2284, 'sampletype'), (2355, 'sampletype'), (2487, 'sampletype'), (2770, 'sampletype'))"
     ]
    }
   ],
   "source": [
    "data = loading.init_load_data_and_labels(data_=data_, data_dict_=data_dict_)"
   ]
  },
  {
   "cell_type": "code",
   "execution_count": 151,
   "metadata": {
    "collapsed": false
   },
   "outputs": [
    {
     "data": {
      "text/plain": [
       "samplenumber                                                                   06291601935.0201\n",
       "label_on_sample                                                                       CHB701.0 \n",
       "mrn                                                                                     4979299\n",
       "biorepidnumber                                                                           1935.0\n",
       "completed_by                                                                                NaN\n",
       "date_crf_completed                                                                          NaN\n",
       "sample_date                                                                          2015-10-24\n",
       "registryconsent                                                                               0\n",
       "biorepconsent                                                                                 1\n",
       "prior_protocol_number                                                                       NaN\n",
       "ibdyesno                                                                                      1\n",
       "ibdtype                                                                                       1\n",
       "otheribddx                                                                                  NaN\n",
       "family_history                                                                                0\n",
       "familymember_ibd___1                                                                          0\n",
       "familymember_ibd___2                                                                          0\n",
       "familymember_ibd___3                                                                          0\n",
       "familymember_ibd___4                                                                          0\n",
       "familymember_ibd___5                                                                          0\n",
       "familymember_ibd___6                                                                          0\n",
       "other_relative                                                                              NaN\n",
       "ibd_immunodeficiencies                                                                        8\n",
       "other_immunodeficiency                                                                      NaN\n",
       "controldx                                                                                   NaN\n",
       "other_diagnosis                                                                             NaN\n",
       "control_immunodeficiency                                                                    NaN\n",
       "otherimmuno_control                                                                         NaN\n",
       "psc                                                                                           0\n",
       "familymembertype                                                                            NaN\n",
       "familymembergidx                                                                            NaN\n",
       "                                                                    ...                        \n",
       "glucocorticoid_type___4                                                                       0\n",
       "current_immunomodulator                                                                       1\n",
       "immunomodulator_type___1                                                                      0\n",
       "immunomodulator_type___2                                                                      1\n",
       "immunomodulator_type___3                                                                      0\n",
       "current_antitnf                                                                               1\n",
       "antitnf_type___1                                                                              1\n",
       "antitnf_type___2                                                                              0\n",
       "antitnf_type___3                                                                              0\n",
       "current_calcineurin                                                                           0\n",
       "calcineurin_type___1                                                                          0\n",
       "calcineurin_type___2                                                                          0\n",
       "current_otherbiologics                                                                        0\n",
       "otherbiologic_type___1                                                                        0\n",
       "otherbiologic_type___2                                                                        0\n",
       "otherbiologic_type___3                                                                        0\n",
       "fecaltransplant                                                                             NaN\n",
       "current_othermeds                                                                             1\n",
       "othermed_type___2                                                                             0\n",
       "othermed_type___3                                                                             1\n",
       "othermed                                      dicyclomine, halcinonide, triamincinolone, ond...\n",
       "date_labs                                                                            2015-10-24\n",
       "hct                                                                                        34.9\n",
       "wbc                                                                                        6.53\n",
       "plt                                                                                         234\n",
       "crp                                                                                        <.03\n",
       "esr                                                                                          10\n",
       "alb                                                                                         4.1\n",
       "notes                                                                                       NaN\n",
       "ibd_biorepository_sample_database_complete                                                    2\n",
       "Name: 2311, dtype: object"
      ]
     },
     "execution_count": 151,
     "metadata": {},
     "output_type": "execute_result"
    }
   ],
   "source": [
    "d.iloc[2284,:]"
   ]
  },
  {
   "cell_type": "markdown",
   "metadata": {},
   "source": [
    "# Initial table classes\n",
    "\n",
    "- Subject\n",
    "- Sample"
   ]
  },
  {
   "cell_type": "markdown",
   "metadata": {},
   "source": [
    "## Subject\n",
    "\n",
    "    - biorepidnumber\n",
    "    - gender\n",
    "    - dob\n",
    "    - chb_id\n",
    "    - registryconsent?\n",
    "    - biorepconsent?\n",
    "    - ibdyesno ~ subject_class:[IBD,CTRL,FAM]\n",
    "    - ibd_dx\n",
    "    - ctrl_dx\n",
    "    - familymembergidx ~ fam_dx\n",
    "    - ctrl_immunodef\n",
    "    - psc ~ primary_sclerosing_cholangitis\n",
    "    - familymembertype ~ fam_mem_type:[mom,dad,bro,sis,other]\n",
    "\n",
    "\n",
    "__NOTES:__\n",
    "\n",
    "- must also develop `engarde` rules for validations for each column\n",
    "\n",
    "\n"
   ]
  },
  {
   "cell_type": "code",
   "execution_count": null,
   "metadata": {
    "collapsed": true
   },
   "outputs": [],
   "source": [
    "\n",
    "def populate_subject_table(df):\n",
    "    \"\"\"Return dataframe of Subject-specific data after recoding and calculations from redcap dump.\"\"\"\n",
    "    \n",
    "\n",
    "def build_one_subject(df):\n",
    "    \"\"\"Return a dataframe with one row representing a single subject.\n",
    "    \n",
    "    Row contains vetted data columns culled from the sum of all rows assigned to \n",
    "    a subject.\n",
    "    \"\"\"\n",
    "    \n",
    "    \n",
    "    "
   ]
  },
  {
   "cell_type": "code",
   "execution_count": 33,
   "metadata": {
    "collapsed": false
   },
   "outputs": [],
   "source": [
    "indivs = {name:table for name, table in data.data.groupby('biorepidnumber')}"
   ]
  },
  {
   "cell_type": "code",
   "execution_count": null,
   "metadata": {
    "collapsed": true
   },
   "outputs": [],
   "source": []
  },
  {
   "cell_type": "markdown",
   "metadata": {},
   "source": [
    "## Sample"
   ]
  },
  {
   "cell_type": "markdown",
   "metadata": {},
   "source": [
    "# Data Structures"
   ]
  },
  {
   "cell_type": "markdown",
   "metadata": {},
   "source": [
    "## data_dict"
   ]
  },
  {
   "cell_type": "code",
   "execution_count": 95,
   "metadata": {
    "collapsed": false,
    "scrolled": false
   },
   "outputs": [
    {
     "data": {
      "text/html": [
       "<div>\n",
       "<table border=\"1\" class=\"dataframe\">\n",
       "  <thead>\n",
       "    <tr style=\"text-align: right;\">\n",
       "      <th></th>\n",
       "      <th>Form Name</th>\n",
       "      <th>Section Header</th>\n",
       "      <th>Field Type</th>\n",
       "      <th>Field Label</th>\n",
       "      <th>Choices, Calculations, OR Slider Labels</th>\n",
       "      <th>Field Note</th>\n",
       "      <th>Text Validation Type OR Show Slider Number</th>\n",
       "      <th>Text Validation Min</th>\n",
       "      <th>Text Validation Max</th>\n",
       "      <th>Identifier?</th>\n",
       "      <th>Branching Logic (Show field only if...)</th>\n",
       "      <th>Required Field?</th>\n",
       "      <th>Custom Alignment</th>\n",
       "      <th>Question Number (surveys only)</th>\n",
       "      <th>Matrix Group Name</th>\n",
       "      <th>Matrix Ranking?</th>\n",
       "      <th>Field Annotation</th>\n",
       "    </tr>\n",
       "    <tr>\n",
       "      <th>Variable / Field Name</th>\n",
       "      <th></th>\n",
       "      <th></th>\n",
       "      <th></th>\n",
       "      <th></th>\n",
       "      <th></th>\n",
       "      <th></th>\n",
       "      <th></th>\n",
       "      <th></th>\n",
       "      <th></th>\n",
       "      <th></th>\n",
       "      <th></th>\n",
       "      <th></th>\n",
       "      <th></th>\n",
       "      <th></th>\n",
       "      <th></th>\n",
       "      <th></th>\n",
       "      <th></th>\n",
       "    </tr>\n",
       "  </thead>\n",
       "  <tbody>\n",
       "    <tr>\n",
       "      <th>record_id</th>\n",
       "      <td>ibd_biorepository_sample_database</td>\n",
       "      <td>NaN</td>\n",
       "      <td>text</td>\n",
       "      <td>Record ID</td>\n",
       "      <td>NaN</td>\n",
       "      <td>NaN</td>\n",
       "      <td>NaN</td>\n",
       "      <td>NaN</td>\n",
       "      <td>NaN</td>\n",
       "      <td>NaN</td>\n",
       "      <td>NaN</td>\n",
       "      <td>NaN</td>\n",
       "      <td>NaN</td>\n",
       "      <td>NaN</td>\n",
       "      <td>NaN</td>\n",
       "      <td>NaN</td>\n",
       "      <td>NaN</td>\n",
       "    </tr>\n",
       "    <tr>\n",
       "      <th>samplenumber</th>\n",
       "      <td>ibd_biorepository_sample_database</td>\n",
       "      <td>NaN</td>\n",
       "      <td>text</td>\n",
       "      <td>Sample number (unique)</td>\n",
       "      <td>NaN</td>\n",
       "      <td>unique identifier for each individual sample</td>\n",
       "      <td>number_4dp</td>\n",
       "      <td>1010000001</td>\n",
       "      <td>99999999999</td>\n",
       "      <td>NaN</td>\n",
       "      <td>NaN</td>\n",
       "      <td>y</td>\n",
       "      <td>NaN</td>\n",
       "      <td>NaN</td>\n",
       "      <td>NaN</td>\n",
       "      <td>NaN</td>\n",
       "      <td>NaN</td>\n",
       "    </tr>\n",
       "    <tr>\n",
       "      <th>label_on_sample</th>\n",
       "      <td>ibd_biorepository_sample_database</td>\n",
       "      <td>NaN</td>\n",
       "      <td>text</td>\n",
       "      <td>Label on sample</td>\n",
       "      <td>NaN</td>\n",
       "      <td>NaN</td>\n",
       "      <td>NaN</td>\n",
       "      <td>NaN</td>\n",
       "      <td>NaN</td>\n",
       "      <td>NaN</td>\n",
       "      <td>NaN</td>\n",
       "      <td>y</td>\n",
       "      <td>NaN</td>\n",
       "      <td>NaN</td>\n",
       "      <td>NaN</td>\n",
       "      <td>NaN</td>\n",
       "      <td>NaN</td>\n",
       "    </tr>\n",
       "    <tr>\n",
       "      <th>mrn</th>\n",
       "      <td>ibd_biorepository_sample_database</td>\n",
       "      <td>NaN</td>\n",
       "      <td>text</td>\n",
       "      <td>Medical record number</td>\n",
       "      <td>NaN</td>\n",
       "      <td>subjects without CHMR get 9999999</td>\n",
       "      <td>integer</td>\n",
       "      <td>1</td>\n",
       "      <td>9999999</td>\n",
       "      <td>y</td>\n",
       "      <td>NaN</td>\n",
       "      <td>y</td>\n",
       "      <td>NaN</td>\n",
       "      <td>NaN</td>\n",
       "      <td>NaN</td>\n",
       "      <td>NaN</td>\n",
       "      <td>NaN</td>\n",
       "    </tr>\n",
       "    <tr>\n",
       "      <th>biorepidnumber</th>\n",
       "      <td>ibd_biorepository_sample_database</td>\n",
       "      <td>NaN</td>\n",
       "      <td>text</td>\n",
       "      <td>Biorepository ID number</td>\n",
       "      <td>NaN</td>\n",
       "      <td>relatives get 1 decimal place (mom=.2, dad=.3,...</td>\n",
       "      <td>number_1dp</td>\n",
       "      <td>NaN</td>\n",
       "      <td>NaN</td>\n",
       "      <td>NaN</td>\n",
       "      <td>NaN</td>\n",
       "      <td>y</td>\n",
       "      <td>NaN</td>\n",
       "      <td>NaN</td>\n",
       "      <td>NaN</td>\n",
       "      <td>NaN</td>\n",
       "      <td>NaN</td>\n",
       "    </tr>\n",
       "  </tbody>\n",
       "</table>\n",
       "</div>"
      ],
      "text/plain": [
       "                                               Form Name  Section Header  \\\n",
       "Variable / Field Name                                                      \n",
       "record_id              ibd_biorepository_sample_database             NaN   \n",
       "samplenumber           ibd_biorepository_sample_database             NaN   \n",
       "label_on_sample        ibd_biorepository_sample_database             NaN   \n",
       "mrn                    ibd_biorepository_sample_database             NaN   \n",
       "biorepidnumber         ibd_biorepository_sample_database             NaN   \n",
       "\n",
       "                      Field Type              Field Label  \\\n",
       "Variable / Field Name                                       \n",
       "record_id                   text                Record ID   \n",
       "samplenumber                text   Sample number (unique)   \n",
       "label_on_sample             text          Label on sample   \n",
       "mrn                         text    Medical record number   \n",
       "biorepidnumber              text  Biorepository ID number   \n",
       "\n",
       "                      Choices, Calculations, OR Slider Labels  \\\n",
       "Variable / Field Name                                           \n",
       "record_id                                                 NaN   \n",
       "samplenumber                                              NaN   \n",
       "label_on_sample                                           NaN   \n",
       "mrn                                                       NaN   \n",
       "biorepidnumber                                            NaN   \n",
       "\n",
       "                                                              Field Note  \\\n",
       "Variable / Field Name                                                      \n",
       "record_id                                                            NaN   \n",
       "samplenumber                unique identifier for each individual sample   \n",
       "label_on_sample                                                      NaN   \n",
       "mrn                                    subjects without CHMR get 9999999   \n",
       "biorepidnumber         relatives get 1 decimal place (mom=.2, dad=.3,...   \n",
       "\n",
       "                      Text Validation Type OR Show Slider Number  \\\n",
       "Variable / Field Name                                              \n",
       "record_id                                                    NaN   \n",
       "samplenumber                                          number_4dp   \n",
       "label_on_sample                                              NaN   \n",
       "mrn                                                      integer   \n",
       "biorepidnumber                                        number_1dp   \n",
       "\n",
       "                      Text Validation Min Text Validation Max Identifier?  \\\n",
       "Variable / Field Name                                                       \n",
       "record_id                             NaN                 NaN         NaN   \n",
       "samplenumber                   1010000001         99999999999         NaN   \n",
       "label_on_sample                       NaN                 NaN         NaN   \n",
       "mrn                                     1             9999999           y   \n",
       "biorepidnumber                        NaN                 NaN         NaN   \n",
       "\n",
       "                      Branching Logic (Show field only if...) Required Field?  \\\n",
       "Variable / Field Name                                                           \n",
       "record_id                                                 NaN             NaN   \n",
       "samplenumber                                              NaN               y   \n",
       "label_on_sample                                           NaN               y   \n",
       "mrn                                                       NaN               y   \n",
       "biorepidnumber                                            NaN               y   \n",
       "\n",
       "                       Custom Alignment  Question Number (surveys only)  \\\n",
       "Variable / Field Name                                                     \n",
       "record_id                           NaN                             NaN   \n",
       "samplenumber                        NaN                             NaN   \n",
       "label_on_sample                     NaN                             NaN   \n",
       "mrn                                 NaN                             NaN   \n",
       "biorepidnumber                      NaN                             NaN   \n",
       "\n",
       "                       Matrix Group Name  Matrix Ranking?  Field Annotation  \n",
       "Variable / Field Name                                                        \n",
       "record_id                            NaN              NaN               NaN  \n",
       "samplenumber                         NaN              NaN               NaN  \n",
       "label_on_sample                      NaN              NaN               NaN  \n",
       "mrn                                  NaN              NaN               NaN  \n",
       "biorepidnumber                       NaN              NaN               NaN  "
      ]
     },
     "execution_count": 95,
     "metadata": {},
     "output_type": "execute_result"
    }
   ],
   "source": [
    "dd = data_dict\n",
    "dd.head()"
   ]
  },
  {
   "cell_type": "code",
   "execution_count": 145,
   "metadata": {
    "collapsed": false
   },
   "outputs": [
    {
     "data": {
      "text/plain": [
       "['samplenumber',\n",
       " 'label_on_sample',\n",
       " 'mrn',\n",
       " 'biorepidnumber',\n",
       " 'completed_by',\n",
       " 'date_crf_completed',\n",
       " 'sample_date',\n",
       " 'registryconsent',\n",
       " 'biorepconsent',\n",
       " 'ibdyesno',\n",
       " 'ibdtype',\n",
       " 'sampletype']"
      ]
     },
     "execution_count": 145,
     "metadata": {},
     "output_type": "execute_result"
    }
   ],
   "source": [
    "list(dd[dd['Required Field?'] == 'y'].index.values)"
   ]
  },
  {
   "cell_type": "markdown",
   "metadata": {},
   "source": [
    "## data"
   ]
  },
  {
   "cell_type": "code",
   "execution_count": 125,
   "metadata": {
    "collapsed": false,
    "scrolled": false
   },
   "outputs": [
    {
     "data": {
      "text/html": [
       "<div>\n",
       "<table border=\"1\" class=\"dataframe\">\n",
       "  <thead>\n",
       "    <tr style=\"text-align: right;\">\n",
       "      <th></th>\n",
       "      <th>samplenumber</th>\n",
       "      <th>label_on_sample</th>\n",
       "      <th>mrn</th>\n",
       "      <th>biorepidnumber</th>\n",
       "      <th>completed_by</th>\n",
       "      <th>date_crf_completed</th>\n",
       "      <th>sample_date</th>\n",
       "      <th>registryconsent</th>\n",
       "      <th>biorepconsent</th>\n",
       "      <th>prior_protocol_number</th>\n",
       "      <th>...</th>\n",
       "      <th>othermed</th>\n",
       "      <th>date_labs</th>\n",
       "      <th>hct</th>\n",
       "      <th>wbc</th>\n",
       "      <th>plt</th>\n",
       "      <th>crp</th>\n",
       "      <th>esr</th>\n",
       "      <th>alb</th>\n",
       "      <th>notes</th>\n",
       "      <th>ibd_biorepository_sample_database_complete</th>\n",
       "    </tr>\n",
       "    <tr>\n",
       "      <th>record_id</th>\n",
       "      <th></th>\n",
       "      <th></th>\n",
       "      <th></th>\n",
       "      <th></th>\n",
       "      <th></th>\n",
       "      <th></th>\n",
       "      <th></th>\n",
       "      <th></th>\n",
       "      <th></th>\n",
       "      <th></th>\n",
       "      <th></th>\n",
       "      <th></th>\n",
       "      <th></th>\n",
       "      <th></th>\n",
       "      <th></th>\n",
       "      <th></th>\n",
       "      <th></th>\n",
       "      <th></th>\n",
       "      <th></th>\n",
       "      <th></th>\n",
       "      <th></th>\n",
       "    </tr>\n",
       "  </thead>\n",
       "  <tbody>\n",
       "    <tr>\n",
       "      <th>1</th>\n",
       "      <td>05231301004.0201</td>\n",
       "      <td>1004</td>\n",
       "      <td>2127951</td>\n",
       "      <td>1004.0</td>\n",
       "      <td>NaN</td>\n",
       "      <td>NaN</td>\n",
       "      <td>2012-12-25</td>\n",
       "      <td>0.0</td>\n",
       "      <td>1.0</td>\n",
       "      <td>NaN</td>\n",
       "      <td>...</td>\n",
       "      <td>Lo ovral</td>\n",
       "      <td>NaN</td>\n",
       "      <td>37.5</td>\n",
       "      <td>8.32</td>\n",
       "      <td>288</td>\n",
       "      <td>0.47</td>\n",
       "      <td>13.0</td>\n",
       "      <td>4.3</td>\n",
       "      <td>NaN</td>\n",
       "      <td>2</td>\n",
       "    </tr>\n",
       "    <tr>\n",
       "      <th>2</th>\n",
       "      <td>08051400433.2401</td>\n",
       "      <td>433.2-MX</td>\n",
       "      <td>2035198</td>\n",
       "      <td>433.2</td>\n",
       "      <td>NaN</td>\n",
       "      <td>NaN</td>\n",
       "      <td>2014-04-08</td>\n",
       "      <td>0.0</td>\n",
       "      <td>1.0</td>\n",
       "      <td>NaN</td>\n",
       "      <td>...</td>\n",
       "      <td>NaN</td>\n",
       "      <td>NaN</td>\n",
       "      <td>NaN</td>\n",
       "      <td>NaN</td>\n",
       "      <td>NaN</td>\n",
       "      <td>NaN</td>\n",
       "      <td>NaN</td>\n",
       "      <td>NaN</td>\n",
       "      <td>NaN</td>\n",
       "      <td>2</td>\n",
       "    </tr>\n",
       "    <tr>\n",
       "      <th>3</th>\n",
       "      <td>08161400433.2401</td>\n",
       "      <td>433.2-NX</td>\n",
       "      <td>2035198</td>\n",
       "      <td>433.2</td>\n",
       "      <td>NaN</td>\n",
       "      <td>NaN</td>\n",
       "      <td>2014-07-11</td>\n",
       "      <td>0.0</td>\n",
       "      <td>1.0</td>\n",
       "      <td>NaN</td>\n",
       "      <td>...</td>\n",
       "      <td>NaN</td>\n",
       "      <td>NaN</td>\n",
       "      <td>NaN</td>\n",
       "      <td>NaN</td>\n",
       "      <td>NaN</td>\n",
       "      <td>NaN</td>\n",
       "      <td>NaN</td>\n",
       "      <td>NaN</td>\n",
       "      <td>NaN</td>\n",
       "      <td>2</td>\n",
       "    </tr>\n",
       "    <tr>\n",
       "      <th>4</th>\n",
       "      <td>04241300001.0101</td>\n",
       "      <td>1</td>\n",
       "      <td>1042672</td>\n",
       "      <td>1.0</td>\n",
       "      <td>NaN</td>\n",
       "      <td>NaN</td>\n",
       "      <td>2013-02-20</td>\n",
       "      <td>1.0</td>\n",
       "      <td>1.0</td>\n",
       "      <td>NaN</td>\n",
       "      <td>...</td>\n",
       "      <td>INH</td>\n",
       "      <td>NaN</td>\n",
       "      <td>31.4</td>\n",
       "      <td>2.83</td>\n",
       "      <td>233</td>\n",
       "      <td>0.09</td>\n",
       "      <td>19.0</td>\n",
       "      <td>4.3</td>\n",
       "      <td>NaN</td>\n",
       "      <td>2</td>\n",
       "    </tr>\n",
       "    <tr>\n",
       "      <th>5</th>\n",
       "      <td>01151300002.0201</td>\n",
       "      <td>2</td>\n",
       "      <td>2237636</td>\n",
       "      <td>2.0</td>\n",
       "      <td>NaN</td>\n",
       "      <td>NaN</td>\n",
       "      <td>2012-03-10</td>\n",
       "      <td>1.0</td>\n",
       "      <td>1.0</td>\n",
       "      <td>NaN</td>\n",
       "      <td>...</td>\n",
       "      <td>Ursodeoxycholic acid</td>\n",
       "      <td>NaN</td>\n",
       "      <td>40.2</td>\n",
       "      <td>6.42</td>\n",
       "      <td>310</td>\n",
       "      <td>0.29</td>\n",
       "      <td>13.0</td>\n",
       "      <td>4.7</td>\n",
       "      <td>NaN</td>\n",
       "      <td>2</td>\n",
       "    </tr>\n",
       "  </tbody>\n",
       "</table>\n",
       "<p>5 rows × 202 columns</p>\n",
       "</div>"
      ],
      "text/plain": [
       "               samplenumber label_on_sample      mrn biorepidnumber  \\\n",
       "record_id                                                             \n",
       "1          05231301004.0201            1004  2127951         1004.0   \n",
       "2          08051400433.2401        433.2-MX  2035198          433.2   \n",
       "3          08161400433.2401        433.2-NX  2035198          433.2   \n",
       "4          04241300001.0101               1  1042672            1.0   \n",
       "5          01151300002.0201               2  2237636            2.0   \n",
       "\n",
       "           completed_by date_crf_completed sample_date  registryconsent  \\\n",
       "record_id                                                                 \n",
       "1                   NaN                NaN  2012-12-25              0.0   \n",
       "2                   NaN                NaN  2014-04-08              0.0   \n",
       "3                   NaN                NaN  2014-07-11              0.0   \n",
       "4                   NaN                NaN  2013-02-20              1.0   \n",
       "5                   NaN                NaN  2012-03-10              1.0   \n",
       "\n",
       "           biorepconsent  prior_protocol_number  \\\n",
       "record_id                                         \n",
       "1                    1.0                    NaN   \n",
       "2                    1.0                    NaN   \n",
       "3                    1.0                    NaN   \n",
       "4                    1.0                    NaN   \n",
       "5                    1.0                    NaN   \n",
       "\n",
       "                              ...                                  othermed  \\\n",
       "record_id                     ...                                             \n",
       "1                             ...                                  Lo ovral   \n",
       "2                             ...                                       NaN   \n",
       "3                             ...                                       NaN   \n",
       "4                             ...                                       INH   \n",
       "5                             ...                      Ursodeoxycholic acid   \n",
       "\n",
       "           date_labs   hct   wbc  plt   crp   esr  alb  notes  \\\n",
       "record_id                                                       \n",
       "1                NaN  37.5  8.32  288  0.47  13.0  4.3    NaN   \n",
       "2                NaN   NaN   NaN  NaN   NaN   NaN  NaN    NaN   \n",
       "3                NaN   NaN   NaN  NaN   NaN   NaN  NaN    NaN   \n",
       "4                NaN  31.4  2.83  233  0.09  19.0  4.3    NaN   \n",
       "5                NaN  40.2  6.42  310  0.29  13.0  4.7    NaN   \n",
       "\n",
       "           ibd_biorepository_sample_database_complete  \n",
       "record_id                                              \n",
       "1                                                   2  \n",
       "2                                                   2  \n",
       "3                                                   2  \n",
       "4                                                   2  \n",
       "5                                                   2  \n",
       "\n",
       "[5 rows x 202 columns]"
      ]
     },
     "execution_count": 125,
     "metadata": {},
     "output_type": "execute_result"
    }
   ],
   "source": [
    "d = data.data\n",
    "d.head()"
   ]
  },
  {
   "cell_type": "code",
   "execution_count": 126,
   "metadata": {
    "collapsed": false
   },
   "outputs": [
    {
     "data": {
      "text/html": [
       "<div>\n",
       "<table border=\"1\" class=\"dataframe\">\n",
       "  <thead>\n",
       "    <tr style=\"text-align: right;\">\n",
       "      <th></th>\n",
       "      <th>left</th>\n",
       "      <th>right</th>\n",
       "    </tr>\n",
       "    <tr>\n",
       "      <th>record_id</th>\n",
       "      <th></th>\n",
       "      <th></th>\n",
       "    </tr>\n",
       "  </thead>\n",
       "  <tbody>\n",
       "    <tr>\n",
       "      <th>1</th>\n",
       "      <td>05231301004</td>\n",
       "      <td>0201</td>\n",
       "    </tr>\n",
       "    <tr>\n",
       "      <th>2</th>\n",
       "      <td>08051400433</td>\n",
       "      <td>2401</td>\n",
       "    </tr>\n",
       "    <tr>\n",
       "      <th>3</th>\n",
       "      <td>08161400433</td>\n",
       "      <td>2401</td>\n",
       "    </tr>\n",
       "    <tr>\n",
       "      <th>4</th>\n",
       "      <td>04241300001</td>\n",
       "      <td>0101</td>\n",
       "    </tr>\n",
       "    <tr>\n",
       "      <th>5</th>\n",
       "      <td>01151300002</td>\n",
       "      <td>0201</td>\n",
       "    </tr>\n",
       "  </tbody>\n",
       "</table>\n",
       "</div>"
      ],
      "text/plain": [
       "                  left right\n",
       "record_id                   \n",
       "1          05231301004  0201\n",
       "2          08051400433  2401\n",
       "3          08161400433  2401\n",
       "4          04241300001  0101\n",
       "5          01151300002  0201"
      ]
     },
     "execution_count": 126,
     "metadata": {},
     "output_type": "execute_result"
    }
   ],
   "source": [
    "split = d.samplenumber.str.split('.', expand=True).rename(columns={0:'left',1:'right'})\n",
    "split.head()"
   ]
  },
  {
   "cell_type": "code",
   "execution_count": 127,
   "metadata": {
    "collapsed": false
   },
   "outputs": [
    {
     "data": {
      "text/plain": [
       "2"
      ]
     },
     "execution_count": 127,
     "metadata": {},
     "output_type": "execute_result"
    }
   ],
   "source": [
    "len(split.columns.values)"
   ]
  },
  {
   "cell_type": "code",
   "execution_count": 128,
   "metadata": {
    "collapsed": false
   },
   "outputs": [
    {
     "data": {
      "text/plain": [
       "record_id\n",
       "1    True\n",
       "2    True\n",
       "3    True\n",
       "4    True\n",
       "5    True\n",
       "Name: left, dtype: bool"
      ]
     },
     "execution_count": 128,
     "metadata": {},
     "output_type": "execute_result"
    }
   ],
   "source": [
    "split.left.fillna('0').apply(lambda i: isinstance(np.int64(i),np.int64)).head()"
   ]
  },
  {
   "cell_type": "code",
   "execution_count": null,
   "metadata": {
    "collapsed": true
   },
   "outputs": [],
   "source": [
    "def vfunc(df):\n",
    "    return df"
   ]
  },
  {
   "cell_type": "code",
   "execution_count": null,
   "metadata": {
    "collapsed": true
   },
   "outputs": [],
   "source": []
  },
  {
   "cell_type": "code",
   "execution_count": 134,
   "metadata": {
    "collapsed": false
   },
   "outputs": [
    {
     "data": {
      "text/plain": [
       "record_id\n",
       "1       True\n",
       "2       True\n",
       "3       True\n",
       "4       True\n",
       "5       True\n",
       "6       True\n",
       "7       True\n",
       "8       True\n",
       "9       True\n",
       "10      True\n",
       "11      True\n",
       "12      True\n",
       "13      True\n",
       "14      True\n",
       "15      True\n",
       "16      True\n",
       "17      True\n",
       "18      True\n",
       "19      True\n",
       "20      True\n",
       "21      True\n",
       "22      True\n",
       "23      True\n",
       "24      True\n",
       "25      True\n",
       "26      True\n",
       "27      True\n",
       "28      True\n",
       "29      True\n",
       "30      True\n",
       "        ... \n",
       "2805    True\n",
       "2806    True\n",
       "2807    True\n",
       "2808    True\n",
       "2809    True\n",
       "2810    True\n",
       "2811    True\n",
       "2812    True\n",
       "2813    True\n",
       "2814    True\n",
       "2815    True\n",
       "2816    True\n",
       "2817    True\n",
       "2818    True\n",
       "2819    True\n",
       "2820    True\n",
       "2821    True\n",
       "2822    True\n",
       "2823    True\n",
       "2824    True\n",
       "2825    True\n",
       "2826    True\n",
       "2827    True\n",
       "2828    True\n",
       "2829    True\n",
       "2830    True\n",
       "2831    True\n",
       "2832    True\n",
       "2833    True\n",
       "2834    True\n",
       "dtype: bool"
      ]
     },
     "execution_count": 134,
     "metadata": {},
     "output_type": "execute_result"
    }
   ],
   "source": [
    "tests = rcd.is_number_4dp(d.samplenumber)\n",
    "tests"
   ]
  },
  {
   "cell_type": "markdown",
   "metadata": {},
   "source": [
    "# Explore"
   ]
  },
  {
   "cell_type": "code",
   "execution_count": 70,
   "metadata": {
    "collapsed": false,
    "scrolled": false
   },
   "outputs": [],
   "source": [
    "info = data_dict.loc['samplenumber']"
   ]
  },
  {
   "cell_type": "code",
   "execution_count": 71,
   "metadata": {
    "collapsed": false
   },
   "outputs": [
    {
     "data": {
      "text/plain": [
       "Form Name                                                ibd_biorepository_sample_database\n",
       "Section Header                                                                         NaN\n",
       "Field Type                                                                            text\n",
       "Field Label                                                         Sample number (unique)\n",
       "Choices, Calculations, OR Slider Labels                                                NaN\n",
       "Field Note                                    unique identifier for each individual sample\n",
       "Text Validation Type OR Show Slider Number                                      number_4dp\n",
       "Text Validation Min                                                             1010000001\n",
       "Text Validation Max                                                            99999999999\n",
       "Identifier?                                                                            NaN\n",
       "Branching Logic (Show field only if...)                                                NaN\n",
       "Required Field?                                                                          y\n",
       "Custom Alignment                                                                       NaN\n",
       "Question Number (surveys only)                                                         NaN\n",
       "Matrix Group Name                                                                      NaN\n",
       "Matrix Ranking?                                                                        NaN\n",
       "Field Annotation                                                                       NaN\n",
       "Name: samplenumber, dtype: object"
      ]
     },
     "execution_count": 71,
     "metadata": {},
     "output_type": "execute_result"
    }
   ],
   "source": [
    "info"
   ]
  },
  {
   "cell_type": "code",
   "execution_count": 73,
   "metadata": {
    "collapsed": false
   },
   "outputs": [
    {
     "data": {
      "text/plain": [
       "object"
      ]
     },
     "execution_count": 73,
     "metadata": {},
     "output_type": "execute_result"
    }
   ],
   "source": [
    "np.object"
   ]
  },
  {
   "cell_type": "code",
   "execution_count": 76,
   "metadata": {
    "collapsed": false,
    "scrolled": false
   },
   "outputs": [
    {
     "data": {
      "text/html": [
       "<div>\n",
       "<table border=\"1\" class=\"dataframe\">\n",
       "  <thead>\n",
       "    <tr style=\"text-align: right;\">\n",
       "      <th></th>\n",
       "      <th>Form Name</th>\n",
       "      <th>Section Header</th>\n",
       "      <th>Field Type</th>\n",
       "      <th>Field Label</th>\n",
       "      <th>Choices, Calculations, OR Slider Labels</th>\n",
       "      <th>Field Note</th>\n",
       "      <th>Text Validation Type OR Show Slider Number</th>\n",
       "      <th>Text Validation Min</th>\n",
       "      <th>Text Validation Max</th>\n",
       "      <th>Identifier?</th>\n",
       "      <th>Branching Logic (Show field only if...)</th>\n",
       "      <th>Required Field?</th>\n",
       "      <th>Custom Alignment</th>\n",
       "      <th>Question Number (surveys only)</th>\n",
       "      <th>Matrix Group Name</th>\n",
       "      <th>Matrix Ranking?</th>\n",
       "      <th>Field Annotation</th>\n",
       "    </tr>\n",
       "    <tr>\n",
       "      <th>Variable / Field Name</th>\n",
       "      <th></th>\n",
       "      <th></th>\n",
       "      <th></th>\n",
       "      <th></th>\n",
       "      <th></th>\n",
       "      <th></th>\n",
       "      <th></th>\n",
       "      <th></th>\n",
       "      <th></th>\n",
       "      <th></th>\n",
       "      <th></th>\n",
       "      <th></th>\n",
       "      <th></th>\n",
       "      <th></th>\n",
       "      <th></th>\n",
       "      <th></th>\n",
       "      <th></th>\n",
       "    </tr>\n",
       "  </thead>\n",
       "  <tbody>\n",
       "    <tr>\n",
       "      <th>biorepidnumber</th>\n",
       "      <td>ibd_biorepository_sample_database</td>\n",
       "      <td>NaN</td>\n",
       "      <td>text</td>\n",
       "      <td>Biorepository ID number</td>\n",
       "      <td>NaN</td>\n",
       "      <td>relatives get 1 decimal place (mom=.2, dad=.3,...</td>\n",
       "      <td>number_1dp</td>\n",
       "      <td>NaN</td>\n",
       "      <td>NaN</td>\n",
       "      <td>NaN</td>\n",
       "      <td>NaN</td>\n",
       "      <td>y</td>\n",
       "      <td>NaN</td>\n",
       "      <td>NaN</td>\n",
       "      <td>NaN</td>\n",
       "      <td>NaN</td>\n",
       "      <td>NaN</td>\n",
       "    </tr>\n",
       "  </tbody>\n",
       "</table>\n",
       "</div>"
      ],
      "text/plain": [
       "                                               Form Name  Section Header  \\\n",
       "Variable / Field Name                                                      \n",
       "biorepidnumber         ibd_biorepository_sample_database             NaN   \n",
       "\n",
       "                      Field Type              Field Label  \\\n",
       "Variable / Field Name                                       \n",
       "biorepidnumber              text  Biorepository ID number   \n",
       "\n",
       "                      Choices, Calculations, OR Slider Labels  \\\n",
       "Variable / Field Name                                           \n",
       "biorepidnumber                                            NaN   \n",
       "\n",
       "                                                              Field Note  \\\n",
       "Variable / Field Name                                                      \n",
       "biorepidnumber         relatives get 1 decimal place (mom=.2, dad=.3,...   \n",
       "\n",
       "                      Text Validation Type OR Show Slider Number  \\\n",
       "Variable / Field Name                                              \n",
       "biorepidnumber                                        number_1dp   \n",
       "\n",
       "                      Text Validation Min Text Validation Max Identifier?  \\\n",
       "Variable / Field Name                                                       \n",
       "biorepidnumber                        NaN                 NaN         NaN   \n",
       "\n",
       "                      Branching Logic (Show field only if...) Required Field?  \\\n",
       "Variable / Field Name                                                           \n",
       "biorepidnumber                                            NaN               y   \n",
       "\n",
       "                       Custom Alignment  Question Number (surveys only)  \\\n",
       "Variable / Field Name                                                     \n",
       "biorepidnumber                      NaN                             NaN   \n",
       "\n",
       "                       Matrix Group Name  Matrix Ranking?  Field Annotation  \n",
       "Variable / Field Name                                                        \n",
       "biorepidnumber                       NaN              NaN               NaN  "
      ]
     },
     "execution_count": 76,
     "metadata": {},
     "output_type": "execute_result"
    }
   ],
   "source": [
    "data_dict[data_dict['Text Validation Type OR Show Slider Number'] == 'number_1dp']"
   ]
  },
  {
   "cell_type": "code",
   "execution_count": 13,
   "metadata": {
    "collapsed": true
   },
   "outputs": [],
   "source": [
    "raw = data.data.copy()"
   ]
  },
  {
   "cell_type": "markdown",
   "metadata": {},
   "source": [
    "# To show/Ask Coordinators about"
   ]
  },
  {
   "cell_type": "markdown",
   "metadata": {},
   "source": [
    "## Dates ymd vs mdy\n",
    "\n",
    "- validation min and max do not make sense for the \"`date_ymd`\" types"
   ]
  },
  {
   "cell_type": "code",
   "execution_count": 61,
   "metadata": {
    "collapsed": false
   },
   "outputs": [
    {
     "data": {
      "text/plain": [
       "array([nan, 'number_4dp', 'integer', 'number_1dp', 'date_ymd', 'date_mdy',\n",
       "       'alpha_only'], dtype=object)"
      ]
     },
     "execution_count": 61,
     "metadata": {},
     "output_type": "execute_result"
    }
   ],
   "source": [
    "data_dict['Text Validation Type OR Show Slider Number'].unique()"
   ]
  },
  {
   "cell_type": "code",
   "execution_count": 72,
   "metadata": {
    "collapsed": false,
    "scrolled": false
   },
   "outputs": [
    {
     "data": {
      "text/html": [
       "<div>\n",
       "<table border=\"1\" class=\"dataframe\">\n",
       "  <thead>\n",
       "    <tr style=\"text-align: right;\">\n",
       "      <th></th>\n",
       "      <th>Form Name</th>\n",
       "      <th>Section Header</th>\n",
       "      <th>Field Type</th>\n",
       "      <th>Field Label</th>\n",
       "      <th>Choices, Calculations, OR Slider Labels</th>\n",
       "      <th>Field Note</th>\n",
       "      <th>Text Validation Type OR Show Slider Number</th>\n",
       "      <th>Text Validation Min</th>\n",
       "      <th>Text Validation Max</th>\n",
       "      <th>Identifier?</th>\n",
       "      <th>Branching Logic (Show field only if...)</th>\n",
       "      <th>Required Field?</th>\n",
       "      <th>Custom Alignment</th>\n",
       "      <th>Question Number (surveys only)</th>\n",
       "      <th>Matrix Group Name</th>\n",
       "      <th>Matrix Ranking?</th>\n",
       "      <th>Field Annotation</th>\n",
       "    </tr>\n",
       "    <tr>\n",
       "      <th>Variable / Field Name</th>\n",
       "      <th></th>\n",
       "      <th></th>\n",
       "      <th></th>\n",
       "      <th></th>\n",
       "      <th></th>\n",
       "      <th></th>\n",
       "      <th></th>\n",
       "      <th></th>\n",
       "      <th></th>\n",
       "      <th></th>\n",
       "      <th></th>\n",
       "      <th></th>\n",
       "      <th></th>\n",
       "      <th></th>\n",
       "      <th></th>\n",
       "      <th></th>\n",
       "      <th></th>\n",
       "    </tr>\n",
       "  </thead>\n",
       "  <tbody>\n",
       "    <tr>\n",
       "      <th>samplenumber</th>\n",
       "      <td>ibd_biorepository_sample_database</td>\n",
       "      <td>NaN</td>\n",
       "      <td>text</td>\n",
       "      <td>Sample number (unique)</td>\n",
       "      <td>NaN</td>\n",
       "      <td>unique identifier for each individual sample</td>\n",
       "      <td>number_4dp</td>\n",
       "      <td>1010000001</td>\n",
       "      <td>99999999999</td>\n",
       "      <td>NaN</td>\n",
       "      <td>NaN</td>\n",
       "      <td>y</td>\n",
       "      <td>NaN</td>\n",
       "      <td>NaN</td>\n",
       "      <td>NaN</td>\n",
       "      <td>NaN</td>\n",
       "      <td>NaN</td>\n",
       "    </tr>\n",
       "  </tbody>\n",
       "</table>\n",
       "</div>"
      ],
      "text/plain": [
       "                                               Form Name  Section Header  \\\n",
       "Variable / Field Name                                                      \n",
       "samplenumber           ibd_biorepository_sample_database             NaN   \n",
       "\n",
       "                      Field Type             Field Label  \\\n",
       "Variable / Field Name                                      \n",
       "samplenumber                text  Sample number (unique)   \n",
       "\n",
       "                      Choices, Calculations, OR Slider Labels  \\\n",
       "Variable / Field Name                                           \n",
       "samplenumber                                              NaN   \n",
       "\n",
       "                                                         Field Note  \\\n",
       "Variable / Field Name                                                 \n",
       "samplenumber           unique identifier for each individual sample   \n",
       "\n",
       "                      Text Validation Type OR Show Slider Number  \\\n",
       "Variable / Field Name                                              \n",
       "samplenumber                                          number_4dp   \n",
       "\n",
       "                      Text Validation Min Text Validation Max Identifier?  \\\n",
       "Variable / Field Name                                                       \n",
       "samplenumber                   1010000001         99999999999         NaN   \n",
       "\n",
       "                      Branching Logic (Show field only if...) Required Field?  \\\n",
       "Variable / Field Name                                                           \n",
       "samplenumber                                              NaN               y   \n",
       "\n",
       "                       Custom Alignment  Question Number (surveys only)  \\\n",
       "Variable / Field Name                                                     \n",
       "samplenumber                        NaN                             NaN   \n",
       "\n",
       "                       Matrix Group Name  Matrix Ranking?  Field Annotation  \n",
       "Variable / Field Name                                                        \n",
       "samplenumber                         NaN              NaN               NaN  "
      ]
     },
     "execution_count": 72,
     "metadata": {},
     "output_type": "execute_result"
    }
   ],
   "source": [
    "data_dict[data_dict['Text Validation Type OR Show Slider Number'] == 'date_mdy']"
   ]
  },
  {
   "cell_type": "code",
   "execution_count": 60,
   "metadata": {
    "collapsed": false,
    "scrolled": false
   },
   "outputs": [
    {
     "data": {
      "text/html": [
       "<div>\n",
       "<table border=\"1\" class=\"dataframe\">\n",
       "  <thead>\n",
       "    <tr style=\"text-align: right;\">\n",
       "      <th></th>\n",
       "      <th>Form Name</th>\n",
       "      <th>Section Header</th>\n",
       "      <th>Field Type</th>\n",
       "      <th>Field Label</th>\n",
       "      <th>Choices, Calculations, OR Slider Labels</th>\n",
       "      <th>Field Note</th>\n",
       "      <th>Text Validation Type OR Show Slider Number</th>\n",
       "      <th>Text Validation Min</th>\n",
       "      <th>Text Validation Max</th>\n",
       "      <th>Identifier?</th>\n",
       "      <th>Branching Logic (Show field only if...)</th>\n",
       "      <th>Required Field?</th>\n",
       "      <th>Custom Alignment</th>\n",
       "      <th>Question Number (surveys only)</th>\n",
       "      <th>Matrix Group Name</th>\n",
       "      <th>Matrix Ranking?</th>\n",
       "      <th>Field Annotation</th>\n",
       "    </tr>\n",
       "    <tr>\n",
       "      <th>Variable / Field Name</th>\n",
       "      <th></th>\n",
       "      <th></th>\n",
       "      <th></th>\n",
       "      <th></th>\n",
       "      <th></th>\n",
       "      <th></th>\n",
       "      <th></th>\n",
       "      <th></th>\n",
       "      <th></th>\n",
       "      <th></th>\n",
       "      <th></th>\n",
       "      <th></th>\n",
       "      <th></th>\n",
       "      <th></th>\n",
       "      <th></th>\n",
       "      <th></th>\n",
       "      <th></th>\n",
       "    </tr>\n",
       "  </thead>\n",
       "  <tbody>\n",
       "    <tr>\n",
       "      <th>date_crf_completed</th>\n",
       "      <td>ibd_biorepository_sample_database</td>\n",
       "      <td>NaN</td>\n",
       "      <td>text</td>\n",
       "      <td>Date CRF was completed</td>\n",
       "      <td>NaN</td>\n",
       "      <td>NaN</td>\n",
       "      <td>date_ymd</td>\n",
       "      <td>1/1/00</td>\n",
       "      <td>1/1/00</td>\n",
       "      <td>NaN</td>\n",
       "      <td>NaN</td>\n",
       "      <td>y</td>\n",
       "      <td>NaN</td>\n",
       "      <td>NaN</td>\n",
       "      <td>NaN</td>\n",
       "      <td>NaN</td>\n",
       "      <td>NaN</td>\n",
       "    </tr>\n",
       "    <tr>\n",
       "      <th>sample_date</th>\n",
       "      <td>ibd_biorepository_sample_database</td>\n",
       "      <td>NaN</td>\n",
       "      <td>text</td>\n",
       "      <td>Date sample was obtained</td>\n",
       "      <td>NaN</td>\n",
       "      <td>NaN</td>\n",
       "      <td>date_ymd</td>\n",
       "      <td>1/1/00</td>\n",
       "      <td>12/31/20</td>\n",
       "      <td>NaN</td>\n",
       "      <td>NaN</td>\n",
       "      <td>y</td>\n",
       "      <td>NaN</td>\n",
       "      <td>NaN</td>\n",
       "      <td>NaN</td>\n",
       "      <td>NaN</td>\n",
       "      <td>NaN</td>\n",
       "    </tr>\n",
       "    <tr>\n",
       "      <th>dob</th>\n",
       "      <td>ibd_biorepository_sample_database</td>\n",
       "      <td>NaN</td>\n",
       "      <td>text</td>\n",
       "      <td>Patient's date of birth</td>\n",
       "      <td>NaN</td>\n",
       "      <td>NaN</td>\n",
       "      <td>date_ymd</td>\n",
       "      <td>1/1/00</td>\n",
       "      <td>12/31/20</td>\n",
       "      <td>y</td>\n",
       "      <td>NaN</td>\n",
       "      <td>NaN</td>\n",
       "      <td>NaN</td>\n",
       "      <td>NaN</td>\n",
       "      <td>NaN</td>\n",
       "      <td>NaN</td>\n",
       "      <td>NaN</td>\n",
       "    </tr>\n",
       "  </tbody>\n",
       "</table>\n",
       "</div>"
      ],
      "text/plain": [
       "                                               Form Name  Section Header  \\\n",
       "Variable / Field Name                                                      \n",
       "date_crf_completed     ibd_biorepository_sample_database             NaN   \n",
       "sample_date            ibd_biorepository_sample_database             NaN   \n",
       "dob                    ibd_biorepository_sample_database             NaN   \n",
       "\n",
       "                      Field Type               Field Label  \\\n",
       "Variable / Field Name                                        \n",
       "date_crf_completed          text    Date CRF was completed   \n",
       "sample_date                 text  Date sample was obtained   \n",
       "dob                         text   Patient's date of birth   \n",
       "\n",
       "                      Choices, Calculations, OR Slider Labels Field Note  \\\n",
       "Variable / Field Name                                                      \n",
       "date_crf_completed                                        NaN        NaN   \n",
       "sample_date                                               NaN        NaN   \n",
       "dob                                                       NaN        NaN   \n",
       "\n",
       "                      Text Validation Type OR Show Slider Number  \\\n",
       "Variable / Field Name                                              \n",
       "date_crf_completed                                      date_ymd   \n",
       "sample_date                                             date_ymd   \n",
       "dob                                                     date_ymd   \n",
       "\n",
       "                      Text Validation Min Text Validation Max Identifier?  \\\n",
       "Variable / Field Name                                                       \n",
       "date_crf_completed                 1/1/00              1/1/00         NaN   \n",
       "sample_date                        1/1/00            12/31/20         NaN   \n",
       "dob                                1/1/00            12/31/20           y   \n",
       "\n",
       "                      Branching Logic (Show field only if...) Required Field?  \\\n",
       "Variable / Field Name                                                           \n",
       "date_crf_completed                                        NaN               y   \n",
       "sample_date                                               NaN               y   \n",
       "dob                                                       NaN             NaN   \n",
       "\n",
       "                       Custom Alignment  Question Number (surveys only)  \\\n",
       "Variable / Field Name                                                     \n",
       "date_crf_completed                  NaN                             NaN   \n",
       "sample_date                         NaN                             NaN   \n",
       "dob                                 NaN                             NaN   \n",
       "\n",
       "                       Matrix Group Name  Matrix Ranking?  Field Annotation  \n",
       "Variable / Field Name                                                        \n",
       "date_crf_completed                   NaN              NaN               NaN  \n",
       "sample_date                          NaN              NaN               NaN  \n",
       "dob                                  NaN              NaN               NaN  "
      ]
     },
     "execution_count": 60,
     "metadata": {},
     "output_type": "execute_result"
    }
   ],
   "source": [
    "data_dict[data_dict['Text Validation Type OR Show Slider Number'] == 'date_ymd']"
   ]
  },
  {
   "cell_type": "markdown",
   "metadata": {},
   "source": [
    "# Convert to HTML report and move to reports folder"
   ]
  },
  {
   "cell_type": "code",
   "execution_count": null,
   "metadata": {
    "collapsed": false
   },
   "outputs": [],
   "source": [
    "# rv.reprt_dir"
   ]
  },
  {
   "cell_type": "code",
   "execution_count": null,
   "metadata": {
    "collapsed": false
   },
   "outputs": [],
   "source": [
    "# !jupyter nbconvert --to html_toc $rv.ipnb"
   ]
  },
  {
   "cell_type": "code",
   "execution_count": null,
   "metadata": {
    "collapsed": false
   },
   "outputs": [],
   "source": [
    "# !mkdir -p $rv.reprt_dir\n",
    "## !mv -f $rv.html $rv.files $rv.reprt_dir"
   ]
  },
  {
   "cell_type": "code",
   "execution_count": null,
   "metadata": {
    "collapsed": true
   },
   "outputs": [],
   "source": []
  }
 ],
 "metadata": {
  "anaconda-cloud": {},
  "hide_input": false,
  "kernelspec": {
   "display_name": "biorepo",
   "language": "python",
   "name": "biorepo"
  },
  "language_info": {
   "codemirror_mode": {
    "name": "ipython",
    "version": 3
   },
   "file_extension": ".py",
   "mimetype": "text/x-python",
   "name": "python",
   "nbconvert_exporter": "python",
   "pygments_lexer": "ipython3",
   "version": "3.5.2"
  },
  "toc": {
   "colors": {
    "hover_highlight": "#DAA520",
    "running_highlight": "#FF0000",
    "selected_highlight": "#FFD700"
   },
   "moveMenuLeft": true,
   "navigate_menu": false,
   "number_sections": true,
   "sideBar": true,
   "threshold": 4,
   "toc_cell": false,
   "toc_number_sections": true,
   "toc_position": {
    "height": "684px",
    "left": "0px",
    "right": "20px",
    "top": "106px",
    "width": "190px"
   },
   "toc_section_display": "block",
   "toc_threshold": 6,
   "toc_window_display": true
  },
  "toc_position": {
   "height": "946px",
   "left": "4.1375px",
   "right": "20px",
   "top": "106px",
   "width": "345px"
  }
 },
 "nbformat": 4,
 "nbformat_minor": 0
}
