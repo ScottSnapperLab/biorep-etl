{
 "cells": [
  {
   "cell_type": "markdown",
   "metadata": {},
   "source": [
    "# Set up\n"
   ]
  },
  {
   "cell_type": "markdown",
   "metadata": {},
   "source": [
    "## Imports"
   ]
  },
  {
   "cell_type": "code",
   "execution_count": 1,
   "metadata": {
    "collapsed": false
   },
   "outputs": [],
   "source": [
    "%matplotlib inline"
   ]
  },
  {
   "cell_type": "code",
   "execution_count": 2,
   "metadata": {
    "collapsed": true
   },
   "outputs": [],
   "source": [
    "import sys\n",
    "import os\n",
    "from pathlib import Path\n",
    "import math"
   ]
  },
  {
   "cell_type": "code",
   "execution_count": 3,
   "metadata": {
    "collapsed": false
   },
   "outputs": [],
   "source": [
    "import matplotlib.pyplot as plt\n",
    "import seaborn as sns\n",
    "sns.set_context(context=\"talk\", font_scale=1, rc=None)\n",
    "sns.set_style('whitegrid')"
   ]
  },
  {
   "cell_type": "code",
   "execution_count": 4,
   "metadata": {
    "collapsed": false
   },
   "outputs": [],
   "source": [
    "# Load the \"autoreload\" extension\n",
    "%load_ext autoreload\n",
    "%autoreload 2"
   ]
  },
  {
   "cell_type": "code",
   "execution_count": 5,
   "metadata": {
    "collapsed": true
   },
   "outputs": [],
   "source": [
    "import pandas as pd\n",
    "from pandas import IndexSlice as idx\n",
    "import numpy as np\n",
    "\n",
    "from collections import OrderedDict\n",
    "\n",
    "from munch import Munch\n",
    "from tqdm import tqdm"
   ]
  },
  {
   "cell_type": "code",
   "execution_count": 6,
   "metadata": {
    "collapsed": true
   },
   "outputs": [],
   "source": [
    "import engarde.decorators as ed"
   ]
  },
  {
   "cell_type": "code",
   "execution_count": 7,
   "metadata": {
    "collapsed": true
   },
   "outputs": [],
   "source": [
    "# import crunchers.sklearn_helpers.exploration as expl\n",
    "# import crunchers.statsmodels_helpers.lazy_stats as stats\n",
    "# import crunchers.pandas_helpers.transformations as xform"
   ]
  },
  {
   "cell_type": "code",
   "execution_count": 8,
   "metadata": {
    "collapsed": false
   },
   "outputs": [],
   "source": [
    "import biorep_etl.data.load_recode as loading\n",
    "import biorep_etl.data.field_definitions.redcap_dump as rcd"
   ]
  },
  {
   "cell_type": "markdown",
   "metadata": {},
   "source": [
    "## Constants"
   ]
  },
  {
   "cell_type": "markdown",
   "metadata": {},
   "source": [
    "### Get info for converting/moving this file to `reports`"
   ]
  },
  {
   "cell_type": "code",
   "execution_count": 9,
   "metadata": {
    "collapsed": false
   },
   "outputs": [],
   "source": [
    "# %%javascript\n",
    "# var kernel = IPython.notebook.kernel;\n",
    "# var thename = window.document.getElementById(\"notebook_name\").innerHTML;\n",
    "# var command = \"IPYNB_NAME = \" + \"'\"+thename+\"'\";\n",
    "# kernel.execute(command);"
   ]
  },
  {
   "cell_type": "code",
   "execution_count": 10,
   "metadata": {
    "collapsed": false
   },
   "outputs": [],
   "source": [
    "# rv = Munch()\n",
    "\n",
    "# rv.rep_id = 'yyy-mm-dd'\n",
    "# rv.desc = 'blank'\n",
    "# rv.ipnb = Path('{IPYNB_NAME}.ipynb'.format(IPYNB_NAME=IPYNB_NAME))\n",
    "# rv.html = '{ipnb}.html'.format(ipnb=rv.ipnb.stem)\n",
    "# rv.files = '{ipnb}_files'.format(ipnb=rv.ipnb.stem)\n",
    "# rv.reprt_dir = '../../reports/{IPYNB_NAME}/'.format(IPYNB_NAME=IPYNB_NAME)"
   ]
  },
  {
   "cell_type": "markdown",
   "metadata": {},
   "source": [
    "### Other Constants"
   ]
  },
  {
   "cell_type": "code",
   "execution_count": null,
   "metadata": {
    "collapsed": true
   },
   "outputs": [],
   "source": []
  },
  {
   "cell_type": "markdown",
   "metadata": {},
   "source": [
    "## Paths"
   ]
  },
  {
   "cell_type": "code",
   "execution_count": 11,
   "metadata": {
    "collapsed": true
   },
   "outputs": [],
   "source": [
    "data_ = \"../data/raw/registry/HarvardInflammatoryB_DATA_2017-01-20_0924.csv\"\n",
    "data_dict_ = \"../data/raw/registry/HarvardInflammatoryBowelDiseas_DataDictionary_2017-01-20.csv\""
   ]
  },
  {
   "cell_type": "markdown",
   "metadata": {},
   "source": [
    "## Functions"
   ]
  },
  {
   "cell_type": "code",
   "execution_count": null,
   "metadata": {
    "collapsed": true
   },
   "outputs": [],
   "source": []
  },
  {
   "cell_type": "markdown",
   "metadata": {},
   "source": [
    "## Loading"
   ]
  },
  {
   "cell_type": "code",
   "execution_count": 12,
   "metadata": {
    "collapsed": false
   },
   "outputs": [
    {
     "data": {
      "text/html": [
       "<div>\n",
       "<table border=\"1\" class=\"dataframe\">\n",
       "  <thead>\n",
       "    <tr style=\"text-align: right;\">\n",
       "      <th></th>\n",
       "      <th>Form Name</th>\n",
       "      <th>Section Header</th>\n",
       "      <th>Field Type</th>\n",
       "      <th>Field Label</th>\n",
       "      <th>Choices, Calculations, OR Slider Labels</th>\n",
       "      <th>Field Note</th>\n",
       "      <th>Text Validation Type OR Show Slider Number</th>\n",
       "      <th>Text Validation Min</th>\n",
       "      <th>Text Validation Max</th>\n",
       "      <th>Identifier?</th>\n",
       "      <th>Branching Logic (Show field only if...)</th>\n",
       "      <th>Required Field?</th>\n",
       "      <th>Custom Alignment</th>\n",
       "      <th>Question Number (surveys only)</th>\n",
       "      <th>Matrix Group Name</th>\n",
       "      <th>Matrix Ranking?</th>\n",
       "      <th>Field Annotation</th>\n",
       "    </tr>\n",
       "    <tr>\n",
       "      <th>Variable / Field Name</th>\n",
       "      <th></th>\n",
       "      <th></th>\n",
       "      <th></th>\n",
       "      <th></th>\n",
       "      <th></th>\n",
       "      <th></th>\n",
       "      <th></th>\n",
       "      <th></th>\n",
       "      <th></th>\n",
       "      <th></th>\n",
       "      <th></th>\n",
       "      <th></th>\n",
       "      <th></th>\n",
       "      <th></th>\n",
       "      <th></th>\n",
       "      <th></th>\n",
       "      <th></th>\n",
       "    </tr>\n",
       "  </thead>\n",
       "  <tbody>\n",
       "    <tr>\n",
       "      <th>subid</th>\n",
       "      <td>registration_visit</td>\n",
       "      <td>NaN</td>\n",
       "      <td>text</td>\n",
       "      <td>Subject ID</td>\n",
       "      <td>NaN</td>\n",
       "      <td>NaN</td>\n",
       "      <td>NaN</td>\n",
       "      <td>NaN</td>\n",
       "      <td>NaN</td>\n",
       "      <td>NaN</td>\n",
       "      <td>NaN</td>\n",
       "      <td>NaN</td>\n",
       "      <td>NaN</td>\n",
       "      <td>NaN</td>\n",
       "      <td>NaN</td>\n",
       "      <td>NaN</td>\n",
       "      <td>NaN</td>\n",
       "    </tr>\n",
       "    <tr>\n",
       "      <th>visitdate</th>\n",
       "      <td>registration_visit</td>\n",
       "      <td>Form RV: Registration Visit</td>\n",
       "      <td>text</td>\n",
       "      <td>Date of visit at which patient was consented:</td>\n",
       "      <td>NaN</td>\n",
       "      <td>NaN</td>\n",
       "      <td>date_mdy</td>\n",
       "      <td>NaN</td>\n",
       "      <td>NaN</td>\n",
       "      <td>NaN</td>\n",
       "      <td>NaN</td>\n",
       "      <td>y</td>\n",
       "      <td>NaN</td>\n",
       "      <td>NaN</td>\n",
       "      <td>NaN</td>\n",
       "      <td>NaN</td>\n",
       "      <td>NaN</td>\n",
       "    </tr>\n",
       "  </tbody>\n",
       "</table>\n",
       "</div>"
      ],
      "text/plain": [
       "                                Form Name               Section Header  \\\n",
       "Variable / Field Name                                                    \n",
       "subid                  registration_visit                          NaN   \n",
       "visitdate              registration_visit  Form RV: Registration Visit   \n",
       "\n",
       "                      Field Type  \\\n",
       "Variable / Field Name              \n",
       "subid                       text   \n",
       "visitdate                   text   \n",
       "\n",
       "                                                         Field Label  \\\n",
       "Variable / Field Name                                                  \n",
       "subid                                                     Subject ID   \n",
       "visitdate              Date of visit at which patient was consented:   \n",
       "\n",
       "                      Choices, Calculations, OR Slider Labels Field Note  \\\n",
       "Variable / Field Name                                                      \n",
       "subid                                                     NaN        NaN   \n",
       "visitdate                                                 NaN        NaN   \n",
       "\n",
       "                      Text Validation Type OR Show Slider Number  \\\n",
       "Variable / Field Name                                              \n",
       "subid                                                        NaN   \n",
       "visitdate                                               date_mdy   \n",
       "\n",
       "                      Text Validation Min Text Validation Max Identifier?  \\\n",
       "Variable / Field Name                                                       \n",
       "subid                                 NaN                 NaN         NaN   \n",
       "visitdate                             NaN                 NaN         NaN   \n",
       "\n",
       "                      Branching Logic (Show field only if...) Required Field?  \\\n",
       "Variable / Field Name                                                           \n",
       "subid                                                     NaN             NaN   \n",
       "visitdate                                                 NaN               y   \n",
       "\n",
       "                      Custom Alignment  Question Number (surveys only)  \\\n",
       "Variable / Field Name                                                    \n",
       "subid                              NaN                             NaN   \n",
       "visitdate                          NaN                             NaN   \n",
       "\n",
       "                      Matrix Group Name  Matrix Ranking?  Field Annotation  \n",
       "Variable / Field Name                                                       \n",
       "subid                               NaN              NaN               NaN  \n",
       "visitdate                           NaN              NaN               NaN  "
      ]
     },
     "execution_count": 12,
     "metadata": {},
     "output_type": "execute_result"
    }
   ],
   "source": [
    "data_dict = loading.load_data_dict(data_dict_=data_dict_)\n",
    "data_dict.head(2)"
   ]
  },
  {
   "cell_type": "code",
   "execution_count": 14,
   "metadata": {
    "collapsed": false,
    "scrolled": true
   },
   "outputs": [
    {
     "name": "stderr",
     "output_type": "stream",
     "text": [
      "/home/gus/.anaconda/envs/biorepo/lib/python3.5/site-packages/IPython/core/interactiveshell.py:2881: DtypeWarning: Columns (0,115,151,162,171,273,424,425,429,432,433,447,448,523,539,664,667,670,673,676,679,682,685) have mixed types. Specify dtype option on import or set low_memory=False.\n",
      "  exec(code_obj, self.user_global_ns, self.user_ns)\n"
     ]
    }
   ],
   "source": [
    "data = loading.init_load_data_and_labels(data_=data_, data_dict_=data_dict_)"
   ]
  },
  {
   "cell_type": "code",
   "execution_count": 15,
   "metadata": {
    "collapsed": false
   },
   "outputs": [
    {
     "ename": "AttributeError",
     "evalue": "head",
     "output_type": "error",
     "traceback": [
      "\u001b[0;31m---------------------------------------------------------------------------\u001b[0m",
      "\u001b[0;31mAttributeError\u001b[0m                            Traceback (most recent call last)",
      "\u001b[0;32m/home/gus/.anaconda/envs/biorepo/lib/python3.5/site-packages/munch/__init__.py\u001b[0m in \u001b[0;36m__getattr__\u001b[0;34m(self, k)\u001b[0m\n\u001b[1;32m    122\u001b[0m             \u001b[0;31m# Throws exception if not in prototype chain\u001b[0m\u001b[0;34m\u001b[0m\u001b[0;34m\u001b[0m\u001b[0m\n\u001b[0;32m--> 123\u001b[0;31m             \u001b[0;32mreturn\u001b[0m \u001b[0mobject\u001b[0m\u001b[0;34m.\u001b[0m\u001b[0m__getattribute__\u001b[0m\u001b[0;34m(\u001b[0m\u001b[0mself\u001b[0m\u001b[0;34m,\u001b[0m \u001b[0mk\u001b[0m\u001b[0;34m)\u001b[0m\u001b[0;34m\u001b[0m\u001b[0m\n\u001b[0m\u001b[1;32m    124\u001b[0m         \u001b[0;32mexcept\u001b[0m \u001b[0mAttributeError\u001b[0m\u001b[0;34m:\u001b[0m\u001b[0;34m\u001b[0m\u001b[0m\n",
      "\u001b[0;31mAttributeError\u001b[0m: 'Munch' object has no attribute 'head'",
      "\nDuring handling of the above exception, another exception occurred:\n",
      "\u001b[0;31mKeyError\u001b[0m                                  Traceback (most recent call last)",
      "\u001b[0;32m/home/gus/.anaconda/envs/biorepo/lib/python3.5/site-packages/munch/__init__.py\u001b[0m in \u001b[0;36m__getattr__\u001b[0;34m(self, k)\u001b[0m\n\u001b[1;32m    125\u001b[0m             \u001b[0;32mtry\u001b[0m\u001b[0;34m:\u001b[0m\u001b[0;34m\u001b[0m\u001b[0m\n\u001b[0;32m--> 126\u001b[0;31m                 \u001b[0;32mreturn\u001b[0m \u001b[0mself\u001b[0m\u001b[0;34m[\u001b[0m\u001b[0mk\u001b[0m\u001b[0;34m]\u001b[0m\u001b[0;34m\u001b[0m\u001b[0m\n\u001b[0m\u001b[1;32m    127\u001b[0m             \u001b[0;32mexcept\u001b[0m \u001b[0mKeyError\u001b[0m\u001b[0;34m:\u001b[0m\u001b[0;34m\u001b[0m\u001b[0m\n",
      "\u001b[0;31mKeyError\u001b[0m: 'head'",
      "\nDuring handling of the above exception, another exception occurred:\n",
      "\u001b[0;31mAttributeError\u001b[0m                            Traceback (most recent call last)",
      "\u001b[0;32m<ipython-input-15-199065406915>\u001b[0m in \u001b[0;36m<module>\u001b[0;34m()\u001b[0m\n\u001b[0;32m----> 1\u001b[0;31m \u001b[0mdata\u001b[0m\u001b[0;34m.\u001b[0m\u001b[0mhead\u001b[0m\u001b[0;34m(\u001b[0m\u001b[0;34m)\u001b[0m\u001b[0;34m\u001b[0m\u001b[0m\n\u001b[0m",
      "\u001b[0;32m/home/gus/.anaconda/envs/biorepo/lib/python3.5/site-packages/munch/__init__.py\u001b[0m in \u001b[0;36m__getattr__\u001b[0;34m(self, k)\u001b[0m\n\u001b[1;32m    126\u001b[0m                 \u001b[0;32mreturn\u001b[0m \u001b[0mself\u001b[0m\u001b[0;34m[\u001b[0m\u001b[0mk\u001b[0m\u001b[0;34m]\u001b[0m\u001b[0;34m\u001b[0m\u001b[0m\n\u001b[1;32m    127\u001b[0m             \u001b[0;32mexcept\u001b[0m \u001b[0mKeyError\u001b[0m\u001b[0;34m:\u001b[0m\u001b[0;34m\u001b[0m\u001b[0m\n\u001b[0;32m--> 128\u001b[0;31m                 \u001b[0;32mraise\u001b[0m \u001b[0mAttributeError\u001b[0m\u001b[0;34m(\u001b[0m\u001b[0mk\u001b[0m\u001b[0;34m)\u001b[0m\u001b[0;34m\u001b[0m\u001b[0m\n\u001b[0m\u001b[1;32m    129\u001b[0m \u001b[0;34m\u001b[0m\u001b[0m\n\u001b[1;32m    130\u001b[0m     \u001b[0;32mdef\u001b[0m \u001b[0m__setattr__\u001b[0m\u001b[0;34m(\u001b[0m\u001b[0mself\u001b[0m\u001b[0;34m,\u001b[0m \u001b[0mk\u001b[0m\u001b[0;34m,\u001b[0m \u001b[0mv\u001b[0m\u001b[0;34m)\u001b[0m\u001b[0;34m:\u001b[0m\u001b[0;34m\u001b[0m\u001b[0m\n",
      "\u001b[0;31mAttributeError\u001b[0m: head"
     ]
    }
   ],
   "source": [
    "data.head()"
   ]
  },
  {
   "cell_type": "code",
   "execution_count": 151,
   "metadata": {
    "collapsed": false
   },
   "outputs": [
    {
     "data": {
      "text/plain": [
       "samplenumber                                                                   06291601935.0201\n",
       "label_on_sample                                                                       CHB701.0 \n",
       "mrn                                                                                     4979299\n",
       "biorepidnumber                                                                           1935.0\n",
       "completed_by                                                                                NaN\n",
       "date_crf_completed                                                                          NaN\n",
       "sample_date                                                                          2015-10-24\n",
       "registryconsent                                                                               0\n",
       "biorepconsent                                                                                 1\n",
       "prior_protocol_number                                                                       NaN\n",
       "ibdyesno                                                                                      1\n",
       "ibdtype                                                                                       1\n",
       "otheribddx                                                                                  NaN\n",
       "family_history                                                                                0\n",
       "familymember_ibd___1                                                                          0\n",
       "familymember_ibd___2                                                                          0\n",
       "familymember_ibd___3                                                                          0\n",
       "familymember_ibd___4                                                                          0\n",
       "familymember_ibd___5                                                                          0\n",
       "familymember_ibd___6                                                                          0\n",
       "other_relative                                                                              NaN\n",
       "ibd_immunodeficiencies                                                                        8\n",
       "other_immunodeficiency                                                                      NaN\n",
       "controldx                                                                                   NaN\n",
       "other_diagnosis                                                                             NaN\n",
       "control_immunodeficiency                                                                    NaN\n",
       "otherimmuno_control                                                                         NaN\n",
       "psc                                                                                           0\n",
       "familymembertype                                                                            NaN\n",
       "familymembergidx                                                                            NaN\n",
       "                                                                    ...                        \n",
       "glucocorticoid_type___4                                                                       0\n",
       "current_immunomodulator                                                                       1\n",
       "immunomodulator_type___1                                                                      0\n",
       "immunomodulator_type___2                                                                      1\n",
       "immunomodulator_type___3                                                                      0\n",
       "current_antitnf                                                                               1\n",
       "antitnf_type___1                                                                              1\n",
       "antitnf_type___2                                                                              0\n",
       "antitnf_type___3                                                                              0\n",
       "current_calcineurin                                                                           0\n",
       "calcineurin_type___1                                                                          0\n",
       "calcineurin_type___2                                                                          0\n",
       "current_otherbiologics                                                                        0\n",
       "otherbiologic_type___1                                                                        0\n",
       "otherbiologic_type___2                                                                        0\n",
       "otherbiologic_type___3                                                                        0\n",
       "fecaltransplant                                                                             NaN\n",
       "current_othermeds                                                                             1\n",
       "othermed_type___2                                                                             0\n",
       "othermed_type___3                                                                             1\n",
       "othermed                                      dicyclomine, halcinonide, triamincinolone, ond...\n",
       "date_labs                                                                            2015-10-24\n",
       "hct                                                                                        34.9\n",
       "wbc                                                                                        6.53\n",
       "plt                                                                                         234\n",
       "crp                                                                                        <.03\n",
       "esr                                                                                          10\n",
       "alb                                                                                         4.1\n",
       "notes                                                                                       NaN\n",
       "ibd_biorepository_sample_database_complete                                                    2\n",
       "Name: 2311, dtype: object"
      ]
     },
     "execution_count": 151,
     "metadata": {},
     "output_type": "execute_result"
    }
   ],
   "source": [
    "d.iloc[2284,:]"
   ]
  },
  {
   "cell_type": "code",
   "execution_count": null,
   "metadata": {
    "collapsed": true
   },
   "outputs": [],
   "source": []
  },
  {
   "cell_type": "markdown",
   "metadata": {},
   "source": [
    "# Initial table classes\n",
    "\n",
    "- Subject\n",
    "- Sample"
   ]
  },
  {
   "cell_type": "markdown",
   "metadata": {},
   "source": [
    "## Subject\n",
    "\n",
    "    - biorepidnumber\n",
    "    - gender\n",
    "    - dob\n",
    "    - chb_id\n",
    "    - registryconsent?\n",
    "    - biorepconsent?\n",
    "    - ibdyesno ~ subject_class:[IBD,CTRL,FAM]\n",
    "    - ibd_dx\n",
    "    - ctrl_dx\n",
    "    - familymembergidx ~ fam_dx\n",
    "    - ctrl_immunodef\n",
    "    - psc ~ primary_sclerosing_cholangitis\n",
    "    - familymembertype ~ fam_mem_type:[mom,dad,bro,sis,other]\n",
    "\n",
    "\n",
    "__NOTES:__\n",
    "\n",
    "- must also develop `engarde` rules for validations for each column\n",
    "\n",
    "\n"
   ]
  },
  {
   "cell_type": "code",
   "execution_count": null,
   "metadata": {
    "collapsed": true
   },
   "outputs": [],
   "source": [
    "\n",
    "def populate_subject_table(df):\n",
    "    \"\"\"Return dataframe of Subject-specific data after recoding and calculations from redcap dump.\"\"\"\n",
    "    \n",
    "\n",
    "def build_one_subject(df):\n",
    "    \"\"\"Return a dataframe with one row representing a single subject.\n",
    "    \n",
    "    Row contains vetted data columns culled from the sum of all rows assigned to \n",
    "    a subject.\n",
    "    \"\"\"\n",
    "    \n",
    "    \n",
    "    "
   ]
  },
  {
   "cell_type": "code",
   "execution_count": 33,
   "metadata": {
    "collapsed": false
   },
   "outputs": [],
   "source": [
    "indivs = {name:table for name, table in data.data.groupby('biorepidnumber')}"
   ]
  },
  {
   "cell_type": "code",
   "execution_count": null,
   "metadata": {
    "collapsed": true
   },
   "outputs": [],
   "source": []
  },
  {
   "cell_type": "markdown",
   "metadata": {},
   "source": [
    "## Sample"
   ]
  },
  {
   "cell_type": "markdown",
   "metadata": {},
   "source": [
    "# Data Structures"
   ]
  },
  {
   "cell_type": "markdown",
   "metadata": {},
   "source": [
    "## data_dict"
   ]
  },
  {
   "cell_type": "code",
   "execution_count": 95,
   "metadata": {
    "collapsed": false,
    "scrolled": false
   },
   "outputs": [
    {
     "data": {
      "text/html": [
       "<div>\n",
       "<table border=\"1\" class=\"dataframe\">\n",
       "  <thead>\n",
       "    <tr style=\"text-align: right;\">\n",
       "      <th></th>\n",
       "      <th>Form Name</th>\n",
       "      <th>Section Header</th>\n",
       "      <th>Field Type</th>\n",
       "      <th>Field Label</th>\n",
       "      <th>Choices, Calculations, OR Slider Labels</th>\n",
       "      <th>Field Note</th>\n",
       "      <th>Text Validation Type OR Show Slider Number</th>\n",
       "      <th>Text Validation Min</th>\n",
       "      <th>Text Validation Max</th>\n",
       "      <th>Identifier?</th>\n",
       "      <th>Branching Logic (Show field only if...)</th>\n",
       "      <th>Required Field?</th>\n",
       "      <th>Custom Alignment</th>\n",
       "      <th>Question Number (surveys only)</th>\n",
       "      <th>Matrix Group Name</th>\n",
       "      <th>Matrix Ranking?</th>\n",
       "      <th>Field Annotation</th>\n",
       "    </tr>\n",
       "    <tr>\n",
       "      <th>Variable / Field Name</th>\n",
       "      <th></th>\n",
       "      <th></th>\n",
       "      <th></th>\n",
       "      <th></th>\n",
       "      <th></th>\n",
       "      <th></th>\n",
       "      <th></th>\n",
       "      <th></th>\n",
       "      <th></th>\n",
       "      <th></th>\n",
       "      <th></th>\n",
       "      <th></th>\n",
       "      <th></th>\n",
       "      <th></th>\n",
       "      <th></th>\n",
       "      <th></th>\n",
       "      <th></th>\n",
       "    </tr>\n",
       "  </thead>\n",
       "  <tbody>\n",
       "    <tr>\n",
       "      <th>record_id</th>\n",
       "      <td>ibd_biorepository_sample_database</td>\n",
       "      <td>NaN</td>\n",
       "      <td>text</td>\n",
       "      <td>Record ID</td>\n",
       "      <td>NaN</td>\n",
       "      <td>NaN</td>\n",
       "      <td>NaN</td>\n",
       "      <td>NaN</td>\n",
       "      <td>NaN</td>\n",
       "      <td>NaN</td>\n",
       "      <td>NaN</td>\n",
       "      <td>NaN</td>\n",
       "      <td>NaN</td>\n",
       "      <td>NaN</td>\n",
       "      <td>NaN</td>\n",
       "      <td>NaN</td>\n",
       "      <td>NaN</td>\n",
       "    </tr>\n",
       "    <tr>\n",
       "      <th>samplenumber</th>\n",
       "      <td>ibd_biorepository_sample_database</td>\n",
       "      <td>NaN</td>\n",
       "      <td>text</td>\n",
       "      <td>Sample number (unique)</td>\n",
       "      <td>NaN</td>\n",
       "      <td>unique identifier for each individual sample</td>\n",
       "      <td>number_4dp</td>\n",
       "      <td>1010000001</td>\n",
       "      <td>99999999999</td>\n",
       "      <td>NaN</td>\n",
       "      <td>NaN</td>\n",
       "      <td>y</td>\n",
       "      <td>NaN</td>\n",
       "      <td>NaN</td>\n",
       "      <td>NaN</td>\n",
       "      <td>NaN</td>\n",
       "      <td>NaN</td>\n",
       "    </tr>\n",
       "    <tr>\n",
       "      <th>label_on_sample</th>\n",
       "      <td>ibd_biorepository_sample_database</td>\n",
       "      <td>NaN</td>\n",
       "      <td>text</td>\n",
       "      <td>Label on sample</td>\n",
       "      <td>NaN</td>\n",
       "      <td>NaN</td>\n",
       "      <td>NaN</td>\n",
       "      <td>NaN</td>\n",
       "      <td>NaN</td>\n",
       "      <td>NaN</td>\n",
       "      <td>NaN</td>\n",
       "      <td>y</td>\n",
       "      <td>NaN</td>\n",
       "      <td>NaN</td>\n",
       "      <td>NaN</td>\n",
       "      <td>NaN</td>\n",
       "      <td>NaN</td>\n",
       "    </tr>\n",
       "    <tr>\n",
       "      <th>mrn</th>\n",
       "      <td>ibd_biorepository_sample_database</td>\n",
       "      <td>NaN</td>\n",
       "      <td>text</td>\n",
       "      <td>Medical record number</td>\n",
       "      <td>NaN</td>\n",
       "      <td>subjects without CHMR get 9999999</td>\n",
       "      <td>integer</td>\n",
       "      <td>1</td>\n",
       "      <td>9999999</td>\n",
       "      <td>y</td>\n",
       "      <td>NaN</td>\n",
       "      <td>y</td>\n",
       "      <td>NaN</td>\n",
       "      <td>NaN</td>\n",
       "      <td>NaN</td>\n",
       "      <td>NaN</td>\n",
       "      <td>NaN</td>\n",
       "    </tr>\n",
       "    <tr>\n",
       "      <th>biorepidnumber</th>\n",
       "      <td>ibd_biorepository_sample_database</td>\n",
       "      <td>NaN</td>\n",
       "      <td>text</td>\n",
       "      <td>Biorepository ID number</td>\n",
       "      <td>NaN</td>\n",
       "      <td>relatives get 1 decimal place (mom=.2, dad=.3,...</td>\n",
       "      <td>number_1dp</td>\n",
       "      <td>NaN</td>\n",
       "      <td>NaN</td>\n",
       "      <td>NaN</td>\n",
       "      <td>NaN</td>\n",
       "      <td>y</td>\n",
       "      <td>NaN</td>\n",
       "      <td>NaN</td>\n",
       "      <td>NaN</td>\n",
       "      <td>NaN</td>\n",
       "      <td>NaN</td>\n",
       "    </tr>\n",
       "  </tbody>\n",
       "</table>\n",
       "</div>"
      ],
      "text/plain": [
       "                                               Form Name  Section Header  \\\n",
       "Variable / Field Name                                                      \n",
       "record_id              ibd_biorepository_sample_database             NaN   \n",
       "samplenumber           ibd_biorepository_sample_database             NaN   \n",
       "label_on_sample        ibd_biorepository_sample_database             NaN   \n",
       "mrn                    ibd_biorepository_sample_database             NaN   \n",
       "biorepidnumber         ibd_biorepository_sample_database             NaN   \n",
       "\n",
       "                      Field Type              Field Label  \\\n",
       "Variable / Field Name                                       \n",
       "record_id                   text                Record ID   \n",
       "samplenumber                text   Sample number (unique)   \n",
       "label_on_sample             text          Label on sample   \n",
       "mrn                         text    Medical record number   \n",
       "biorepidnumber              text  Biorepository ID number   \n",
       "\n",
       "                      Choices, Calculations, OR Slider Labels  \\\n",
       "Variable / Field Name                                           \n",
       "record_id                                                 NaN   \n",
       "samplenumber                                              NaN   \n",
       "label_on_sample                                           NaN   \n",
       "mrn                                                       NaN   \n",
       "biorepidnumber                                            NaN   \n",
       "\n",
       "                                                              Field Note  \\\n",
       "Variable / Field Name                                                      \n",
       "record_id                                                            NaN   \n",
       "samplenumber                unique identifier for each individual sample   \n",
       "label_on_sample                                                      NaN   \n",
       "mrn                                    subjects without CHMR get 9999999   \n",
       "biorepidnumber         relatives get 1 decimal place (mom=.2, dad=.3,...   \n",
       "\n",
       "                      Text Validation Type OR Show Slider Number  \\\n",
       "Variable / Field Name                                              \n",
       "record_id                                                    NaN   \n",
       "samplenumber                                          number_4dp   \n",
       "label_on_sample                                              NaN   \n",
       "mrn                                                      integer   \n",
       "biorepidnumber                                        number_1dp   \n",
       "\n",
       "                      Text Validation Min Text Validation Max Identifier?  \\\n",
       "Variable / Field Name                                                       \n",
       "record_id                             NaN                 NaN         NaN   \n",
       "samplenumber                   1010000001         99999999999         NaN   \n",
       "label_on_sample                       NaN                 NaN         NaN   \n",
       "mrn                                     1             9999999           y   \n",
       "biorepidnumber                        NaN                 NaN         NaN   \n",
       "\n",
       "                      Branching Logic (Show field only if...) Required Field?  \\\n",
       "Variable / Field Name                                                           \n",
       "record_id                                                 NaN             NaN   \n",
       "samplenumber                                              NaN               y   \n",
       "label_on_sample                                           NaN               y   \n",
       "mrn                                                       NaN               y   \n",
       "biorepidnumber                                            NaN               y   \n",
       "\n",
       "                       Custom Alignment  Question Number (surveys only)  \\\n",
       "Variable / Field Name                                                     \n",
       "record_id                           NaN                             NaN   \n",
       "samplenumber                        NaN                             NaN   \n",
       "label_on_sample                     NaN                             NaN   \n",
       "mrn                                 NaN                             NaN   \n",
       "biorepidnumber                      NaN                             NaN   \n",
       "\n",
       "                       Matrix Group Name  Matrix Ranking?  Field Annotation  \n",
       "Variable / Field Name                                                        \n",
       "record_id                            NaN              NaN               NaN  \n",
       "samplenumber                         NaN              NaN               NaN  \n",
       "label_on_sample                      NaN              NaN               NaN  \n",
       "mrn                                  NaN              NaN               NaN  \n",
       "biorepidnumber                       NaN              NaN               NaN  "
      ]
     },
     "execution_count": 95,
     "metadata": {},
     "output_type": "execute_result"
    }
   ],
   "source": [
    "dd = data_dict\n",
    "dd.head()"
   ]
  },
  {
   "cell_type": "code",
   "execution_count": 145,
   "metadata": {
    "collapsed": false
   },
   "outputs": [
    {
     "data": {
      "text/plain": [
       "['samplenumber',\n",
       " 'label_on_sample',\n",
       " 'mrn',\n",
       " 'biorepidnumber',\n",
       " 'completed_by',\n",
       " 'date_crf_completed',\n",
       " 'sample_date',\n",
       " 'registryconsent',\n",
       " 'biorepconsent',\n",
       " 'ibdyesno',\n",
       " 'ibdtype',\n",
       " 'sampletype']"
      ]
     },
     "execution_count": 145,
     "metadata": {},
     "output_type": "execute_result"
    }
   ],
   "source": [
    "list(dd[dd['Required Field?'] == 'y'].index.values)"
   ]
  },
  {
   "cell_type": "markdown",
   "metadata": {},
   "source": [
    "## data"
   ]
  },
  {
   "cell_type": "code",
   "execution_count": 125,
   "metadata": {
    "collapsed": false,
    "scrolled": false
   },
   "outputs": [
    {
     "data": {
      "text/html": [
       "<div>\n",
       "<table border=\"1\" class=\"dataframe\">\n",
       "  <thead>\n",
       "    <tr style=\"text-align: right;\">\n",
       "      <th></th>\n",
       "      <th>samplenumber</th>\n",
       "      <th>label_on_sample</th>\n",
       "      <th>mrn</th>\n",
       "      <th>biorepidnumber</th>\n",
       "      <th>completed_by</th>\n",
       "      <th>date_crf_completed</th>\n",
       "      <th>sample_date</th>\n",
       "      <th>registryconsent</th>\n",
       "      <th>biorepconsent</th>\n",
       "      <th>prior_protocol_number</th>\n",
       "      <th>...</th>\n",
       "      <th>othermed</th>\n",
       "      <th>date_labs</th>\n",
       "      <th>hct</th>\n",
       "      <th>wbc</th>\n",
       "      <th>plt</th>\n",
       "      <th>crp</th>\n",
       "      <th>esr</th>\n",
       "      <th>alb</th>\n",
       "      <th>notes</th>\n",
       "      <th>ibd_biorepository_sample_database_complete</th>\n",
       "    </tr>\n",
       "    <tr>\n",
       "      <th>record_id</th>\n",
       "      <th></th>\n",
       "      <th></th>\n",
       "      <th></th>\n",
       "      <th></th>\n",
       "      <th></th>\n",
       "      <th></th>\n",
       "      <th></th>\n",
       "      <th></th>\n",
       "      <th></th>\n",
       "      <th></th>\n",
       "      <th></th>\n",
       "      <th></th>\n",
       "      <th></th>\n",
       "      <th></th>\n",
       "      <th></th>\n",
       "      <th></th>\n",
       "      <th></th>\n",
       "      <th></th>\n",
       "      <th></th>\n",
       "      <th></th>\n",
       "      <th></th>\n",
       "    </tr>\n",
       "  </thead>\n",
       "  <tbody>\n",
       "    <tr>\n",
       "      <th>1</th>\n",
       "      <td>05231301004.0201</td>\n",
       "      <td>1004</td>\n",
       "      <td>2127951</td>\n",
       "      <td>1004.0</td>\n",
       "      <td>NaN</td>\n",
       "      <td>NaN</td>\n",
       "      <td>2012-12-25</td>\n",
       "      <td>0.0</td>\n",
       "      <td>1.0</td>\n",
       "      <td>NaN</td>\n",
       "      <td>...</td>\n",
       "      <td>Lo ovral</td>\n",
       "      <td>NaN</td>\n",
       "      <td>37.5</td>\n",
       "      <td>8.32</td>\n",
       "      <td>288</td>\n",
       "      <td>0.47</td>\n",
       "      <td>13.0</td>\n",
       "      <td>4.3</td>\n",
       "      <td>NaN</td>\n",
       "      <td>2</td>\n",
       "    </tr>\n",
       "    <tr>\n",
       "      <th>2</th>\n",
       "      <td>08051400433.2401</td>\n",
       "      <td>433.2-MX</td>\n",
       "      <td>2035198</td>\n",
       "      <td>433.2</td>\n",
       "      <td>NaN</td>\n",
       "      <td>NaN</td>\n",
       "      <td>2014-04-08</td>\n",
       "      <td>0.0</td>\n",
       "      <td>1.0</td>\n",
       "      <td>NaN</td>\n",
       "      <td>...</td>\n",
       "      <td>NaN</td>\n",
       "      <td>NaN</td>\n",
       "      <td>NaN</td>\n",
       "      <td>NaN</td>\n",
       "      <td>NaN</td>\n",
       "      <td>NaN</td>\n",
       "      <td>NaN</td>\n",
       "      <td>NaN</td>\n",
       "      <td>NaN</td>\n",
       "      <td>2</td>\n",
       "    </tr>\n",
       "    <tr>\n",
       "      <th>3</th>\n",
       "      <td>08161400433.2401</td>\n",
       "      <td>433.2-NX</td>\n",
       "      <td>2035198</td>\n",
       "      <td>433.2</td>\n",
       "      <td>NaN</td>\n",
       "      <td>NaN</td>\n",
       "      <td>2014-07-11</td>\n",
       "      <td>0.0</td>\n",
       "      <td>1.0</td>\n",
       "      <td>NaN</td>\n",
       "      <td>...</td>\n",
       "      <td>NaN</td>\n",
       "      <td>NaN</td>\n",
       "      <td>NaN</td>\n",
       "      <td>NaN</td>\n",
       "      <td>NaN</td>\n",
       "      <td>NaN</td>\n",
       "      <td>NaN</td>\n",
       "      <td>NaN</td>\n",
       "      <td>NaN</td>\n",
       "      <td>2</td>\n",
       "    </tr>\n",
       "    <tr>\n",
       "      <th>4</th>\n",
       "      <td>04241300001.0101</td>\n",
       "      <td>1</td>\n",
       "      <td>1042672</td>\n",
       "      <td>1.0</td>\n",
       "      <td>NaN</td>\n",
       "      <td>NaN</td>\n",
       "      <td>2013-02-20</td>\n",
       "      <td>1.0</td>\n",
       "      <td>1.0</td>\n",
       "      <td>NaN</td>\n",
       "      <td>...</td>\n",
       "      <td>INH</td>\n",
       "      <td>NaN</td>\n",
       "      <td>31.4</td>\n",
       "      <td>2.83</td>\n",
       "      <td>233</td>\n",
       "      <td>0.09</td>\n",
       "      <td>19.0</td>\n",
       "      <td>4.3</td>\n",
       "      <td>NaN</td>\n",
       "      <td>2</td>\n",
       "    </tr>\n",
       "    <tr>\n",
       "      <th>5</th>\n",
       "      <td>01151300002.0201</td>\n",
       "      <td>2</td>\n",
       "      <td>2237636</td>\n",
       "      <td>2.0</td>\n",
       "      <td>NaN</td>\n",
       "      <td>NaN</td>\n",
       "      <td>2012-03-10</td>\n",
       "      <td>1.0</td>\n",
       "      <td>1.0</td>\n",
       "      <td>NaN</td>\n",
       "      <td>...</td>\n",
       "      <td>Ursodeoxycholic acid</td>\n",
       "      <td>NaN</td>\n",
       "      <td>40.2</td>\n",
       "      <td>6.42</td>\n",
       "      <td>310</td>\n",
       "      <td>0.29</td>\n",
       "      <td>13.0</td>\n",
       "      <td>4.7</td>\n",
       "      <td>NaN</td>\n",
       "      <td>2</td>\n",
       "    </tr>\n",
       "  </tbody>\n",
       "</table>\n",
       "<p>5 rows × 202 columns</p>\n",
       "</div>"
      ],
      "text/plain": [
       "               samplenumber label_on_sample      mrn biorepidnumber  \\\n",
       "record_id                                                             \n",
       "1          05231301004.0201            1004  2127951         1004.0   \n",
       "2          08051400433.2401        433.2-MX  2035198          433.2   \n",
       "3          08161400433.2401        433.2-NX  2035198          433.2   \n",
       "4          04241300001.0101               1  1042672            1.0   \n",
       "5          01151300002.0201               2  2237636            2.0   \n",
       "\n",
       "           completed_by date_crf_completed sample_date  registryconsent  \\\n",
       "record_id                                                                 \n",
       "1                   NaN                NaN  2012-12-25              0.0   \n",
       "2                   NaN                NaN  2014-04-08              0.0   \n",
       "3                   NaN                NaN  2014-07-11              0.0   \n",
       "4                   NaN                NaN  2013-02-20              1.0   \n",
       "5                   NaN                NaN  2012-03-10              1.0   \n",
       "\n",
       "           biorepconsent  prior_protocol_number  \\\n",
       "record_id                                         \n",
       "1                    1.0                    NaN   \n",
       "2                    1.0                    NaN   \n",
       "3                    1.0                    NaN   \n",
       "4                    1.0                    NaN   \n",
       "5                    1.0                    NaN   \n",
       "\n",
       "                              ...                                  othermed  \\\n",
       "record_id                     ...                                             \n",
       "1                             ...                                  Lo ovral   \n",
       "2                             ...                                       NaN   \n",
       "3                             ...                                       NaN   \n",
       "4                             ...                                       INH   \n",
       "5                             ...                      Ursodeoxycholic acid   \n",
       "\n",
       "           date_labs   hct   wbc  plt   crp   esr  alb  notes  \\\n",
       "record_id                                                       \n",
       "1                NaN  37.5  8.32  288  0.47  13.0  4.3    NaN   \n",
       "2                NaN   NaN   NaN  NaN   NaN   NaN  NaN    NaN   \n",
       "3                NaN   NaN   NaN  NaN   NaN   NaN  NaN    NaN   \n",
       "4                NaN  31.4  2.83  233  0.09  19.0  4.3    NaN   \n",
       "5                NaN  40.2  6.42  310  0.29  13.0  4.7    NaN   \n",
       "\n",
       "           ibd_biorepository_sample_database_complete  \n",
       "record_id                                              \n",
       "1                                                   2  \n",
       "2                                                   2  \n",
       "3                                                   2  \n",
       "4                                                   2  \n",
       "5                                                   2  \n",
       "\n",
       "[5 rows x 202 columns]"
      ]
     },
     "execution_count": 125,
     "metadata": {},
     "output_type": "execute_result"
    }
   ],
   "source": [
    "d = data.data\n",
    "d.head()"
   ]
  },
  {
   "cell_type": "code",
   "execution_count": 126,
   "metadata": {
    "collapsed": false
   },
   "outputs": [
    {
     "data": {
      "text/html": [
       "<div>\n",
       "<table border=\"1\" class=\"dataframe\">\n",
       "  <thead>\n",
       "    <tr style=\"text-align: right;\">\n",
       "      <th></th>\n",
       "      <th>left</th>\n",
       "      <th>right</th>\n",
       "    </tr>\n",
       "    <tr>\n",
       "      <th>record_id</th>\n",
       "      <th></th>\n",
       "      <th></th>\n",
       "    </tr>\n",
       "  </thead>\n",
       "  <tbody>\n",
       "    <tr>\n",
       "      <th>1</th>\n",
       "      <td>05231301004</td>\n",
       "      <td>0201</td>\n",
       "    </tr>\n",
       "    <tr>\n",
       "      <th>2</th>\n",
       "      <td>08051400433</td>\n",
       "      <td>2401</td>\n",
       "    </tr>\n",
       "    <tr>\n",
       "      <th>3</th>\n",
       "      <td>08161400433</td>\n",
       "      <td>2401</td>\n",
       "    </tr>\n",
       "    <tr>\n",
       "      <th>4</th>\n",
       "      <td>04241300001</td>\n",
       "      <td>0101</td>\n",
       "    </tr>\n",
       "    <tr>\n",
       "      <th>5</th>\n",
       "      <td>01151300002</td>\n",
       "      <td>0201</td>\n",
       "    </tr>\n",
       "  </tbody>\n",
       "</table>\n",
       "</div>"
      ],
      "text/plain": [
       "                  left right\n",
       "record_id                   \n",
       "1          05231301004  0201\n",
       "2          08051400433  2401\n",
       "3          08161400433  2401\n",
       "4          04241300001  0101\n",
       "5          01151300002  0201"
      ]
     },
     "execution_count": 126,
     "metadata": {},
     "output_type": "execute_result"
    }
   ],
   "source": [
    "split = d.samplenumber.str.split('.', expand=True).rename(columns={0:'left',1:'right'})\n",
    "split.head()"
   ]
  },
  {
   "cell_type": "code",
   "execution_count": 127,
   "metadata": {
    "collapsed": false
   },
   "outputs": [
    {
     "data": {
      "text/plain": [
       "2"
      ]
     },
     "execution_count": 127,
     "metadata": {},
     "output_type": "execute_result"
    }
   ],
   "source": [
    "len(split.columns.values)"
   ]
  },
  {
   "cell_type": "code",
   "execution_count": 128,
   "metadata": {
    "collapsed": false
   },
   "outputs": [
    {
     "data": {
      "text/plain": [
       "record_id\n",
       "1    True\n",
       "2    True\n",
       "3    True\n",
       "4    True\n",
       "5    True\n",
       "Name: left, dtype: bool"
      ]
     },
     "execution_count": 128,
     "metadata": {},
     "output_type": "execute_result"
    }
   ],
   "source": [
    "split.left.fillna('0').apply(lambda i: isinstance(np.int64(i),np.int64)).head()"
   ]
  },
  {
   "cell_type": "code",
   "execution_count": null,
   "metadata": {
    "collapsed": true
   },
   "outputs": [],
   "source": [
    "def vfunc(df):\n",
    "    return df"
   ]
  },
  {
   "cell_type": "code",
   "execution_count": null,
   "metadata": {
    "collapsed": true
   },
   "outputs": [],
   "source": []
  },
  {
   "cell_type": "code",
   "execution_count": 134,
   "metadata": {
    "collapsed": false
   },
   "outputs": [
    {
     "data": {
      "text/plain": [
       "record_id\n",
       "1       True\n",
       "2       True\n",
       "3       True\n",
       "4       True\n",
       "5       True\n",
       "6       True\n",
       "7       True\n",
       "8       True\n",
       "9       True\n",
       "10      True\n",
       "11      True\n",
       "12      True\n",
       "13      True\n",
       "14      True\n",
       "15      True\n",
       "16      True\n",
       "17      True\n",
       "18      True\n",
       "19      True\n",
       "20      True\n",
       "21      True\n",
       "22      True\n",
       "23      True\n",
       "24      True\n",
       "25      True\n",
       "26      True\n",
       "27      True\n",
       "28      True\n",
       "29      True\n",
       "30      True\n",
       "        ... \n",
       "2805    True\n",
       "2806    True\n",
       "2807    True\n",
       "2808    True\n",
       "2809    True\n",
       "2810    True\n",
       "2811    True\n",
       "2812    True\n",
       "2813    True\n",
       "2814    True\n",
       "2815    True\n",
       "2816    True\n",
       "2817    True\n",
       "2818    True\n",
       "2819    True\n",
       "2820    True\n",
       "2821    True\n",
       "2822    True\n",
       "2823    True\n",
       "2824    True\n",
       "2825    True\n",
       "2826    True\n",
       "2827    True\n",
       "2828    True\n",
       "2829    True\n",
       "2830    True\n",
       "2831    True\n",
       "2832    True\n",
       "2833    True\n",
       "2834    True\n",
       "dtype: bool"
      ]
     },
     "execution_count": 134,
     "metadata": {},
     "output_type": "execute_result"
    }
   ],
   "source": [
    "tests = rcd.is_number_4dp(d.samplenumber)\n",
    "tests"
   ]
  },
  {
   "cell_type": "markdown",
   "metadata": {},
   "source": [
    "# Explore"
   ]
  },
  {
   "cell_type": "code",
   "execution_count": 70,
   "metadata": {
    "collapsed": false,
    "scrolled": false
   },
   "outputs": [],
   "source": [
    "info = data_dict.loc['samplenumber']"
   ]
  },
  {
   "cell_type": "code",
   "execution_count": 71,
   "metadata": {
    "collapsed": false
   },
   "outputs": [
    {
     "data": {
      "text/plain": [
       "Form Name                                                ibd_biorepository_sample_database\n",
       "Section Header                                                                         NaN\n",
       "Field Type                                                                            text\n",
       "Field Label                                                         Sample number (unique)\n",
       "Choices, Calculations, OR Slider Labels                                                NaN\n",
       "Field Note                                    unique identifier for each individual sample\n",
       "Text Validation Type OR Show Slider Number                                      number_4dp\n",
       "Text Validation Min                                                             1010000001\n",
       "Text Validation Max                                                            99999999999\n",
       "Identifier?                                                                            NaN\n",
       "Branching Logic (Show field only if...)                                                NaN\n",
       "Required Field?                                                                          y\n",
       "Custom Alignment                                                                       NaN\n",
       "Question Number (surveys only)                                                         NaN\n",
       "Matrix Group Name                                                                      NaN\n",
       "Matrix Ranking?                                                                        NaN\n",
       "Field Annotation                                                                       NaN\n",
       "Name: samplenumber, dtype: object"
      ]
     },
     "execution_count": 71,
     "metadata": {},
     "output_type": "execute_result"
    }
   ],
   "source": [
    "info"
   ]
  },
  {
   "cell_type": "code",
   "execution_count": 73,
   "metadata": {
    "collapsed": false
   },
   "outputs": [
    {
     "data": {
      "text/plain": [
       "object"
      ]
     },
     "execution_count": 73,
     "metadata": {},
     "output_type": "execute_result"
    }
   ],
   "source": [
    "np.object"
   ]
  },
  {
   "cell_type": "code",
   "execution_count": 76,
   "metadata": {
    "collapsed": false,
    "scrolled": false
   },
   "outputs": [
    {
     "data": {
      "text/html": [
       "<div>\n",
       "<table border=\"1\" class=\"dataframe\">\n",
       "  <thead>\n",
       "    <tr style=\"text-align: right;\">\n",
       "      <th></th>\n",
       "      <th>Form Name</th>\n",
       "      <th>Section Header</th>\n",
       "      <th>Field Type</th>\n",
       "      <th>Field Label</th>\n",
       "      <th>Choices, Calculations, OR Slider Labels</th>\n",
       "      <th>Field Note</th>\n",
       "      <th>Text Validation Type OR Show Slider Number</th>\n",
       "      <th>Text Validation Min</th>\n",
       "      <th>Text Validation Max</th>\n",
       "      <th>Identifier?</th>\n",
       "      <th>Branching Logic (Show field only if...)</th>\n",
       "      <th>Required Field?</th>\n",
       "      <th>Custom Alignment</th>\n",
       "      <th>Question Number (surveys only)</th>\n",
       "      <th>Matrix Group Name</th>\n",
       "      <th>Matrix Ranking?</th>\n",
       "      <th>Field Annotation</th>\n",
       "    </tr>\n",
       "    <tr>\n",
       "      <th>Variable / Field Name</th>\n",
       "      <th></th>\n",
       "      <th></th>\n",
       "      <th></th>\n",
       "      <th></th>\n",
       "      <th></th>\n",
       "      <th></th>\n",
       "      <th></th>\n",
       "      <th></th>\n",
       "      <th></th>\n",
       "      <th></th>\n",
       "      <th></th>\n",
       "      <th></th>\n",
       "      <th></th>\n",
       "      <th></th>\n",
       "      <th></th>\n",
       "      <th></th>\n",
       "      <th></th>\n",
       "    </tr>\n",
       "  </thead>\n",
       "  <tbody>\n",
       "    <tr>\n",
       "      <th>biorepidnumber</th>\n",
       "      <td>ibd_biorepository_sample_database</td>\n",
       "      <td>NaN</td>\n",
       "      <td>text</td>\n",
       "      <td>Biorepository ID number</td>\n",
       "      <td>NaN</td>\n",
       "      <td>relatives get 1 decimal place (mom=.2, dad=.3,...</td>\n",
       "      <td>number_1dp</td>\n",
       "      <td>NaN</td>\n",
       "      <td>NaN</td>\n",
       "      <td>NaN</td>\n",
       "      <td>NaN</td>\n",
       "      <td>y</td>\n",
       "      <td>NaN</td>\n",
       "      <td>NaN</td>\n",
       "      <td>NaN</td>\n",
       "      <td>NaN</td>\n",
       "      <td>NaN</td>\n",
       "    </tr>\n",
       "  </tbody>\n",
       "</table>\n",
       "</div>"
      ],
      "text/plain": [
       "                                               Form Name  Section Header  \\\n",
       "Variable / Field Name                                                      \n",
       "biorepidnumber         ibd_biorepository_sample_database             NaN   \n",
       "\n",
       "                      Field Type              Field Label  \\\n",
       "Variable / Field Name                                       \n",
       "biorepidnumber              text  Biorepository ID number   \n",
       "\n",
       "                      Choices, Calculations, OR Slider Labels  \\\n",
       "Variable / Field Name                                           \n",
       "biorepidnumber                                            NaN   \n",
       "\n",
       "                                                              Field Note  \\\n",
       "Variable / Field Name                                                      \n",
       "biorepidnumber         relatives get 1 decimal place (mom=.2, dad=.3,...   \n",
       "\n",
       "                      Text Validation Type OR Show Slider Number  \\\n",
       "Variable / Field Name                                              \n",
       "biorepidnumber                                        number_1dp   \n",
       "\n",
       "                      Text Validation Min Text Validation Max Identifier?  \\\n",
       "Variable / Field Name                                                       \n",
       "biorepidnumber                        NaN                 NaN         NaN   \n",
       "\n",
       "                      Branching Logic (Show field only if...) Required Field?  \\\n",
       "Variable / Field Name                                                           \n",
       "biorepidnumber                                            NaN               y   \n",
       "\n",
       "                       Custom Alignment  Question Number (surveys only)  \\\n",
       "Variable / Field Name                                                     \n",
       "biorepidnumber                      NaN                             NaN   \n",
       "\n",
       "                       Matrix Group Name  Matrix Ranking?  Field Annotation  \n",
       "Variable / Field Name                                                        \n",
       "biorepidnumber                       NaN              NaN               NaN  "
      ]
     },
     "execution_count": 76,
     "metadata": {},
     "output_type": "execute_result"
    }
   ],
   "source": [
    "data_dict[data_dict['Text Validation Type OR Show Slider Number'] == 'number_1dp']"
   ]
  },
  {
   "cell_type": "code",
   "execution_count": 13,
   "metadata": {
    "collapsed": true
   },
   "outputs": [],
   "source": [
    "raw = data.data.copy()"
   ]
  },
  {
   "cell_type": "markdown",
   "metadata": {},
   "source": [
    "# To show/Ask Coordinators about"
   ]
  },
  {
   "cell_type": "markdown",
   "metadata": {},
   "source": [
    "## Dates ymd vs mdy\n",
    "\n",
    "- validation min and max do not make sense for the \"`date_ymd`\" types"
   ]
  },
  {
   "cell_type": "code",
   "execution_count": 61,
   "metadata": {
    "collapsed": false
   },
   "outputs": [
    {
     "data": {
      "text/plain": [
       "array([nan, 'number_4dp', 'integer', 'number_1dp', 'date_ymd', 'date_mdy',\n",
       "       'alpha_only'], dtype=object)"
      ]
     },
     "execution_count": 61,
     "metadata": {},
     "output_type": "execute_result"
    }
   ],
   "source": [
    "data_dict['Text Validation Type OR Show Slider Number'].unique()"
   ]
  },
  {
   "cell_type": "code",
   "execution_count": 72,
   "metadata": {
    "collapsed": false,
    "scrolled": false
   },
   "outputs": [
    {
     "data": {
      "text/html": [
       "<div>\n",
       "<table border=\"1\" class=\"dataframe\">\n",
       "  <thead>\n",
       "    <tr style=\"text-align: right;\">\n",
       "      <th></th>\n",
       "      <th>Form Name</th>\n",
       "      <th>Section Header</th>\n",
       "      <th>Field Type</th>\n",
       "      <th>Field Label</th>\n",
       "      <th>Choices, Calculations, OR Slider Labels</th>\n",
       "      <th>Field Note</th>\n",
       "      <th>Text Validation Type OR Show Slider Number</th>\n",
       "      <th>Text Validation Min</th>\n",
       "      <th>Text Validation Max</th>\n",
       "      <th>Identifier?</th>\n",
       "      <th>Branching Logic (Show field only if...)</th>\n",
       "      <th>Required Field?</th>\n",
       "      <th>Custom Alignment</th>\n",
       "      <th>Question Number (surveys only)</th>\n",
       "      <th>Matrix Group Name</th>\n",
       "      <th>Matrix Ranking?</th>\n",
       "      <th>Field Annotation</th>\n",
       "    </tr>\n",
       "    <tr>\n",
       "      <th>Variable / Field Name</th>\n",
       "      <th></th>\n",
       "      <th></th>\n",
       "      <th></th>\n",
       "      <th></th>\n",
       "      <th></th>\n",
       "      <th></th>\n",
       "      <th></th>\n",
       "      <th></th>\n",
       "      <th></th>\n",
       "      <th></th>\n",
       "      <th></th>\n",
       "      <th></th>\n",
       "      <th></th>\n",
       "      <th></th>\n",
       "      <th></th>\n",
       "      <th></th>\n",
       "      <th></th>\n",
       "    </tr>\n",
       "  </thead>\n",
       "  <tbody>\n",
       "    <tr>\n",
       "      <th>samplenumber</th>\n",
       "      <td>ibd_biorepository_sample_database</td>\n",
       "      <td>NaN</td>\n",
       "      <td>text</td>\n",
       "      <td>Sample number (unique)</td>\n",
       "      <td>NaN</td>\n",
       "      <td>unique identifier for each individual sample</td>\n",
       "      <td>number_4dp</td>\n",
       "      <td>1010000001</td>\n",
       "      <td>99999999999</td>\n",
       "      <td>NaN</td>\n",
       "      <td>NaN</td>\n",
       "      <td>y</td>\n",
       "      <td>NaN</td>\n",
       "      <td>NaN</td>\n",
       "      <td>NaN</td>\n",
       "      <td>NaN</td>\n",
       "      <td>NaN</td>\n",
       "    </tr>\n",
       "  </tbody>\n",
       "</table>\n",
       "</div>"
      ],
      "text/plain": [
       "                                               Form Name  Section Header  \\\n",
       "Variable / Field Name                                                      \n",
       "samplenumber           ibd_biorepository_sample_database             NaN   \n",
       "\n",
       "                      Field Type             Field Label  \\\n",
       "Variable / Field Name                                      \n",
       "samplenumber                text  Sample number (unique)   \n",
       "\n",
       "                      Choices, Calculations, OR Slider Labels  \\\n",
       "Variable / Field Name                                           \n",
       "samplenumber                                              NaN   \n",
       "\n",
       "                                                         Field Note  \\\n",
       "Variable / Field Name                                                 \n",
       "samplenumber           unique identifier for each individual sample   \n",
       "\n",
       "                      Text Validation Type OR Show Slider Number  \\\n",
       "Variable / Field Name                                              \n",
       "samplenumber                                          number_4dp   \n",
       "\n",
       "                      Text Validation Min Text Validation Max Identifier?  \\\n",
       "Variable / Field Name                                                       \n",
       "samplenumber                   1010000001         99999999999         NaN   \n",
       "\n",
       "                      Branching Logic (Show field only if...) Required Field?  \\\n",
       "Variable / Field Name                                                           \n",
       "samplenumber                                              NaN               y   \n",
       "\n",
       "                       Custom Alignment  Question Number (surveys only)  \\\n",
       "Variable / Field Name                                                     \n",
       "samplenumber                        NaN                             NaN   \n",
       "\n",
       "                       Matrix Group Name  Matrix Ranking?  Field Annotation  \n",
       "Variable / Field Name                                                        \n",
       "samplenumber                         NaN              NaN               NaN  "
      ]
     },
     "execution_count": 72,
     "metadata": {},
     "output_type": "execute_result"
    }
   ],
   "source": [
    "data_dict[data_dict['Text Validation Type OR Show Slider Number'] == 'date_mdy']"
   ]
  },
  {
   "cell_type": "code",
   "execution_count": 60,
   "metadata": {
    "collapsed": false,
    "scrolled": false
   },
   "outputs": [
    {
     "data": {
      "text/html": [
       "<div>\n",
       "<table border=\"1\" class=\"dataframe\">\n",
       "  <thead>\n",
       "    <tr style=\"text-align: right;\">\n",
       "      <th></th>\n",
       "      <th>Form Name</th>\n",
       "      <th>Section Header</th>\n",
       "      <th>Field Type</th>\n",
       "      <th>Field Label</th>\n",
       "      <th>Choices, Calculations, OR Slider Labels</th>\n",
       "      <th>Field Note</th>\n",
       "      <th>Text Validation Type OR Show Slider Number</th>\n",
       "      <th>Text Validation Min</th>\n",
       "      <th>Text Validation Max</th>\n",
       "      <th>Identifier?</th>\n",
       "      <th>Branching Logic (Show field only if...)</th>\n",
       "      <th>Required Field?</th>\n",
       "      <th>Custom Alignment</th>\n",
       "      <th>Question Number (surveys only)</th>\n",
       "      <th>Matrix Group Name</th>\n",
       "      <th>Matrix Ranking?</th>\n",
       "      <th>Field Annotation</th>\n",
       "    </tr>\n",
       "    <tr>\n",
       "      <th>Variable / Field Name</th>\n",
       "      <th></th>\n",
       "      <th></th>\n",
       "      <th></th>\n",
       "      <th></th>\n",
       "      <th></th>\n",
       "      <th></th>\n",
       "      <th></th>\n",
       "      <th></th>\n",
       "      <th></th>\n",
       "      <th></th>\n",
       "      <th></th>\n",
       "      <th></th>\n",
       "      <th></th>\n",
       "      <th></th>\n",
       "      <th></th>\n",
       "      <th></th>\n",
       "      <th></th>\n",
       "    </tr>\n",
       "  </thead>\n",
       "  <tbody>\n",
       "    <tr>\n",
       "      <th>date_crf_completed</th>\n",
       "      <td>ibd_biorepository_sample_database</td>\n",
       "      <td>NaN</td>\n",
       "      <td>text</td>\n",
       "      <td>Date CRF was completed</td>\n",
       "      <td>NaN</td>\n",
       "      <td>NaN</td>\n",
       "      <td>date_ymd</td>\n",
       "      <td>1/1/00</td>\n",
       "      <td>1/1/00</td>\n",
       "      <td>NaN</td>\n",
       "      <td>NaN</td>\n",
       "      <td>y</td>\n",
       "      <td>NaN</td>\n",
       "      <td>NaN</td>\n",
       "      <td>NaN</td>\n",
       "      <td>NaN</td>\n",
       "      <td>NaN</td>\n",
       "    </tr>\n",
       "    <tr>\n",
       "      <th>sample_date</th>\n",
       "      <td>ibd_biorepository_sample_database</td>\n",
       "      <td>NaN</td>\n",
       "      <td>text</td>\n",
       "      <td>Date sample was obtained</td>\n",
       "      <td>NaN</td>\n",
       "      <td>NaN</td>\n",
       "      <td>date_ymd</td>\n",
       "      <td>1/1/00</td>\n",
       "      <td>12/31/20</td>\n",
       "      <td>NaN</td>\n",
       "      <td>NaN</td>\n",
       "      <td>y</td>\n",
       "      <td>NaN</td>\n",
       "      <td>NaN</td>\n",
       "      <td>NaN</td>\n",
       "      <td>NaN</td>\n",
       "      <td>NaN</td>\n",
       "    </tr>\n",
       "    <tr>\n",
       "      <th>dob</th>\n",
       "      <td>ibd_biorepository_sample_database</td>\n",
       "      <td>NaN</td>\n",
       "      <td>text</td>\n",
       "      <td>Patient's date of birth</td>\n",
       "      <td>NaN</td>\n",
       "      <td>NaN</td>\n",
       "      <td>date_ymd</td>\n",
       "      <td>1/1/00</td>\n",
       "      <td>12/31/20</td>\n",
       "      <td>y</td>\n",
       "      <td>NaN</td>\n",
       "      <td>NaN</td>\n",
       "      <td>NaN</td>\n",
       "      <td>NaN</td>\n",
       "      <td>NaN</td>\n",
       "      <td>NaN</td>\n",
       "      <td>NaN</td>\n",
       "    </tr>\n",
       "  </tbody>\n",
       "</table>\n",
       "</div>"
      ],
      "text/plain": [
       "                                               Form Name  Section Header  \\\n",
       "Variable / Field Name                                                      \n",
       "date_crf_completed     ibd_biorepository_sample_database             NaN   \n",
       "sample_date            ibd_biorepository_sample_database             NaN   \n",
       "dob                    ibd_biorepository_sample_database             NaN   \n",
       "\n",
       "                      Field Type               Field Label  \\\n",
       "Variable / Field Name                                        \n",
       "date_crf_completed          text    Date CRF was completed   \n",
       "sample_date                 text  Date sample was obtained   \n",
       "dob                         text   Patient's date of birth   \n",
       "\n",
       "                      Choices, Calculations, OR Slider Labels Field Note  \\\n",
       "Variable / Field Name                                                      \n",
       "date_crf_completed                                        NaN        NaN   \n",
       "sample_date                                               NaN        NaN   \n",
       "dob                                                       NaN        NaN   \n",
       "\n",
       "                      Text Validation Type OR Show Slider Number  \\\n",
       "Variable / Field Name                                              \n",
       "date_crf_completed                                      date_ymd   \n",
       "sample_date                                             date_ymd   \n",
       "dob                                                     date_ymd   \n",
       "\n",
       "                      Text Validation Min Text Validation Max Identifier?  \\\n",
       "Variable / Field Name                                                       \n",
       "date_crf_completed                 1/1/00              1/1/00         NaN   \n",
       "sample_date                        1/1/00            12/31/20         NaN   \n",
       "dob                                1/1/00            12/31/20           y   \n",
       "\n",
       "                      Branching Logic (Show field only if...) Required Field?  \\\n",
       "Variable / Field Name                                                           \n",
       "date_crf_completed                                        NaN               y   \n",
       "sample_date                                               NaN               y   \n",
       "dob                                                       NaN             NaN   \n",
       "\n",
       "                       Custom Alignment  Question Number (surveys only)  \\\n",
       "Variable / Field Name                                                     \n",
       "date_crf_completed                  NaN                             NaN   \n",
       "sample_date                         NaN                             NaN   \n",
       "dob                                 NaN                             NaN   \n",
       "\n",
       "                       Matrix Group Name  Matrix Ranking?  Field Annotation  \n",
       "Variable / Field Name                                                        \n",
       "date_crf_completed                   NaN              NaN               NaN  \n",
       "sample_date                          NaN              NaN               NaN  \n",
       "dob                                  NaN              NaN               NaN  "
      ]
     },
     "execution_count": 60,
     "metadata": {},
     "output_type": "execute_result"
    }
   ],
   "source": [
    "data_dict[data_dict['Text Validation Type OR Show Slider Number'] == 'date_ymd']"
   ]
  },
  {
   "cell_type": "markdown",
   "metadata": {},
   "source": [
    "# Convert to HTML report and move to reports folder"
   ]
  },
  {
   "cell_type": "code",
   "execution_count": null,
   "metadata": {
    "collapsed": false
   },
   "outputs": [],
   "source": [
    "# rv.reprt_dir"
   ]
  },
  {
   "cell_type": "code",
   "execution_count": null,
   "metadata": {
    "collapsed": false
   },
   "outputs": [],
   "source": [
    "# !jupyter nbconvert --to html_toc $rv.ipnb"
   ]
  },
  {
   "cell_type": "code",
   "execution_count": null,
   "metadata": {
    "collapsed": false
   },
   "outputs": [],
   "source": [
    "# !mkdir -p $rv.reprt_dir\n",
    "## !mv -f $rv.html $rv.files $rv.reprt_dir"
   ]
  },
  {
   "cell_type": "code",
   "execution_count": null,
   "metadata": {
    "collapsed": true
   },
   "outputs": [],
   "source": []
  }
 ],
 "metadata": {
  "anaconda-cloud": {},
  "hide_input": false,
  "kernelspec": {
   "display_name": "biorepo",
   "language": "python",
   "name": "biorepo"
  },
  "language_info": {
   "codemirror_mode": {
    "name": "ipython",
    "version": 3
   },
   "file_extension": ".py",
   "mimetype": "text/x-python",
   "name": "python",
   "nbconvert_exporter": "python",
   "pygments_lexer": "ipython3",
   "version": "3.5.2"
  },
  "toc": {
   "colors": {
    "hover_highlight": "#DAA520",
    "running_highlight": "#FF0000",
    "selected_highlight": "#FFD700"
   },
   "moveMenuLeft": false,
   "navigate_menu": false,
   "number_sections": true,
   "sideBar": true,
   "threshold": 4,
   "toc_cell": false,
   "toc_number_sections": true,
   "toc_position": {
    "height": "684px",
    "left": "0px",
    "right": "20px",
    "top": "106px",
    "width": "190px"
   },
   "toc_section_display": "block",
   "toc_threshold": 6,
   "toc_window_display": true
  },
  "toc_position": {
   "height": "946px",
   "left": "4.1375px",
   "right": "20px",
   "top": "106px",
   "width": "345px"
  }
 },
 "nbformat": 4,
 "nbformat_minor": 0
}
