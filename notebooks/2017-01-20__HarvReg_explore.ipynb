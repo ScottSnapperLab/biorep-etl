{
 "cells": [
  {
   "cell_type": "markdown",
   "metadata": {},
   "source": [
    "# Set up\n"
   ]
  },
  {
   "cell_type": "markdown",
   "metadata": {},
   "source": [
    "## Imports"
   ]
  },
  {
   "cell_type": "code",
   "execution_count": 1,
   "metadata": {
    "collapsed": false
   },
   "outputs": [
    {
     "name": "stderr",
     "output_type": "stream",
     "text": [
      "/home/gus/.anaconda/envs/biorepo/lib/python3.5/site-packages/matplotlib/font_manager.py:280: UserWarning: Matplotlib is building the font cache using fc-list. This may take a moment.\n",
      "  'Matplotlib is building the font cache using fc-list. '\n"
     ]
    }
   ],
   "source": [
    "%matplotlib inline"
   ]
  },
  {
   "cell_type": "code",
   "execution_count": 2,
   "metadata": {
    "collapsed": true
   },
   "outputs": [],
   "source": [
    "import sys\n",
    "import os\n",
    "from pathlib import Path\n",
    "import math"
   ]
  },
  {
   "cell_type": "code",
   "execution_count": 3,
   "metadata": {
    "collapsed": false
   },
   "outputs": [],
   "source": [
    "import matplotlib.pyplot as plt\n",
    "import seaborn as sns\n",
    "sns.set_context(context=\"talk\", font_scale=1, rc=None)\n",
    "sns.set_style('whitegrid')"
   ]
  },
  {
   "cell_type": "code",
   "execution_count": 4,
   "metadata": {
    "collapsed": false
   },
   "outputs": [],
   "source": [
    "# Load the \"autoreload\" extension\n",
    "%load_ext autoreload\n",
    "%autoreload 2"
   ]
  },
  {
   "cell_type": "code",
   "execution_count": 147,
   "metadata": {
    "collapsed": true
   },
   "outputs": [],
   "source": [
    "import pandas as pd\n",
    "from pandas import IndexSlice as idx\n",
    "import numpy as np\n",
    "\n",
    "from collections import OrderedDict\n",
    "\n",
    "from munch import Munch, munchify\n",
    "from tqdm import tqdm"
   ]
  },
  {
   "cell_type": "code",
   "execution_count": 6,
   "metadata": {
    "collapsed": true
   },
   "outputs": [],
   "source": [
    "import engarde.decorators as ed\n",
    "import pyparsing as p"
   ]
  },
  {
   "cell_type": "code",
   "execution_count": 7,
   "metadata": {
    "collapsed": true
   },
   "outputs": [],
   "source": [
    "# import crunchers.sklearn_helpers.exploration as expl\n",
    "# import crunchers.statsmodels_helpers.lazy_stats as stats\n",
    "# import crunchers.pandas_helpers.transformations as xform"
   ]
  },
  {
   "cell_type": "code",
   "execution_count": 46,
   "metadata": {
    "collapsed": false
   },
   "outputs": [],
   "source": [
    "import biorep_etl.data.hreg_load_recode as loading\n",
    "import biorep_etl.data.field_definitions.hreg_redcap_dump as rcd\n",
    "from biorep_etl.data.parsers import BranchLogicParser"
   ]
  },
  {
   "cell_type": "markdown",
   "metadata": {},
   "source": [
    "## Constants"
   ]
  },
  {
   "cell_type": "markdown",
   "metadata": {},
   "source": [
    "### Get info for converting/moving this file to `reports`"
   ]
  },
  {
   "cell_type": "code",
   "execution_count": 9,
   "metadata": {
    "collapsed": false
   },
   "outputs": [],
   "source": [
    "# %%javascript\n",
    "# var kernel = IPython.notebook.kernel;\n",
    "# var thename = window.document.getElementById(\"notebook_name\").innerHTML;\n",
    "# var command = \"IPYNB_NAME = \" + \"'\"+thename+\"'\";\n",
    "# kernel.execute(command);"
   ]
  },
  {
   "cell_type": "code",
   "execution_count": 10,
   "metadata": {
    "collapsed": false
   },
   "outputs": [],
   "source": [
    "# rv = Munch()\n",
    "\n",
    "# rv.rep_id = 'yyy-mm-dd'\n",
    "# rv.desc = 'blank'\n",
    "# rv.ipnb = Path('{IPYNB_NAME}.ipynb'.format(IPYNB_NAME=IPYNB_NAME))\n",
    "# rv.html = '{ipnb}.html'.format(ipnb=rv.ipnb.stem)\n",
    "# rv.files = '{ipnb}_files'.format(ipnb=rv.ipnb.stem)\n",
    "# rv.reprt_dir = '../../reports/{IPYNB_NAME}/'.format(IPYNB_NAME=IPYNB_NAME)"
   ]
  },
  {
   "cell_type": "markdown",
   "metadata": {},
   "source": [
    "### Other Constants"
   ]
  },
  {
   "cell_type": "code",
   "execution_count": null,
   "metadata": {
    "collapsed": true
   },
   "outputs": [],
   "source": []
  },
  {
   "cell_type": "markdown",
   "metadata": {},
   "source": [
    "## Paths"
   ]
  },
  {
   "cell_type": "code",
   "execution_count": 11,
   "metadata": {
    "collapsed": true
   },
   "outputs": [],
   "source": [
    "data_ = \"../data/raw/registry/HarvardInflammatoryB_DATA_2017-01-20_0924.csv\"\n",
    "data_dict_ = \"../data/raw/registry/HarvardInflammatoryBowelDiseas_DataDictionary_2017-01-20.csv\""
   ]
  },
  {
   "cell_type": "markdown",
   "metadata": {},
   "source": [
    "## Functions"
   ]
  },
  {
   "cell_type": "code",
   "execution_count": null,
   "metadata": {
    "collapsed": true
   },
   "outputs": [],
   "source": []
  },
  {
   "cell_type": "markdown",
   "metadata": {},
   "source": [
    "## Loading"
   ]
  },
  {
   "cell_type": "markdown",
   "metadata": {},
   "source": [
    "### Data"
   ]
  },
  {
   "cell_type": "code",
   "execution_count": 273,
   "metadata": {
    "collapsed": false
   },
   "outputs": [
    {
     "name": "stderr",
     "output_type": "stream",
     "text": [
      "/home/gus/.anaconda/envs/biorepo/lib/python3.5/site-packages/IPython/core/interactiveshell.py:2821: DtypeWarning: Columns (0,115,151,162,171,273,424,425,429,432,433,447,448,523,539,664,667,670,673,676,679,682,685) have mixed types. Specify dtype option on import or set low_memory=False.\n",
      "  if self.run_code(code, result):\n"
     ]
    },
    {
     "data": {
      "text/html": [
       "<div>\n",
       "<table border=\"1\" class=\"dataframe\">\n",
       "  <thead>\n",
       "    <tr style=\"text-align: right;\">\n",
       "      <th></th>\n",
       "      <th></th>\n",
       "      <th>visitdate</th>\n",
       "      <th>consent</th>\n",
       "      <th>noconsent</th>\n",
       "      <th>noconsentoth</th>\n",
       "      <th>veoibd</th>\n",
       "      <th>otherstudies</th>\n",
       "      <th>prior_protocol_number___5</th>\n",
       "      <th>prior_protocol_number___1</th>\n",
       "      <th>prior_protocol_number___2</th>\n",
       "      <th>prior_protocol_number___3</th>\n",
       "      <th>...</th>\n",
       "      <th>hosp_k</th>\n",
       "      <th>hosptype_k</th>\n",
       "      <th>hospibdtype_k</th>\n",
       "      <th>hosp_l</th>\n",
       "      <th>hosptype_l</th>\n",
       "      <th>hospibdtype_l</th>\n",
       "      <th>hosp_m</th>\n",
       "      <th>hosptype_m</th>\n",
       "      <th>hospibdtype_m</th>\n",
       "      <th>hospitalizations_complete</th>\n",
       "    </tr>\n",
       "    <tr>\n",
       "      <th>subid</th>\n",
       "      <th>redcap_event_name</th>\n",
       "      <th></th>\n",
       "      <th></th>\n",
       "      <th></th>\n",
       "      <th></th>\n",
       "      <th></th>\n",
       "      <th></th>\n",
       "      <th></th>\n",
       "      <th></th>\n",
       "      <th></th>\n",
       "      <th></th>\n",
       "      <th></th>\n",
       "      <th></th>\n",
       "      <th></th>\n",
       "      <th></th>\n",
       "      <th></th>\n",
       "      <th></th>\n",
       "      <th></th>\n",
       "      <th></th>\n",
       "      <th></th>\n",
       "      <th></th>\n",
       "      <th></th>\n",
       "    </tr>\n",
       "  </thead>\n",
       "  <tbody>\n",
       "    <tr>\n",
       "      <th rowspan=\"4\" valign=\"top\">1</th>\n",
       "      <th>baseline_visit_arm_1</th>\n",
       "      <td>NaN</td>\n",
       "      <td>NaN</td>\n",
       "      <td>NaN</td>\n",
       "      <td>NaN</td>\n",
       "      <td>NaN</td>\n",
       "      <td>NaN</td>\n",
       "      <td>NaN</td>\n",
       "      <td>NaN</td>\n",
       "      <td>NaN</td>\n",
       "      <td>NaN</td>\n",
       "      <td>...</td>\n",
       "      <td>NaN</td>\n",
       "      <td>NaN</td>\n",
       "      <td>NaN</td>\n",
       "      <td>NaN</td>\n",
       "      <td>NaN</td>\n",
       "      <td>NaN</td>\n",
       "      <td>NaN</td>\n",
       "      <td>NaN</td>\n",
       "      <td>NaN</td>\n",
       "      <td>NaN</td>\n",
       "    </tr>\n",
       "    <tr>\n",
       "      <th>followup_visit_1_arm_1</th>\n",
       "      <td>NaN</td>\n",
       "      <td>NaN</td>\n",
       "      <td>NaN</td>\n",
       "      <td>NaN</td>\n",
       "      <td>NaN</td>\n",
       "      <td>NaN</td>\n",
       "      <td>NaN</td>\n",
       "      <td>NaN</td>\n",
       "      <td>NaN</td>\n",
       "      <td>NaN</td>\n",
       "      <td>...</td>\n",
       "      <td>NaN</td>\n",
       "      <td>NaN</td>\n",
       "      <td>NaN</td>\n",
       "      <td>NaN</td>\n",
       "      <td>NaN</td>\n",
       "      <td>NaN</td>\n",
       "      <td>NaN</td>\n",
       "      <td>NaN</td>\n",
       "      <td>NaN</td>\n",
       "      <td>NaN</td>\n",
       "    </tr>\n",
       "    <tr>\n",
       "      <th>followup_visit_2_arm_1</th>\n",
       "      <td>NaN</td>\n",
       "      <td>NaN</td>\n",
       "      <td>NaN</td>\n",
       "      <td>NaN</td>\n",
       "      <td>NaN</td>\n",
       "      <td>NaN</td>\n",
       "      <td>NaN</td>\n",
       "      <td>NaN</td>\n",
       "      <td>NaN</td>\n",
       "      <td>NaN</td>\n",
       "      <td>...</td>\n",
       "      <td>NaN</td>\n",
       "      <td>NaN</td>\n",
       "      <td>NaN</td>\n",
       "      <td>NaN</td>\n",
       "      <td>NaN</td>\n",
       "      <td>NaN</td>\n",
       "      <td>NaN</td>\n",
       "      <td>NaN</td>\n",
       "      <td>NaN</td>\n",
       "      <td>NaN</td>\n",
       "    </tr>\n",
       "    <tr>\n",
       "      <th>registration_visit_arm_1</th>\n",
       "      <td>2011-05-24</td>\n",
       "      <td>1.0</td>\n",
       "      <td>NaN</td>\n",
       "      <td>NaN</td>\n",
       "      <td>NaN</td>\n",
       "      <td>1.0</td>\n",
       "      <td>1.0</td>\n",
       "      <td>0.0</td>\n",
       "      <td>0.0</td>\n",
       "      <td>0.0</td>\n",
       "      <td>...</td>\n",
       "      <td>NaN</td>\n",
       "      <td>NaN</td>\n",
       "      <td>NaN</td>\n",
       "      <td>NaN</td>\n",
       "      <td>NaN</td>\n",
       "      <td>NaN</td>\n",
       "      <td>NaN</td>\n",
       "      <td>NaN</td>\n",
       "      <td>NaN</td>\n",
       "      <td>NaN</td>\n",
       "    </tr>\n",
       "    <tr>\n",
       "      <th>2</th>\n",
       "      <th>baseline_visit_arm_1</th>\n",
       "      <td>NaN</td>\n",
       "      <td>NaN</td>\n",
       "      <td>NaN</td>\n",
       "      <td>NaN</td>\n",
       "      <td>NaN</td>\n",
       "      <td>NaN</td>\n",
       "      <td>NaN</td>\n",
       "      <td>NaN</td>\n",
       "      <td>NaN</td>\n",
       "      <td>NaN</td>\n",
       "      <td>...</td>\n",
       "      <td>NaN</td>\n",
       "      <td>NaN</td>\n",
       "      <td>NaN</td>\n",
       "      <td>NaN</td>\n",
       "      <td>NaN</td>\n",
       "      <td>NaN</td>\n",
       "      <td>NaN</td>\n",
       "      <td>NaN</td>\n",
       "      <td>NaN</td>\n",
       "      <td>NaN</td>\n",
       "    </tr>\n",
       "  </tbody>\n",
       "</table>\n",
       "<p>5 rows × 690 columns</p>\n",
       "</div>"
      ],
      "text/plain": [
       "                                 visitdate  consent  noconsent  noconsentoth  \\\n",
       "subid redcap_event_name                                                        \n",
       "1     baseline_visit_arm_1             NaN      NaN        NaN           NaN   \n",
       "      followup_visit_1_arm_1           NaN      NaN        NaN           NaN   \n",
       "      followup_visit_2_arm_1           NaN      NaN        NaN           NaN   \n",
       "      registration_visit_arm_1  2011-05-24      1.0        NaN           NaN   \n",
       "2     baseline_visit_arm_1             NaN      NaN        NaN           NaN   \n",
       "\n",
       "                                veoibd  otherstudies  \\\n",
       "subid redcap_event_name                                \n",
       "1     baseline_visit_arm_1         NaN           NaN   \n",
       "      followup_visit_1_arm_1       NaN           NaN   \n",
       "      followup_visit_2_arm_1       NaN           NaN   \n",
       "      registration_visit_arm_1     NaN           1.0   \n",
       "2     baseline_visit_arm_1         NaN           NaN   \n",
       "\n",
       "                                prior_protocol_number___5  \\\n",
       "subid redcap_event_name                                     \n",
       "1     baseline_visit_arm_1                            NaN   \n",
       "      followup_visit_1_arm_1                          NaN   \n",
       "      followup_visit_2_arm_1                          NaN   \n",
       "      registration_visit_arm_1                        1.0   \n",
       "2     baseline_visit_arm_1                            NaN   \n",
       "\n",
       "                                prior_protocol_number___1  \\\n",
       "subid redcap_event_name                                     \n",
       "1     baseline_visit_arm_1                            NaN   \n",
       "      followup_visit_1_arm_1                          NaN   \n",
       "      followup_visit_2_arm_1                          NaN   \n",
       "      registration_visit_arm_1                        0.0   \n",
       "2     baseline_visit_arm_1                            NaN   \n",
       "\n",
       "                                prior_protocol_number___2  \\\n",
       "subid redcap_event_name                                     \n",
       "1     baseline_visit_arm_1                            NaN   \n",
       "      followup_visit_1_arm_1                          NaN   \n",
       "      followup_visit_2_arm_1                          NaN   \n",
       "      registration_visit_arm_1                        0.0   \n",
       "2     baseline_visit_arm_1                            NaN   \n",
       "\n",
       "                                prior_protocol_number___3  \\\n",
       "subid redcap_event_name                                     \n",
       "1     baseline_visit_arm_1                            NaN   \n",
       "      followup_visit_1_arm_1                          NaN   \n",
       "      followup_visit_2_arm_1                          NaN   \n",
       "      registration_visit_arm_1                        0.0   \n",
       "2     baseline_visit_arm_1                            NaN   \n",
       "\n",
       "                                          ...              hosp_k  hosptype_k  \\\n",
       "subid redcap_event_name                   ...                                   \n",
       "1     baseline_visit_arm_1                ...                 NaN         NaN   \n",
       "      followup_visit_1_arm_1              ...                 NaN         NaN   \n",
       "      followup_visit_2_arm_1              ...                 NaN         NaN   \n",
       "      registration_visit_arm_1            ...                 NaN         NaN   \n",
       "2     baseline_visit_arm_1                ...                 NaN         NaN   \n",
       "\n",
       "                                hospibdtype_k  hosp_l  hosptype_l  \\\n",
       "subid redcap_event_name                                             \n",
       "1     baseline_visit_arm_1                NaN     NaN         NaN   \n",
       "      followup_visit_1_arm_1              NaN     NaN         NaN   \n",
       "      followup_visit_2_arm_1              NaN     NaN         NaN   \n",
       "      registration_visit_arm_1            NaN     NaN         NaN   \n",
       "2     baseline_visit_arm_1                NaN     NaN         NaN   \n",
       "\n",
       "                                hospibdtype_l  hosp_m  hosptype_m  \\\n",
       "subid redcap_event_name                                             \n",
       "1     baseline_visit_arm_1                NaN     NaN         NaN   \n",
       "      followup_visit_1_arm_1              NaN     NaN         NaN   \n",
       "      followup_visit_2_arm_1              NaN     NaN         NaN   \n",
       "      registration_visit_arm_1            NaN     NaN         NaN   \n",
       "2     baseline_visit_arm_1                NaN     NaN         NaN   \n",
       "\n",
       "                                hospibdtype_m  hospitalizations_complete  \n",
       "subid redcap_event_name                                                   \n",
       "1     baseline_visit_arm_1                NaN                        NaN  \n",
       "      followup_visit_1_arm_1              NaN                        NaN  \n",
       "      followup_visit_2_arm_1              NaN                        NaN  \n",
       "      registration_visit_arm_1            NaN                        NaN  \n",
       "2     baseline_visit_arm_1                NaN                        NaN  \n",
       "\n",
       "[5 rows x 690 columns]"
      ]
     },
     "execution_count": 273,
     "metadata": {},
     "output_type": "execute_result"
    }
   ],
   "source": [
    "d = loading.load_redcap_dump(data_=data_)\n",
    "d.head()"
   ]
  },
  {
   "cell_type": "markdown",
   "metadata": {},
   "source": [
    "### Data Dict"
   ]
  },
  {
   "cell_type": "code",
   "execution_count": 274,
   "metadata": {
    "collapsed": false,
    "scrolled": true
   },
   "outputs": [
    {
     "data": {
      "text/html": [
       "<div>\n",
       "<table border=\"1\" class=\"dataframe\">\n",
       "  <thead>\n",
       "    <tr style=\"text-align: right;\">\n",
       "      <th></th>\n",
       "      <th>Form Name</th>\n",
       "      <th>Section Header</th>\n",
       "      <th>Field Type</th>\n",
       "      <th>Field Label</th>\n",
       "      <th>Choices, Calculations, OR Slider Labels</th>\n",
       "      <th>Field Note</th>\n",
       "      <th>Text Validation Type OR Show Slider Number</th>\n",
       "      <th>Text Validation Min</th>\n",
       "      <th>Text Validation Max</th>\n",
       "      <th>Identifier?</th>\n",
       "      <th>Branching Logic (Show field only if...)</th>\n",
       "      <th>Required Field?</th>\n",
       "      <th>Custom Alignment</th>\n",
       "      <th>Matrix Group Name</th>\n",
       "    </tr>\n",
       "    <tr>\n",
       "      <th>Variable / Field Name</th>\n",
       "      <th></th>\n",
       "      <th></th>\n",
       "      <th></th>\n",
       "      <th></th>\n",
       "      <th></th>\n",
       "      <th></th>\n",
       "      <th></th>\n",
       "      <th></th>\n",
       "      <th></th>\n",
       "      <th></th>\n",
       "      <th></th>\n",
       "      <th></th>\n",
       "      <th></th>\n",
       "      <th></th>\n",
       "    </tr>\n",
       "  </thead>\n",
       "  <tbody>\n",
       "    <tr>\n",
       "      <th>subid</th>\n",
       "      <td>registration_visit</td>\n",
       "      <td>NaN</td>\n",
       "      <td>text</td>\n",
       "      <td>Subject ID</td>\n",
       "      <td>NaN</td>\n",
       "      <td>NaN</td>\n",
       "      <td>NaN</td>\n",
       "      <td>NaN</td>\n",
       "      <td>NaN</td>\n",
       "      <td>NaN</td>\n",
       "      <td>NaN</td>\n",
       "      <td>NaN</td>\n",
       "      <td>NaN</td>\n",
       "      <td>NaN</td>\n",
       "    </tr>\n",
       "    <tr>\n",
       "      <th>visitdate</th>\n",
       "      <td>registration_visit</td>\n",
       "      <td>Form RV: Registration Visit</td>\n",
       "      <td>text</td>\n",
       "      <td>Date of visit at which patient was consented:</td>\n",
       "      <td>NaN</td>\n",
       "      <td>NaN</td>\n",
       "      <td>date_mdy</td>\n",
       "      <td>NaN</td>\n",
       "      <td>NaN</td>\n",
       "      <td>NaN</td>\n",
       "      <td>NaN</td>\n",
       "      <td>y</td>\n",
       "      <td>NaN</td>\n",
       "      <td>NaN</td>\n",
       "    </tr>\n",
       "  </tbody>\n",
       "</table>\n",
       "</div>"
      ],
      "text/plain": [
       "                                Form Name               Section Header  \\\n",
       "Variable / Field Name                                                    \n",
       "subid                  registration_visit                          NaN   \n",
       "visitdate              registration_visit  Form RV: Registration Visit   \n",
       "\n",
       "                      Field Type  \\\n",
       "Variable / Field Name              \n",
       "subid                       text   \n",
       "visitdate                   text   \n",
       "\n",
       "                                                         Field Label  \\\n",
       "Variable / Field Name                                                  \n",
       "subid                                                     Subject ID   \n",
       "visitdate              Date of visit at which patient was consented:   \n",
       "\n",
       "                      Choices, Calculations, OR Slider Labels Field Note  \\\n",
       "Variable / Field Name                                                      \n",
       "subid                                                     NaN        NaN   \n",
       "visitdate                                                 NaN        NaN   \n",
       "\n",
       "                      Text Validation Type OR Show Slider Number  \\\n",
       "Variable / Field Name                                              \n",
       "subid                                                        NaN   \n",
       "visitdate                                               date_mdy   \n",
       "\n",
       "                      Text Validation Min Text Validation Max Identifier?  \\\n",
       "Variable / Field Name                                                       \n",
       "subid                                 NaN                 NaN         NaN   \n",
       "visitdate                             NaN                 NaN         NaN   \n",
       "\n",
       "                      Branching Logic (Show field only if...) Required Field?  \\\n",
       "Variable / Field Name                                                           \n",
       "subid                                                     NaN             NaN   \n",
       "visitdate                                                 NaN               y   \n",
       "\n",
       "                      Custom Alignment Matrix Group Name  \n",
       "Variable / Field Name                                     \n",
       "subid                              NaN               NaN  \n",
       "visitdate                          NaN               NaN  "
      ]
     },
     "execution_count": 274,
     "metadata": {},
     "output_type": "execute_result"
    }
   ],
   "source": [
    "cb = loading.load_data_dict(data_dict_=data_dict_).dropna(axis=1, how='all')\n",
    "cb.head(2)"
   ]
  },
  {
   "cell_type": "code",
   "execution_count": 278,
   "metadata": {
    "collapsed": false
   },
   "outputs": [
    {
     "data": {
      "text/plain": [
       "radio          214\n",
       "text            80\n",
       "checkbox        49\n",
       "dropdown        34\n",
       "yesno            6\n",
       "descriptive      5\n",
       "calc             3\n",
       "Name: Field Type, dtype: int64"
      ]
     },
     "execution_count": 278,
     "metadata": {},
     "output_type": "execute_result"
    }
   ],
   "source": [
    "cb['Field Type'].value_counts()"
   ]
  },
  {
   "cell_type": "code",
   "execution_count": 279,
   "metadata": {
    "collapsed": false
   },
   "outputs": [
    {
     "data": {
      "text/html": [
       "<div>\n",
       "<table border=\"1\" class=\"dataframe\">\n",
       "  <thead>\n",
       "    <tr style=\"text-align: right;\">\n",
       "      <th></th>\n",
       "      <th>Form Name</th>\n",
       "      <th>Section Header</th>\n",
       "      <th>Field Type</th>\n",
       "      <th>Field Label</th>\n",
       "      <th>Choices, Calculations, OR Slider Labels</th>\n",
       "      <th>Field Note</th>\n",
       "      <th>Text Validation Type OR Show Slider Number</th>\n",
       "      <th>Text Validation Min</th>\n",
       "      <th>Text Validation Max</th>\n",
       "      <th>Identifier?</th>\n",
       "      <th>Branching Logic (Show field only if...)</th>\n",
       "      <th>Required Field?</th>\n",
       "      <th>Custom Alignment</th>\n",
       "      <th>Matrix Group Name</th>\n",
       "    </tr>\n",
       "    <tr>\n",
       "      <th>Variable / Field Name</th>\n",
       "      <th></th>\n",
       "      <th></th>\n",
       "      <th></th>\n",
       "      <th></th>\n",
       "      <th></th>\n",
       "      <th></th>\n",
       "      <th></th>\n",
       "      <th></th>\n",
       "      <th></th>\n",
       "      <th></th>\n",
       "      <th></th>\n",
       "      <th></th>\n",
       "      <th></th>\n",
       "      <th></th>\n",
       "    </tr>\n",
       "  </thead>\n",
       "  <tbody>\n",
       "    <tr>\n",
       "      <th>noconsent</th>\n",
       "      <td>registration_visit</td>\n",
       "      <td>NaN</td>\n",
       "      <td>radio</td>\n",
       "      <td>If no, provide reason</td>\n",
       "      <td>1, Not interested in Research Studies | 2, Pri...</td>\n",
       "      <td>NaN</td>\n",
       "      <td>NaN</td>\n",
       "      <td>NaN</td>\n",
       "      <td>NaN</td>\n",
       "      <td>NaN</td>\n",
       "      <td>[consent] = \"0\"</td>\n",
       "      <td>NaN</td>\n",
       "      <td>NaN</td>\n",
       "      <td>NaN</td>\n",
       "    </tr>\n",
       "    <tr>\n",
       "      <th>gender</th>\n",
       "      <td>registration_visit</td>\n",
       "      <td>NaN</td>\n",
       "      <td>radio</td>\n",
       "      <td>Gender</td>\n",
       "      <td>0, Female | 1, Male | 99, Undefined</td>\n",
       "      <td>NaN</td>\n",
       "      <td>NaN</td>\n",
       "      <td>NaN</td>\n",
       "      <td>NaN</td>\n",
       "      <td>NaN</td>\n",
       "      <td>NaN</td>\n",
       "      <td>NaN</td>\n",
       "      <td>NaN</td>\n",
       "      <td>NaN</td>\n",
       "    </tr>\n",
       "    <tr>\n",
       "      <th>race</th>\n",
       "      <td>registration_visit</td>\n",
       "      <td>NaN</td>\n",
       "      <td>radio</td>\n",
       "      <td>Race</td>\n",
       "      <td>1, White or Caucasian | 2, Black or African Am...</td>\n",
       "      <td>Put other for anything not listed here (Middle...</td>\n",
       "      <td>NaN</td>\n",
       "      <td>NaN</td>\n",
       "      <td>NaN</td>\n",
       "      <td>NaN</td>\n",
       "      <td>NaN</td>\n",
       "      <td>NaN</td>\n",
       "      <td>NaN</td>\n",
       "      <td>NaN</td>\n",
       "    </tr>\n",
       "    <tr>\n",
       "      <th>visitcategory</th>\n",
       "      <td>baseline_and_follow_up</td>\n",
       "      <td>NaN</td>\n",
       "      <td>radio</td>\n",
       "      <td>What type of visit is this?</td>\n",
       "      <td>1, Baseline Visit | 2, Follow Up Visit</td>\n",
       "      <td>Please make sure this matches the event name a...</td>\n",
       "      <td>NaN</td>\n",
       "      <td>NaN</td>\n",
       "      <td>NaN</td>\n",
       "      <td>NaN</td>\n",
       "      <td>[registration_visit_arm_1][ibddiag] = '1' and ...</td>\n",
       "      <td>y</td>\n",
       "      <td>NaN</td>\n",
       "      <td>NaN</td>\n",
       "    </tr>\n",
       "    <tr>\n",
       "      <th>visittype</th>\n",
       "      <td>baseline_and_follow_up</td>\n",
       "      <td>NaN</td>\n",
       "      <td>radio</td>\n",
       "      <td>BV4. Visit Type</td>\n",
       "      <td>1, Baseline Visit, within 3 months of initial ...</td>\n",
       "      <td>NaN</td>\n",
       "      <td>NaN</td>\n",
       "      <td>NaN</td>\n",
       "      <td>NaN</td>\n",
       "      <td>NaN</td>\n",
       "      <td>[visitcategory]='1'</td>\n",
       "      <td>NaN</td>\n",
       "      <td>NaN</td>\n",
       "      <td>NaN</td>\n",
       "    </tr>\n",
       "  </tbody>\n",
       "</table>\n",
       "</div>"
      ],
      "text/plain": [
       "                                    Form Name Section Header Field Type  \\\n",
       "Variable / Field Name                                                     \n",
       "noconsent                  registration_visit            NaN      radio   \n",
       "gender                     registration_visit            NaN      radio   \n",
       "race                       registration_visit            NaN      radio   \n",
       "visitcategory          baseline_and_follow_up            NaN      radio   \n",
       "visittype              baseline_and_follow_up            NaN      radio   \n",
       "\n",
       "                                       Field Label  \\\n",
       "Variable / Field Name                                \n",
       "noconsent                    If no, provide reason   \n",
       "gender                                      Gender   \n",
       "race                                          Race   \n",
       "visitcategory          What type of visit is this?   \n",
       "visittype                          BV4. Visit Type   \n",
       "\n",
       "                                 Choices, Calculations, OR Slider Labels  \\\n",
       "Variable / Field Name                                                      \n",
       "noconsent              1, Not interested in Research Studies | 2, Pri...   \n",
       "gender                               0, Female | 1, Male | 99, Undefined   \n",
       "race                   1, White or Caucasian | 2, Black or African Am...   \n",
       "visitcategory                     1, Baseline Visit | 2, Follow Up Visit   \n",
       "visittype              1, Baseline Visit, within 3 months of initial ...   \n",
       "\n",
       "                                                              Field Note  \\\n",
       "Variable / Field Name                                                      \n",
       "noconsent                                                            NaN   \n",
       "gender                                                               NaN   \n",
       "race                   Put other for anything not listed here (Middle...   \n",
       "visitcategory          Please make sure this matches the event name a...   \n",
       "visittype                                                            NaN   \n",
       "\n",
       "                      Text Validation Type OR Show Slider Number  \\\n",
       "Variable / Field Name                                              \n",
       "noconsent                                                    NaN   \n",
       "gender                                                       NaN   \n",
       "race                                                         NaN   \n",
       "visitcategory                                                NaN   \n",
       "visittype                                                    NaN   \n",
       "\n",
       "                      Text Validation Min Text Validation Max Identifier?  \\\n",
       "Variable / Field Name                                                       \n",
       "noconsent                             NaN                 NaN         NaN   \n",
       "gender                                NaN                 NaN         NaN   \n",
       "race                                  NaN                 NaN         NaN   \n",
       "visitcategory                         NaN                 NaN         NaN   \n",
       "visittype                             NaN                 NaN         NaN   \n",
       "\n",
       "                                 Branching Logic (Show field only if...)  \\\n",
       "Variable / Field Name                                                      \n",
       "noconsent                                                [consent] = \"0\"   \n",
       "gender                                                               NaN   \n",
       "race                                                                 NaN   \n",
       "visitcategory          [registration_visit_arm_1][ibddiag] = '1' and ...   \n",
       "visittype                                            [visitcategory]='1'   \n",
       "\n",
       "                      Required Field? Custom Alignment Matrix Group Name  \n",
       "Variable / Field Name                                                     \n",
       "noconsent                         NaN              NaN               NaN  \n",
       "gender                            NaN              NaN               NaN  \n",
       "race                              NaN              NaN               NaN  \n",
       "visitcategory                       y              NaN               NaN  \n",
       "visittype                         NaN              NaN               NaN  "
      ]
     },
     "execution_count": 279,
     "metadata": {},
     "output_type": "execute_result"
    }
   ],
   "source": [
    "cb[cb['Field Type'] == 'radio'].head()"
   ]
  },
  {
   "cell_type": "code",
   "execution_count": 281,
   "metadata": {
    "collapsed": false,
    "scrolled": false
   },
   "outputs": [
    {
     "data": {
      "text/html": [
       "<div>\n",
       "<table border=\"1\" class=\"dataframe\">\n",
       "  <thead>\n",
       "    <tr style=\"text-align: right;\">\n",
       "      <th></th>\n",
       "      <th>Form Name</th>\n",
       "      <th>Section Header</th>\n",
       "      <th>Field Type</th>\n",
       "      <th>Field Label</th>\n",
       "      <th>Choices, Calculations, OR Slider Labels</th>\n",
       "      <th>Field Note</th>\n",
       "      <th>Text Validation Type OR Show Slider Number</th>\n",
       "      <th>Text Validation Min</th>\n",
       "      <th>Text Validation Max</th>\n",
       "      <th>Identifier?</th>\n",
       "      <th>Branching Logic (Show field only if...)</th>\n",
       "      <th>Required Field?</th>\n",
       "      <th>Custom Alignment</th>\n",
       "      <th>Matrix Group Name</th>\n",
       "    </tr>\n",
       "    <tr>\n",
       "      <th>Variable / Field Name</th>\n",
       "      <th></th>\n",
       "      <th></th>\n",
       "      <th></th>\n",
       "      <th></th>\n",
       "      <th></th>\n",
       "      <th></th>\n",
       "      <th></th>\n",
       "      <th></th>\n",
       "      <th></th>\n",
       "      <th></th>\n",
       "      <th></th>\n",
       "      <th></th>\n",
       "      <th></th>\n",
       "      <th></th>\n",
       "    </tr>\n",
       "  </thead>\n",
       "  <tbody>\n",
       "    <tr>\n",
       "      <th>prior_protocol_number</th>\n",
       "      <td>registration_visit</td>\n",
       "      <td>NaN</td>\n",
       "      <td>checkbox</td>\n",
       "      <td>If Yes, what other studies?**</td>\n",
       "      <td>5, Biorepository (P00000529) | 1, CHIMP (X06-1...</td>\n",
       "      <td>NaN</td>\n",
       "      <td>NaN</td>\n",
       "      <td>NaN</td>\n",
       "      <td>NaN</td>\n",
       "      <td>NaN</td>\n",
       "      <td>[otherstudies] = '1'</td>\n",
       "      <td>NaN</td>\n",
       "      <td>NaN</td>\n",
       "      <td>NaN</td>\n",
       "    </tr>\n",
       "    <tr>\n",
       "      <th>sampletype</th>\n",
       "      <td>registration_visit</td>\n",
       "      <td>NaN</td>\n",
       "      <td>checkbox</td>\n",
       "      <td>What samples has the patient given?**</td>\n",
       "      <td>1, Blood | 3, Fecal | 4, GI Biopsy | 5, Oral s...</td>\n",
       "      <td>NaN</td>\n",
       "      <td>NaN</td>\n",
       "      <td>NaN</td>\n",
       "      <td>NaN</td>\n",
       "      <td>NaN</td>\n",
       "      <td>[prior_protocol_number(5)] = '1' or [prior_pro...</td>\n",
       "      <td>NaN</td>\n",
       "      <td>NaN</td>\n",
       "      <td>NaN</td>\n",
       "    </tr>\n",
       "    <tr>\n",
       "      <th>historyfrom</th>\n",
       "      <td>baseline_and_follow_up</td>\n",
       "      <td>NaN</td>\n",
       "      <td>checkbox</td>\n",
       "      <td>BV10. History obtained from (choose all that a...</td>\n",
       "      <td>1, Patient | 2, Parent or guardian | 3, Chart ...</td>\n",
       "      <td>NaN</td>\n",
       "      <td>NaN</td>\n",
       "      <td>NaN</td>\n",
       "      <td>NaN</td>\n",
       "      <td>NaN</td>\n",
       "      <td>[visitcategory]='1'</td>\n",
       "      <td>NaN</td>\n",
       "      <td>LH</td>\n",
       "      <td>NaN</td>\n",
       "    </tr>\n",
       "    <tr>\n",
       "      <th>historyfrom2</th>\n",
       "      <td>baseline_and_follow_up</td>\n",
       "      <td>NaN</td>\n",
       "      <td>checkbox</td>\n",
       "      <td>FV11. History obtained from:</td>\n",
       "      <td>1, Patient | 2, Parent or guardian | 3, Chart ...</td>\n",
       "      <td>NaN</td>\n",
       "      <td>NaN</td>\n",
       "      <td>NaN</td>\n",
       "      <td>NaN</td>\n",
       "      <td>NaN</td>\n",
       "      <td>[visitcategory]='2'</td>\n",
       "      <td>NaN</td>\n",
       "      <td>LH</td>\n",
       "      <td>NaN</td>\n",
       "    </tr>\n",
       "    <tr>\n",
       "      <th>jewanctype</th>\n",
       "      <td>baseline_and_follow_up</td>\n",
       "      <td>NaN</td>\n",
       "      <td>checkbox</td>\n",
       "      <td>If yes, indicate Jewish ancestry subtype (choo...</td>\n",
       "      <td>1, Sephardic | 2, Ashkenazi | 3, Unknown</td>\n",
       "      <td>NaN</td>\n",
       "      <td>NaN</td>\n",
       "      <td>NaN</td>\n",
       "      <td>NaN</td>\n",
       "      <td>NaN</td>\n",
       "      <td>[jeworigin]=\"1\" or [jeworiginnew]=\"1\"</td>\n",
       "      <td>NaN</td>\n",
       "      <td>LH</td>\n",
       "      <td>NaN</td>\n",
       "    </tr>\n",
       "  </tbody>\n",
       "</table>\n",
       "</div>"
      ],
      "text/plain": [
       "                                    Form Name Section Header Field Type  \\\n",
       "Variable / Field Name                                                     \n",
       "prior_protocol_number      registration_visit            NaN   checkbox   \n",
       "sampletype                 registration_visit            NaN   checkbox   \n",
       "historyfrom            baseline_and_follow_up            NaN   checkbox   \n",
       "historyfrom2           baseline_and_follow_up            NaN   checkbox   \n",
       "jewanctype             baseline_and_follow_up            NaN   checkbox   \n",
       "\n",
       "                                                             Field Label  \\\n",
       "Variable / Field Name                                                      \n",
       "prior_protocol_number                      If Yes, what other studies?**   \n",
       "sampletype                         What samples has the patient given?**   \n",
       "historyfrom            BV10. History obtained from (choose all that a...   \n",
       "historyfrom2                                FV11. History obtained from:   \n",
       "jewanctype             If yes, indicate Jewish ancestry subtype (choo...   \n",
       "\n",
       "                                 Choices, Calculations, OR Slider Labels  \\\n",
       "Variable / Field Name                                                      \n",
       "prior_protocol_number  5, Biorepository (P00000529) | 1, CHIMP (X06-1...   \n",
       "sampletype             1, Blood | 3, Fecal | 4, GI Biopsy | 5, Oral s...   \n",
       "historyfrom            1, Patient | 2, Parent or guardian | 3, Chart ...   \n",
       "historyfrom2           1, Patient | 2, Parent or guardian | 3, Chart ...   \n",
       "jewanctype                      1, Sephardic | 2, Ashkenazi | 3, Unknown   \n",
       "\n",
       "                      Field Note Text Validation Type OR Show Slider Number  \\\n",
       "Variable / Field Name                                                         \n",
       "prior_protocol_number        NaN                                        NaN   \n",
       "sampletype                   NaN                                        NaN   \n",
       "historyfrom                  NaN                                        NaN   \n",
       "historyfrom2                 NaN                                        NaN   \n",
       "jewanctype                   NaN                                        NaN   \n",
       "\n",
       "                      Text Validation Min Text Validation Max Identifier?  \\\n",
       "Variable / Field Name                                                       \n",
       "prior_protocol_number                 NaN                 NaN         NaN   \n",
       "sampletype                            NaN                 NaN         NaN   \n",
       "historyfrom                           NaN                 NaN         NaN   \n",
       "historyfrom2                          NaN                 NaN         NaN   \n",
       "jewanctype                            NaN                 NaN         NaN   \n",
       "\n",
       "                                 Branching Logic (Show field only if...)  \\\n",
       "Variable / Field Name                                                      \n",
       "prior_protocol_number                               [otherstudies] = '1'   \n",
       "sampletype             [prior_protocol_number(5)] = '1' or [prior_pro...   \n",
       "historyfrom                                          [visitcategory]='1'   \n",
       "historyfrom2                                         [visitcategory]='2'   \n",
       "jewanctype                         [jeworigin]=\"1\" or [jeworiginnew]=\"1\"   \n",
       "\n",
       "                      Required Field? Custom Alignment Matrix Group Name  \n",
       "Variable / Field Name                                                     \n",
       "prior_protocol_number             NaN              NaN               NaN  \n",
       "sampletype                        NaN              NaN               NaN  \n",
       "historyfrom                       NaN               LH               NaN  \n",
       "historyfrom2                      NaN               LH               NaN  \n",
       "jewanctype                        NaN               LH               NaN  "
      ]
     },
     "execution_count": 281,
     "metadata": {},
     "output_type": "execute_result"
    }
   ],
   "source": [
    "cb[cb['Field Type'] == 'checkbox'].head()"
   ]
  },
  {
   "cell_type": "code",
   "execution_count": null,
   "metadata": {
    "collapsed": true
   },
   "outputs": [],
   "source": [
    "d.historyfrom"
   ]
  },
  {
   "cell_type": "code",
   "execution_count": 13,
   "metadata": {
    "collapsed": true
   },
   "outputs": [],
   "source": [
    "di_ = di.reset_index()"
   ]
  },
  {
   "cell_type": "code",
   "execution_count": 14,
   "metadata": {
    "collapsed": false
   },
   "outputs": [
    {
     "data": {
      "text/plain": [
       "0"
      ]
     },
     "execution_count": 14,
     "metadata": {},
     "output_type": "execute_result"
    }
   ],
   "source": [
    "di_.iloc[:,0].apply(lambda x: True if 'arm' in x else False).sum()"
   ]
  },
  {
   "cell_type": "code",
   "execution_count": 15,
   "metadata": {
    "collapsed": true
   },
   "outputs": [],
   "source": [
    "def clean_branching_logic(ser):\n",
    "    ser.str"
   ]
  },
  {
   "cell_type": "code",
   "execution_count": 16,
   "metadata": {
    "collapsed": true
   },
   "outputs": [],
   "source": [
    "ser = di['Branching Logic (Show field only if...)']"
   ]
  },
  {
   "cell_type": "code",
   "execution_count": 17,
   "metadata": {
    "collapsed": true
   },
   "outputs": [],
   "source": [
    "rules = r\"\"\"\n",
    "\"\"\""
   ]
  },
  {
   "cell_type": "code",
   "execution_count": 18,
   "metadata": {
    "collapsed": false,
    "scrolled": false
   },
   "outputs": [],
   "source": [
    "blogic_unique = list(ser.dropna().str.replace('\"',\"'\").unique())"
   ]
  },
  {
   "cell_type": "markdown",
   "metadata": {
    "collapsed": true
   },
   "source": [
    "# Parser grammer for branching logic"
   ]
  },
  {
   "cell_type": "code",
   "execution_count": 33,
   "metadata": {
    "collapsed": true
   },
   "outputs": [],
   "source": [
    "w = '[age] >= 18 or [ageatdiag] >= 18'\n",
    "x = \"([ibdtype] = '0' or [newidbdiag] = '0') and [ibdcondl(6)] = '1'\"\n",
    "y = \"([baseline_visit_arm_1][enviquest] = '1' and [visitcategory] = '1') or [enviquest2] = '1'\"\n",
    "z= \"[meddraae25] = '99' or [meddraae24] = '99' or [meddraae23] = '99' or [meddraae22] = '99' or [meddraae21] = '99' or [meddraae20] = '99' or [meddraae19] = '99' or [meddraae18] = '99' or [meddraae17] = '99' or [meddraae166] = '99' or [meddraae15] = '99' or [meddraae14] = '99' or [meddraae13] = '99' or [meddraae12] = '99' or [meddraae11] = '99' or [meddraae10] = '99' or [meddraae9] = '99' or [meddraae8] = '99' or [meddraae7] = '99' or [meddraae6] = '99' or [meddraae5] = '99' or [meddraae4] = '99' or [meddraae3] = '99' or [meddraae2] = '99' or [meddraae1] = '99' or [meddraae26] = '99' or [meddraae27] = '99' or [meddraae28] = '99' or [meddraae29] = '99' or [meddraae16] = '99' \""
   ]
  },
  {
   "cell_type": "code",
   "execution_count": 21,
   "metadata": {
    "collapsed": false
   },
   "outputs": [
    {
     "data": {
      "text/plain": [
       "'ABCDEFGHIJKLMNOPQRSTUVWXYZabcdefghijklmnopqrstuvwxyz0123456789'"
      ]
     },
     "execution_count": 21,
     "metadata": {},
     "output_type": "execute_result"
    }
   ],
   "source": [
    "p.alphanums"
   ]
  },
  {
   "cell_type": "code",
   "execution_count": 221,
   "metadata": {
    "collapsed": false
   },
   "outputs": [],
   "source": [
    "# misc\n",
    "lbrack = p.Literal(\"[\").suppress()\n",
    "rbrack = p.Literal(\"]\").suppress()\n",
    "lparen = p.Literal(\"(\").suppress()\n",
    "rparen = p.Literal(\")\").suppress()\n",
    "anyquote = p.oneOf(\"\"\"\" '\"\"\").suppress()\n",
    "empty_quotes = p.Literal(\"''\") | p.Literal('\"\"')\n",
    "\n",
    "# variables\n",
    "checkbox_val = p.Optional('('+p.Word(p.nums)+')')\n",
    "variable_simple = p.Combine(lbrack+p.Word(p.alphanums + \"_\")+checkbox_val+rbrack)\n",
    "variable = p.Group(p.OneOrMore(variable_simple)).setResultsName('variable')\n",
    "\n",
    "# operators\n",
    "operator = p.oneOf(\"<> >= <= > < =\")\n",
    "\n",
    "# logic gates\n",
    "AND = p.Literal(\"and\")\n",
    "OR = p.Literal(\"or\")\n",
    "logic_gate = p.Group(AND | OR).setResultsName('logic_gate')\n",
    "\n",
    "# comparison vals\n",
    "comparison_val = p.Group(p.Word(p.alphanums) | (anyquote + p.Word(p.alphanums) + anyquote) | empty_quotes).setResultsName('comparison_val')\n",
    "\n",
    "# branch expression\n",
    "# expression = \n",
    "expression = (variable) + logic_gate + (comparison_val)\n",
    "\n",
    "\n",
    "# atom = expression | variable | comparison_val \n",
    "atom = p.Group(variable | comparison_val).setResultsName('atom')\n",
    "\n",
    "def branch_parser():\n",
    "\n",
    "    \n",
    "    expr = p.operatorPrecedence( atom,\n",
    "                                [(operator, 2, p.opAssoc.LEFT),\n",
    "                                 (logic_gate, 2, p.opAssoc.RIGHT),]\n",
    "                                )\n",
    "    return expr"
   ]
  },
  {
   "cell_type": "code",
   "execution_count": 222,
   "metadata": {
    "collapsed": true
   },
   "outputs": [],
   "source": [
    "bparser = branch_parser()"
   ]
  },
  {
   "cell_type": "code",
   "execution_count": 231,
   "metadata": {
    "collapsed": false
   },
   "outputs": [
    {
     "name": "stdout",
     "output_type": "stream",
     "text": [
      "([baseline_visit_arm_1][enviquest] = '1' and [visitcategory] = '1') or [enviquest2] = '1'\n",
      "[[[[[['baseline_visit_arm_1', 'enviquest']], '=', [['1']]], ['and'], [[['visitcategory']], '=', [['1']]]], ['or'], [[['enviquest2']], '=', [['1']]]]]\n"
     ]
    }
   ],
   "source": [
    "pstring = y\n",
    "\n",
    "print(pstring)\n",
    "\n",
    "xparser = branch_parser()\n",
    "# list(xparser.scanString(pstring))\n",
    "out = xparser.parseString(pstring, parseAll=True)\n",
    "print(out)"
   ]
  },
  {
   "cell_type": "code",
   "execution_count": 232,
   "metadata": {
    "collapsed": false
   },
   "outputs": [
    {
     "name": "stdout",
     "output_type": "stream",
     "text": [
      "\n",
      "<ITEM>\n",
      "  <ITEM>\n",
      "    <ITEM>\n",
      "      <atom>\n",
      "        <atom>\n",
      "          <variable>\n",
      "            <ITEM>baseline_visit_arm_1</ITEM>\n",
      "            <ITEM>enviquest</ITEM>\n",
      "          </variable>\n",
      "        </atom>\n",
      "        <ITEM>=</ITEM>\n",
      "        <atom>\n",
      "          <comparison_val>\n",
      "            <ITEM>1</ITEM>\n",
      "          </comparison_val>\n",
      "        </atom>\n",
      "      </atom>\n",
      "      <logic_gate>\n",
      "        <ITEM>and</ITEM>\n",
      "      </logic_gate>\n",
      "      <atom>\n",
      "        <atom>\n",
      "          <variable>\n",
      "            <ITEM>visitcategory</ITEM>\n",
      "          </variable>\n",
      "        </atom>\n",
      "        <ITEM>=</ITEM>\n",
      "        <atom>\n",
      "          <comparison_val>\n",
      "            <ITEM>1</ITEM>\n",
      "          </comparison_val>\n",
      "        </atom>\n",
      "      </atom>\n",
      "    </ITEM>\n",
      "    <logic_gate>\n",
      "      <ITEM>or</ITEM>\n",
      "    </logic_gate>\n",
      "    <atom>\n",
      "      <atom>\n",
      "        <variable>\n",
      "          <ITEM>enviquest2</ITEM>\n",
      "        </variable>\n",
      "      </atom>\n",
      "      <ITEM>=</ITEM>\n",
      "      <atom>\n",
      "        <comparison_val>\n",
      "          <ITEM>1</ITEM>\n",
      "        </comparison_val>\n",
      "      </atom>\n",
      "    </atom>\n",
      "  </ITEM>\n",
      "</ITEM>\n"
     ]
    }
   ],
   "source": [
    "print(out.asXML())"
   ]
  },
  {
   "cell_type": "code",
   "execution_count": 144,
   "metadata": {
    "collapsed": false
   },
   "outputs": [],
   "source": [
    "import xml.etree.ElementTree as ET\n",
    "from lxml import etree\n",
    "from lxml import objectify\n",
    "import xmltodict"
   ]
  },
  {
   "cell_type": "code",
   "execution_count": 169,
   "metadata": {
    "collapsed": false
   },
   "outputs": [
    {
     "name": "stdout",
     "output_type": "stream",
     "text": [
      "[[[[['ibdtype'], '=', ['0']], ['or'], [['newidbdiag'], '=', ['0']]], ['and'], [['ibdcondl(6)'], '=', ['1']]]]\n"
     ]
    }
   ],
   "source": [
    "print(out.asList())"
   ]
  },
  {
   "cell_type": "code",
   "execution_count": 121,
   "metadata": {
    "collapsed": false
   },
   "outputs": [],
   "source": [
    "et = ET.fromstring(out.asXML())"
   ]
  },
  {
   "cell_type": "code",
   "execution_count": 111,
   "metadata": {
    "collapsed": false
   },
   "outputs": [
    {
     "data": {
      "text/plain": [
       "[]"
      ]
     },
     "execution_count": 111,
     "metadata": {},
     "output_type": "execute_result"
    }
   ],
   "source": [
    "root.items()"
   ]
  },
  {
   "cell_type": "code",
   "execution_count": 225,
   "metadata": {
    "collapsed": true
   },
   "outputs": [],
   "source": [
    "lx = etree.fromstring(out.asXML())"
   ]
  },
  {
   "cell_type": "code",
   "execution_count": 233,
   "metadata": {
    "collapsed": false
   },
   "outputs": [],
   "source": [
    "variables_lx = lx.xpath('//variable')\n",
    "comparison_vals_lx = lx.xpath('//comparison_val')"
   ]
  },
  {
   "cell_type": "code",
   "execution_count": 244,
   "metadata": {
    "collapsed": false
   },
   "outputs": [
    {
     "data": {
      "text/plain": [
       "['variable', 'variable', 'variable']"
      ]
     },
     "execution_count": 244,
     "metadata": {},
     "output_type": "execute_result"
    }
   ],
   "source": [
    "[o.tag for o in variables_lx]"
   ]
  },
  {
   "cell_type": "code",
   "execution_count": 235,
   "metadata": {
    "collapsed": true
   },
   "outputs": [],
   "source": [
    "obj = objectify.fromstring(out.asXML())"
   ]
  },
  {
   "cell_type": "code",
   "execution_count": 236,
   "metadata": {
    "collapsed": false
   },
   "outputs": [],
   "source": [
    "variables = obj.xpath('//variable')\n",
    "comparison_vals = obj.xpath('//comparison_val')"
   ]
  },
  {
   "cell_type": "code",
   "execution_count": 257,
   "metadata": {
    "collapsed": false
   },
   "outputs": [
    {
     "name": "stdout",
     "output_type": "stream",
     "text": [
      "baseline_visit_arm_1:enviquest\n",
      "visitcategory\n",
      "enviquest2\n"
     ]
    }
   ],
   "source": [
    "for v in [o[\"ITEM\"][:] for o in variables]:\n",
    "    print(\":\".join([str(v_) for v_ in v]))"
   ]
  },
  {
   "cell_type": "code",
   "execution_count": 248,
   "metadata": {
    "collapsed": false
   },
   "outputs": [
    {
     "data": {
      "text/plain": [
       "[['baseline_visit_arm_1', 'enviquest'], ['visitcategory'], ['enviquest2']]"
      ]
     },
     "execution_count": 248,
     "metadata": {},
     "output_type": "execute_result"
    }
   ],
   "source": [
    "[o.ITEM[:] for o in obj.xpath('//variable')]"
   ]
  },
  {
   "cell_type": "code",
   "execution_count": 249,
   "metadata": {
    "collapsed": false
   },
   "outputs": [
    {
     "data": {
      "text/plain": [
       "[[1], [1], [1]]"
      ]
     },
     "execution_count": 249,
     "metadata": {},
     "output_type": "execute_result"
    }
   ],
   "source": [
    "[o.ITEM[:] for o in obj.xpath('//comparison_val')]"
   ]
  },
  {
   "cell_type": "code",
   "execution_count": 154,
   "metadata": {
    "collapsed": true
   },
   "outputs": [],
   "source": [
    "res_dict = xmltodict.parse(out.asXML())"
   ]
  },
  {
   "cell_type": "code",
   "execution_count": null,
   "metadata": {
    "collapsed": true
   },
   "outputs": [],
   "source": []
  },
  {
   "cell_type": "code",
   "execution_count": 155,
   "metadata": {
    "collapsed": true
   },
   "outputs": [],
   "source": [
    "res = munchify(res_dict)"
   ]
  },
  {
   "cell_type": "code",
   "execution_count": 161,
   "metadata": {
    "collapsed": false
   },
   "outputs": [
    {
     "data": {
      "text/plain": [
       "'='"
      ]
     },
     "execution_count": 161,
     "metadata": {},
     "output_type": "execute_result"
    }
   ],
   "source": [
    "res.ITEM.ITEM.variable.ITEM"
   ]
  },
  {
   "cell_type": "code",
   "execution_count": 90,
   "metadata": {
    "collapsed": false
   },
   "outputs": [],
   "source": [
    "res.getName()"
   ]
  },
  {
   "cell_type": "code",
   "execution_count": 332,
   "metadata": {
    "collapsed": false
   },
   "outputs": [],
   "source": [
    "parsed_logics = []"
   ]
  },
  {
   "cell_type": "code",
   "execution_count": 333,
   "metadata": {
    "collapsed": false
   },
   "outputs": [],
   "source": [
    "for l in blogic_unique:\n",
    "    parsed_logics.append(bparser.parseString(l))"
   ]
  },
  {
   "cell_type": "code",
   "execution_count": 334,
   "metadata": {
    "collapsed": false
   },
   "outputs": [
    {
     "data": {
      "text/plain": [
       "189"
      ]
     },
     "execution_count": 334,
     "metadata": {},
     "output_type": "execute_result"
    }
   ],
   "source": [
    "len(parsed_logics)"
   ]
  },
  {
   "cell_type": "code",
   "execution_count": 343,
   "metadata": {
    "collapsed": false
   },
   "outputs": [
    {
     "data": {
      "text/plain": [
       "([([(['enviquest2'], {}), '=', '1'], {}), 'and', ([(['visitcategory'], {}), '=', '2'], {})], {})"
      ]
     },
     "execution_count": 343,
     "metadata": {},
     "output_type": "execute_result"
    }
   ],
   "source": []
  },
  {
   "cell_type": "code",
   "execution_count": 344,
   "metadata": {
    "collapsed": false
   },
   "outputs": [
    {
     "data": {
      "text/plain": [
       "[\"[consent] = '0'\",\n",
       " \"[noconsent] = '4'\",\n",
       " \"[otherstudies] = '1'\",\n",
       " \"[prior_protocol_number(5)] = '1' or [prior_protocol_number(1)] = '1' or [prior_protocol_number(2)] = '1' or [prior_protocol_number(3)] = '1' or [prior_protocol_number(4)] = '1'\",\n",
       " \"[sampletype(8)] = '1'\",\n",
       " \"[registration_visit_arm_1][ibddiag] = '1' and [registration_visit_arm_1][consent] = '1'\",\n",
       " \"[registration_visit_arm_1][ibddiag] = '1'\",\n",
       " \"[visitcategory] = '1' or [visitcategory] = '2'\",\n",
       " \"[visitcategory]='1'\",\n",
       " \"[visitcategory]='2'\",\n",
       " \"[visitcategory]='2' and [ibddiagchange]='1'\",\n",
       " \"[ancestrynew]='1'\",\n",
       " \"[jeworigin]='1' or [jeworiginnew]='1'\",\n",
       " \"[visitcategory] = '1' or [famhisnew] = '1'\",\n",
       " \"([visitcategory] = '1' or [famhisnew] = '1') and [anyfamauto]='1'\",\n",
       " \"([visitcategory] = '1' or [famhisnew]='1') and [anyfamauto]='1'\",\n",
       " \"[famcd(8)] = '1'\",\n",
       " \"[famuc(8)] = '1'\",\n",
       " \"[famun(8)] = '1'\",\n",
       " \"([visitcategory] = '1' or [famhisnew]='1')\",\n",
       " \"([visitcategory] = '1' or [famhisnew]='1') and [famauto]='1'\",\n",
       " \"[famautotype(7)] = '1'\",\n",
       " \"([visitcategory] = '1' or [famhisnew] = '1') and [famimm] = '1'\",\n",
       " \"[famimmtype(7)] = '1'\",\n",
       " \"([visitcategory] = '1' or [famhisnew] = '1') and [fambreast]='1'\",\n",
       " \"([visitcategory] = '1' or [famhisnew] = '1') and [fambreast]='1' and [registration_visit_arm_1][veoibd]='1'\",\n",
       " '[age] >= 18 or [ageatdiag] >= 18',\n",
       " \"[tobacco]='1'\",\n",
       " '[age] >= 18',\n",
       " \"[alcohol]='1'\",\n",
       " \"[ibdtype] <> '' or [newidbdiag] <> ''\",\n",
       " \"([ibdtype] <> '' or [newidbdiag] <> '') and [ibdliver]='1'\",\n",
       " \"([ibdtype] <> '' or [newidbdiag] <> '') and [ibdman]='1'\",\n",
       " \"[ibdmanl(7)] = '1'\",\n",
       " \"([ibdtype] <> '' or [newidbdiag] <> '') and [ibdcond]='1'\",\n",
       " \"[ibdcondl(6)] = '1'\",\n",
       " \"[ibdcoex] = '1'\",\n",
       " \"[ibdcoex_type] = '7'\",\n",
       " \"[ibdtype] = '0' or [newidbdiag] = '0'\",\n",
       " \"[ibdtype] = '0' and [crohnvisit] = '1'\",\n",
       " \"[chohnstudies(99)] = '1'\",\n",
       " \"([ibdtype] = '0' or [newidbdiag] = '0') and [chohnstudies(-5)]<>'1'\",\n",
       " \"([ibdtype] = '0' or [newidbdiag] = '0') and [esoact] = '1'\",\n",
       " \"([ibdtype] = '0' or [newidbdiag] = '0') and [stomact]  = '1'\",\n",
       " \"([ibdtype] = '0' or [newidbdiag] = '0') and [duodact] = '1'\",\n",
       " \"([ibdtype] = '0' or [newidbdiag] = '0') and [jejuact]  = '1'\",\n",
       " \"([ibdtype] = '0' or [newidbdiag] = '0') and [ileumact]  = '1'\",\n",
       " \"([ibdtype] = '0' or [newidbdiag] = '0') and [cecumact] = '1'\",\n",
       " \"([ibdtype] = '0' or [newidbdiag] = '0') and [transact]  = '1'\",\n",
       " \"([ibdtype] = '0' or [newidbdiag] = '0') and [descact] = '1'\",\n",
       " \"([ibdtype] = '0' or [newidbdiag] = '0') and [sigmact]  = '1'\",\n",
       " \"([ibdtype] = '0' or [newidbdiag] = '0') and [rectumact]  = '1'\",\n",
       " \"([ibdtype] = '0' or [newidbdiag] = '0') \",\n",
       " \"([ibdtype] = '0' or [newidbdiag] = '0') and [perianal] = '1'\",\n",
       " \"([ibdtype] = '0' or [newidbdiag] = '0') and [fistulizing] = '1'\",\n",
       " \"[hbaidoa] <> ''\",\n",
       " \"([ibdtype] = '0' or [newidbdiag] = '0') and [hbaicomp1]= '1'\",\n",
       " \"[ibdtype]='1' or [ibdtype] = '2' or [newidbdiag] = '1' or [newidbdiag] = '2'\",\n",
       " \"([ibdtype]='1' or [ibdtype] = '2' or [newidbdiag] = '1' or [newidbdiag] = '2') and [ucvisit] = '1'\",\n",
       " \"[ucstudies(99)] = '1'\",\n",
       " \"([ibdtype] = '1' or [ibdtype] = '2' or [newidbdiag] = '1' or [newidbdiag] = '2') and [ucstudies(-5)] <> '1'\",\n",
       " \"([ibdtype]='1' or [ibdtype] = '2' or [newidbdiag] = '1' or [newidbdiag] = '2') and [proctdis]='1'\",\n",
       " \"([ibdtype]='1' or [ibdtype] = '2' or [newidbdiag] = '1' or [newidbdiag] = '2') and [lsidedis]='1'\",\n",
       " \"([ibdtype]='1' or [ibdtype] = '2' or [newidbdiag] = '1' or [newidbdiag] = '2') and [pancodis]='1'\",\n",
       " \"([ibdtype] <> '' or [newidbdiag] <> '') and [hxcoldysp]='1'\",\n",
       " \"[ibdmed]='1' or [ibdmednew] = '1'\",\n",
       " \"([ibdmed]='1' or [ibdmednew] = '1') and [aminosali]='1'\",\n",
       " \"([ibdmed]='1' or [ibdmednew] = '1') \",\n",
       " \"([ibdmed]='1' or [ibdmednew] = '1') and [chemomed]='1'\",\n",
       " \"([ibdmed]='1' or [ibdmednew] = '1') and [antitnfmed]='1'\",\n",
       " \"([ibdmed]='1' or [ibdmednew] = '1') and [othbiomed]='1'\",\n",
       " \"[othbiomed] = '1'\",\n",
       " \"([ibdmed]='1' or [ibdmednew] = '1') and [glucotds]='1'\",\n",
       " \"([ibdmed]='1' or [ibdmednew] = '1') and [glucotds] = '1'\",\n",
       " \"([ibdmed]='1' or [ibdmednew] = '1') and [antibiotics]='1'\",\n",
       " \"[ibdliverl(3)] = '1'\",\n",
       " \"[pscmeds] = '1'\",\n",
       " \"([ibdmed]='1' or [ibdmednew] = '1')\",\n",
       " \"[supplements]='1'\",\n",
       " \"([ibdmed]='1' or [ibdmednew] = '1') and [mesalamine] = '2'\",\n",
       " \"([ibdmed]='1' or [ibdmednew] = '1') and [sulfasa] = '2'\",\n",
       " \"([ibdmed]='1' or [ibdmednew] = '1') and [balsalazide] = '2'\",\n",
       " \"([ibdmed]='1' or [ibdmednew] = '1') and [olsalazine] = '2'\",\n",
       " \"([ibdmed]='1' or [ibdmednew] = '1') and [mercap6] = '2'\",\n",
       " \"([ibdmed]='1' or [ibdmednew] = '1') and [azathioprine] = '2'\",\n",
       " \"([ibdmed]='1' or [ibdmednew] = '1') and [methotrex] = '2'\",\n",
       " \"([ibdmed]='1' or [ibdmednew] = '1') and [fk506] = '2'\",\n",
       " \"([ibdmed]='1' or [ibdmednew] = '1') and [cyclospa] = '2'\",\n",
       " \"([ibdmed]='1' or [ibdmednew] = '1') and [thalidomide] = '2'\",\n",
       " \"([ibdmed]='1' or [ibdmednew] = '1') and [lenalidomide] = '2'\",\n",
       " \"([ibdmed]='1' or [ibdmednew] = '1') and [infliximab] = '2'\",\n",
       " \"([ibdmed]='1' or [ibdmednew] = '1') and [adalimumab] = '2'\",\n",
       " \"([ibdmed]='1' or [ibdmednew] = '1') and [certolizumab] = '2'\",\n",
       " \"([ibdmed]='1' or [ibdmednew] = '1') and [golimumab] = '2'\",\n",
       " \"([ibdmed]='1' or [ibdmednew] = '1') and [vedolizumab]= '2'\",\n",
       " \"([ibdmed]='1' or [ibdmednew] = '1') and [natalizumab] = '2'\",\n",
       " \"([ibdmed]='1' or [ibdmednew] = '1') and [tocilizumab] = '2'\",\n",
       " \"[ustekinumab] = '2'\",\n",
       " \"([ibdmed]='1' or [ibdmednew] = '1') and [oralenteric] = '2'\",\n",
       " \"([ibdmed]='1' or [ibdmednew] = '1') and [rectalstrd] = '2'\",\n",
       " \"([ibdmed]='1' or [ibdmednew] = '1') and [oralsterd] = '2'\",\n",
       " \"([ibdmed]='1' or [ibdmednew] = '1') and [intrasterd] = '2'\",\n",
       " \"([ibdmed]='1' or [ibdmednew] = '1') and [metronida] = '2'\",\n",
       " \"([ibdmed]='1' or [ibdmednew] = '1') and [ciproflox] = '2'\",\n",
       " \"([ibdmed]='1' or [ibdmednew] = '1') and [trimethop] = '2'\",\n",
       " \"([ibdmed]='1' or [ibdmednew] = '1') and [amoxicillin] = '2'\",\n",
       " \"([ibdmed]='1' or [ibdmednew] = '1') and [vancomycin]='2'\",\n",
       " \"[ursodiol] = '2'\",\n",
       " \"[cholestyr] = '2'\",\n",
       " \"[rifampin] = '2'\",\n",
       " \"([ibdmed]='1' or [ibdmednew] = '1')  and [mesalamine2] = '3'\",\n",
       " \"([ibdmed]='1' or [ibdmednew] = '1') and [sulfasa2] = '3'\",\n",
       " \"([ibdmed]='1' or [ibdmednew] = '1') and [balsalazide2] = '3'\",\n",
       " \"([ibdmed]='1' or [ibdmednew] = '1') and [olsalazine2] = '3'\",\n",
       " \"([ibdmed]='1' or [ibdmednew] = '1') and [mercap62] = '3'\",\n",
       " \"([ibdmed]='1' or [ibdmednew] = '1') and [azathioprine2] = '3'\",\n",
       " \"([ibdmed]='1' or [ibdmednew] = '1') and [methotrex2] = '3'\",\n",
       " \"([ibdmed]='1' or [ibdmednew] = '1') and [fk5062] = '3'\",\n",
       " \"([ibdmed]='1' or [ibdmednew] = '1') and [cyclospa2] = '3'\",\n",
       " \"([ibdmed]='1' or [ibdmednew] = '1') and [thalidomide2] = '3'\",\n",
       " \"([ibdmed]='1' or [ibdmednew] = '1') and [lenalidomide2] = '3'\",\n",
       " \"([ibdmed]='1' or [ibdmednew] = '1') and [infliximab2] = '3'\",\n",
       " \"([ibdmed]='1' or [ibdmednew] = '1') and [adalimumab2] = '3'\",\n",
       " \"([ibdmed]='1' or [ibdmednew] = '1') and [certolizumab2] = '3'\",\n",
       " \"([ibdmed]='1' or [ibdmednew] = '1') and [golimumab2] = '3'\",\n",
       " \"([ibdmed]='1' or [ibdmednew] = '1') and [natalizumab2] = '3'\",\n",
       " \"([ibdmed]='1' or [ibdmednew] = '1') and [vedolizumab2]= '3'\",\n",
       " \"([ibdmed]='1' or [ibdmednew] = '1') and [ustekinumab2]= '3'\",\n",
       " \"([ibdmed]='1' or [ibdmednew] = '1') and [tocilizumab2] = '3'\",\n",
       " \"([ibdmed]='1' or [ibdmednew] = '1') and [oralenteric2] = '3'\",\n",
       " \"([ibdmed]='1' or [ibdmednew] = '1') and [rectalstrd2] = '3'\",\n",
       " \"([ibdmed]='1' or [ibdmednew] = '1') and [oralsterd2] = '3'\",\n",
       " \"([ibdmed]='1' or [ibdmednew] = '1') and [intrasterd2] = '3'\",\n",
       " \"([ibdmed]='1' or [ibdmednew] = '1') and [metronida2] = '3'\",\n",
       " \"([ibdmed]='1' or [ibdmednew] = '1') and [ciproflox2] = '3'\",\n",
       " \"([ibdmed]='1' or [ibdmednew] = '1') and [trimethop2] = '3'\",\n",
       " \"([ibdmed]='1' or [ibdmednew] = '1') and [amoxicillin2] = '3'\",\n",
       " \"([ibdmed]='1' or [ibdmednew] = '1') and [vancomycin2]='3'\",\n",
       " \"[ursodiol2] = '3'\",\n",
       " \"[cholestyr2] = '3'\",\n",
       " \"[rifampin2] = '3'\",\n",
       " \"[meddraae25] = '99' or [meddraae24] = '99' or [meddraae23] = '99' or [meddraae22] = '99' or [meddraae21] = '99' or [meddraae20] = '99' or [meddraae19] = '99' or [meddraae18] = '99' or [meddraae17] = '99' or [meddraae166] = '99' or [meddraae15] = '99' or [meddraae14] = '99' or [meddraae13] = '99' or [meddraae12] = '99' or [meddraae11] = '99' or [meddraae10] = '99' or [meddraae9] = '99' or [meddraae8] = '99' or [meddraae7] = '99' or [meddraae6] = '99' or [meddraae5] = '99' or [meddraae4] = '99' or [meddraae3] = '99' or [meddraae2] = '99' or [meddraae1] = '99' or [meddraae26] = '99' or [meddraae27] = '99' or [meddraae28] = '99' or [meddraae29] = '99' or [meddraae16] = '99' \",\n",
       " \"([baseline_visit_arm_1][enviquest] = '1' and [visitcategory] = '1') or ([enviquest2] = '1' and [visitcategory] = '2')\",\n",
       " \"[antibioticprior] = '1'\",\n",
       " \"[steroidprior] = '1'\",\n",
       " \"[registration_visit_arm_1][veoibd] = '1' and [registration_visit_arm_1][ibddiag] = '0' and [visitcategory] = '1'\",\n",
       " \"[registration_visit_arm_1][veoibd] = '1' and [visitcategory] = '1'\",\n",
       " \"([country] <> '' or [country] = 'USA' or [country] = 'US') and [registration_visit_arm_1][veoibd] = '1'\",\n",
       " \"[registration_visit_arm_1][veoibd] = '1' and [nsaid] = '1'\",\n",
       " \"[ibdhospnew] = '1' or [gisurgnew] = '1' or [gisurg] = '1' or [ibdhosp] = '1'\",\n",
       " \"[baseline_visit_arm_1][gisurg] = '1' or [followup_visit_1_arm_1][gisurgnew] = '1'\",\n",
       " \"[surg_a] <> ''\",\n",
       " \"[surg_b] <> ''\",\n",
       " \"[surg_c] <> ''\",\n",
       " \"[surg_d] <> ''\",\n",
       " \"[surg_e] <> ''\",\n",
       " \"[surg_f] <> ''\",\n",
       " \"[surg_g] <> ''\",\n",
       " \"[surg_h] <> ''\",\n",
       " \"[surg_i] <> ''\",\n",
       " \"[surg_j] <> ''\",\n",
       " \"[surg_k] <> ''\",\n",
       " \"[surg_l] <> ''\",\n",
       " \"([baseline_visit_arm_1][ibdhosp] = '1' or [followup_visit_1_arm_1][ibdhospnew] = '1') or [followup_visit_2_arm_1][ibdhospnew]\",\n",
       " \"[hosp_a] <> ''\",\n",
       " \"[hosp_a] <> '' and [hosptype_a] = '1'\",\n",
       " \"[hosp_b] <> ''\",\n",
       " \"[hosp_b] <> '' and [hosptype_b] = '1'\",\n",
       " \"[hosp_c] <> ''\",\n",
       " \"[hosp_c] <> '' and [hosptype_c] = '1'\",\n",
       " \"[hosp_d] <> ''\",\n",
       " \"[hosp_d] <> '' and [hosptype_d] = '1'\",\n",
       " \"[hosp_e] <> ''\",\n",
       " \"[hosp_e] <> '' and [hosptype_e] = '1'\",\n",
       " \"[hosp_f] <> ''\",\n",
       " \"[hosp_f] <> '' and [hosptype_f] = '1'\",\n",
       " \"[hosp_g] <> ''\",\n",
       " \"[hosp_g] <> '' and [hosptype_g] = '1'\",\n",
       " \"[hosp_h] <> ''\",\n",
       " \"[hosp_h] <> '' and [hosptype_h] = '1'\",\n",
       " \"[hosp_i] <> ''\",\n",
       " \"[hosp_i] <> '' and [hosptype_i] = '1'\",\n",
       " \"[hosp_j] <> ''\",\n",
       " \"[hosp_j] <> '' and [hosptype_j] = '1'\",\n",
       " \"[hosp_k] <> ''\",\n",
       " \"[hosp_k] <> '' and [hosptype_k] = '1'\",\n",
       " \"[hosp_l] <> ''\",\n",
       " \"[hosp_m] <> ''\",\n",
       " \"[hosp_m] <> '' and [hosptype_m] = '1'\"]"
      ]
     },
     "execution_count": 344,
     "metadata": {},
     "output_type": "execute_result"
    }
   ],
   "source": [
    "blogic_unique"
   ]
  },
  {
   "cell_type": "markdown",
   "metadata": {},
   "source": [
    "# Convert to HTML report and move to reports folder"
   ]
  },
  {
   "cell_type": "code",
   "execution_count": null,
   "metadata": {
    "collapsed": false
   },
   "outputs": [],
   "source": [
    "# rv.reprt_dir"
   ]
  },
  {
   "cell_type": "code",
   "execution_count": null,
   "metadata": {
    "collapsed": false
   },
   "outputs": [],
   "source": [
    "# !jupyter nbconvert --to html_toc $rv.ipnb"
   ]
  },
  {
   "cell_type": "code",
   "execution_count": null,
   "metadata": {
    "collapsed": false
   },
   "outputs": [],
   "source": [
    "# !mkdir -p $rv.reprt_dir\n",
    "## !mv -f $rv.html $rv.files $rv.reprt_dir"
   ]
  },
  {
   "cell_type": "code",
   "execution_count": null,
   "metadata": {
    "collapsed": true
   },
   "outputs": [],
   "source": []
  }
 ],
 "metadata": {
  "anaconda-cloud": {},
  "hide_input": false,
  "kernelspec": {
   "display_name": "biorepo",
   "language": "python",
   "name": "biorepo"
  },
  "language_info": {
   "codemirror_mode": {
    "name": "ipython",
    "version": 3
   },
   "file_extension": ".py",
   "mimetype": "text/x-python",
   "name": "python",
   "nbconvert_exporter": "python",
   "pygments_lexer": "ipython3",
   "version": "3.5.2"
  },
  "toc": {
   "colors": {
    "hover_highlight": "#DAA520",
    "running_highlight": "#FF0000",
    "selected_highlight": "#FFD700"
   },
   "moveMenuLeft": false,
   "navigate_menu": false,
   "number_sections": true,
   "sideBar": true,
   "threshold": 4,
   "toc_cell": false,
   "toc_number_sections": true,
   "toc_position": {
    "height": "708px",
    "left": "0px",
    "right": "20px",
    "top": "45.4px",
    "width": "374px"
   },
   "toc_section_display": "block",
   "toc_threshold": 6,
   "toc_window_display": true
  },
  "toc_position": {
   "height": "946px",
   "left": "4.1375px",
   "right": "20px",
   "top": "106px",
   "width": "345px"
  }
 },
 "nbformat": 4,
 "nbformat_minor": 0
}
